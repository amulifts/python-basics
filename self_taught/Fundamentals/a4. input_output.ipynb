{
 "cells": [
  {
   "cell_type": "markdown",
   "id": "e78ec25c-63ae-4afb-8955-d9f677ba9cd1",
   "metadata": {},
   "source": [
    "# 1. Taking User Input with input()\n",
    "\n",
    "- The input() function is used to take input from the user.\n",
    "- The input is always returned as a string, so you may need to convert it to another data type if necessary."
   ]
  },
  {
   "cell_type": "code",
   "execution_count": 1,
   "id": "e01a7a8f-9c3a-4c50-a6e1-f16267e8cfb3",
   "metadata": {},
   "outputs": [
    {
     "name": "stdin",
     "output_type": "stream",
     "text": [
      "What's you name:  Aman\n"
     ]
    },
    {
     "name": "stdout",
     "output_type": "stream",
     "text": [
      "Aman\n"
     ]
    }
   ],
   "source": [
    "name = input(\"What's you name: \")\n",
    "print(name)"
   ]
  },
  {
   "cell_type": "markdown",
   "id": "5371d04d-16bf-408e-a6f5-dc39c1e5d2eb",
   "metadata": {},
   "source": [
    "## Converting Input to Other Types:\n",
    "If you need a number instead of a string, you can convert the input using int(), float(), etc."
   ]
  },
  {
   "cell_type": "code",
   "execution_count": 4,
   "id": "34c15362-5602-402b-889f-079e5626c5ea",
   "metadata": {},
   "outputs": [
    {
     "name": "stdin",
     "output_type": "stream",
     "text": [
      "What's you age? 10\n"
     ]
    },
    {
     "name": "stdout",
     "output_type": "stream",
     "text": [
      "<class 'int'>\n",
      "You are 10 years old.\n"
     ]
    }
   ],
   "source": [
    "age = int(input(\"What's you age?\"))\n",
    "print(type(age))\n",
    "print(\"You are\", age, \"years old.\")"
   ]
  },
  {
   "cell_type": "markdown",
   "id": "3f186964-6f7b-4f3b-9ab8-7231517a827d",
   "metadata": {},
   "source": [
    "# 2. Formatting and Displaying Output with f-strings or format()"
   ]
  },
  {
   "cell_type": "markdown",
   "id": "eb19abdd-e129-498b-9f00-77521979d49f",
   "metadata": {},
   "source": [
    "## Using f-strings:\n",
    "- f-strings are a modern and convenient way to format strings in Python.\n",
    "- You prefix the string with an f and use curly braces {} to insert variables directly into the string."
   ]
  },
  {
   "cell_type": "code",
   "execution_count": 5,
   "id": "3bd32303-752b-4a32-9a01-d16c7c1687eb",
   "metadata": {},
   "outputs": [
    {
     "name": "stdout",
     "output_type": "stream",
     "text": [
      "My name is Aman and 21 years old\n"
     ]
    }
   ],
   "source": [
    "name = \"Aman\"\n",
    "age = \"21\"\n",
    "print(f\"My name is {name} and {age} years old\")"
   ]
  },
  {
   "cell_type": "markdown",
   "id": "faa4117c-6216-4fcc-a29f-32dace360d98",
   "metadata": {},
   "source": [
    "- You can also include expressions inside the curly braces:"
   ]
  },
  {
   "cell_type": "code",
   "execution_count": 7,
   "id": "9707cf5d-805a-4d6e-82e4-d86d628994f8",
   "metadata": {},
   "outputs": [
    {
     "name": "stdout",
     "output_type": "stream",
     "text": [
      "In five years i will be 26 years old\n"
     ]
    }
   ],
   "source": [
    "print(f\"In five years i will be {int(age) + 5} years old\")"
   ]
  },
  {
   "cell_type": "markdown",
   "id": "c315c490-f70c-4fbb-a27c-6e54864ff19f",
   "metadata": {},
   "source": [
    "## Using format() Method:\n",
    "- The format() method is another way to format strings.\n",
    "- You use placeholders {} in the string and pass the values as arguments to format()."
   ]
  },
  {
   "cell_type": "code",
   "execution_count": 9,
   "id": "eed2e50f-10bd-4838-9c50-fc861f2ebfda",
   "metadata": {},
   "outputs": [
    {
     "name": "stdout",
     "output_type": "stream",
     "text": [
      "My name is Aman and 21 years old\n"
     ]
    }
   ],
   "source": [
    "name = \"Aman\"\n",
    "age = \"21\"\n",
    "print(\"My name is {} and {} years old\".format(name,age))"
   ]
  },
  {
   "cell_type": "markdown",
   "id": "099c2d54-53e4-45f2-8c80-e9b82c2d25bf",
   "metadata": {},
   "source": [
    "- You can also use indexed placeholders:"
   ]
  },
  {
   "cell_type": "code",
   "execution_count": 13,
   "id": "11f2da32-04a5-4f56-a619-86ae52351870",
   "metadata": {},
   "outputs": [
    {
     "name": "stdout",
     "output_type": "stream",
     "text": [
      "My name is Aman and 21 years old\n"
     ]
    }
   ],
   "source": [
    "name = \"Aman\"\n",
    "age = \"21\"\n",
    "print(\"My name is {0} and {1} years old\".format(name,age))"
   ]
  },
  {
   "cell_type": "code",
   "execution_count": null,
   "id": "d1eaf8c2-fd76-4441-bbf3-9b164bf30f12",
   "metadata": {},
   "outputs": [],
   "source": []
  }
 ],
 "metadata": {
  "kernelspec": {
   "display_name": "Python 3 (ipykernel)",
   "language": "python",
   "name": "python3"
  },
  "language_info": {
   "codemirror_mode": {
    "name": "ipython",
    "version": 3
   },
   "file_extension": ".py",
   "mimetype": "text/x-python",
   "name": "python",
   "nbconvert_exporter": "python",
   "pygments_lexer": "ipython3",
   "version": "3.12.4"
  }
 },
 "nbformat": 4,
 "nbformat_minor": 5
}
