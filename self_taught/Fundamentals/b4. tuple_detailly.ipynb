{
 "cells": [
  {
   "cell_type": "markdown",
   "id": "29df702a-cd64-4d73-8e0c-38c062cf0e29",
   "metadata": {},
   "source": [
    "# Important Points About Tuples in Python:\n",
    "\n",
    "## Immutability:\n",
    "\n",
    "Tuples are immutable, meaning once a tuple is created, its elements cannot be changed, added, or removed.\n",
    "\n",
    "## Ordered Sequence:\n",
    "\n",
    "Tuples are ordered, meaning the elements have a defined sequence, and you can access elements using indexing.\n",
    "\n",
    "## Indexing and Slicing:\n",
    "\n",
    "Like lists and strings, you can access tuple elements using indices and retrieve a subset of the tuple using slicing (tuple[start:end:step]).\n",
    "\n",
    "## Heterogeneous Elements:\n",
    "\n",
    "Tuples can contain elements of different data types, such as integers, floats, strings, and even other tuples (nested tuples).\n",
    "\n",
    "## Tuples vs. Lists:\n",
    "\n",
    "Tuples are often used to store data that should not be modified, while lists are used when the data may need to be changed.\n",
    "\n",
    "## Tuple Methods:\n",
    "\n",
    "Tuples have limited methods compared to lists. Key methods include count() (to count occurrences of an element) and index() (to find the index of an element).\n",
    "\n",
    "## Packing and Unpacking:\n",
    "\n",
    "Tuples can be packed by grouping multiple values together, and unpacked by assigning the tuple's elements to individual variables.\n",
    "\n",
    "## Nested Tuples:\n",
    "\n",
    "Tuples can contain other tuples, allowing for multi-level nesting.\n",
    "\n",
    "## Concatenation and Repetition:\n",
    "\n",
    "Tuples can be concatenated using the + operator and repeated using the * operator.\n",
    "\n",
    "## Tuple Comprehension:\n",
    "\n",
    "While tuples don't support comprehension directly, you can create a tuple from a list comprehension by converting the list to a tuple using tuple().\n",
    "\n",
    "## Immutability Advantage:\n",
    "\n",
    "Because tuples are immutable, they can be used as keys in dictionaries, unlike lists.\n",
    "\n",
    "## Length of Tuple:\n",
    "\n",
    "Use the len() function to find the number of elements in a tuple.\n"
   ]
  },
  {
   "cell_type": "markdown",
   "id": "b90205d5-7848-48a8-83af-1ebcf400c83e",
   "metadata": {},
   "source": [
    "<h1 style=\"color:red;\">Basic Tuple Operations</h1>"
   ]
  },
  {
   "cell_type": "markdown",
   "id": "a5d38076-0167-4d46-8941-4664a81aabd8",
   "metadata": {},
   "source": [
    "## Creating and Accessing Tuples:\n",
    "\n",
    "```markdown\n",
    "Create a tuple called colors containing \"red\", \"green\", and \"blue\". Then:\n",
    "Access the first and last elements.\n",
    "Try changing the second element to \"yellow\". What happens?\n",
    "```"
   ]
  },
  {
   "cell_type": "code",
   "execution_count": 3,
   "id": "7a6be7b1-a22e-459e-a92d-1464992bf952",
   "metadata": {},
   "outputs": [
    {
     "name": "stdout",
     "output_type": "stream",
     "text": [
      "First element: red\n",
      "Last element: blue\n"
     ]
    }
   ],
   "source": [
    "colors = (\"red\", \"green\", \"blue\")\n",
    "print(f\"First element: {colors[0]}\")\n",
    "print(f\"Last element: {colors[-1]}\")"
   ]
  },
  {
   "cell_type": "code",
   "execution_count": 4,
   "id": "8526020b-6954-4c8d-aa61-7dfe1bd9723a",
   "metadata": {},
   "outputs": [
    {
     "ename": "TypeError",
     "evalue": "'tuple' object does not support item assignment",
     "output_type": "error",
     "traceback": [
      "\u001b[0;31m---------------------------------------------------------------------------\u001b[0m",
      "\u001b[0;31mTypeError\u001b[0m                                 Traceback (most recent call last)",
      "Cell \u001b[0;32mIn[4], line 5\u001b[0m\n\u001b[1;32m      1\u001b[0m colors \u001b[38;5;241m=\u001b[39m (\u001b[38;5;124m\"\u001b[39m\u001b[38;5;124mred\u001b[39m\u001b[38;5;124m\"\u001b[39m, \u001b[38;5;124m\"\u001b[39m\u001b[38;5;124mgreen\u001b[39m\u001b[38;5;124m\"\u001b[39m, \u001b[38;5;124m\"\u001b[39m\u001b[38;5;124mblue\u001b[39m\u001b[38;5;124m\"\u001b[39m)\n\u001b[1;32m      3\u001b[0m \u001b[38;5;66;03m# changing second element to \"yellow\"\u001b[39;00m\n\u001b[0;32m----> 5\u001b[0m colors[\u001b[38;5;241m1\u001b[39m] \u001b[38;5;241m=\u001b[39m \u001b[38;5;124m\"\u001b[39m\u001b[38;5;124myellow\u001b[39m\u001b[38;5;124m\"\u001b[39m\n\u001b[1;32m      6\u001b[0m \u001b[38;5;28mprint\u001b[39m(colors)\n",
      "\u001b[0;31mTypeError\u001b[0m: 'tuple' object does not support item assignment"
     ]
    }
   ],
   "source": [
    "colors = (\"red\", \"green\", \"blue\")\n",
    "\n",
    "# changing second element to \"yellow\"\n",
    "colors[1] = \"yellow\"\n",
    "print(colors) # immutability example"
   ]
  },
  {
   "cell_type": "markdown",
   "id": "7f425c32-dc72-4580-b87b-a6d89e56190f",
   "metadata": {},
   "source": [
    "\n",
    "## Indexing and Slicing:\n",
    "\n",
    "```markdown\n",
    "Given the tuple numbers = (1, 2, 3, 4, 5, 6, 7, 8, 9, 10):\n",
    "Retrieve the first element.\n",
    "Retrieve the last three elements using slicing.\n",
    "Reverse the entire tuple using slicing.\n",
    "```"
   ]
  },
  {
   "cell_type": "code",
   "execution_count": 10,
   "id": "13e2687f-53ab-4801-90e6-455cc03920bf",
   "metadata": {},
   "outputs": [
    {
     "name": "stdout",
     "output_type": "stream",
     "text": [
      "First element: 1\n",
      "Last three elements: (8, 9, 10)\n",
      "Reversed tuple: (10, 9, 8, 7, 6, 5, 4, 3, 2, 1)\n"
     ]
    }
   ],
   "source": [
    "numbers = (1, 2, 3, 4, 5, 6, 7, 8, 9, 10)\n",
    "\n",
    "print(f\"First element: {numbers[0]}\")\n",
    "print(f\"Last three elements: {numbers[-3::1]}\")\n",
    "print(f\"Reversed tuple: {numbers[::-1]}\")"
   ]
  },
  {
   "cell_type": "markdown",
   "id": "193ba80b-e371-43b8-a732-c31cb0f22f41",
   "metadata": {},
   "source": [
    "\n",
    "## Tuple Methods:\n",
    "\n",
    "```markdown\n",
    "Given the tuple animals = (\"cat\", \"dog\", \"rabbit\", \"dog\", \"hamster\"):\n",
    "Count how many times \"dog\" appears in the tuple.\n",
    "Find the index of \"rabbit\" in the tuple.\n",
    "```"
   ]
  },
  {
   "cell_type": "code",
   "execution_count": 13,
   "id": "763e4845-8565-4561-864f-eb5a1b4f6098",
   "metadata": {},
   "outputs": [
    {
     "name": "stdout",
     "output_type": "stream",
     "text": [
      "Dogs have appeared 2 times\n",
      "Index of rabit is 2\n"
     ]
    }
   ],
   "source": [
    "animals = (\"cat\", \"dog\", \"rabbit\", \"dog\", \"hamster\")\n",
    "numer_of_dogs = animals.count(\"dog\")\n",
    "print(\"Dogs have appeared {} times\".format(numer_of_dogs))\n",
    "print(\"Index of rabit is {}\".format(animals.index(\"rabbit\")))"
   ]
  },
  {
   "cell_type": "markdown",
   "id": "f5dd16f4-6cf3-41dd-8739-bab1e9534dca",
   "metadata": {},
   "source": [
    "\n",
    "## Packing and Unpacking:\n",
    "\n",
    "```markdown\n",
    "Pack the values 5, 10, and 15 into a tuple called numbers. Then unpack them into three variables and print each variable.\n",
    "```\n"
   ]
  },
  {
   "cell_type": "code",
   "execution_count": 17,
   "id": "7f3a2546-f6f1-4027-8c8c-e61f34c62dd4",
   "metadata": {},
   "outputs": [
    {
     "name": "stdout",
     "output_type": "stream",
     "text": [
      "i=5\n",
      "j=10\n",
      "k=15\n"
     ]
    }
   ],
   "source": [
    "numbers = (5,10,15)\n",
    "\n",
    "# tuple unpacking\n",
    "i,j,k = numbers\n",
    "\n",
    "print(f\"i={i}\\nj={j}\\nk={k}\")"
   ]
  },
  {
   "cell_type": "markdown",
   "id": "94dfbe4b-d670-49ab-a0a1-216f2ed8e858",
   "metadata": {},
   "source": [
    "\n",
    "## Concatenation and Repetition:\n",
    "\n",
    "```markdown\n",
    "Concatenate the tuples (1, 2, 3) and (4, 5, 6).\n",
    "Repeat the tuple ('a', 'b') four times.\n",
    "```\n"
   ]
  },
  {
   "cell_type": "code",
   "execution_count": 18,
   "id": "a2565b59-7212-4774-880d-a082f4f20c49",
   "metadata": {},
   "outputs": [
    {
     "name": "stdout",
     "output_type": "stream",
     "text": [
      "Concatinated Tuple: (1, 2, 3, 4, 5, 6)\n",
      "Repeating 4 time: ('a', 'b', 'a', 'b', 'a', 'b', 'a', 'b')\n"
     ]
    }
   ],
   "source": [
    "tup_one = (1,2,3)\n",
    "tup_two = (4,5,6)\n",
    "tup_three = ('a','b')\n",
    "\n",
    "concatinated_tup = tup_one + tup_two\n",
    "print(f\"Concatinated Tuple: {concatinated_tup}\")\n",
    "\n",
    "print(f\"Repeating 4 time: {tup_three*4}\")\n"
   ]
  },
  {
   "cell_type": "markdown",
   "id": "faaee6a0-7aa6-4c48-94df-b70340a49de3",
   "metadata": {},
   "source": [
    "\n",
    "## Nested Tuples:\n",
    "\n",
    "```markdown\n",
    "Create a nested tuple to represent a 2x2 matrix and access the element at the second row, first column.\n",
    "Create a tuple that contains a list and another tuple. Access the elements of the inner list and tuple.\n",
    "```\n"
   ]
  },
  {
   "cell_type": "code",
   "execution_count": 20,
   "id": "fabcfd14-f99b-48eb-b35f-2c8229d6fe3a",
   "metadata": {},
   "outputs": [
    {
     "data": {
      "text/plain": [
       "3"
      ]
     },
     "execution_count": 20,
     "metadata": {},
     "output_type": "execute_result"
    }
   ],
   "source": [
    "matrix = ((1,2),(3,4))\n",
    "matrix[1][0]"
   ]
  },
  {
   "cell_type": "code",
   "execution_count": 22,
   "id": "e4ef4501-7215-4524-b75f-93785f928411",
   "metadata": {},
   "outputs": [
    {
     "name": "stdout",
     "output_type": "stream",
     "text": [
      "2\n",
      "6\n"
     ]
    }
   ],
   "source": [
    "demo = ([1,2,3],(4,5,6))\n",
    "print(demo[0][1])\n",
    "print(demo[1][2])"
   ]
  },
  {
   "cell_type": "markdown",
   "id": "2d674401-d218-4126-9fac-d9737f11f863",
   "metadata": {},
   "source": [
    "\n",
    "## Tuple Length:\n",
    "\n",
    "```markdown\n",
    "Write a program to find the number of elements in the tuple (\"apple\", \"banana\", \"cherry\", \"date\", \"elderberry\").\n",
    "```\n"
   ]
  },
  {
   "cell_type": "code",
   "execution_count": 23,
   "id": "bac5035f-f24e-4c1d-93d9-9852f412d096",
   "metadata": {},
   "outputs": [
    {
     "name": "stdout",
     "output_type": "stream",
     "text": [
      "The number of elements in fruits are: 5\n"
     ]
    }
   ],
   "source": [
    "fruits = (\"apple\", \"banana\", \"cherry\", \"date\", \"elderberry\")\n",
    "print(f\"The number of elements in fruits are: {len(fruits)}\")"
   ]
  },
  {
   "cell_type": "markdown",
   "id": "8da5be75-32c3-4145-babc-ec87870bcea0",
   "metadata": {},
   "source": [
    "\n",
    "## Membership Testing:\n",
    "\n",
    "```markdown\n",
    "Check if the number 42 is present in the tuple (10, 20, 30, 40, 50).\n",
    "Write a program to check if the string \"grape\" is not in the tuple (\"apple\", \"banana\", \"cherry\").\n",
    "```"
   ]
  },
  {
   "cell_type": "code",
   "execution_count": 25,
   "id": "f38cfc6c-89a4-405b-b95a-aae3f02af590",
   "metadata": {},
   "outputs": [
    {
     "name": "stdout",
     "output_type": "stream",
     "text": [
      "42 is present in given tuple\n"
     ]
    }
   ],
   "source": [
    "numbers = (10, 20, 30, 40, 50)\n",
    "if 42 in numbers:\n",
    "    print(\"42 is present in given tuple\")\n",
    "else:\n",
    "    print(\"42 is not present in given tuple\")"
   ]
  },
  {
   "cell_type": "code",
   "execution_count": 27,
   "id": "d1af50f2-5c1c-4a6f-bb85-ed81aaf7d638",
   "metadata": {},
   "outputs": [
    {
     "name": "stdout",
     "output_type": "stream",
     "text": [
      "grape is in the given tuple\n"
     ]
    }
   ],
   "source": [
    "fruits = (\"apple\", \"banana\", \"cherry\")\n",
    "# fruits = (\"apple\", \"banana\", \"cherry\", \"grape\")\n",
    "if \"grape\" not in fruits:\n",
    "    print(\"grape is not in the given tuple\")\n",
    "else:\n",
    "    print(\"grape is in the given tuple\")"
   ]
  },
  {
   "cell_type": "markdown",
   "id": "b3a9ee3f-cb9a-4fc1-864a-aedb7be048e8",
   "metadata": {},
   "source": [
    "<h1 style=\"color:red;\">Intermediate Tuple Operations</h1>"
   ]
  },
  {
   "cell_type": "markdown",
   "id": "4e416ac0-c62b-4921-9e2f-fee0ef746fcc",
   "metadata": {},
   "source": [
    "## Using Tuples as Dictionary Keys:\n",
    "\n",
    "```markdown\n",
    "Create a dictionary where the keys are tuples representing coordinates (x, y) and the values are the names of places. Retrieve the name of the place at coordinate (2, 3).\n",
    "```"
   ]
  },
  {
   "cell_type": "code",
   "execution_count": null,
   "id": "15865215-9f82-4efc-8b4f-e2bf845ecf88",
   "metadata": {},
   "outputs": [],
   "source": []
  },
  {
   "cell_type": "markdown",
   "id": "27b4af55-abdb-4c4c-8249-1cfd44c2cb1f",
   "metadata": {},
   "source": [
    "## Sorting a List of Tuples:\n",
    "\n",
    "```markdown\n",
    "Given a list of tuples students = [(\"Alice\", 23), (\"Bob\", 19), (\"Charlie\", 22)], sort the list by age.\n",
    "```"
   ]
  },
  {
   "cell_type": "code",
   "execution_count": null,
   "id": "05628002-d9fe-49b5-b88c-2f023d60faef",
   "metadata": {},
   "outputs": [],
   "source": []
  },
  {
   "cell_type": "markdown",
   "id": "8c999632-57fc-4e39-b33b-4814657bbf22",
   "metadata": {},
   "source": [
    "## Tuple Comprehension:\n",
    "\n",
    "```markdown\n",
    "Create a tuple of squares of numbers from 1 to 5 using a list comprehension and converting it to a tuple.\n",
    "```\n"
   ]
  },
  {
   "cell_type": "code",
   "execution_count": null,
   "id": "ece4a433-21bd-4de4-8b18-5dd9f7398502",
   "metadata": {},
   "outputs": [],
   "source": []
  },
  {
   "cell_type": "markdown",
   "id": "7af0318e-b8aa-4584-a36e-683b0e22d4b5",
   "metadata": {},
   "source": [
    "\n",
    "## Tuples with Single Element:\n",
    "\n",
    "```markdown\n",
    "Create a tuple with a single element \"Python\". Verify its type and print it.\n",
    "```\n",
    "\n"
   ]
  },
  {
   "cell_type": "code",
   "execution_count": null,
   "id": "40608567-cafe-40bd-931c-c90168dfb3f5",
   "metadata": {},
   "outputs": [],
   "source": []
  },
  {
   "cell_type": "markdown",
   "id": "185fa7b9-87a5-4b30-aded-cda135284ba8",
   "metadata": {},
   "source": [
    "## Tuple Concatenation and Length:\n",
    "\n",
    "```markdown\n",
    "Concatenate two tuples (1, 2, 3) and (4, 5, 6), and find the length of the resulting tuple.\n",
    "```\n",
    "\n"
   ]
  },
  {
   "cell_type": "code",
   "execution_count": null,
   "id": "02286187-871c-434a-9761-c754adbaf043",
   "metadata": {},
   "outputs": [],
   "source": []
  },
  {
   "cell_type": "markdown",
   "id": "113c799d-ca2f-4772-8c45-1a1b2a9175d2",
   "metadata": {},
   "source": [
    "## Swapping Values:\n",
    "\n",
    "```markdown\n",
    "Use tuple packing and unpacking to swap the values of two variables without using a temporary variable.\n",
    "```\n"
   ]
  },
  {
   "cell_type": "code",
   "execution_count": null,
   "id": "c0536798-1cab-4373-95c4-6d7b82fbf85f",
   "metadata": {},
   "outputs": [],
   "source": []
  },
  {
   "cell_type": "markdown",
   "id": "0395657a-504e-4d31-9fac-074df2124534",
   "metadata": {},
   "source": [
    "\n",
    "## Converting List to Tuple:\n",
    "\n",
    "```markdown\n",
    "Write a program to convert the list [\"a\", \"b\", \"c\"] into a tuple.\n",
    "```"
   ]
  },
  {
   "cell_type": "code",
   "execution_count": null,
   "id": "3956656b-3155-46d0-aae7-47ad2c3cc194",
   "metadata": {},
   "outputs": [],
   "source": []
  },
  {
   "cell_type": "markdown",
   "id": "37d10b45-70a7-4b9a-af3a-991407bba049",
   "metadata": {},
   "source": [
    "## Maximum and Minimum in a Tuple:\n",
    "\n",
    "```markdown\n",
    "Find the maximum and minimum values in the tuple (4, 7, 2, 9, 1).\n",
    "```"
   ]
  },
  {
   "cell_type": "code",
   "execution_count": null,
   "id": "9d152b51-d45e-487e-93b2-e68e6b306b3b",
   "metadata": {},
   "outputs": [],
   "source": []
  },
  {
   "cell_type": "markdown",
   "id": "68a87211-0a20-4cd1-99bf-6881d111f7ec",
   "metadata": {},
   "source": [
    "<h1 style=\"color:red;\">Advanced Tuple Operations</h1>"
   ]
  },
  {
   "cell_type": "markdown",
   "id": "bac28d48-293c-42d9-9e43-dc3df60e0f4d",
   "metadata": {},
   "source": [
    "## Iterating Over a Tuple:\n",
    "\n",
    "```markdown\n",
    "Iterate over the tuple (\"apple\", \"banana\", \"cherry\") and print each element in uppercase.\n",
    "```"
   ]
  },
  {
   "cell_type": "code",
   "execution_count": null,
   "id": "a4283e3c-b7bb-4c7b-8a2a-8c9f35cccbc5",
   "metadata": {},
   "outputs": [],
   "source": []
  },
  {
   "cell_type": "markdown",
   "id": "eed0ed2a-c85a-4092-befd-8e67fecd84b6",
   "metadata": {},
   "source": [
    "\n",
    "## Immutability Test:\n",
    "\n",
    "```markdown\n",
    "Try modifying a tuple directly by reassigning one of its elements. What happens? Why?\n",
    "```\n"
   ]
  },
  {
   "cell_type": "code",
   "execution_count": null,
   "id": "c41bab70-7e9f-4975-a1f8-54912617daed",
   "metadata": {},
   "outputs": [],
   "source": []
  },
  {
   "cell_type": "markdown",
   "id": "7c884671-00c9-4c18-9027-fb9813f899c7",
   "metadata": {},
   "source": [
    "\n",
    "## Tuple of Tuples:\n",
    "\n",
    "```markdown\n",
    "Create a tuple of tuples where each inner tuple contains a person's name and their age. Access the age of the second person in the tuple.\n",
    "```\n"
   ]
  },
  {
   "cell_type": "code",
   "execution_count": null,
   "id": "afc91618-2686-4b8a-a607-069acd0399c0",
   "metadata": {},
   "outputs": [],
   "source": []
  },
  {
   "cell_type": "markdown",
   "id": "c4fad20d-b6cb-441c-bb3b-2af94fdf3e40",
   "metadata": {},
   "source": [
    "\n",
    "## Tuple Indexing with Negative Indices:\n",
    "\n",
    "```markdown\n",
    "Use negative indices to access the second-to-last element in the tuple (1, 2, 3, 4, 5).\n",
    "```\n"
   ]
  },
  {
   "cell_type": "code",
   "execution_count": null,
   "id": "9bfba820-adb8-4e45-bf46-db983914bd73",
   "metadata": {},
   "outputs": [],
   "source": []
  },
  {
   "cell_type": "markdown",
   "id": "7aed2e65-e368-4256-951d-e0514c5f78cd",
   "metadata": {},
   "source": [
    "\n",
    "## Finding Common Elements:\n",
    "\n",
    "```markdown\n",
    "Given two tuples (1, 2, 3, 4, 5) and (4, 5, 6, 7, 8), write a program to find the common elements between them.\n",
    "```\n"
   ]
  },
  {
   "cell_type": "code",
   "execution_count": null,
   "id": "92f06cec-7091-4c9e-b8fc-b1cfb6d9c8a0",
   "metadata": {},
   "outputs": [],
   "source": []
  },
  {
   "cell_type": "markdown",
   "id": "8f2cd66a-bcbf-49e5-835b-a732900efd38",
   "metadata": {},
   "source": [
    "\n",
    "## Tuple and List Conversion:\n",
    "\n",
    "```markdown\n",
    "Write a program that converts a tuple of numbers (10, 20, 30) into a list, adds 40 to the list, and then converts it back to a tuple.\n",
    "```\n"
   ]
  },
  {
   "cell_type": "code",
   "execution_count": null,
   "id": "f7d14628-e8f3-47f2-a1f4-aca01c5bf51e",
   "metadata": {},
   "outputs": [],
   "source": []
  },
  {
   "cell_type": "markdown",
   "id": "966e31ed-b18b-4585-b808-fe631fcf437d",
   "metadata": {},
   "source": [
    "\n",
    "## Nested Tuple Operations:\n",
    "\n",
    "```markdown\n",
    "Create a nested tuple that represents a 3x3 matrix. Write a program to calculate the sum of all elements in the matrix.\n",
    "```\n"
   ]
  },
  {
   "cell_type": "code",
   "execution_count": null,
   "id": "8351a700-0467-49ce-ad89-22bce3ea05be",
   "metadata": {},
   "outputs": [],
   "source": []
  },
  {
   "cell_type": "markdown",
   "id": "6ecf6911-d88b-4793-aba4-804cf4c1f2d1",
   "metadata": {},
   "source": [
    "\n",
    "## Zipping Tuples:\n",
    "\n",
    "```markdown\n",
    "Given two tuples ('a', 'b', 'c') and (1, 2, 3), use the zip() function to combine them into a tuple of pairs.\n",
    "```\n",
    "\n"
   ]
  },
  {
   "cell_type": "code",
   "execution_count": null,
   "id": "e7208fda-71e5-4cd6-8d29-a651aaa3f083",
   "metadata": {},
   "outputs": [],
   "source": []
  },
  {
   "cell_type": "markdown",
   "id": "291b6129-8064-4f88-be8c-f1f6fcb72ffb",
   "metadata": {},
   "source": [
    "## Creating Tuples from Ranges:\n",
    "\n",
    "```markdown\n",
    "Write a program that creates a tuple containing all even numbers between 10 and 20.\n",
    "```"
   ]
  },
  {
   "cell_type": "code",
   "execution_count": null,
   "id": "70d688d7-25bb-44c2-9ba9-97f8af98a7a8",
   "metadata": {},
   "outputs": [],
   "source": []
  }
 ],
 "metadata": {
  "kernelspec": {
   "display_name": "Python 3 (ipykernel)",
   "language": "python",
   "name": "python3"
  },
  "language_info": {
   "codemirror_mode": {
    "name": "ipython",
    "version": 3
   },
   "file_extension": ".py",
   "mimetype": "text/x-python",
   "name": "python",
   "nbconvert_exporter": "python",
   "pygments_lexer": "ipython3",
   "version": "3.12.4"
  }
 },
 "nbformat": 4,
 "nbformat_minor": 5
}
