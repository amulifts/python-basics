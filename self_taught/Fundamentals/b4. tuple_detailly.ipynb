{
 "cells": [
  {
   "cell_type": "markdown",
   "id": "29df702a-cd64-4d73-8e0c-38c062cf0e29",
   "metadata": {},
   "source": [
    "# Important Points About Tuples in Python:\n",
    "\n",
    "## Immutability:\n",
    "\n",
    "Tuples are immutable, meaning once a tuple is created, its elements cannot be changed, added, or removed.\n",
    "\n",
    "## Ordered Sequence:\n",
    "\n",
    "Tuples are ordered, meaning the elements have a defined sequence, and you can access elements using indexing.\n",
    "\n",
    "## Indexing and Slicing:\n",
    "\n",
    "Like lists and strings, you can access tuple elements using indices and retrieve a subset of the tuple using slicing (tuple[start:end:step]).\n",
    "\n",
    "## Heterogeneous Elements:\n",
    "\n",
    "Tuples can contain elements of different data types, such as integers, floats, strings, and even other tuples (nested tuples).\n",
    "\n",
    "## Tuples vs. Lists:\n",
    "\n",
    "Tuples are often used to store data that should not be modified, while lists are used when the data may need to be changed.\n",
    "\n",
    "## Tuple Methods:\n",
    "\n",
    "Tuples have limited methods compared to lists. Key methods include count() (to count occurrences of an element) and index() (to find the index of an element).\n",
    "\n",
    "## Packing and Unpacking:\n",
    "\n",
    "Tuples can be packed by grouping multiple values together, and unpacked by assigning the tuple's elements to individual variables.\n",
    "\n",
    "## Nested Tuples:\n",
    "\n",
    "Tuples can contain other tuples, allowing for multi-level nesting.\n",
    "\n",
    "## Concatenation and Repetition:\n",
    "\n",
    "Tuples can be concatenated using the + operator and repeated using the * operator.\n",
    "\n",
    "## Tuple Comprehension:\n",
    "\n",
    "While tuples don't support comprehension directly, you can create a tuple from a list comprehension by converting the list to a tuple using tuple().\n",
    "\n",
    "## Immutability Advantage:\n",
    "\n",
    "Because tuples are immutable, they can be used as keys in dictionaries, unlike lists.\n",
    "\n",
    "## Length of Tuple:\n",
    "\n",
    "Use the len() function to find the number of elements in a tuple.\n"
   ]
  },
  {
   "cell_type": "code",
   "execution_count": null,
   "id": "b2f62ee2-d9d6-4dc3-9ea6-164a12213d4c",
   "metadata": {},
   "outputs": [],
   "source": []
  }
 ],
 "metadata": {
  "kernelspec": {
   "display_name": "Python 3 (ipykernel)",
   "language": "python",
   "name": "python3"
  },
  "language_info": {
   "codemirror_mode": {
    "name": "ipython",
    "version": 3
   },
   "file_extension": ".py",
   "mimetype": "text/x-python",
   "name": "python",
   "nbconvert_exporter": "python",
   "pygments_lexer": "ipython3",
   "version": "3.12.4"
  }
 },
 "nbformat": 4,
 "nbformat_minor": 5
}
