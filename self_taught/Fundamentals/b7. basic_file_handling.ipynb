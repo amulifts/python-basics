{
 "cells": [
  {
   "cell_type": "markdown",
   "id": "af84e97b-1cd6-4b9c-8d56-d8c54e73948d",
   "metadata": {},
   "source": [
    "# 1. Opening Files with open()\n",
    "\n",
    "- The open() function is used to open a file.\n",
    "- It returns a file object, which provides methods and attributes to work with the file.\n",
    "\n",
    "## Syntax:\n",
    "\n",
    "```code\n",
    "file = open(\"filename\", \"mode\")\n",
    "```\n",
    "\n",
    "**filename:** Name of the file you want to open. <br>\n",
    "**mode:** Mode in which you want to open the file (e.g., 'r' for reading, 'w' for writing, 'a' for appending).\n",
    "\n",
    "## Common Modes:\n",
    "- 'r': Read (default mode) - Opens the file for reading.\n",
    "- 'w': Write - Opens the file for writing (creates a new file if it doesn't exist or truncates the file if it does).\n",
    "- 'a': Append - Opens the file for appending (creates a new file if it doesn't exist).\n",
    "- 'r+': Read and Write - Opens the file for both reading and writing."
   ]
  },
  {
   "cell_type": "markdown",
   "id": "1c5269d2-e56d-4616-8d66-9a798a5615f3",
   "metadata": {},
   "source": [
    "## 2. Reading from Files\n",
    "\n",
    "- Once a file is opened in read mode, you can use the read(), readline(), or readlines() methods to read its content."
   ]
  },
  {
   "cell_type": "code",
   "execution_count": 8,
   "id": "ce6ceb40-6390-41c1-b2df-21cb7c1cea49",
   "metadata": {},
   "outputs": [
    {
     "name": "stdout",
     "output_type": "stream",
     "text": [
      "Hello, World!\n",
      "Writing to a file in Python is easy.\n",
      "Appending this line to the file.\n"
     ]
    }
   ],
   "source": [
    "file = open(\"output.txt\",\"r\")\n",
    "content = file.read()\n",
    "print(content)\n",
    "file.close()  # It's important to close the file after you're done"
   ]
  },
  {
   "cell_type": "markdown",
   "id": "b8d71bf0-1b51-4b67-9b31-e48409f5b6bd",
   "metadata": {},
   "source": [
    "## 3. Writing to Files\n",
    "\n",
    "- To write to a file, open it in write ('w') or append ('a') mode. If the file doesn't exist, Python will create it.\n"
   ]
  },
  {
   "cell_type": "code",
   "execution_count": 5,
   "id": "9ad61d00-aae4-4faa-8a4c-5e7c64adf531",
   "metadata": {},
   "outputs": [],
   "source": [
    "# Example: Writing to a File:\n",
    "\n",
    "file = open(\"output.txt\", \"w\")\n",
    "file.write(\"Hello, World!\\n\")  # Writes a line to the file\n",
    "file.write(\"Writing to a file in Python is easy.\")\n",
    "file.close()"
   ]
  },
  {
   "cell_type": "code",
   "execution_count": 6,
   "id": "90bf131e-0dfe-48c3-9075-c5727029e276",
   "metadata": {},
   "outputs": [],
   "source": [
    "# Example: Appending to a File:\n",
    "\n",
    "file = open(\"output.txt\", \"a\")\n",
    "file.write(\"\\nAppending this line to the file.\")\n",
    "file.close()\n"
   ]
  },
  {
   "cell_type": "markdown",
   "id": "a00a47f1-f52c-4c8a-91f6-58f08b9e4da4",
   "metadata": {},
   "source": [
    "##  4. Best Practice: Using with Statement\n",
    "\n",
    "- The with statement is used to handle file operations more cleanly and ensures that the file is properly closed after its suite finishes, even if an exception is raised."
   ]
  },
  {
   "cell_type": "code",
   "execution_count": 9,
   "id": "c917f4be-fe93-4be6-9be2-f1e38348cda3",
   "metadata": {},
   "outputs": [
    {
     "name": "stdout",
     "output_type": "stream",
     "text": [
      "Hello, World!\n",
      "Writing to a file in Python is easy.\n",
      "Appending this line to the file.\n"
     ]
    }
   ],
   "source": [
    "# Example: Using with for Reading:\n",
    "\n",
    "with open(\"output.txt\", \"r\") as file:\n",
    "    content = file.read()\n",
    "    print(content)"
   ]
  },
  {
   "cell_type": "code",
   "execution_count": 10,
   "id": "5772e828-ed97-4b71-b2bd-4c9b3c6e8285",
   "metadata": {},
   "outputs": [],
   "source": [
    "# Example: Using with for Writing:\n",
    "\n",
    "with open(\"output.txt\", \"w\") as file:\n",
    "    file.write(\"This is written using the 'with' statement.\")"
   ]
  }
 ],
 "metadata": {
  "kernelspec": {
   "display_name": "Python 3 (ipykernel)",
   "language": "python",
   "name": "python3"
  },
  "language_info": {
   "codemirror_mode": {
    "name": "ipython",
    "version": 3
   },
   "file_extension": ".py",
   "mimetype": "text/x-python",
   "name": "python",
   "nbconvert_exporter": "python",
   "pygments_lexer": "ipython3",
   "version": "3.12.4"
  }
 },
 "nbformat": 4,
 "nbformat_minor": 5
}
