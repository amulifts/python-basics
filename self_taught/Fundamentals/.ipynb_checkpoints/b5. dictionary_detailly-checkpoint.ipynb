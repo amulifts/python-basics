{
 "cells": [
  {
   "cell_type": "markdown",
   "id": "000a4f19-7405-4a8d-9b1f-03bddfc5c4a9",
   "metadata": {},
   "source": [
    "# Important Points About Dictionaries in Python\n",
    "\n",
    "## Mutable:\n",
    "\n",
    "Dictionaries are `mutable`, meaning you can change, add, or remove key-value pairs after the dictionary has been created.\n",
    "\n",
    "## Unordered:\n",
    "\n",
    "Dictionaries are `unordered` collections of key-value pairs. The order of the items may not be the same as the order in which they were added, especially in versions before Python 3.7 (from Python 3.7 onwards, the order of insertion is preserved).\n",
    "\n",
    "## Key-Value Pairs:\n",
    "\n",
    "Dictionaries store data as `key-value` pairs. Keys are unique within a dictionary and are used to access the corresponding values.\n",
    "\n",
    "## Key Restrictions:\n",
    "\n",
    "Keys must be of an immutable data type (e.g., `strings, numbers, tuples`). Lists or other dictionaries cannot be used as keys.\n",
    "\n",
    "## Dictionary Methods:\n",
    "\n",
    "Common dictionary methods include get() (retrieve value by key with optional default), keys() (return a view of all keys), values() (return a view of all values), items() (return a view of all key-value pairs), pop() (remove key-value pair by key), and update() (merge another dictionary into the current one).\n",
    "\n",
    "## Dictionary Comprehension:\n",
    "\n",
    "Like list comprehensions, Python allows `dictionary comprehensions` for creating dictionaries in a concise way.\n",
    "\n",
    "## Accessing and Modifying:\n",
    "\n",
    "Access dictionary values using their keys (dict[key]). You can add or modify key-value pairs using assignment (dict[key] = value).\n",
    "\n",
    "## Nested Dictionaries:\n",
    "\n",
    "Dictionaries can contain other dictionaries, allowing for multi-level data structures.\n",
    "\n",
    "## Iteration:\n",
    "\n",
    "You can iterate over dictionaries using loops to access keys, values, or key-value pairs.\n",
    "\n",
    "## Default Values:\n",
    "\n",
    "The get() method allows you to provide a default value if the key doesn’t exist. This prevents KeyError.\n",
    "\n",
    "## Dictionary Length:\n",
    "\n",
    "Use len() to find the number of key-value pairs in a dictionary.\n",
    "\n",
    "## Removing Elements:\n",
    "\n",
    "You can remove items from a dictionary using methods like pop() (remove specific key), popitem() (remove the last inserted key-value pair), and del.\n",
    "\n",
    "## Copying Dictionaries:\n",
    "\n",
    "Copy dictionaries using copy() to avoid referencing the same object.\n",
    "\n",
    "## Checking Key Existence:\n",
    "\n",
    "Use the in keyword to check if a key exists in the dictionary.\n",
    "\n",
    "## Merging Dictionaries:\n",
    "\n",
    "Dictionaries can be merged using the update() method or by using dictionary unpacking in Python 3.9+."
   ]
  },
  {
   "cell_type": "markdown",
   "id": "70789ec1-6e0b-44e8-bca3-ee051eb5a30a",
   "metadata": {},
   "source": [
    "<h1 style=\"color:red;\">Basic Dictionary Operations</h1>"
   ]
  },
  {
   "cell_type": "markdown",
   "id": "2e1c7840-3c53-4606-a40c-c6e42899ea33",
   "metadata": {},
   "source": [
    "## Creating and Accessing Dictionaries:\n",
    "\n",
    "```markdown\n",
    "Create a dictionary called car with keys \"brand\", \"model\", and \"year\", and corresponding values \"Toyota\", \"Corolla\", and 2020. Then:\n",
    "Access the value associated with the key \"model\".\n",
    "Update the \"year\" to 2022.\n",
    "```"
   ]
  },
  {
   "cell_type": "code",
   "execution_count": 9,
   "id": "c1d9dd90-68c4-491a-84ac-1d8def8466d4",
   "metadata": {},
   "outputs": [
    {
     "name": "stdout",
     "output_type": "stream",
     "text": [
      "Accessing value of model: Corolla\n",
      "Updating year : {'brand': 'Toyota', 'model': 'Corolla', 'year': 2022}\n"
     ]
    }
   ],
   "source": [
    "car = {\"brand\":\"Toyota\",\"model\":\"Corolla\",\"year\":2020}\n",
    "print(f\"Accessing value of model: {car[\"model\"]}\")\n",
    "\n",
    "car[\"year\"]=2022\n",
    "print(f\"Updating year : {car}\")"
   ]
  },
  {
   "cell_type": "markdown",
   "id": "dcd8249c-0999-4d0c-8cc7-d3aa5ebd6b84",
   "metadata": {},
   "source": [
    "\n",
    "## Adding and Removing Elements:\n",
    "\n",
    "```markdown\n",
    "Create an empty dictionary called profile. Add key-value pairs for \"name\", \"age\", and \"country\". Then:\n",
    "Remove the key \"age\".\n",
    "Add a new key-value pair for \"city\".\n",
    "```\n"
   ]
  },
  {
   "cell_type": "code",
   "execution_count": 11,
   "id": "082be4ff-285b-4abc-8cb9-2a73a3cad548",
   "metadata": {},
   "outputs": [
    {
     "name": "stdout",
     "output_type": "stream",
     "text": [
      "{'name': 'aman', 'country': 'nepal'}\n"
     ]
    }
   ],
   "source": [
    "profile = {\"name\":\"aman\", \"age\":21, \"country\":\"nepal\"}\n",
    "\n",
    "# Removing key \"age\"\n",
    "profile.pop(\"age\")\n",
    "print(profile)"
   ]
  },
  {
   "cell_type": "markdown",
   "id": "7ee15742-bb64-49ea-84c7-c2a0dab202a0",
   "metadata": {},
   "source": [
    "\n",
    "<h2 style=\"color:red;\"> Checking Key Existence:</h2>\n",
    "\n",
    "```markdown\n",
    "Write a program to check if the key \"username\" exists in the dictionary user_info = {\"name\": \"Alice\", \"email\": \"alice@example.com\"}. If it doesn’t exist, add it with the value \"unknown\".\n",
    "```\n"
   ]
  },
  {
   "cell_type": "code",
   "execution_count": 15,
   "id": "ec81a126-7f0d-4ef3-aa39-c6cf4cd56091",
   "metadata": {},
   "outputs": [
    {
     "name": "stdout",
     "output_type": "stream",
     "text": [
      "{'name': 'Alice', 'email': 'alice@example.com', 'username': 'unknown'}\n"
     ]
    }
   ],
   "source": [
    "user_info = {\"name\": \"Alice\", \"email\": \"alice@example.com\"}\n",
    "if \"username\" in user_info:\n",
    "    print(\"Username exists\")\n",
    "else:\n",
    "    user_info.update({\"username\":\"unknown\"})\n",
    "    print(user_info)"
   ]
  },
  {
   "cell_type": "markdown",
   "id": "c5e815a0-da49-4d52-976e-17d1ba45d7af",
   "metadata": {},
   "source": [
    "\n",
    "## Dictionary Methods:\n",
    "\n",
    "```markdown\n",
    "Given the dictionary fruit_prices = {\"apple\": 0.5, \"banana\": 0.3, \"cherry\": 0.2}:\n",
    "Use the get() method to retrieve the price of \"banana\" and \"mango\" (with a default value of 0.0).\n",
    "Use the keys() method to print all the keys in the dictionary.\n",
    "```\n"
   ]
  },
  {
   "cell_type": "code",
   "execution_count": 44,
   "id": "7645fd20-d9ac-42c6-b4e8-5955930db4f0",
   "metadata": {},
   "outputs": [
    {
     "name": "stdout",
     "output_type": "stream",
     "text": [
      "0.3\n",
      "None\n",
      "0.0\n"
     ]
    },
    {
     "data": {
      "text/plain": [
       "dict_keys(['apple', 'banana', 'cherry'])"
      ]
     },
     "execution_count": 44,
     "metadata": {},
     "output_type": "execute_result"
    }
   ],
   "source": [
    "fruit_prices = {\"apple\": 0.5, \"banana\": 0.3, \"cherry\": 0.2}\n",
    "\n",
    "# using get() method to retrieve the price of \"banana\" and \"mango\"\n",
    "\n",
    "x = fruit_prices.get(\"banana\", 0.0)\n",
    "y = fruit_prices.get(\"mango\") # default value None\n",
    "z = fruit_prices.get(\"mango\", 0.0)\n",
    "\n",
    "print(x)\n",
    "print(y)\n",
    "print(z)\n",
    "\n",
    "# using keys() method to print all the keys in the dictionary\n",
    "\n",
    "fruit_prices.keys()"
   ]
  },
  {
   "cell_type": "markdown",
   "id": "d4f67321-edf6-477c-94a8-58497d61a379",
   "metadata": {},
   "source": [
    "\n",
    "## Dictionary Length:\n",
    "\n",
    "```markdown\n",
    "Write a program to find the number of key-value pairs in the dictionary inventory = {\"pens\": 20, \"notebooks\": 5, \"erasers\": 10}.\n",
    "```\n"
   ]
  },
  {
   "cell_type": "code",
   "execution_count": 45,
   "id": "394c16a4-3fa6-43b0-a221-9f26d3e1566e",
   "metadata": {},
   "outputs": [
    {
     "data": {
      "text/plain": [
       "3"
      ]
     },
     "execution_count": 45,
     "metadata": {},
     "output_type": "execute_result"
    }
   ],
   "source": [
    "inventory = {\"pens\": 20, \"notebooks\": 5, \"erasers\": 10}\n",
    "len(inventory)"
   ]
  },
  {
   "cell_type": "markdown",
   "id": "21d5b390-2fd6-424b-aec9-748f8a2abc86",
   "metadata": {},
   "source": [
    "\n",
    "## Iteration:\n",
    "\n",
    "```markdown\n",
    "Create a dictionary grades = {\"math\": \"A\", \"science\": \"B\", \"english\": \"A-\"}. Write a loop to print each subject and its corresponding grade.\n",
    "```\n"
   ]
  },
  {
   "cell_type": "code",
   "execution_count": 48,
   "id": "0868e08f-cab6-4e51-8cbe-0af0100aedcf",
   "metadata": {},
   "outputs": [
    {
     "name": "stdout",
     "output_type": "stream",
     "text": [
      "('math', 'A')\n",
      "('science', 'B')\n",
      "('english', 'A-')\n"
     ]
    }
   ],
   "source": [
    "grades = {\"math\": \"A\", \"science\": \"B\", \"english\": \"A-\"}\n",
    "\n",
    "for grade in grades.items():\n",
    "    print(grade)"
   ]
  },
  {
   "cell_type": "markdown",
   "id": "cfb835b6-c20c-40dc-b76c-a4fe4dfb2945",
   "metadata": {},
   "source": [
    "\n",
    "## Updating Dictionaries:\n",
    "\n",
    "```markdown\n",
    "Given the dictionary settings = {\"volume\": 50, \"brightness\": 70}, update the volume to 80 and add a new key-value pair for contrast set to 90.\n",
    "```"
   ]
  },
  {
   "cell_type": "code",
   "execution_count": 51,
   "id": "3a6a1de0-5f12-4644-96ba-8a23f2eb990e",
   "metadata": {},
   "outputs": [
    {
     "name": "stdout",
     "output_type": "stream",
     "text": [
      "{'volume': 80, 'brightness': 70}\n",
      "{'volume': 80, 'brightness': 70, 'contrast': 90}\n"
     ]
    }
   ],
   "source": [
    "settings = {\"volume\": 50, \"brightness\": 70}\n",
    "settings.update({\"volume\":80})\n",
    "print(settings)\n",
    "settings.update({\"contrast\":90})\n",
    "print(settings)"
   ]
  },
  {
   "cell_type": "markdown",
   "id": "b2ce72c6-2eba-4876-9421-7a8950e07fc4",
   "metadata": {},
   "source": [
    "<h1 style=\"color:red;\">Intermediate Dictionary Operations</h1>"
   ]
  },
  {
   "cell_type": "markdown",
   "id": "2555ed70-7a7f-45a4-a205-a7a997a9210b",
   "metadata": {},
   "source": [
    "## Merging Dictionaries:\n",
    "\n",
    "```markdown\n",
    "Merge the two dictionaries dict1 = {\"a\": 1, \"b\": 2} and dict2 = {\"b\": 3, \"c\": 4} into a single dictionary. What happens to the value of the key \"b\"?\n",
    "```"
   ]
  },
  {
   "cell_type": "code",
   "execution_count": 61,
   "id": "5ad02d21-a467-48c3-82c6-874013ca62d3",
   "metadata": {},
   "outputs": [
    {
     "name": "stdout",
     "output_type": "stream",
     "text": [
      "{'a': 1, 'b': 3, 'c': 4}\n"
     ]
    }
   ],
   "source": [
    "dict1 = {\"a\": 1, \"b\": 2}\n",
    "dict2 = {\"b\": 3, \"c\": 4}\n",
    "\n",
    "# combined = dict1 + dict2\n",
    "\n",
    "dict1.update(dict2) \n",
    "print(dict1) # the value of \"b\" from dict2 (3) overwrites the value of \"b\""
   ]
  },
  {
   "cell_type": "markdown",
   "id": "47b500c9-892e-4473-b20b-29b4aaa804a9",
   "metadata": {},
   "source": [
    "## Nested Dictionaries:\n",
    "\n",
    "```markdown\n",
    "Create a nested dictionary employees where each key is an employee’s name, and the value is another dictionary containing their \"age\" and \"department\". Access the department of a specific employee.\n",
    "```"
   ]
  },
  {
   "cell_type": "code",
   "execution_count": 69,
   "id": "dd82b88d-1fa4-474e-ac69-8f7740f22f1e",
   "metadata": {},
   "outputs": [
    {
     "name": "stdout",
     "output_type": "stream",
     "text": [
      "Department of aman is cyber security\n"
     ]
    }
   ],
   "source": [
    "employees = {\n",
    "     \"aman\" : {\n",
    "         \"age\" : 21,\n",
    "         \"department\" : \"cyber security\"\n",
    "     },\n",
    "    \"grusha\" : {\n",
    "        \"age\" : 22,\n",
    "         \"department\" : \"data science\"\n",
    "    }\n",
    "}\n",
    "\n",
    "# accessing department\n",
    "\n",
    "print(f\"Department of aman is {employees[\"aman\"][\"department\"]}\")\n"
   ]
  },
  {
   "cell_type": "markdown",
   "id": "6fda0ed3-9ae7-4342-8e5f-9ded90367fcf",
   "metadata": {},
   "source": [
    "## Dictionary Comprehension:\n",
    "\n",
    "```markdown\n",
    "Create a dictionary where the keys are numbers from 1 to 5, and the values are the squares of the keys using dictionary comprehension.\n",
    "```"
   ]
  },
  {
   "cell_type": "code",
   "execution_count": 79,
   "id": "39c19e12-2193-47b3-98c1-b4b701a96e4e",
   "metadata": {},
   "outputs": [
    {
     "data": {
      "text/plain": [
       "{1: 1, 2: 4, 3: 9, 4: 16, 5: 25}"
      ]
     },
     "execution_count": 79,
     "metadata": {},
     "output_type": "execute_result"
    }
   ],
   "source": [
    "# method one\n",
    "\n",
    "key = {number for number in range(1,6)}\n",
    "val = { number**2 for number in range(1,6) }\n",
    "\n",
    "dict(zip(key,val))"
   ]
  },
  {
   "cell_type": "code",
   "execution_count": 80,
   "id": "462afc74-fe45-4a90-a1b9-d79976a76224",
   "metadata": {},
   "outputs": [
    {
     "data": {
      "text/plain": [
       "{1: 1, 2: 4, 3: 9, 4: 16, 5: 25}"
      ]
     },
     "execution_count": 80,
     "metadata": {},
     "output_type": "execute_result"
    }
   ],
   "source": [
    "# method two\n",
    "\n",
    "{number: number**2 for number in range(1, 6)}"
   ]
  },
  {
   "cell_type": "markdown",
   "id": "a827823c-d9ab-4886-b2a5-94eea8fb52cc",
   "metadata": {},
   "source": [
    "\n",
    "## Removing Elements:\n",
    "\n",
    "```markdown\n",
    "Given the dictionary books = {\"1984\": \"George Orwell\", \"To Kill a Mockingbird\": \"Harper Lee\", \"The Great Gatsby\": \"F. Scott Fitzgerald\"}, remove the entry for \"1984\" using pop() and print the modified dictionary.\n",
    "```"
   ]
  },
  {
   "cell_type": "code",
   "execution_count": 82,
   "id": "722c68d5-78ea-4f38-9c98-c392b3096044",
   "metadata": {},
   "outputs": [
    {
     "data": {
      "text/plain": [
       "{'To Kill a Mockingbird': 'Harper Lee',\n",
       " 'The Great Gatsby': 'F. Scott Fitzgerald'}"
      ]
     },
     "execution_count": 82,
     "metadata": {},
     "output_type": "execute_result"
    }
   ],
   "source": [
    "books = {\"1984\": \"George Orwell\", \"To Kill a Mockingbird\": \"Harper Lee\", \"The Great Gatsby\": \"F. Scott Fitzgerald\"}\n",
    "books.pop(\"1984\")\n",
    "books"
   ]
  },
  {
   "cell_type": "markdown",
   "id": "b53e1146-94af-472d-89b9-1cb2c67cf296",
   "metadata": {},
   "source": [
    "\n",
    "## Counting Elements:\n",
    "\n",
    "```markdown\n",
    "Write a program that counts the frequency of each letter in the string \"programming\" using a dictionary.\n",
    "```"
   ]
  },
  {
   "cell_type": "code",
   "execution_count": 87,
   "id": "9d4203e5-9ee2-4c64-8eed-ff40f42e6fd8",
   "metadata": {},
   "outputs": [
    {
     "ename": "SyntaxError",
     "evalue": "invalid syntax (2715826168.py, line 3)",
     "output_type": "error",
     "traceback": [
      "\u001b[0;36m  Cell \u001b[0;32mIn[87], line 3\u001b[0;36m\u001b[0m\n\u001b[0;31m    { char: char for char in my_string if char in my_string: count += 1 else count = 1  }\u001b[0m\n\u001b[0m                                                           ^\u001b[0m\n\u001b[0;31mSyntaxError\u001b[0m\u001b[0;31m:\u001b[0m invalid syntax\n"
     ]
    }
   ],
   "source": [
    "my_string = \"programming\"\n",
    "count = 0\n",
    "{ char: char for char in my_string if char in my_string: count += 1 else count = 1  }"
   ]
  },
  {
   "cell_type": "code",
   "execution_count": 93,
   "id": "4cf0637d-6580-4535-9cb9-a107033be909",
   "metadata": {},
   "outputs": [
    {
     "name": "stdout",
     "output_type": "stream",
     "text": [
      "{'p': 1, 'r': 2, 'o': 1, 'g': 2, 'a': 1, 'm': 2, 'i': 1, 'n': 1}\n"
     ]
    }
   ],
   "source": [
    "my_string = \"programming\"\n",
    "frequency = {}\n",
    "\n",
    "for char in my_string:\n",
    "    if char in frequency:\n",
    "        frequency[char] += 1\n",
    "    else:\n",
    "        frequency[char] = 1\n",
    "    \n",
    "print(frequency)"
   ]
  },
  {
   "cell_type": "markdown",
   "id": "4d8819bb-e5ea-474b-b737-52ca4f24605c",
   "metadata": {},
   "source": [
    "\n",
    "## Tuple as Dictionary Key:\n",
    "\n",
    "```markdown\n",
    "Create a dictionary where the keys are tuples representing coordinates (x, y), and the values are color names. Access the color at a specific coordinate (2, 3).\n",
    "```"
   ]
  },
  {
   "cell_type": "code",
   "execution_count": 97,
   "id": "190516f5-32dd-4afc-9abd-77371bd46444",
   "metadata": {},
   "outputs": [
    {
     "name": "stdout",
     "output_type": "stream",
     "text": [
      "Color at a specific coordinate (2, 3): red\n"
     ]
    }
   ],
   "source": [
    "my_dict = {\n",
    "    (2,3) : {\n",
    "        \"color\":\"red\"\n",
    "    },\n",
    "    (1,2) : {\n",
    "        \"color\":\"yellow\"\n",
    "    }\n",
    "}\n",
    "\n",
    "print(\"Color at a specific coordinate (2, 3): {}\".format(my_dict[(2,3)][\"color\"]))"
   ]
  },
  {
   "cell_type": "markdown",
   "id": "c953ebea-fd7a-4d0c-bb1f-e0ef19be5eba",
   "metadata": {},
   "source": [
    "## Dictionary from Two Lists:\n",
    "\n",
    "```markdown\n",
    "Given two lists, keys = [\"name\", \"age\", \"city\"] and values = [\"Alice\", 25, \"New York\"], create a dictionary by pairing the elements of these lists.\n",
    "```"
   ]
  },
  {
   "cell_type": "code",
   "execution_count": 1,
   "id": "091d6a82-1f55-4bce-b7d6-5b4b4a59dce8",
   "metadata": {},
   "outputs": [
    {
     "data": {
      "text/plain": [
       "{'name': 'Alice', 'age': 25, 'city': 'New York'}"
      ]
     },
     "execution_count": 1,
     "metadata": {},
     "output_type": "execute_result"
    }
   ],
   "source": [
    "keys = [\"name\", \"age\", \"city\"]\n",
    "values = [\"Alice\", 25, \"New York\"]\n",
    "\n",
    "dict(zip(keys, values))"
   ]
  },
  {
   "cell_type": "markdown",
   "id": "a46b0910-829c-4610-81af-66f43ac94ffb",
   "metadata": {},
   "source": [
    "\n",
    "## Dictionary Length and Maximum Key:\n",
    "\n",
    "```markdown\n",
    "Given the dictionary scores = {\"Alice\": 85, \"Bob\": 90, \"Charlie\": 88}, write a program to find the key with the maximum value and the total number of key-value pairs in the dictionary.\n",
    "```"
   ]
  },
  {
   "cell_type": "code",
   "execution_count": 8,
   "id": "5b909cf9-bcc3-4e21-839b-d024a61979c9",
   "metadata": {},
   "outputs": [
    {
     "name": "stdout",
     "output_type": "stream",
     "text": [
      "The maximum value from the given dictionary is: 90\n",
      "Total number of key value pairs :3\n"
     ]
    }
   ],
   "source": [
    "scores = {\"Alice\": 85, \"Bob\": 90, \"Charlie\": 88}\n",
    "\n",
    "print(f\"The maximum value from the given dictionary is: { max(scores.values()) }\")\n",
    "print(f\"Total number of key value pairs :{len(scores)}\")"
   ]
  },
  {
   "cell_type": "markdown",
   "id": "18418e7d-dea3-4146-8aec-4bfe8ac927e1",
   "metadata": {},
   "source": [
    "\n",
    "<h2 style=\"color: red;\"> Default Values with setdefault():</h2>\n",
    "\n",
    "```markdown\n",
    "Given the dictionary student_scores = {\"math\": 95, \"science\": 90}, use setdefault() to add an \"english\" key with a default score of 85 if it doesn’t already exist.\n",
    "```"
   ]
  },
  {
   "cell_type": "code",
   "execution_count": 10,
   "id": "1d71be3e-0350-4bf6-965a-e7f0a5c0b958",
   "metadata": {},
   "outputs": [
    {
     "name": "stdout",
     "output_type": "stream",
     "text": [
      "85\n"
     ]
    }
   ],
   "source": [
    "student_scores = {\"math\": 95, \"science\": 90}\n",
    "x = student_scores.setdefault(\"english\",85)\n",
    "print(x)"
   ]
  },
  {
   "cell_type": "code",
   "execution_count": 11,
   "id": "befde413-ca0b-4c6f-9530-a14579a41c73",
   "metadata": {},
   "outputs": [
    {
     "name": "stdout",
     "output_type": "stream",
     "text": [
      "70\n"
     ]
    }
   ],
   "source": [
    "student_scores = {\"math\": 95, \"science\": 90, \"english\":70}\n",
    "x = student_scores.setdefault(\"english\",85)\n",
    "print(x)"
   ]
  },
  {
   "cell_type": "markdown",
   "id": "8d4e05f3-625a-4fea-b9dd-2e8a4f83b5cd",
   "metadata": {},
   "source": [
    "<h1 style=\"color:red;\">Advanced Dictionary Operations</h1>"
   ]
  },
  {
   "cell_type": "markdown",
   "id": "62682dbc-82e3-4da6-839c-6ec593077714",
   "metadata": {},
   "source": [
    "<h2 style=\"color:red;\"> Sorting Dictionary by Value:</h2>\n",
    "\n",
    "```markdown\n",
    "Given the dictionary scores = {\"Alice\": 85, \"Bob\": 90, \"Charlie\": 88}, sort the dictionary by value and print the sorted dictionary.\n",
    "```"
   ]
  },
  {
   "cell_type": "code",
   "execution_count": 24,
   "id": "143702d4-e698-4030-8820-3919e82cfa8e",
   "metadata": {},
   "outputs": [
    {
     "name": "stdout",
     "output_type": "stream",
     "text": [
      "{'Alice': 85, 'Bob': 90, 'Charlie': 88}\n"
     ]
    }
   ],
   "source": [
    "scores = {\"Alice\": 85, \"Bob\": 90, \"Charlie\": 88}\n",
    "\n",
    "sorted(scores.values()) # we can use built in function called sorted, .sort() will raise error saying dict dont have sort method.\n",
    "\n",
    "print(scores)"
   ]
  },
  {
   "cell_type": "markdown",
   "id": "63b79561-b3cf-4905-b157-985935370473",
   "metadata": {},
   "source": [
    "\n",
    "<h2 style=\"color:red;\"> Flattening a Nested Dictionary:</h2>\n",
    "\n",
    "```markdown\n",
    "Given a nested dictionary, write a program to flatten it into a single dictionary with keys as the combined keys of the nested dictionaries.\n",
    "```\n"
   ]
  },
  {
   "cell_type": "code",
   "execution_count": 57,
   "id": "76941f4e-dd56-48df-b3f9-36c9ab4156ba",
   "metadata": {},
   "outputs": [
    {
     "name": "stdout",
     "output_type": "stream",
     "text": [
      "{'aman_age': 21}\n",
      "{'aman_age': 21, 'aman_gender': 'male'}\n",
      "{'aman_age': 21, 'aman_gender': 'male', 'grusha_age': 22}\n",
      "{'aman_age': 21, 'aman_gender': 'male', 'grusha_age': 22, 'grusha_gender': 'female'}\n",
      "{'aman_age': 21, 'aman_gender': 'male', 'grusha_age': 22, 'grusha_gender': 'female'}\n"
     ]
    }
   ],
   "source": [
    "nested_dict = {\n",
    "    \"aman\":{\n",
    "        \"age\":21,\n",
    "        \"gender\":\"male\"\n",
    "    },\n",
    "    \"grusha\":{\n",
    "        \"age\":22,\n",
    "        \"gender\":\"female\"\n",
    "    }\n",
    "}\n",
    "\n",
    "fresh_dict = {}\n",
    "\n",
    "for outer_key,inner_dict in nested_dict.items():\n",
    "    # print(outer_key, inner_dict)\n",
    "    for inner_key,inner_value in inner_dict.items():\n",
    "        # print(inner_key,inner_value)\n",
    "        fresh_key = f\"{outer_key}_{inner_key}\"\n",
    "        # print(fresh_dict)\n",
    "        fresh_dict[fresh_key] = inner_value\n",
    "        print(fresh_dict)\n",
    "\n",
    "print(fresh_dict)"
   ]
  },
  {
   "cell_type": "markdown",
   "id": "329a0369-710b-432d-9fe2-519b4e47037c",
   "metadata": {},
   "source": [
    "\n",
    "## Filtering a Dictionary:\n",
    "\n",
    "```markdown\n",
    "Write a program to create a new dictionary that contains only the items from the dictionary prices = {\"apple\": 0.5, \"banana\": 0.3, \"cherry\": 0.2, \"mango\": 1.5} where the value is greater than 0.4.\n",
    "```\n"
   ]
  },
  {
   "cell_type": "code",
   "execution_count": 58,
   "id": "ab372893-d965-48f8-8861-96e3abe3288a",
   "metadata": {},
   "outputs": [
    {
     "name": "stdout",
     "output_type": "stream",
     "text": [
      "{'apple': 0.5, 'mango': 1.5}\n"
     ]
    }
   ],
   "source": [
    "prices = {\"apple\": 0.5, \"banana\": 0.3, \"cherry\": 0.2, \"mango\": 1.5}\n",
    "new_prices = {}\n",
    "\n",
    "for fruits,price in prices.items():\n",
    "    if price > 0.4:\n",
    "        new_prices[fruits] = price\n",
    "\n",
    "print(new_prices)"
   ]
  },
  {
   "cell_type": "markdown",
   "id": "3adc7d21-e7b2-4d74-9ff9-17d20d3ebc14",
   "metadata": {},
   "source": [
    "\n",
    "## Zipping Dictionaries:\n",
    "\n",
    "```markdown\n",
    "Given two dictionaries dict1 = {\"a\": 1, \"b\": 2, \"c\": 3} and dict2 = {\"x\": \"alpha\", \"y\": \"beta\", \"z\": \"gamma\"}, create a new dictionary that combines these two, where keys from dict1 are paired with keys from dict2.\n",
    "```"
   ]
  },
  {
   "cell_type": "code",
   "execution_count": 59,
   "id": "4a87faf6-26b0-4175-8cf4-495a997b37c1",
   "metadata": {},
   "outputs": [
    {
     "data": {
      "text/plain": [
       "{'a': 'x', 'b': 'y', 'c': 'z'}"
      ]
     },
     "execution_count": 59,
     "metadata": {},
     "output_type": "execute_result"
    }
   ],
   "source": [
    "dict1 = {\"a\": 1, \"b\": 2, \"c\": 3}\n",
    "dict2 = {\"x\": \"alpha\", \"y\": \"beta\", \"z\": \"gamma\"}\n",
    "\n",
    "dict(zip(dict1,dict2))"
   ]
  },
  {
   "cell_type": "markdown",
   "id": "c301f3a4-d04d-41a0-8cbb-70a8a03e3a33",
   "metadata": {},
   "source": [
    "\n",
    "<h2 style=color:red;> Creating a Dictionary of Lists:</h2>\n",
    "\n",
    "```markdown\n",
    "Write a program to create a dictionary where the keys are numbers from 1 to 3, and the values are lists containing numbers starting from the key value to the key value plus 2. For example, the output for key 1 would be [1, 2, 3].\n",
    "```"
   ]
  },
  {
   "cell_type": "code",
   "execution_count": 67,
   "id": "7e85e03c-f1bd-4aac-b642-edf9c07ed465",
   "metadata": {},
   "outputs": [
    {
     "name": "stdout",
     "output_type": "stream",
     "text": [
      "1\n",
      "2\n",
      "3\n",
      "{1: [1, 2, 3], 2: [2, 3, 4], 3: [3, 4, 5]}\n"
     ]
    }
   ],
   "source": [
    "'''\n",
    "# needed output\n",
    "new_dict = {\n",
    "    1:[1,2,3],\n",
    "    2:[2,3,4],\n",
    "    3:[3,4,5]\n",
    "}\n",
    "'''\n",
    "\n",
    "fresh_dict = {}\n",
    "\n",
    "for key in range(1,4):\n",
    "    print(key)\n",
    "    fresh_dict[key] = list(range(key,key+3))\n",
    "\n",
    "print(fresh_dict)"
   ]
  },
  {
   "cell_type": "markdown",
   "id": "a70ec1b5-f03a-4a88-831c-60b77f328295",
   "metadata": {},
   "source": [
    "\n",
    "<h2 style=\"color:red;\"> Using collections.defaultdict: </h2>\n",
    "\n",
    "```markdown\n",
    "Write a program that categorizes a list of words by their first letter using collections.defaultdict. For example, words = [\"apple\", \"banana\", \"cherry\", \"apricot\", \"blueberry\"] should be categorized into a dictionary like {\"a\": [\"apple\", \"apricot\"], \"b\": [\"banana\", \"blueberry\"], \"c\": [\"cherry\"]}.\n",
    "```\n"
   ]
  },
  {
   "cell_type": "markdown",
   "id": "95d7b598-7bdb-49eb-ace2-52f4e3dc5ab1",
   "metadata": {},
   "source": [
    "## Key Features of defaultdict:\n",
    "- Automatic Key Initialization: When you try to access or modify a key that does not exist in the dictionary, defaultdict automatically initializes that key with a default value.\n",
    "- Ease of Use: It reduces the need for checking if a key exists in the dictionary before accessing or modifying it."
   ]
  },
  {
   "cell_type": "code",
   "execution_count": 91,
   "id": "e42570af-8ec1-458d-9eac-926ee5d8ff21",
   "metadata": {},
   "outputs": [
    {
     "name": "stdout",
     "output_type": "stream",
     "text": [
      "defaultdict(<class 'list'>, {})\n",
      "defaultdict(<class 'list'>, {'a': ['apple', 'apricot'], 'b': ['banana', 'blueberry'], 'c': ['cherry']})\n"
     ]
    }
   ],
   "source": [
    "from collections import defaultdict\n",
    "\n",
    "words = [\"apple\", \"banana\", \"cherry\", \"apricot\", \"blueberry\"]\n",
    "\n",
    "categorized_word = defaultdict(list)\n",
    "print(categorized_word)\n",
    "\n",
    "for word in words:\n",
    "    # print(word)\n",
    "    first_letter = word[0]\n",
    "    # print(first_letter)\n",
    "    categorized_word[first_letter].append(word)\n",
    "\n",
    "print(categorized_word)"
   ]
  },
  {
   "cell_type": "markdown",
   "id": "b901724a-21a8-40bb-bb04-39e8f2a2f92e",
   "metadata": {},
   "source": [
    "\n",
    "## Inverting a Dictionary:\n",
    "\n",
    "```markdown\n",
    "Write a program to invert a dictionary where the keys become values and the values become keys. For example, {\"a\": 1, \"b\": 2} becomes {1: \"a\", 2: \"b\"}. Handle cases where the values are not unique.\n",
    "```\n"
   ]
  },
  {
   "cell_type": "code",
   "execution_count": 72,
   "id": "421b38b0-5278-44a1-8bab-829c8d97c6e1",
   "metadata": {},
   "outputs": [
    {
     "name": "stdout",
     "output_type": "stream",
     "text": [
      "{1: 'a', 2: 'b'}\n"
     ]
    }
   ],
   "source": [
    "normal_dict = {\"a\": 1, \"b\": 2}\n",
    "reversed_dict = {}\n",
    "\n",
    "for x,y in normal_dict.items():\n",
    "    # print(x,y)\n",
    "    reversed_dict[y] = x\n",
    "\n",
    "print(reversed_dict)"
   ]
  }
 ],
 "metadata": {
  "kernelspec": {
   "display_name": "Python 3 (ipykernel)",
   "language": "python",
   "name": "python3"
  },
  "language_info": {
   "codemirror_mode": {
    "name": "ipython",
    "version": 3
   },
   "file_extension": ".py",
   "mimetype": "text/x-python",
   "name": "python",
   "nbconvert_exporter": "python",
   "pygments_lexer": "ipython3",
   "version": "3.12.4"
  }
 },
 "nbformat": 4,
 "nbformat_minor": 5
}
