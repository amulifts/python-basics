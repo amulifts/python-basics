{
 "cells": [
  {
   "cell_type": "markdown",
   "id": "dc550dc2-f112-43cf-9bce-8af50ba5cd1a",
   "metadata": {},
   "source": [
    "# Important Points About Strings in Python:\n",
    "\n",
    "### Immutability:\n",
    "\n",
    "Strings in python are `immutable` meaning once string is created it cannot be changed lateron.\n",
    "\n",
    "### Ordered Sequence:\n",
    "\n",
    "Strings are `ordered sequence` of characters meaning it has an index starting from 0 we can do indexing and slicing.\n",
    "\n",
    "### Indexing:\n",
    "\n",
    "Individual characters can be `accessed with indices`, where +ve indices count from beginning and negative indices count from last.\n",
    "\n",
    "### Slicing:\n",
    "\n",
    "Substrings can be extracted using `slicing`. The syntax is string[start:end:step], where start is the beginning index, end is the ending index (non-inclusive), and step determines the interval between characters.\n",
    "\n",
    "### String Concatenation:\n",
    "\n",
    "Strings can be concatenated using the + operator. This operation creates a new string by joining the two.\n",
    "\n",
    "### Repetition:\n",
    "\n",
    "The * operator allows for repeating a string multiple times.\n",
    "\n",
    "### String Methods:\n",
    "\n",
    "Python provides several built-in methods to manipulate strings, such as upper(), lower(), replace(), split(), join(), find(), strip(), and more.\n",
    "\n",
    "### Escape Characters:\n",
    "\n",
    "Special characters like \\n (new line), \\t (tab), and \\\\ (backslash) are used to represent certain characters within strings.\n",
    "\n",
    "### String Formatting:\n",
    "\n",
    "Python offers multiple ways to format strings, including the % operator, str.format(), and f-strings (formatted string literals).\n",
    "\n",
    "### Multiline Strings:\n",
    "\n",
    "Multiline strings can be created using triple quotes (''' or \"\"\"), which is useful for long text blocks.\n",
    "\n",
    "### String Comparison:\n",
    "\n",
    "Strings can be compared using comparison operators like ==, !=, >, <, etc. The comparison is done lexicographically, based on Unicode values."
   ]
  },
  {
   "cell_type": "markdown",
   "id": "daf191b9-f713-41a0-8280-2526b9d48dfb",
   "metadata": {},
   "source": [
    "<h1 style=\"color:red;\">Basic String Operations</h1>"
   ]
  },
  {
   "cell_type": "markdown",
   "id": "ef1e3984-fab2-485e-98db-547dbc343afe",
   "metadata": {},
   "source": [
    "## Indexing and Slicing:\n",
    "\n",
    "```markdown\n",
    "Given the string s = \"LearnPython\", write code to:\n",
    "Extract the first character.\n",
    "Extract the last character using negative indexing.\n",
    "Extract the substring \"Python\" using slicing.\n",
    "Reverse the entire string using slicing.\n",
    "````"
   ]
  },
  {
   "cell_type": "code",
   "execution_count": 35,
   "id": "d1585727-eba4-413c-bc0b-ff6192596c0b",
   "metadata": {},
   "outputs": [
    {
     "name": "stdout",
     "output_type": "stream",
     "text": [
      "First character is: L\n",
      "Last character is is: n\n",
      "Using slicing: Python\n",
      "Reversed string: nohtyPnraeL\n"
     ]
    }
   ],
   "source": [
    "s = \"LearnPython\"\n",
    "print(f\"First character is: {s[0]}\")\n",
    "print(f\"Last character is is: {s[-1]}\")\n",
    "print(f\"Using slicing: {s[5:]}\")\n",
    "print(f\"Reversed string: {s[-1::-1]}\")"
   ]
  },
  {
   "cell_type": "markdown",
   "id": "a2a7f341-ccf7-4b1e-94ea-95d2435891af",
   "metadata": {},
   "source": [
    "## String Concatenation:\n",
    "\n",
    "```markdown\n",
    "Write code to concatenate the strings \"Hello\" and \"World\" with a space in between.\n",
    "```"
   ]
  },
  {
   "cell_type": "code",
   "execution_count": 39,
   "id": "ac0d0d19-0817-4cd8-b292-f575ad4585ae",
   "metadata": {},
   "outputs": [
    {
     "name": "stdout",
     "output_type": "stream",
     "text": [
      "Hello World\n"
     ]
    }
   ],
   "source": [
    "first = \"Hello\"\n",
    "second = \"World\"\n",
    "print(f\"{first + ' ' + second}\")"
   ]
  },
  {
   "cell_type": "markdown",
   "id": "b5ce8cad-9e7a-4ae1-83e8-b3ed52c04342",
   "metadata": {},
   "source": [
    "## String Length:\n",
    "\n",
    "```markdown\n",
    "Write a program to find the length of the string \"PythonProgramming\".\n",
    "```"
   ]
  },
  {
   "cell_type": "code",
   "execution_count": 41,
   "id": "4b1146ab-e00c-41c6-90bf-38072c697df8",
   "metadata": {},
   "outputs": [
    {
     "name": "stdout",
     "output_type": "stream",
     "text": [
      "Lenght of string is: 17\n"
     ]
    }
   ],
   "source": [
    "my_string = \"PythonProgramming\"\n",
    "print(f\"Lenght of string is: {len(my_string)}\")"
   ]
  },
  {
   "cell_type": "markdown",
   "id": "ac4b0ebb-83c0-46ad-9380-9ac39def3a33",
   "metadata": {},
   "source": [
    "## Repetition:\n",
    "\n",
    "```\n",
    "Given the string s = \"Code\", write code to repeat it 4 times and store the result in a new variable.\n",
    "```"
   ]
  },
  {
   "cell_type": "code",
   "execution_count": 42,
   "id": "0ea310d9-bcbb-4cc8-bb6e-75b5d8eb31fe",
   "metadata": {},
   "outputs": [
    {
     "name": "stdout",
     "output_type": "stream",
     "text": [
      "CodeCodeCodeCode\n"
     ]
    }
   ],
   "source": [
    "s = \"Code\"\n",
    "new_s = s*4\n",
    "print(new_s)"
   ]
  },
  {
   "cell_type": "markdown",
   "id": "ea41a80b-70f9-4a80-8be3-d21d7a99c85b",
   "metadata": {},
   "source": [
    "## String Methods\n",
    "\n",
    "```markdown\n",
    "Case Conversion:\n",
    "\n",
    "Convert the string \"python is fun\" to:\n",
    "All uppercase.\n",
    "All lowercase.\n",
    "Title case (first letter of each word capitalized).\n",
    "```"
   ]
  },
  {
   "cell_type": "code",
   "execution_count": 46,
   "id": "01f65b6b-e220-4863-8304-6e1cb0865865",
   "metadata": {},
   "outputs": [
    {
     "name": "stdout",
     "output_type": "stream",
     "text": [
      "Upper: PYTHON IS FUN\n",
      "Lower: python is fun\n",
      "First letter of each word capitalize: Python Is Fun\n"
     ]
    }
   ],
   "source": [
    "my_str = \"python is fun\"\n",
    "\n",
    "print(f\"Upper: {my_str.upper()}\")\n",
    "print(f\"Lower: {my_str.lower()}\")\n",
    "# print(f\"First letter Capitalize: {my_str.capitalize()}\")\n",
    "print(f\"First letter of each word capitalize: {my_str.title()}\")\n"
   ]
  },
  {
   "cell_type": "markdown",
   "id": "94efe991-2061-4456-8c06-67570dae2257",
   "metadata": {},
   "source": [
    "## String Replacement:\n",
    "\n",
    "```\n",
    "Replace the word \"day\" with \"night\" in the string \"It was a sunny day\".\n",
    "```"
   ]
  },
  {
   "cell_type": "code",
   "execution_count": 54,
   "id": "867b3cb1-fa4c-48d3-947c-33ddb5f2c004",
   "metadata": {},
   "outputs": [
    {
     "name": "stdout",
     "output_type": "stream",
     "text": [
      "['It', 'was', 'a', 'sunny', 'day']\n",
      "Converted the string to <class 'list'>\n",
      "['It', 'was', 'a', 'sunny', 'night']\n"
     ]
    },
    {
     "data": {
      "text/plain": [
       "'It was a sunny night'"
      ]
     },
     "execution_count": 54,
     "metadata": {},
     "output_type": "execute_result"
    }
   ],
   "source": [
    "my_str = \"It was a sunny day\"\n",
    "splited_str = my_str.split()\n",
    "print(splited_str)\n",
    "print(f\"Converted the string to {type(splited_str)}\")\n",
    "splited_str[4] = \"night\"\n",
    "print(splited_str)\n",
    "' '.join(splited_str)"
   ]
  },
  {
   "cell_type": "code",
   "execution_count": 60,
   "id": "6a83a853-a9fb-41b8-bcd0-94490672dd57",
   "metadata": {},
   "outputs": [
    {
     "name": "stdout",
     "output_type": "stream",
     "text": [
      "It was a sunny night\n"
     ]
    }
   ],
   "source": [
    "my_str = \"It was a sunny day\"\n",
    "new_str = my_str.replace(\"day\", \"night\", 1) # string.replace(oldvalue, newvalue, count)\n",
    "print(new_str)"
   ]
  },
  {
   "cell_type": "markdown",
   "id": "bfed9228-89dc-462c-ad3a-c783c25c8f34",
   "metadata": {},
   "source": [
    "## String Splitting:\n",
    "\n",
    "```markdown\n",
    "Split the string \"apple,banana,cherry\" into a list of individual fruits.\n",
    "```"
   ]
  },
  {
   "cell_type": "code",
   "execution_count": 75,
   "id": "8a62914b-0137-44a6-b5da-485febcc784f",
   "metadata": {},
   "outputs": [
    {
     "name": "stdout",
     "output_type": "stream",
     "text": [
      "['apple', 'banana', 'cherry']\n"
     ]
    }
   ],
   "source": [
    "my_str = \"apple,banana,cherry\"\n",
    "new_str = my_str.split(',') # shift tab to see which argument to pass\n",
    "print(new_str)"
   ]
  },
  {
   "cell_type": "markdown",
   "id": "c97dfd26-bd46-4f78-94aa-357ded45eabe",
   "metadata": {},
   "source": [
    "## String Joining:\n",
    "\n",
    "```\n",
    "Given a list of words ['Join', 'these', 'words'], join them into a single string with spaces in between.\n",
    "```"
   ]
  },
  {
   "cell_type": "code",
   "execution_count": 78,
   "id": "949dd68c-d427-4d35-aca2-885a3947836c",
   "metadata": {},
   "outputs": [
    {
     "data": {
      "text/plain": [
       "'Join these words'"
      ]
     },
     "execution_count": 78,
     "metadata": {},
     "output_type": "execute_result"
    }
   ],
   "source": [
    "my_list = ['Join', 'these', 'words']\n",
    "' '.join(my_list)"
   ]
  },
  {
   "cell_type": "markdown",
   "id": "1a95b2a0-554d-465c-aa05-4b66259125f6",
   "metadata": {},
   "source": [
    "## Whitespace Removal:\n",
    "\n",
    "```\n",
    "Remove leading and trailing whitespace from the string \" Hello World \".\n",
    "```"
   ]
  },
  {
   "cell_type": "code",
   "execution_count": 88,
   "id": "0529de2a-a2df-43f3-bd27-62f2c7fe173c",
   "metadata": {},
   "outputs": [
    {
     "data": {
      "text/plain": [
       "'Hello World'"
      ]
     },
     "execution_count": 88,
     "metadata": {},
     "output_type": "execute_result"
    }
   ],
   "source": [
    "my_str = \" Hello World \"\n",
    "my_str.strip()"
   ]
  },
  {
   "cell_type": "code",
   "execution_count": 89,
   "id": "c1f22a2b-f68d-4ecf-9d8c-229b0111c0e9",
   "metadata": {},
   "outputs": [
    {
     "data": {
      "text/plain": [
       "'Hello World'"
      ]
     },
     "execution_count": 89,
     "metadata": {},
     "output_type": "execute_result"
    }
   ],
   "source": [
    "my_str = \",/... Hello World ';./]\"\n",
    "my_str.strip(\"/,.;]' \")"
   ]
  },
  {
   "cell_type": "markdown",
   "id": "fd69793f-26a7-41ad-b3df-3cfced424ce1",
   "metadata": {},
   "source": [
    "<h1 style=\"color:red;\">Advanced String Operations</h1>"
   ]
  },
  {
   "cell_type": "markdown",
   "id": "bb457dbc-d1c4-4040-9727-4aa58b4667b3",
   "metadata": {},
   "source": [
    "## String Formatting:\n",
    "\n",
    "```markdown\n",
    "Use an f-string to create a formatted string: \"My name is John and I am 25 years old.\" where \"John\" and 25 are variables.\n",
    "```"
   ]
  },
  {
   "cell_type": "code",
   "execution_count": 90,
   "id": "e295235c-d57f-4aee-9a51-d1738a7d7433",
   "metadata": {},
   "outputs": [
    {
     "name": "stdout",
     "output_type": "stream",
     "text": [
      "My name is John and I am 25 years old.\n"
     ]
    }
   ],
   "source": [
    "name = \"John\"\n",
    "age = \"25\"\n",
    "print(f\"My name is {name} and I am {age} years old.\")"
   ]
  },
  {
   "cell_type": "markdown",
   "id": "5f5ffa7c-929c-484e-99a9-e744d6c0f5e7",
   "metadata": {},
   "source": [
    "## Escape Characters:\n",
    "\n",
    "```python\n",
    "# Write code to print the following text with the correct formatting:\n",
    "Python is fun!\n",
    "Let's learn \"Python\" together.\n",
    "```"
   ]
  },
  {
   "cell_type": "code",
   "execution_count": 104,
   "id": "46cc9c4b-c158-450d-8f67-645a6a5a06ab",
   "metadata": {},
   "outputs": [
    {
     "ename": "SyntaxError",
     "evalue": "unterminated string literal (detected at line 1) (4170667102.py, line 1)",
     "output_type": "error",
     "traceback": [
      "\u001b[0;36m  Cell \u001b[0;32mIn[104], line 1\u001b[0;36m\u001b[0m\n\u001b[0;31m    print('Python is fun!\\nLet's learn \"Python\" together')\u001b[0m\n\u001b[0m                                                        ^\u001b[0m\n\u001b[0;31mSyntaxError\u001b[0m\u001b[0;31m:\u001b[0m unterminated string literal (detected at line 1)\n"
     ]
    }
   ],
   "source": [
    "print('Python is fun!\\nLet's learn \"Python\" together')"
   ]
  },
  {
   "cell_type": "code",
   "execution_count": 105,
   "id": "6556c6e3-5f09-4a06-b579-b7a76d4e9c98",
   "metadata": {},
   "outputs": [
    {
     "name": "stdout",
     "output_type": "stream",
     "text": [
      "Python is fun!\n",
      "Let's learn \"Python\" together\n"
     ]
    }
   ],
   "source": [
    "print('Python is fun!\\nLet\\'s learn \"Python\" together')"
   ]
  },
  {
   "cell_type": "markdown",
   "id": "3fd9475d-834c-4ed2-9a9b-54eccd3de7a9",
   "metadata": {},
   "source": [
    "## Substring Search:\n",
    "\n",
    "```markdown\n",
    "Write a program to check if the substring \"Python\" is present in the string \"I am learning Python programming\".\n",
    "```"
   ]
  },
  {
   "cell_type": "code",
   "execution_count": 114,
   "id": "5984af98-4349-42b7-9429-707c49080eaa",
   "metadata": {},
   "outputs": [
    {
     "name": "stdout",
     "output_type": "stream",
     "text": [
      "14\n",
      "14\n"
     ]
    }
   ],
   "source": [
    "my_str = \"I am learning Python programming\"\n",
    "x = my_str.find(\"Python\") # string.find(value, start, end) # this returns -1 when word is not found\n",
    "y = my_str.index(\"Python\") # list.index(elmnt) # this raises an error\n",
    "print(x)\n",
    "print(y)"
   ]
  },
  {
   "cell_type": "code",
   "execution_count": 117,
   "id": "82252517-25ab-44bb-99a4-dfe58be639dd",
   "metadata": {},
   "outputs": [
    {
     "name": "stdout",
     "output_type": "stream",
     "text": [
      "There is Python present in the string.\n"
     ]
    }
   ],
   "source": [
    "my_str = \"I am learning Python programming\"\n",
    "\n",
    "if my_str.find(\"Python\") != -1:\n",
    "    print(\"There is Python present in the string.\")\n",
    "else:\n",
    "    print(\"Python is not present in the string.\")"
   ]
  },
  {
   "cell_type": "markdown",
   "id": "b231b9c3-6840-41e2-9082-c27bc8d7ae4e",
   "metadata": {},
   "source": [
    "## Counting Occurrences:\n",
    "\n",
    "```markdown\n",
    "Count the number of times the letter \"a\" appears in the string \"Banana\".\n",
    "```"
   ]
  },
  {
   "cell_type": "code",
   "execution_count": 131,
   "id": "f454432d-c3f3-4693-8ae6-c8b9833a99e5",
   "metadata": {},
   "outputs": [
    {
     "name": "stdout",
     "output_type": "stream",
     "text": [
      "The number of time 'a' appears in the string is 3 \n"
     ]
    }
   ],
   "source": [
    "my_str = \"Banana\"\n",
    "x = my_str.count(\"a\")\n",
    "print(f\"The number of time 'a' appears in the string is {x} \")"
   ]
  },
  {
   "cell_type": "markdown",
   "id": "f430cabb-93ab-4fbc-a9cb-5d7184f0b653",
   "metadata": {},
   "source": [
    "## Palindrome Check:\n",
    "\n",
    "```markdown\n",
    "Write a program to check if the string \"madam\" is a palindrome (a string that reads the same forward and backward).\n",
    "```"
   ]
  },
  {
   "cell_type": "code",
   "execution_count": 140,
   "id": "b449ef0b-8b91-4a00-8cd4-3e67a8c38e8f",
   "metadata": {},
   "outputs": [
    {
     "name": "stdout",
     "output_type": "stream",
     "text": [
      "madam\n",
      "The given string is palindrom\n"
     ]
    }
   ],
   "source": [
    "my_str = \"madam\"\n",
    "rev_str = my_str[-1::-1]\n",
    "print(rev_str)\n",
    "if my_str == rev_str:\n",
    "    print(f\"The given string is palindrom\")\n",
    "else:\n",
    "    print(f\"The given string is not palindrom\")"
   ]
  },
  {
   "cell_type": "markdown",
   "id": "88257022-061d-4652-b151-c05b52815c90",
   "metadata": {},
   "source": [
    "## Anagram Check:\n",
    "\n",
    "```markdown\n",
    "Write a function to check if two strings are anagrams (contain the same characters in a different order), for example, \"listen\" and \"silent\".\n",
    "```"
   ]
  },
  {
   "cell_type": "code",
   "execution_count": 3,
   "id": "0f0bdae7-0a8f-4dea-8fc0-b44a09f7e23a",
   "metadata": {},
   "outputs": [
    {
     "name": "stdout",
     "output_type": "stream",
     "text": [
      "two strings are anagrams\n"
     ]
    }
   ],
   "source": [
    "first_string = \"listen\"\n",
    "second_string = \"silent\"\n",
    "a = sorted(first_string)\n",
    "b = sorted(second_string)\n",
    "if a == b:\n",
    "    print(\"two strings are anagrams\")\n",
    "else:\n",
    "    print(\"Strings are not anagrams\")"
   ]
  },
  {
   "cell_type": "markdown",
   "id": "5cf1c78f-2615-4a75-aed5-4ece9937c43c",
   "metadata": {},
   "source": [
    "<h2 style=\"color: red;\">Character Frequency:</h2>\n",
    "\n",
    "```markdown\n",
    "Write a program to count the frequency of each character in the string \"mississippi\".\n",
    "```"
   ]
  },
  {
   "cell_type": "code",
   "execution_count": 16,
   "id": "472571f9-b560-4489-8e39-b0e0b2e07222",
   "metadata": {},
   "outputs": [
    {
     "name": "stdout",
     "output_type": "stream",
     "text": [
      "m i s s i s s i p p i \n",
      "\n",
      "{'m': 1, 'i': 4, 's': 4, 'p': 2}\n",
      "m:1\n",
      "i:4\n",
      "s:4\n",
      "p:2\n"
     ]
    }
   ],
   "source": [
    "name = \"mississippi\"\n",
    "for i in name:\n",
    "    print(i, end=\" \")\n",
    "\n",
    "print(\"\\n\")\n",
    "frequency = {} # key will be characters and value will be numbers \n",
    "\n",
    "for i in name:\n",
    "    if i in frequency:\n",
    "        frequency[i] += 1\n",
    "    else:\n",
    "        frequency[i] = 1\n",
    "\n",
    "print(frequency)\n",
    "\n",
    "for char, value in frequency.items():\n",
    "    print(f'{char}:{value}')"
   ]
  },
  {
   "cell_type": "markdown",
   "id": "766b7c6d-8378-4a4b-99d6-cfddc8a616ad",
   "metadata": {},
   "source": [
    "<h2 style=\"color: red;\">Remove Vowels:</h2>\n",
    "\n",
    "```markdown\n",
    "Write a function to remove all vowels (a, e, i, o, u) from a given string.\n",
    "```"
   ]
  },
  {
   "cell_type": "code",
   "execution_count": 33,
   "id": "a208f8e5-2639-4c9a-9f10-f61b073c3558",
   "metadata": {},
   "outputs": [
    {
     "name": "stdout",
     "output_type": "stream",
     "text": [
      "{'A', 'E', 'O', 'i', 'U', 'a', 'o', 'I', 'e', 'u'}\n",
      "A\n",
      "m\n",
      "a\n",
      "n\n"
     ]
    },
    {
     "data": {
      "text/plain": [
       "'mn'"
      ]
     },
     "execution_count": 33,
     "metadata": {},
     "output_type": "execute_result"
    }
   ],
   "source": [
    "vowels = set(\"aeiouAEIOU\") # For quick lookup\n",
    "print(vowels)\n",
    "\n",
    "def rem_vowels(string):\n",
    "    my_list = []\n",
    "\n",
    "    for char in string:\n",
    "        print(char)\n",
    "        if char not in vowels:\n",
    "            my_list.append(char)\n",
    "\n",
    "    return ''.join(my_list)\n",
    "    \n",
    "rem_vowels(\"Aman\")"
   ]
  },
  {
   "cell_type": "markdown",
   "id": "62734d36-0d92-42cc-b8ea-01ac2734fa05",
   "metadata": {},
   "source": [
    "\n",
    "## String to List Conversion:\n",
    "\n",
    "```markdown\n",
    "Convert the string \"hello\" into a list of its characters.\n",
    "```"
   ]
  },
  {
   "cell_type": "code",
   "execution_count": 169,
   "id": "be48c3fe-650d-47a6-9d33-3ae3e2443ce1",
   "metadata": {},
   "outputs": [
    {
     "name": "stdout",
     "output_type": "stream",
     "text": [
      "['h', 'e', 'l', 'l', 'o']\n"
     ]
    }
   ],
   "source": [
    "a = \"hello\"\n",
    "print(list(a))"
   ]
  },
  {
   "cell_type": "markdown",
   "id": "aa0005e6-416a-49fc-8feb-a7835a59177b",
   "metadata": {},
   "source": [
    "\n",
    "## Insert Character:\n",
    "\n",
    "```markdown\n",
    "Write a function to insert a character '-' between every two characters in the string \"hello\", resulting in \"h-e-l-l-o\".\n",
    "```"
   ]
  },
  {
   "cell_type": "code",
   "execution_count": 168,
   "id": "3638bfca-58d7-450a-93be-5256545d3932",
   "metadata": {},
   "outputs": [
    {
     "data": {
      "text/plain": [
       "'h-e-l-l-o'"
      ]
     },
     "execution_count": 168,
     "metadata": {},
     "output_type": "execute_result"
    }
   ],
   "source": [
    "a = \"hello\"\n",
    "\"-\".join(a)"
   ]
  },
  {
   "cell_type": "markdown",
   "id": "08c07aa9-3412-4e38-b777-bd2f264d5070",
   "metadata": {},
   "source": [
    "## Reverse Words in a Sentence:\n",
    "\n",
    "```markdown\n",
    "Write a program to reverse the order of words in the sentence \"Python is awesome\", resulting in \"awesome is Python\".\n",
    "```"
   ]
  },
  {
   "cell_type": "code",
   "execution_count": 44,
   "id": "11f9b94a-b386-4a05-b2de-dcf3f40b5080",
   "metadata": {},
   "outputs": [
    {
     "name": "stdout",
     "output_type": "stream",
     "text": [
      "['Python', 'is', 'awesome']\n",
      "['awesome', 'is', 'Python']\n"
     ]
    },
    {
     "data": {
      "text/plain": [
       "'awesome is Python'"
      ]
     },
     "execution_count": 44,
     "metadata": {},
     "output_type": "execute_result"
    }
   ],
   "source": [
    "my_sentence = \"Python is awesome\"\n",
    "list_sentence = my_sentence.split()\n",
    "print(list_sentence)\n",
    "a = list_sentence[-1::-1]\n",
    "print(a)\n",
    "\" \".join(a)"
   ]
  },
  {
   "cell_type": "code",
   "execution_count": null,
   "id": "fb2bee45-ce1d-43c2-8f3a-ad1c06c07006",
   "metadata": {},
   "outputs": [],
   "source": []
  }
 ],
 "metadata": {
  "kernelspec": {
   "display_name": "Python 3 (ipykernel)",
   "language": "python",
   "name": "python3"
  },
  "language_info": {
   "codemirror_mode": {
    "name": "ipython",
    "version": 3
   },
   "file_extension": ".py",
   "mimetype": "text/x-python",
   "name": "python",
   "nbconvert_exporter": "python",
   "pygments_lexer": "ipython3",
   "version": "3.12.4"
  }
 },
 "nbformat": 4,
 "nbformat_minor": 5
}
