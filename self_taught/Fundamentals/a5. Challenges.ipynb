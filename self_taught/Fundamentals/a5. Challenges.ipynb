{
 "cells": [
  {
   "cell_type": "markdown",
   "id": "d307c2b7-3139-494f-974d-addc4974abcc",
   "metadata": {},
   "source": [
    "## Challenge 1: Basic Syntax and Variables\n",
    "\n",
    "`\n",
    "Task: Write a Python program that asks for the user's first name and last name. Then, print a greeting message that includes the full name. Ensure that your code uses proper indentation and comments.\n",
    "`\n",
    "\n",
    "Hint: Use the input() function to get user input and the print() function to display the output."
   ]
  },
  {
   "cell_type": "code",
   "execution_count": 1,
   "id": "d7c16bf9-d934-4ecd-8c01-dfb14fecb70c",
   "metadata": {},
   "outputs": [
    {
     "name": "stdin",
     "output_type": "stream",
     "text": [
      "Enter your first name:  Aman\n",
      "Enter your last name:  Khadka\n"
     ]
    },
    {
     "name": "stdout",
     "output_type": "stream",
     "text": [
      "Welcome to python world Aman Khadka\n"
     ]
    }
   ],
   "source": [
    "first_name = input(\"Enter your first name: \") # asks for user first name\n",
    "last_name = input(\"Enter your last name: \") # asks for user last name\n",
    "print(f\"Welcome to python world {first_name} {last_name}\") # prints full name "
   ]
  },
  {
   "cell_type": "markdown",
   "id": "571b0a40-940f-417d-b116-65a01d90b7b1",
   "metadata": {},
   "source": [
    "## Challenge 2: Data Types and Type Conversion\n",
    "\n",
    "`\n",
    "Task: Create variables to store your age, height in meters, and whether you are a student. Print these variables using both f-strings and the format() method. Then, convert your height to centimeters and print it.\n",
    "`\n",
    "\n",
    "Hint: Remember to convert the data types when necessary."
   ]
  },
  {
   "cell_type": "code",
   "execution_count": 14,
   "id": "9eb515f6-32a9-476d-9732-9593466ba1c1",
   "metadata": {},
   "outputs": [
    {
     "name": "stdin",
     "output_type": "stream",
     "text": [
      "Enter your age:  21\n",
      "Enter your height in meters:  3\n",
      "Are you a student? (Yes or No) yes\n"
     ]
    },
    {
     "name": "stdout",
     "output_type": "stream",
     "text": [
      "My age is 21 with height of 3m and am i a student yes\n",
      "My age is 21 with height of 3m and am i a student yes\n",
      "Converting height to centimeters\n",
      "My age is 21 with height of 300cm and am i a student yes\n",
      "My age is 21 with height of 300cm and am i a student yes\n"
     ]
    }
   ],
   "source": [
    "age = int(input(\"Enter your age: \"))\n",
    "height = int(input(\"Enter your height in meters: \"))\n",
    "is_student = str(input(\"Are you a student? (Yes or No)\"))\n",
    "\n",
    "print(f\"My age is {age} with height of {height}m and am i a student {is_student}\")\n",
    "print(\"My age is {} with height of {}m and am i a student {}\".format(age,height,is_student))\n",
    "\n",
    "print(\"Converting height to centimeters\")\n",
    "\n",
    "print(f\"My age is {age} with height of {height*100}cm and am i a student {is_student}\")\n",
    "print(\"My age is {} with height of {}cm and am i a student {}\".format(age,height*100,is_student))"
   ]
  },
  {
   "cell_type": "markdown",
   "id": "cd3d0d70-84c1-41e4-b8e1-ae3f21c0340c",
   "metadata": {},
   "source": [
    "## Challenge 3: Arithmetic and Comparison Operators\n",
    "\n",
    "`\n",
    "Task: Write a Python program that calculates the following:\n",
    "The sum of two numbers provided by the user.\n",
    "Whether the first number is greater than the second.\n",
    "The result of dividing the first number by the second using both regular division (/) and floor division (//).\n",
    "`\n",
    "\n",
    "Hint: Use input() to get the numbers, then convert them to integers or floats as needed."
   ]
  },
  {
   "cell_type": "code",
   "execution_count": 22,
   "id": "836a8912-5504-425a-aa25-3e013de011d2",
   "metadata": {},
   "outputs": [
    {
     "name": "stdin",
     "output_type": "stream",
     "text": [
      "Enter first number:  13\n",
      "Enter second number:  2\n"
     ]
    },
    {
     "name": "stdout",
     "output_type": "stream",
     "text": [
      "The sum of number is 15\n",
      "Comparision is True\n",
      "Division is 6.5\n",
      "Floor division is 6\n"
     ]
    }
   ],
   "source": [
    "num1 = int(input(\"Enter first number: \"))\n",
    "num2 = int(input(\"Enter second number: \"))\n",
    "\n",
    "sum = num1 + num2\n",
    "print(f\"The sum of number is {sum}\")\n",
    "\n",
    "comp = num1 > num2 \n",
    "print(f\"Comparision is {comp}\")\n",
    "\n",
    "div = num1 / num2\n",
    "print(f\"Division is {div}\")\n",
    "\n",
    "floor = num1 // num2\n",
    "print(f\"Floor division is {floor}\")"
   ]
  },
  {
   "cell_type": "markdown",
   "id": "20422737-f889-41c3-bfb0-f76018ce5120",
   "metadata": {},
   "source": [
    "## Challenge 4: Logical and Assignment Operators\n",
    "\n",
    "`\n",
    "Task: Create a program that:\n",
    "Asks the user for their current age.\n",
    "Checks if the user is a teenager (between 13 and 19 years old).\n",
    "Adds 5 years to their age using an assignment operator, then prints the new age.\n",
    "`\n",
    "\n",
    "Hint: Use logical operators (and, or, not) and assignment operators (+=, -=, etc.)."
   ]
  },
  {
   "cell_type": "code",
   "execution_count": 31,
   "id": "b6991dc8-7194-4b65-b258-fa3c61424301",
   "metadata": {},
   "outputs": [
    {
     "name": "stdin",
     "output_type": "stream",
     "text": [
      "Enter your age:  1\n"
     ]
    },
    {
     "name": "stdout",
     "output_type": "stream",
     "text": [
      "False\n",
      "6\n"
     ]
    }
   ],
   "source": [
    "age = int(input(\"Enter your age: \"))\n",
    "check_age = age > 13 and age < 19\n",
    "age += 5\n",
    "print(check_age)\n",
    "print(age)"
   ]
  },
  {
   "cell_type": "markdown",
   "id": "1097a09b-e07b-4853-b979-0d6535c3d213",
   "metadata": {},
   "source": [
    "## Challenge 5: Input and Output\n",
    "\n",
    "`\n",
    "Task: Combine everything you've learned by creating a program that:\n",
    "Asks the user for their name, age, and favorite number.\n",
    "Prints a summary using f-strings, showing their name, age, and what their age will be when they are double their favorite number.\n",
    "`\n",
    "\n",
    "Hint: You’ll need to convert the favorite number to an integer and use arithmetic and type conversion."
   ]
  },
  {
   "cell_type": "code",
   "execution_count": 33,
   "id": "6762aece-76ca-46ea-888a-303e4a4ed0d2",
   "metadata": {},
   "outputs": [
    {
     "name": "stdin",
     "output_type": "stream",
     "text": [
      "Enter name:  aman\n",
      "Enter age:  2\n",
      "Enter favourite number:  2\n"
     ]
    },
    {
     "name": "stdout",
     "output_type": "stream",
     "text": [
      "aman is 2 years old and when the age is doubled by favourite number the new age will be 6\n"
     ]
    }
   ],
   "source": [
    "name = str(input(\"Enter name: \"))\n",
    "age =  int(input(\"Enter age: \"))\n",
    "fav_num =  int(input(\"Enter favourite number: \"))\n",
    "print(f\"{name} is {age} years old and when the age is doubled by favourite number the new age will be {age + (fav_num*2)}\")"
   ]
  }
 ],
 "metadata": {
  "kernelspec": {
   "display_name": "Python 3 (ipykernel)",
   "language": "python",
   "name": "python3"
  },
  "language_info": {
   "codemirror_mode": {
    "name": "ipython",
    "version": 3
   },
   "file_extension": ".py",
   "mimetype": "text/x-python",
   "name": "python",
   "nbconvert_exporter": "python",
   "pygments_lexer": "ipython3",
   "version": "3.12.4"
  }
 },
 "nbformat": 4,
 "nbformat_minor": 5
}
