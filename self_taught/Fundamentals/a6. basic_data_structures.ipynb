{
 "cells": [
  {
   "cell_type": "markdown",
   "id": "8a6d9e99-95fb-41cc-9b5c-f129c449a478",
   "metadata": {},
   "source": [
    "# 1. Lists\n",
    "- A list is an ordered, mutable collection of items.\n",
    "- Lists can store elements of different data types and are defined using square brackets []."
   ]
  },
  {
   "cell_type": "code",
   "execution_count": 12,
   "id": "56861bf5-5110-4bc8-9459-3880b8461d9f",
   "metadata": {},
   "outputs": [
    {
     "name": "stdout",
     "output_type": "stream",
     "text": [
      "apple\n",
      "['apple', 'guava', 'orange']\n",
      "['apple', 'banana', 'orange', 'strawberry']\n",
      "['apple', 'banana']\n",
      "['orange']\n"
     ]
    }
   ],
   "source": [
    "# Defining a list\n",
    "my_fruits = [\"apple\", \"banana\", \"orange\"]\n",
    "\n",
    "# Accessing elements\n",
    "my_fruits = my_fruits[0]\n",
    "print(my_fruits)\n",
    "\n",
    "# Defining a list\n",
    "my_fruits = [\"apple\", \"banana\", \"orange\"]\n",
    "\n",
    "# Modifying elements\n",
    "my_fruits[1] = \"guava\"\n",
    "print(my_fruits)\n",
    "\n",
    "# Defining a list\n",
    "my_fruits = [\"apple\", \"banana\", \"orange\"]\n",
    "\n",
    "# Adding elements\n",
    "my_fruits.append(\"strawberry\")\n",
    "print(my_fruits)\n",
    "\n",
    "# Defining a list\n",
    "my_fruits = [\"apple\", \"banana\", \"orange\"]\n",
    "\n",
    "# Removing elements\n",
    "my_fruits.remove(\"orange\")\n",
    "print(my_fruits)\n",
    "\n",
    "# Defining a list\n",
    "my_fruits = [\"apple\", \"banana\", \"orange\"]\n",
    "\n",
    "# Slicing\n",
    "my_fruits = my_fruits[2:3]\n",
    "print(my_fruits)\n"
   ]
  },
  {
   "cell_type": "markdown",
   "id": "7129defe-45c8-4aed-8b0b-8459e5dbb4a5",
   "metadata": {},
   "source": [
    "# 2. Tuples\n",
    "\n",
    "- A tuple is similar to a list, but it is immutable, meaning once it's created, it cannot be modified.\n",
    "- Tuples are defined using parentheses ()."
   ]
  },
  {
   "cell_type": "code",
   "execution_count": 18,
   "id": "8913cf58-595b-4357-b8a1-1ad8c1a540cf",
   "metadata": {},
   "outputs": [
    {
     "name": "stdout",
     "output_type": "stream",
     "text": [
      "20\n",
      "10 20\n",
      "10 20 30\n"
     ]
    }
   ],
   "source": [
    "# Defining a tuple\n",
    "coordinates = (10, 20, 30)\n",
    "\n",
    "# Accessing elements\n",
    "print(coordinates[1])\n",
    "\n",
    "# Tuples are immutable\n",
    "# coordinates[2] = 30 # This will raise an error \n",
    "\n",
    "# Tuples can be used for unpacking\n",
    "x,y,z = coordinates\n",
    "print(x,y)\n",
    "print(x,y,z)"
   ]
  },
  {
   "cell_type": "markdown",
   "id": "89f167b3-eb7f-4d0a-a6e5-60530af219c2",
   "metadata": {},
   "source": [
    "# 3. Dictionaries\n",
    "\n",
    "- A dictionary is an unordered, mutable collection of key-value pairs.\n",
    "- Dictionaries are defined using curly braces {}."
   ]
  },
  {
   "cell_type": "code",
   "execution_count": 22,
   "id": "80ba4b34-aa84-4e4e-9d39-2fbdec464542",
   "metadata": {},
   "outputs": [
    {
     "name": "stdout",
     "output_type": "stream",
     "text": [
      "aman\n",
      "{'name': 'aman', 'age': 21, 'city': 'australia'}\n",
      "{'name': 'aman', 'age': 21, 'city': 'australia', 'male': 'yes'}\n",
      "{'name': 'aman', 'age': 21, 'city': 'australia'}\n"
     ]
    }
   ],
   "source": [
    "# Defining a dictionary\n",
    "person = {\"name\":\"aman\",\"age\":21,\"city\":\"kathmandu\"}\n",
    "\n",
    "# Accessing elements by key\n",
    "print(person[\"name\"])\n",
    "\n",
    "# Modifying elements\n",
    "person[\"city\"] = \"australia\"\n",
    "print(person)\n",
    "\n",
    "# Adding new key-value pairs\n",
    "person[\"male\"] = \"yes\"\n",
    "print(person)\n",
    "\n",
    "# Removing elements by key\n",
    "del person[\"male\"]\n",
    "print(person)"
   ]
  }
 ],
 "metadata": {
  "kernelspec": {
   "display_name": "Python 3 (ipykernel)",
   "language": "python",
   "name": "python3"
  },
  "language_info": {
   "codemirror_mode": {
    "name": "ipython",
    "version": 3
   },
   "file_extension": ".py",
   "mimetype": "text/x-python",
   "name": "python",
   "nbconvert_exporter": "python",
   "pygments_lexer": "ipython3",
   "version": "3.12.4"
  }
 },
 "nbformat": 4,
 "nbformat_minor": 5
}
