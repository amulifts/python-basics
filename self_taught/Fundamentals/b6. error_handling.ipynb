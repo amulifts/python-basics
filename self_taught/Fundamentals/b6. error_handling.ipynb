{
 "cells": [
  {
   "cell_type": "markdown",
   "id": "40040814-df0a-4a54-8aa8-57a3ccb6512e",
   "metadata": {},
   "source": [
    "# 1. Understanding Exceptions\n",
    "- In Python, an exception is an error that occurs during the execution of a program.\n",
    "- When an error occurs, `Python stops the program and generates an error message`.\n",
    "- However, you can handle these exceptions gracefully using error handling mechanisms."
   ]
  },
  {
   "cell_type": "markdown",
   "id": "c739a452-cc60-4b27-9185-a9440195bd69",
   "metadata": {},
   "source": [
    "# 2. Basic Exception Handling with try and except\n",
    "\n",
    "**try Block:** This block lets you test a block of code for errors.\n",
    "\n",
    "**except Block:** This block lets you handle the error. You can specify the type of exception you want to catch or catch all exceptions.\n"
   ]
  },
  {
   "cell_type": "code",
   "execution_count": 3,
   "id": "251706c0-0dc0-4cd9-b745-8f9d5b82bc9a",
   "metadata": {},
   "outputs": [
    {
     "name": "stdin",
     "output_type": "stream",
     "text": [
      "Enter a number:  10\n"
     ]
    },
    {
     "name": "stdout",
     "output_type": "stream",
     "text": [
      "Result: 1.0\n"
     ]
    }
   ],
   "source": [
    "try:\n",
    "    num = int(input(\"Enter a number: \"))\n",
    "    result = 10 / num\n",
    "    print(f\"Result: {result}\")\n",
    "except ZeroDivisionError:\n",
    "    print(\"Error: Cannot divide by zero!\")\n",
    "except ValueError:\n",
    "    print(\"Error: Invalid input, please enter a number.\")"
   ]
  },
  {
   "cell_type": "markdown",
   "id": "c491f2f4-e2fa-4014-a415-1790ec726925",
   "metadata": {},
   "source": [
    "**Using else:** The else block lets you run code if no exceptions were raised in the try block."
   ]
  },
  {
   "cell_type": "code",
   "execution_count": 5,
   "id": "c718ee10-43cd-4fa2-8292-1d243cbbf099",
   "metadata": {},
   "outputs": [
    {
     "name": "stdin",
     "output_type": "stream",
     "text": [
      "Enter any number:  10\n"
     ]
    },
    {
     "name": "stdout",
     "output_type": "stream",
     "text": [
      "Result: 1.0\n"
     ]
    }
   ],
   "source": [
    "try:\n",
    "    num = int(input(\"Enter any number: \"))\n",
    "    result = 10 / num\n",
    "except ZeroDivisionError:\n",
    "    print(\"Error: Cannot divide by zero!\")\n",
    "except ValueError:\n",
    "    print(\"Error: Invalid input, please enter a number.\")\n",
    "else:\n",
    "    print(f\"Result: {result}\")"
   ]
  },
  {
   "cell_type": "markdown",
   "id": "547c6f10-8418-4775-9c01-8677d84eaa09",
   "metadata": {},
   "source": [
    "**Using finally:** The finally block lets you execute code regardless of whether an exception was raised or not. It is often used for cleanup actions, like closing files or releasing resources."
   ]
  },
  {
   "cell_type": "code",
   "execution_count": 6,
   "id": "ea9b11ab-924f-4ff7-bb7f-1c6af30edca5",
   "metadata": {},
   "outputs": [
    {
     "name": "stdin",
     "output_type": "stream",
     "text": [
      "Enter any number:  0\n"
     ]
    },
    {
     "name": "stdout",
     "output_type": "stream",
     "text": [
      "Error: Cannot divide by zero!\n",
      "Execution completed, whether an error occurred or not.\n"
     ]
    }
   ],
   "source": [
    "try:\n",
    "    num = int(input(\"Enter any number: \"))\n",
    "    result = 10 / num\n",
    "except ZeroDivisionError:\n",
    "    print(\"Error: Cannot divide by zero!\")\n",
    "except ValueError:\n",
    "    print(\"Error: Invalid input, please enter a number.\")\n",
    "else:\n",
    "    print(f\"Result: {result}\")\n",
    "finally:\n",
    "    print(\"Execution completed, whether an error occurred or not.\")"
   ]
  },
  {
   "cell_type": "markdown",
   "id": "ea115841-8569-4d78-9a57-0b954415c555",
   "metadata": {},
   "source": [
    "# 5. Catching Multiple Exceptions\n",
    "\n",
    "- You can catch multiple exceptions in a single except block by specifying a tuple of exceptions."
   ]
  },
  {
   "cell_type": "code",
   "execution_count": 8,
   "id": "a256779e-5c75-4c44-b55b-bfb49bb7b401",
   "metadata": {},
   "outputs": [
    {
     "name": "stdin",
     "output_type": "stream",
     "text": [
      "Enter any number:  sda\n"
     ]
    },
    {
     "name": "stdout",
     "output_type": "stream",
     "text": [
      "Eror: invalid literal for int() with base 10: 'sda'\n"
     ]
    }
   ],
   "source": [
    "try:\n",
    "    num = int(input(\"Enter any number: \"))\n",
    "    result = 10/num\n",
    "except (ValueError, ZeroDivisionError) as e:\n",
    "    print(f\"Eror: {e}\")\n",
    "else:\n",
    "    print(f\"Result: {result}\")"
   ]
  },
  {
   "cell_type": "markdown",
   "id": "555dd93f-cec7-4215-a4f3-9297c8314cbd",
   "metadata": {},
   "source": [
    "# Practice Exercise:"
   ]
  },
  {
   "cell_type": "markdown",
   "id": "388d468e-1a69-47a9-8d2e-86f16a48008c",
   "metadata": {},
   "source": [
    "```\n",
    "Write a program that asks the user to input a file name and tries to open it. If the file does not exist, catch the exception and print an error message.\n",
    "```"
   ]
  },
  {
   "cell_type": "code",
   "execution_count": 12,
   "id": "dd88cc41-5a16-447e-bf60-2a6c7532ac74",
   "metadata": {},
   "outputs": [
    {
     "name": "stdin",
     "output_type": "stream",
     "text": [
      "Enter file name:  ds\n"
     ]
    },
    {
     "name": "stdout",
     "output_type": "stream",
     "text": [
      "Error: [Errno 2] No such file or directory: 'ds.txt'\n"
     ]
    }
   ],
   "source": [
    "try:\n",
    "    file_name = input(\"Enter file name: \")\n",
    "    file = open(f\"{file_name}.txt\", 'r')\n",
    "except FileNotFoundError as e:\n",
    "    print(f\"Error: {e}\")\n",
    "else:\n",
    "    print(f\"File named: {file} Opened\")"
   ]
  },
  {
   "cell_type": "markdown",
   "id": "0b449ce6-39ce-4cfa-b1a5-a5785f8d051d",
   "metadata": {},
   "source": [
    "```\n",
    "Modify the program to read from the file if it opens successfully and print its contents. Use the else block for this.\n",
    "```\n"
   ]
  },
  {
   "cell_type": "code",
   "execution_count": 14,
   "id": "14d308e1-d739-4081-acd6-961baa25ef00",
   "metadata": {},
   "outputs": [
    {
     "name": "stdout",
     "output_type": "stream",
     "text": [
      "Error:[Errno 2] No such file or directory: 'file.txt'\n"
     ]
    }
   ],
   "source": [
    "try:\n",
    "    with open(\"file.txt\",\"r\"):\n",
    "        pass\n",
    "except (FileNotFoundError,IOError) as e:\n",
    "    print(f\"Error:{e}\")\n",
    "else:\n",
    "    content = f.read()\n",
    "    print(\"Reading Content\")\n",
    "    print(content)"
   ]
  },
  {
   "cell_type": "markdown",
   "id": "bef66fe2-058e-40e7-ab0e-4d445ee2a5fc",
   "metadata": {},
   "source": [
    "```\n",
    "Add a finally block that prints a message saying the program has finished executing, regardless of whether an error occurred.\n",
    "```"
   ]
  },
  {
   "cell_type": "code",
   "execution_count": 15,
   "id": "9eaf5588-7ef4-4ec4-8ca0-5a14120c3b5c",
   "metadata": {},
   "outputs": [
    {
     "name": "stdout",
     "output_type": "stream",
     "text": [
      "Error:[Errno 2] No such file or directory: 'file.txt'\n",
      "Program has finished executing\n"
     ]
    }
   ],
   "source": [
    "try:\n",
    "    with open(\"file.txt\",\"r\"):\n",
    "        pass\n",
    "except (FileNotFoundError,IOError) as e:\n",
    "    print(f\"Error:{e}\")\n",
    "else:\n",
    "    content = f.read()\n",
    "    print(\"Reading Content\")\n",
    "    print(content)\n",
    "finally:\n",
    "    print(\"Program has finished executing\")"
   ]
  }
 ],
 "metadata": {
  "kernelspec": {
   "display_name": "Python 3 (ipykernel)",
   "language": "python",
   "name": "python3"
  },
  "language_info": {
   "codemirror_mode": {
    "name": "ipython",
    "version": 3
   },
   "file_extension": ".py",
   "mimetype": "text/x-python",
   "name": "python",
   "nbconvert_exporter": "python",
   "pygments_lexer": "ipython3",
   "version": "3.12.4"
  }
 },
 "nbformat": 4,
 "nbformat_minor": 5
}
