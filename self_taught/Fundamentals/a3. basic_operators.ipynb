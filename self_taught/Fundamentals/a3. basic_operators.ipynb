{
 "cells": [
  {
   "cell_type": "markdown",
   "id": "488f8ee3-af38-44c9-b119-01dd0fd3c825",
   "metadata": {},
   "source": [
    "# 1. Arithmetic operators \n",
    "\n",
    "These operators are used to perform basic mathematical operations.\n",
    "\n",
    "|Operator|\tDescription|\tExample|\n",
    "|-----|:------------|------------|\n",
    "|+|\tAddition|\tx + y|\n",
    "|-|\tSubtraction|\tx - y|\n",
    "|*|\tMultiplication|\tx * y|\n",
    "|/|\tDivision|\tx / y|\n",
    "|%|\tModulus (remainder)|\tx % y|\n",
    "|**|\tExponentiation (power)|\tx ** y|\n",
    "|//|\tFloor division (no remainder)|\tx // y|\n"
   ]
  },
  {
   "cell_type": "code",
   "execution_count": 1,
   "id": "5bd50650-fcb3-473a-add9-26a5eed1c79b",
   "metadata": {},
   "outputs": [],
   "source": [
    "num1 = 9\n",
    "num2 = 3"
   ]
  },
  {
   "cell_type": "code",
   "execution_count": 9,
   "id": "02e29da1-29be-45a2-ab12-bcab9b7bb327",
   "metadata": {},
   "outputs": [
    {
     "name": "stdout",
     "output_type": "stream",
     "text": [
      "9 + 3 = 12\n"
     ]
    }
   ],
   "source": [
    "add = num1 + num2\n",
    "print(num1,\"+\",num2,\"=\",add)"
   ]
  },
  {
   "cell_type": "code",
   "execution_count": 10,
   "id": "6056dccc-c03b-4a5b-97a1-d0d23ef26f48",
   "metadata": {},
   "outputs": [
    {
     "name": "stdout",
     "output_type": "stream",
     "text": [
      "9 - 3 = 6\n"
     ]
    }
   ],
   "source": [
    "sub = num1 - num2\n",
    "print(num1,\"-\",num2,\"=\",sub)"
   ]
  },
  {
   "cell_type": "code",
   "execution_count": 11,
   "id": "68681dce-6832-415c-ab31-6341e68d0304",
   "metadata": {},
   "outputs": [
    {
     "name": "stdout",
     "output_type": "stream",
     "text": [
      "9 * 3 = 27\n"
     ]
    }
   ],
   "source": [
    "mul = num1 * num2\n",
    "print(num1,\"*\",num2,\"=\",mul)"
   ]
  },
  {
   "cell_type": "code",
   "execution_count": 12,
   "id": "9da3cddc-b551-4e95-a097-4f931752f317",
   "metadata": {},
   "outputs": [
    {
     "name": "stdout",
     "output_type": "stream",
     "text": [
      "9 / 3 = 3.0\n"
     ]
    }
   ],
   "source": [
    "div = num1 / num2\n",
    "print(num1,\"/\",num2,\"=\",div)"
   ]
  },
  {
   "cell_type": "code",
   "execution_count": 13,
   "id": "221a5c44-8031-49d9-a69a-ff5f88f8a773",
   "metadata": {},
   "outputs": [
    {
     "name": "stdout",
     "output_type": "stream",
     "text": [
      "9 % 3 = 0\n"
     ]
    }
   ],
   "source": [
    "mod = num1 % num2\n",
    "print(num1,\"%\",num2,\"=\",mod)"
   ]
  },
  {
   "cell_type": "code",
   "execution_count": 14,
   "id": "0a275376-6e5e-4cc0-ae0d-8929ff5bad22",
   "metadata": {},
   "outputs": [
    {
     "name": "stdout",
     "output_type": "stream",
     "text": [
      "9 ^ 3 = 729\n"
     ]
    }
   ],
   "source": [
    "exp = num1 ** num2\n",
    "print(num1,\"^\",num2,\"=\",exp)"
   ]
  },
  {
   "cell_type": "code",
   "execution_count": 21,
   "id": "7caff85f-4199-42e1-be52-530218b5aa82",
   "metadata": {},
   "outputs": [
    {
     "name": "stdout",
     "output_type": "stream",
     "text": [
      "13 // 3 = 4\n"
     ]
    }
   ],
   "source": [
    "num3 = 13\n",
    "num4 = 3\n",
    "floor = num3 // num4\n",
    "print(num3,\"//\",num4,\"=\",floor)"
   ]
  },
  {
   "cell_type": "markdown",
   "id": "4f034129-f1be-43e2-b0fa-84d18473c72e",
   "metadata": {},
   "source": [
    "# 2. Comparison Operators\n",
    "Comparison operators are used to compare two values. They return True or False.\n",
    "\n",
    "|Operator|\tDescription|\tExample|\n",
    "|---|:----|----|\n",
    "|==|\tEqual to|\tx == y|\n",
    "|!=|\tNot equal to|\tx != y|\n",
    "|>|\tGreater than|\tx > y|\n",
    "|<|\tLess than|\tx < y|\n",
    "|>=|\tGreater than or equal to|\tx >= y|\n",
    "|<=|\tLess than or equal to|\tx <= y|"
   ]
  },
  {
   "cell_type": "code",
   "execution_count": 22,
   "id": "33fe12ac-7e9f-4a63-b978-073ea20391de",
   "metadata": {},
   "outputs": [],
   "source": [
    "num1 = 9\n",
    "num2 = 3"
   ]
  },
  {
   "cell_type": "code",
   "execution_count": 23,
   "id": "14375fa1-e158-4f29-b427-c9755461a9c3",
   "metadata": {},
   "outputs": [
    {
     "data": {
      "text/plain": [
       "False"
      ]
     },
     "execution_count": 23,
     "metadata": {},
     "output_type": "execute_result"
    }
   ],
   "source": [
    "num1 == num2"
   ]
  },
  {
   "cell_type": "code",
   "execution_count": 24,
   "id": "32dacd36-1b51-46ce-9224-cc3fdf414e37",
   "metadata": {},
   "outputs": [
    {
     "data": {
      "text/plain": [
       "True"
      ]
     },
     "execution_count": 24,
     "metadata": {},
     "output_type": "execute_result"
    }
   ],
   "source": [
    "num1 != num2"
   ]
  },
  {
   "cell_type": "code",
   "execution_count": 25,
   "id": "e0d7caac-63aa-4bf3-9bcf-2e04afdc3eca",
   "metadata": {},
   "outputs": [
    {
     "data": {
      "text/plain": [
       "True"
      ]
     },
     "execution_count": 25,
     "metadata": {},
     "output_type": "execute_result"
    }
   ],
   "source": [
    "num1 > num2"
   ]
  },
  {
   "cell_type": "code",
   "execution_count": 26,
   "id": "4e35e3a0-25c4-40a2-b07f-937958597742",
   "metadata": {},
   "outputs": [
    {
     "data": {
      "text/plain": [
       "False"
      ]
     },
     "execution_count": 26,
     "metadata": {},
     "output_type": "execute_result"
    }
   ],
   "source": [
    "num1 < num2"
   ]
  },
  {
   "cell_type": "code",
   "execution_count": 27,
   "id": "cc481279-4a4f-4592-9ef3-1f2acca41677",
   "metadata": {},
   "outputs": [
    {
     "data": {
      "text/plain": [
       "True"
      ]
     },
     "execution_count": 27,
     "metadata": {},
     "output_type": "execute_result"
    }
   ],
   "source": [
    "num1 >= num2"
   ]
  },
  {
   "cell_type": "code",
   "execution_count": 28,
   "id": "c467631b-f708-48d2-b046-771a67ba7ea4",
   "metadata": {},
   "outputs": [
    {
     "data": {
      "text/plain": [
       "False"
      ]
     },
     "execution_count": 28,
     "metadata": {},
     "output_type": "execute_result"
    }
   ],
   "source": [
    "num1 <= num2"
   ]
  },
  {
   "cell_type": "markdown",
   "id": "24569f3a-6b03-4c28-a996-8a595836a993",
   "metadata": {},
   "source": [
    "# 3. Logical Operators\n",
    "Logical operators are used to combine conditional statements.\n",
    "\n",
    "|Operator|\tDescription|\tExample|\n",
    "|--|:--|--|\n",
    "|and|\tReturns True if both statements are true|\tx < 5 and y > 2|\n",
    "|or|\tReturns True if one of the statements is true|\tx < 5 or y > 2|\n",
    "|not|\tReverses the result, returns False if the result is true|\tnot(x < 5)|\n"
   ]
  },
  {
   "cell_type": "code",
   "execution_count": 29,
   "id": "c9889ecf-d91c-4bd3-a92b-5887c89da21f",
   "metadata": {},
   "outputs": [],
   "source": [
    "num1 = 10\n",
    "num2 = 5"
   ]
  },
  {
   "cell_type": "code",
   "execution_count": 30,
   "id": "10aa1516-3907-45d1-9f2d-166c01bb356a",
   "metadata": {},
   "outputs": [
    {
     "data": {
      "text/plain": [
       "True"
      ]
     },
     "execution_count": 30,
     "metadata": {},
     "output_type": "execute_result"
    }
   ],
   "source": [
    "num1 > num2 and num2 < num1 "
   ]
  },
  {
   "cell_type": "code",
   "execution_count": 31,
   "id": "bb519576-7a71-4356-8528-d29fbb02f184",
   "metadata": {},
   "outputs": [
    {
     "data": {
      "text/plain": [
       "True"
      ]
     },
     "execution_count": 31,
     "metadata": {},
     "output_type": "execute_result"
    }
   ],
   "source": [
    "num1 > num2 or num2 < num1 "
   ]
  },
  {
   "cell_type": "code",
   "execution_count": 32,
   "id": "40e1fa35-92b1-4e40-a137-4137827be1d5",
   "metadata": {},
   "outputs": [
    {
     "data": {
      "text/plain": [
       "False"
      ]
     },
     "execution_count": 32,
     "metadata": {},
     "output_type": "execute_result"
    }
   ],
   "source": [
    "not(num1 > num2)"
   ]
  },
  {
   "cell_type": "markdown",
   "id": "21164538-b79e-403a-a305-86f98ef64df1",
   "metadata": {},
   "source": [
    "# 4. Assignment Operators\n",
    "Assignment operators are used to assign values to variables.\n",
    "\n",
    "|Operator|\tDescription|\tExample|\n",
    "|--|:--|--|\n",
    "|=|\tAssigns value on the right to variable on the left|\tx = 5|\n",
    "|+=|\tAdds value to the variable and assigns the result|\tx += 3| (same as x = x + 3)|\n",
    "|-=|\tSubtracts value from the variable and assigns the result|\tx -= 3| (same as x = x - 3)|\n",
    "|*=|\tMultiplies the variable by the value and assigns the result|\tx *= 3| (same as x = x * 3)|\n",
    "|/=|\tDivides the variable by the value and assigns the result|\tx /= 3| (same as x = x / 3)|\n",
    "|%=|\tTakes the modulus of the variable and assigns the result|\tx %= 3| (same as x = x % 3)|\n"
   ]
  },
  {
   "cell_type": "code",
   "execution_count": 58,
   "id": "b8ea8c89-cf71-497d-9006-31689f58ea08",
   "metadata": {},
   "outputs": [],
   "source": [
    "num1 = 10"
   ]
  },
  {
   "cell_type": "code",
   "execution_count": 59,
   "id": "55486f38-918d-4d0c-ae21-9bccaa6534ee",
   "metadata": {},
   "outputs": [
    {
     "name": "stdout",
     "output_type": "stream",
     "text": [
      "20\n"
     ]
    }
   ],
   "source": [
    "num1 += 10 # num1 = num1 + 10\n",
    "print(num1)"
   ]
  },
  {
   "cell_type": "code",
   "execution_count": 60,
   "id": "10d0d907-f069-436d-93d7-b1bb44e9e75d",
   "metadata": {},
   "outputs": [
    {
     "name": "stdout",
     "output_type": "stream",
     "text": [
      "15\n"
     ]
    }
   ],
   "source": [
    "num1 -= 5 # num1 = num1 - 10\n",
    "print(num1)"
   ]
  },
  {
   "cell_type": "code",
   "execution_count": 61,
   "id": "3cb740dc-f711-4914-ac19-25b36838d876",
   "metadata": {},
   "outputs": [
    {
     "name": "stdout",
     "output_type": "stream",
     "text": [
      "45\n"
     ]
    }
   ],
   "source": [
    "num1 *= 3 # num1 = num1 * 3\n",
    "print(num1)"
   ]
  },
  {
   "cell_type": "code",
   "execution_count": 62,
   "id": "6ad2106f-1211-462c-9d5d-bcd378905d24",
   "metadata": {},
   "outputs": [
    {
     "name": "stdout",
     "output_type": "stream",
     "text": [
      "9.0\n"
     ]
    }
   ],
   "source": [
    "num1 /= 5 # num1 = num1 / 5\n",
    "print(num1)"
   ]
  },
  {
   "cell_type": "code",
   "execution_count": 63,
   "id": "10c22d6b-a7f0-4c01-94e1-8d0e447dd459",
   "metadata": {},
   "outputs": [
    {
     "name": "stdout",
     "output_type": "stream",
     "text": [
      "0.0\n"
     ]
    }
   ],
   "source": [
    "num1 %= 3 # num1 = num1 % 3\n",
    "print(num1)"
   ]
  },
  {
   "cell_type": "code",
   "execution_count": null,
   "id": "b9562f34-c87a-4a68-ae9e-397609ef17e4",
   "metadata": {},
   "outputs": [],
   "source": []
  }
 ],
 "metadata": {
  "kernelspec": {
   "display_name": "Python 3 (ipykernel)",
   "language": "python",
   "name": "python3"
  },
  "language_info": {
   "codemirror_mode": {
    "name": "ipython",
    "version": 3
   },
   "file_extension": ".py",
   "mimetype": "text/x-python",
   "name": "python",
   "nbconvert_exporter": "python",
   "pygments_lexer": "ipython3",
   "version": "3.12.4"
  }
 },
 "nbformat": 4,
 "nbformat_minor": 5
}
