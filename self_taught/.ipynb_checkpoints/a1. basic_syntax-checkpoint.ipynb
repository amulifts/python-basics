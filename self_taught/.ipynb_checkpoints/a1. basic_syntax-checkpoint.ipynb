{
 "cells": [
  {
   "cell_type": "markdown",
   "id": "5551b9cd-38d1-40cf-8c3d-6d0868643d24",
   "metadata": {},
   "source": [
    "# 1. Python Syntax: Indentation, Comments, and Code Blocks\n"
   ]
  },
  {
   "cell_type": "markdown",
   "id": "5bf2ad29-bbd1-4825-8472-cb60a351ca1f",
   "metadata": {},
   "source": [
    "\n",
    "## Indentation\n",
    "\n",
    "- Python uses indentation (spaces or tabs) to define code blocks instead of curly braces {} used in other languages.\n",
    "- Consistent indentation is crucial; Python will give an error if indentation is not consistent."
   ]
  },
  {
   "cell_type": "code",
   "execution_count": 8,
   "id": "befbc38e-4c2c-4b67-b155-99567e9702e9",
   "metadata": {},
   "outputs": [
    {
     "name": "stdout",
     "output_type": "stream",
     "text": [
      "five is greater than two\n"
     ]
    }
   ],
   "source": [
    "if 5 > 2:\n",
    "    print(\"five is greater than two\")"
   ]
  },
  {
   "cell_type": "markdown",
   "id": "fd45babd-40cd-49f3-af28-942b1afdfc76",
   "metadata": {},
   "source": [
    "## Comments:\n",
    "- Comments are lines in the code that are not executed. They are used to explain the code.\n",
    "- Single-line comments start with the # symbol.\n",
    "- Multi-line comments can be written using triple quotes \"\"\" ... \"\"\"."
   ]
  },
  {
   "cell_type": "code",
   "execution_count": 17,
   "id": "ae3a2001-6fef-4aab-90c3-20cc7b54a06e",
   "metadata": {},
   "outputs": [
    {
     "data": {
      "text/plain": [
       "'\\nThis is a multiline comment with single quotation;\\nThis is line one\\nThis is line two\\n'"
      ]
     },
     "execution_count": 17,
     "metadata": {},
     "output_type": "execute_result"
    }
   ],
   "source": [
    "# This is a single line comment\n",
    "\n",
    "\"\"\"\n",
    "This is a multiline comment with double quotation;\n",
    "This is line one\n",
    "This is line two\n",
    "\"\"\"\n",
    "\n",
    "'''\n",
    "This is a multiline comment with single quotation;\n",
    "This is line one\n",
    "This is line two\n",
    "'''\n"
   ]
  },
  {
   "cell_type": "markdown",
   "id": "825600c5-965c-4c48-ab17-6b5a5fe02990",
   "metadata": {},
   "source": [
    "## Code Blocks:\n",
    "\n",
    "- Code blocks are defined by their indentation level. Each level of indentation means a new block of code."
   ]
  },
  {
   "cell_type": "code",
   "execution_count": 19,
   "id": "b0166d87-c6a4-4b50-a1e1-5e9681b689bd",
   "metadata": {},
   "outputs": [
    {
     "name": "stdout",
     "output_type": "stream",
     "text": [
      "five is greater than two\n"
     ]
    }
   ],
   "source": [
    "if 5 > 2:\n",
    "    print(\"five is greater than two\")\n",
    "    if 2 < 1:\n",
    "        print(\"Nested block example.\") # This line is in a nested code block"
   ]
  },
  {
   "cell_type": "markdown",
   "id": "70081983-13bf-4a3d-bdf4-d1e8a773d736",
   "metadata": {},
   "source": [
    "# 2. Printing Output with print() Function"
   ]
  },
  {
   "cell_type": "code",
   "execution_count": 20,
   "id": "a5980dda-83eb-4d49-b0aa-98ad086054f8",
   "metadata": {},
   "outputs": [
    {
     "name": "stdout",
     "output_type": "stream",
     "text": [
      "I am starting a new journey\n"
     ]
    }
   ],
   "source": [
    "print(\"I am starting a new journey\")"
   ]
  },
  {
   "cell_type": "code",
   "execution_count": null,
   "id": "64fd540e-a3f7-4c8a-bd01-75fff26f41f4",
   "metadata": {},
   "outputs": [],
   "source": []
  }
 ],
 "metadata": {
  "kernelspec": {
   "display_name": "Python 3 (ipykernel)",
   "language": "python",
   "name": "python3"
  },
  "language_info": {
   "codemirror_mode": {
    "name": "ipython",
    "version": 3
   },
   "file_extension": ".py",
   "mimetype": "text/x-python",
   "name": "python",
   "nbconvert_exporter": "python",
   "pygments_lexer": "ipython3",
   "version": "3.12.4"
  }
 },
 "nbformat": 4,
 "nbformat_minor": 5
}
