{
 "cells": [
  {
   "cell_type": "markdown",
   "id": "b0a243fa-12c5-4b7f-98c7-05a0ec58170d",
   "metadata": {},
   "source": [
    "# 1. for Loops: Iterating Over Sequences\n",
    "- A for loop is used to iterate over a sequence (like a list, tuple, string, or range) and execute a block of code multiple times."
   ]
  },
  {
   "cell_type": "code",
   "execution_count": 1,
   "id": "69ce85ed-e75a-4b2f-837c-2256f235b47e",
   "metadata": {},
   "outputs": [
    {
     "name": "stdout",
     "output_type": "stream",
     "text": [
      "apple\n",
      "banana\n",
      "grapes\n"
     ]
    }
   ],
   "source": [
    "fruits = [\"apple\",\"banana\",\"grapes\"]\n",
    "for fruit in fruits:\n",
    "    print(fruit)"
   ]
  },
  {
   "cell_type": "markdown",
   "id": "b99478a3-41ba-47e1-ba07-6b5e52451334",
   "metadata": {},
   "source": [
    "## Using range() in for Loops:\n",
    "- You can use the range() function to generate a sequence of numbers."
   ]
  },
  {
   "cell_type": "code",
   "execution_count": 4,
   "id": "b8ad5e1f-fbbe-4a71-b0d4-548e9ff581a2",
   "metadata": {},
   "outputs": [
    {
     "name": "stdout",
     "output_type": "stream",
     "text": [
      "1\n",
      "2\n",
      "3\n",
      "4\n"
     ]
    }
   ],
   "source": [
    "for i in range(1,5,1):\n",
    "    print(i)"
   ]
  },
  {
   "cell_type": "markdown",
   "id": "bf47961f-f3d3-445e-9892-de146fad11f1",
   "metadata": {},
   "source": [
    "# 2. while Loops: Repeated Execution Based on Condition\n",
    "- A while loop repeats a block of code as long as a specified condition is true."
   ]
  },
  {
   "cell_type": "code",
   "execution_count": 7,
   "id": "de4c50c9-2d88-409c-8c5c-d8de960151b1",
   "metadata": {},
   "outputs": [
    {
     "name": "stdout",
     "output_type": "stream",
     "text": [
      "5\n",
      "4\n",
      "3\n",
      "2\n",
      "1\n"
     ]
    }
   ],
   "source": [
    "# Example: Counting down from 5 to 1\n",
    "count = 5\n",
    "while count > 0:\n",
    "    print(count)\n",
    "    count -= 1\n",
    "# The loop will continue until count becomes 0."
   ]
  },
  {
   "cell_type": "markdown",
   "id": "c0938a76-12e6-4003-b4d3-ab405a3a9aab",
   "metadata": {},
   "source": [
    "# 3. break and continue Statements for Loop Control"
   ]
  },
  {
   "cell_type": "markdown",
   "id": "9942b530-a784-4175-bde6-2a7a7e09cb9a",
   "metadata": {},
   "source": [
    "## break Statement:\n",
    "- The break statement is used to exit a loop prematurely."
   ]
  },
  {
   "cell_type": "code",
   "execution_count": 10,
   "id": "20f698fe-ccfe-46f9-96c0-7b724099cc50",
   "metadata": {},
   "outputs": [
    {
     "name": "stdout",
     "output_type": "stream",
     "text": [
      "0\n",
      "1\n",
      "2\n",
      "3\n",
      "4\n"
     ]
    }
   ],
   "source": [
    "for i in range(10):\n",
    "    if i == 5:\n",
    "        break\n",
    "    print(i)"
   ]
  },
  {
   "cell_type": "markdown",
   "id": "fc936628-da56-47bf-b9a4-4d23dc632529",
   "metadata": {},
   "source": [
    "## continue Statement:\n",
    "- The continue statement skips the rest of the code inside the loop for the current iteration and moves to the next iteration."
   ]
  },
  {
   "cell_type": "code",
   "execution_count": 11,
   "id": "368df729-0bc1-4863-b151-faea9ad74c1a",
   "metadata": {},
   "outputs": [
    {
     "name": "stdout",
     "output_type": "stream",
     "text": [
      "1\n",
      "3\n",
      "5\n",
      "7\n",
      "9\n"
     ]
    }
   ],
   "source": [
    "for i in range(10):\n",
    "    if i % 2 == 0:\n",
    "        continue\n",
    "    print(i)"
   ]
  },
  {
   "cell_type": "markdown",
   "id": "0e4a350d-c782-45b3-9fec-d552f8e2408a",
   "metadata": {},
   "source": [
    "# Practice Exercise:"
   ]
  },
  {
   "cell_type": "markdown",
   "id": "3e23fb3b-a5e5-4a1d-8c4d-d86315b9829b",
   "metadata": {},
   "source": [
    "```markdown\n",
    "Write a for loop that prints each character in the string \"Python\" on a new line.\n",
    "```"
   ]
  },
  {
   "cell_type": "code",
   "execution_count": 12,
   "id": "a24adb96-4edb-4cc1-afdb-96c6dff901df",
   "metadata": {},
   "outputs": [
    {
     "name": "stdout",
     "output_type": "stream",
     "text": [
      "P\n",
      "y\n",
      "t\n",
      "h\n",
      "o\n",
      "n\n"
     ]
    }
   ],
   "source": [
    "my_str = \"Python\"\n",
    "for i in my_str:\n",
    "    print(i)"
   ]
  },
  {
   "cell_type": "markdown",
   "id": "136e96f2-4561-4d9b-81d7-b509c3f5de0a",
   "metadata": {},
   "source": [
    "```markdown\n",
    "Create a while loop that prints the numbers from 1 to 10.\n",
    "```"
   ]
  },
  {
   "cell_type": "code",
   "execution_count": 13,
   "id": "c3240c7e-7af8-42dd-91d0-1c5439b04ed0",
   "metadata": {},
   "outputs": [
    {
     "name": "stdout",
     "output_type": "stream",
     "text": [
      "1\n",
      "2\n",
      "3\n",
      "4\n",
      "5\n",
      "6\n",
      "7\n",
      "8\n",
      "9\n",
      "10\n"
     ]
    }
   ],
   "source": [
    "counter = 1\n",
    "while counter <= 10:\n",
    "    print(counter)\n",
    "    counter += 1"
   ]
  },
  {
   "cell_type": "markdown",
   "id": "bdcc3ecb-73b6-4155-aba3-481c0e86d87f",
   "metadata": {},
   "source": [
    "```markdown\n",
    "Modify the while loop to stop printing when the number reaches 7 using the break statement.\n",
    "```"
   ]
  },
  {
   "cell_type": "code",
   "execution_count": 14,
   "id": "e6ce3c43-4453-4d7e-8a1e-acc061adb7f6",
   "metadata": {},
   "outputs": [
    {
     "name": "stdout",
     "output_type": "stream",
     "text": [
      "1\n",
      "2\n",
      "3\n",
      "4\n",
      "5\n",
      "6\n",
      "7\n"
     ]
    }
   ],
   "source": [
    "counter = 1\n",
    "while counter <= 10:\n",
    "    print(counter)\n",
    "    if counter == 7:\n",
    "        break\n",
    "    counter += 1"
   ]
  },
  {
   "cell_type": "markdown",
   "id": "51ddb072-8479-4750-8dff-70020eb762a7",
   "metadata": {},
   "source": [
    "\n",
    "```markdown\n",
    "Write a for loop that prints all numbers from 1 to 20, but skips multiples of 3 using the continue statement.\n",
    "```"
   ]
  },
  {
   "cell_type": "code",
   "execution_count": 22,
   "id": "eb990b96-614d-41da-9b45-579907ab03b8",
   "metadata": {},
   "outputs": [
    {
     "name": "stdout",
     "output_type": "stream",
     "text": [
      "1 2 4 5 7 8 10 11 13 14 16 17 19 20 "
     ]
    }
   ],
   "source": [
    "for i in range(1,21,1):\n",
    "    if i % 3 == 0:\n",
    "        continue\n",
    "    print(i, end=\" \")"
   ]
  },
  {
   "cell_type": "code",
   "execution_count": null,
   "id": "67772bfe-c79a-48b9-a528-420558eb1d7e",
   "metadata": {},
   "outputs": [],
   "source": []
  }
 ],
 "metadata": {
  "kernelspec": {
   "display_name": "Python 3 (ipykernel)",
   "language": "python",
   "name": "python3"
  },
  "language_info": {
   "codemirror_mode": {
    "name": "ipython",
    "version": 3
   },
   "file_extension": ".py",
   "mimetype": "text/x-python",
   "name": "python",
   "nbconvert_exporter": "python",
   "pygments_lexer": "ipython3",
   "version": "3.12.4"
  }
 },
 "nbformat": 4,
 "nbformat_minor": 5
}
