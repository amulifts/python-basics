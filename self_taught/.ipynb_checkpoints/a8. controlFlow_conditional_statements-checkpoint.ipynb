{
 "cells": [
  {
   "cell_type": "markdown",
   "id": "530dffe8-734b-4b89-b10c-e20ad600782b",
   "metadata": {},
   "source": [
    "# 1. if, elif, else Statements\n",
    "\n",
    "- Conditional statements are used to execute code based on whether a condition is true or false."
   ]
  },
  {
   "cell_type": "markdown",
   "id": "4ef77645-921d-4f84-9510-a7d401ac8168",
   "metadata": {},
   "source": [
    "## if Statement:\n",
    "- The if statement checks a condition, and if it’s true, the code block under it runs."
   ]
  },
  {
   "cell_type": "code",
   "execution_count": 2,
   "id": "a5732c96-5583-4442-8d36-c70fec76b74b",
   "metadata": {},
   "outputs": [
    {
     "name": "stdout",
     "output_type": "stream",
     "text": [
      "Hello World\n"
     ]
    }
   ],
   "source": [
    "if True:\n",
    "    print(\"Hello World\")"
   ]
  },
  {
   "cell_type": "code",
   "execution_count": 3,
   "id": "cbf2e3f2-931c-476c-b5df-4df432d5cd56",
   "metadata": {},
   "outputs": [],
   "source": [
    "if False:\n",
    "    print(\"Hello World\")"
   ]
  },
  {
   "cell_type": "code",
   "execution_count": 4,
   "id": "5243d26d-b65a-4f09-b452-777fad1d31b9",
   "metadata": {},
   "outputs": [
    {
     "name": "stdout",
     "output_type": "stream",
     "text": [
      "five is greater than two\n"
     ]
    }
   ],
   "source": [
    "if 5>2:\n",
    "    print(\"five is greater than two\")"
   ]
  },
  {
   "cell_type": "markdown",
   "id": "4b7c3b15-fb5d-402f-a49a-80dec9bd430f",
   "metadata": {},
   "source": [
    "## elif Statement:\n",
    "- The elif (short for \"else if\") statement allows you to check multiple conditions.\n",
    "- It runs only if the previous conditions were false."
   ]
  },
  {
   "cell_type": "code",
   "execution_count": 6,
   "id": "f3e5c3ed-619a-40ae-9da5-7ae96718da3d",
   "metadata": {},
   "outputs": [
    {
     "name": "stdout",
     "output_type": "stream",
     "text": [
      "10 is smaller than 15\n"
     ]
    }
   ],
   "source": [
    "if 10 < 5:\n",
    "    print(\"10 is smaller than 5\")\n",
    "elif 10 < 15:\n",
    "    print(\"10 is smaller than 15\")"
   ]
  },
  {
   "cell_type": "markdown",
   "id": "64703885-5bb3-4607-9ca3-5c5435c487db",
   "metadata": {},
   "source": [
    "## else Statement:\n",
    "- The else statement runs a block of code if none of the previous conditions are true."
   ]
  },
  {
   "cell_type": "code",
   "execution_count": 7,
   "id": "9b929947-9fa7-4485-aa12-be6a0c72bd4f",
   "metadata": {},
   "outputs": [
    {
     "name": "stdout",
     "output_type": "stream",
     "text": [
      "Else block executed\n"
     ]
    }
   ],
   "source": [
    "if 10 < 5:\n",
    "    print(\"10 is smaller than 5\")\n",
    "elif 10 < 10:\n",
    "    print(\"10 is smaller than 15\")\n",
    "else:\n",
    "    print(\"Else block executed\")"
   ]
  },
  {
   "cell_type": "markdown",
   "id": "887d8204-5ed7-484c-a88f-6725b469a9c1",
   "metadata": {},
   "source": [
    "# 2. Writing Programs with Decision-Making Capabilities\n",
    "\n",
    "```markdown\n",
    "You can use these conditional statements to build programs that make decisions based on user input or other data.\n",
    "```"
   ]
  },
  {
   "cell_type": "code",
   "execution_count": 8,
   "id": "ae4ac4e4-6861-4c33-ac51-747b60bbed0c",
   "metadata": {},
   "outputs": [
    {
     "name": "stdin",
     "output_type": "stream",
     "text": [
      "Enter your age:  11\n"
     ]
    },
    {
     "name": "stdout",
     "output_type": "stream",
     "text": [
      "you can't enter inside club\n"
     ]
    }
   ],
   "source": [
    "age = int(input(\"Enter your age: \"))\n",
    "\n",
    "if age > 18:\n",
    "    print(\"you can enter inside club\")\n",
    "else:\n",
    "    print(\"you can't enter inside club\")"
   ]
  },
  {
   "cell_type": "markdown",
   "id": "0d118f9e-6bf0-416f-81bd-c3bf5a4d9eeb",
   "metadata": {},
   "source": [
    "# 3. Nested Conditional Statements\n",
    "\n",
    "- Nested conditional statements are if-elif-else statements placed inside another if-elif-else statement.\n",
    "- This allows for more complex decision-making."
   ]
  },
  {
   "cell_type": "code",
   "execution_count": 9,
   "id": "4cb7b225-7955-4812-b7c3-08b429d4ee83",
   "metadata": {},
   "outputs": [
    {
     "name": "stdout",
     "output_type": "stream",
     "text": [
      "x is greater than 5 and y is less than 10\n"
     ]
    }
   ],
   "source": [
    "x = 10\n",
    "y = 5\n",
    "\n",
    "if x > 5:\n",
    "    if y < 10:\n",
    "        print(\"x is greater than 5 and y is less than 10\")  # This will be printed\n",
    "    else:\n",
    "        print(\"x is greater than 5 and y is 10 or more\")\n",
    "else:\n",
    "    print(\"x is 5 or less\")\n"
   ]
  },
  {
   "cell_type": "markdown",
   "id": "e3974110-3057-4bc3-a2ad-6f509c209403",
   "metadata": {},
   "source": [
    "# Practice Exercise:\n",
    "\n",
    "```markdown\n",
    "Write a program that asks the user for a number and checks if it is positive, negative, or zero using if-elif-else statements.\n",
    "```"
   ]
  },
  {
   "cell_type": "code",
   "execution_count": 31,
   "id": "b9dd0eb1-3afd-47c6-ba45-549f444eb6e4",
   "metadata": {},
   "outputs": [
    {
     "name": "stdin",
     "output_type": "stream",
     "text": [
      "Enter any number:  1\n"
     ]
    },
    {
     "name": "stdout",
     "output_type": "stream",
     "text": [
      "The number is positive\n"
     ]
    }
   ],
   "source": [
    "number = int(input(\"Enter any number: \"))\n",
    "\n",
    "if number < 0:\n",
    "    print(\"The number is negative\")\n",
    "elif number > 0:\n",
    "    print(\"The number is positive\")\n",
    "else:\n",
    "    print(\"The number is neutral\")"
   ]
  },
  {
   "cell_type": "markdown",
   "id": "8bceab5a-28c4-4b94-96f1-0b7335a7d9c6",
   "metadata": {},
   "source": [
    "\n",
    "```markdown\n",
    "Create a program that checks if a person is eligible for a discount:\n",
    "If they are a student, they get a 10% discount.\n",
    "If they are a senior citizen (age 65 or older), they get a 20% discount.\n",
    "If they are both, they get a 30% discount.\n",
    "If neither, no discount is applied.\n",
    "```\n"
   ]
  },
  {
   "cell_type": "code",
   "execution_count": 30,
   "id": "a66d1f1c-fd01-4afc-93b7-3ae4cd578891",
   "metadata": {},
   "outputs": [
    {
     "name": "stdin",
     "output_type": "stream",
     "text": [
      "are you a student (yes or no) ? yes\n",
      "whats your age? 2\n"
     ]
    },
    {
     "name": "stdout",
     "output_type": "stream",
     "text": [
      "you get a 10% discount\n"
     ]
    }
   ],
   "source": [
    "is_student = input(\"are you a student (yes or no) ?\").strip().lower()\n",
    "is_senior_citizen = int(input(\"whats your age?\"))\n",
    "\n",
    "if is_student == \"yes\" and is_senior_citizen >= 65:\n",
    "    print(\"you get 30% discount\")\n",
    "elif is_student == \"yes\":\n",
    "    print(\"you get a 10% discount\")\n",
    "elif is_senior_citizen >= 65:\n",
    "    print(\"you get a 20% discount\")\n",
    "else:\n",
    "    print(\"no discount is applied\")"
   ]
  },
  {
   "cell_type": "markdown",
   "id": "3f5914b4-15b8-451d-b376-cf38c94ff39d",
   "metadata": {},
   "source": [
    "\n",
    "```markdown\n",
    "Write a nested conditional statement that checks if a number is positive and even, positive and odd, or negative.\n",
    "```"
   ]
  },
  {
   "cell_type": "code",
   "execution_count": 33,
   "id": "43e71d16-f8a9-4dcf-ac0e-3ffac1bb46c3",
   "metadata": {},
   "outputs": [
    {
     "name": "stdin",
     "output_type": "stream",
     "text": [
      "Enter any number:  2\n"
     ]
    },
    {
     "name": "stdout",
     "output_type": "stream",
     "text": [
      "The number is positive and even\n"
     ]
    }
   ],
   "source": [
    "number = int(input(\"Enter any number: \"))\n",
    "\n",
    "if number >= 0:\n",
    "    if number % 2 == 0:\n",
    "        print(\"The number is positive and even\")\n",
    "    elif number % 2 != 0:\n",
    "        print(\"The number is positive and odd \")\n",
    "else:\n",
    "    print(\"The number is negative\")"
   ]
  },
  {
   "cell_type": "code",
   "execution_count": null,
   "id": "7ecc4e44-8117-4fc3-b056-4558473ef11a",
   "metadata": {},
   "outputs": [],
   "source": []
  }
 ],
 "metadata": {
  "kernelspec": {
   "display_name": "Python 3 (ipykernel)",
   "language": "python",
   "name": "python3"
  },
  "language_info": {
   "codemirror_mode": {
    "name": "ipython",
    "version": 3
   },
   "file_extension": ".py",
   "mimetype": "text/x-python",
   "name": "python",
   "nbconvert_exporter": "python",
   "pygments_lexer": "ipython3",
   "version": "3.12.4"
  }
 },
 "nbformat": 4,
 "nbformat_minor": 5
}
