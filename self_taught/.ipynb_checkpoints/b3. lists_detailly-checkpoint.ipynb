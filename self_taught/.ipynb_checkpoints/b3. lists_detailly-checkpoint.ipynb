{
 "cells": [
  {
   "cell_type": "markdown",
   "id": "bf84befe-24cb-4053-a440-ce5739b20e59",
   "metadata": {},
   "source": [
    "# Important Points About Lists in Python:\n",
    "\n",
    "## Mutability:\n",
    "\n",
    "Lists are mutable, meaning you can modify their elements after creation. You can change, add, or remove elements.\n",
    "\n",
    "## Ordered Sequence:\n",
    "\n",
    "Lists maintain the order of elements. The position of each element is determined by its index, starting from 0.\n",
    "\n",
    "## Indexing and Slicing:\n",
    "\n",
    "Just like strings, you can access elements using indexing and retrieve subsets of the list using slicing (list[start:end:step]).\n",
    "\n",
    "## Heterogeneous Elements:\n",
    "\n",
    "Lists can contain elements of different data types, such as integers, floats, strings, and even other lists (nested lists).\n",
    "\n",
    "## Dynamic Size:\n",
    "\n",
    "Lists can grow and shrink in size as you add or remove elements.\n",
    "\n",
    "## List Methods:\n",
    "\n",
    "Python provides various built-in methods to manipulate lists, such as append(), extend(), insert(), remove(), pop(), clear(), index(), count(), sort(), reverse(), and more.\n",
    "\n",
    "## List Comprehension:\n",
    "\n",
    "List comprehensions offer a concise way to create lists based on existing lists or other iterables. The syntax is [expression for item in iterable if condition].\n",
    "\n",
    "## Nested Lists:\n",
    "\n",
    "Lists can contain other lists as elements, allowing for the creation of multi-dimensional lists (e.g., matrices).\n",
    "\n",
    "## Iteration:\n",
    "\n",
    "You can iterate over the elements of a list using loops, such as for and while loops.\n",
    "\n",
    "## Copying Lists:\n",
    "\n",
    "Copying a list using = creates a reference to the original list. To create a true copy, you can use the copy() method or slicing.\n",
    "\n",
    "## List Operations:\n",
    "\n",
    "Lists support operations like concatenation (+), repetition (*), and membership testing (in and not in).\n",
    "\n",
    "## Length of List:\n",
    "\n",
    "Use the len() function to find the number of elements in a list."
   ]
  },
  {
   "cell_type": "markdown",
   "id": "df32e197-8d2f-4811-9ed4-94f7410269bb",
   "metadata": {},
   "source": [
    "<h1 style=\"color:red;\">Basic List Operations</h1>"
   ]
  },
  {
   "cell_type": "markdown",
   "id": "b9c3e9ee-f632-425d-829d-615371bd96aa",
   "metadata": {},
   "source": [
    "## Creating and Modifying Lists:\n",
    "\n",
    "```markdown\n",
    "Create a list called colors containing \"red\", \"green\", and \"blue\". Then:\n",
    "Add \"yellow\" to the end of the list.\n",
    "Insert \"orange\" at the second position.\n",
    "Replace the last color in the list with \"purple\".\n",
    "```"
   ]
  },
  {
   "cell_type": "code",
   "execution_count": 10,
   "id": "1a5ba4c6-6284-429c-bce4-4f27706db6f3",
   "metadata": {},
   "outputs": [
    {
     "name": "stdout",
     "output_type": "stream",
     "text": [
      "['red', 'green', 'blue', 'yellow']\n"
     ]
    }
   ],
   "source": [
    "colors = [\"red\", \"green\", \"blue\"]\n",
    "colors.append(\"yellow\")\n",
    "print(colors)"
   ]
  },
  {
   "cell_type": "code",
   "execution_count": 12,
   "id": "cf484c36-a9eb-414e-8e4d-00423c166683",
   "metadata": {},
   "outputs": [
    {
     "name": "stdout",
     "output_type": "stream",
     "text": [
      "['red', 'orange', 'green', 'blue']\n"
     ]
    }
   ],
   "source": [
    "colors = [\"red\", \"green\", \"blue\"]\n",
    "colors.insert(1,\"orange\")\n",
    "print(colors)"
   ]
  },
  {
   "cell_type": "code",
   "execution_count": 15,
   "id": "9172839d-2ae4-4812-99cd-772eb91f842c",
   "metadata": {},
   "outputs": [
    {
     "data": {
      "text/plain": [
       "['red', 'green', 'purple']"
      ]
     },
     "execution_count": 15,
     "metadata": {},
     "output_type": "execute_result"
    }
   ],
   "source": [
    "colors = [\"red\", \"green\", \"blue\"]\n",
    "colors.pop()\n",
    "colors.append(\"purple\")\n",
    "colors"
   ]
  },
  {
   "cell_type": "code",
   "execution_count": 22,
   "id": "a35af888-021a-4c09-8e5b-b55e02c2b929",
   "metadata": {},
   "outputs": [],
   "source": [
    "colors = [\"red\", \"green\", \"blue\"]\n",
    "\n",
    "def add_yellow():\n",
    "    colors.append(\"yellow\")\n",
    "    print(colors)\n",
    "\n",
    "def insert_orange():\n",
    "    colors.insert(1, \"orange\")\n",
    "    print(colors)\n",
    "    \n",
    "\n",
    "def replace_last():\n",
    "    colors[-1] = \"purple\"\n",
    "    print(colors)"
   ]
  },
  {
   "cell_type": "code",
   "execution_count": 23,
   "id": "99c093b6-81b7-4bc2-8b13-43155087ed30",
   "metadata": {},
   "outputs": [
    {
     "name": "stdout",
     "output_type": "stream",
     "text": [
      "['red', 'green', 'blue', 'yellow']\n"
     ]
    }
   ],
   "source": [
    "add_yellow()"
   ]
  },
  {
   "cell_type": "code",
   "execution_count": 24,
   "id": "63713fbd-1f6c-4704-9cd9-0e660c5274f8",
   "metadata": {},
   "outputs": [
    {
     "name": "stdout",
     "output_type": "stream",
     "text": [
      "['red', 'orange', 'green', 'blue', 'yellow']\n"
     ]
    }
   ],
   "source": [
    "insert_orange()"
   ]
  },
  {
   "cell_type": "code",
   "execution_count": 25,
   "id": "f9de7092-a3ce-472e-bf2d-67eb906ff755",
   "metadata": {},
   "outputs": [
    {
     "name": "stdout",
     "output_type": "stream",
     "text": [
      "['red', 'orange', 'green', 'blue', 'purple']\n"
     ]
    }
   ],
   "source": [
    "replace_last()"
   ]
  },
  {
   "cell_type": "markdown",
   "id": "daf8a856-9d37-4fda-af81-df746ec6c798",
   "metadata": {
    "scrolled": true
   },
   "source": [
    "## Indexing and Slicing:\n",
    "\n",
    "```markdown\n",
    "Given the list numbers = [1, 2, 3, 4, 5, 6, 7, 8, 9, 10], perform the following:\n",
    "Retrieve the first and last elements.\n",
    "Slice the list to get [4, 5, 6].\n",
    "Reverse the entire list using slicing.\n",
    "```"
   ]
  },
  {
   "cell_type": "code",
   "execution_count": 34,
   "id": "ef207912-84e7-4f1c-94b1-33dbc608a2e2",
   "metadata": {},
   "outputs": [
    {
     "name": "stdout",
     "output_type": "stream",
     "text": [
      "First Element: 1\n",
      "Last Element: 10\n",
      "Result of Slicing : [4, 5, 6]\n",
      "Result of Reversing : [10, 9, 8, 7, 6, 5, 4, 3, 2, 1]\n"
     ]
    }
   ],
   "source": [
    "list_numbers = [1, 2, 3, 4, 5, 6, 7, 8, 9, 10]\n",
    "\n",
    "print(f\"First Element: {list_numbers[0]}\")\n",
    "print(f\"Last Element: {list_numbers[-1]}\")\n",
    "\n",
    "print(f\"Result of Slicing : {list_numbers[3:6:1]}\")\n",
    "print(f\"Result of Reversing : {list_numbers[-1::-1]}\")"
   ]
  },
  {
   "cell_type": "markdown",
   "id": "f1641e19-5087-4a44-8881-21b2e33660b6",
   "metadata": {},
   "source": [
    "## List Methods:\n",
    "\n",
    "```markdown\n",
    "Start with the list animals = [\"cat\", \"dog\", \"rabbit\", \"parrot\"] and:\n",
    "Append \"hamster\" to the list.\n",
    "Remove \"rabbit\" from the list.\n",
    "Sort the list alphabetically.\n",
    "Find the index of \"dog\" in the list.\n",
    "```"
   ]
  },
  {
   "cell_type": "code",
   "execution_count": 36,
   "id": "065a91aa-11c1-417b-9821-baf0c8926678",
   "metadata": {},
   "outputs": [
    {
     "data": {
      "text/plain": [
       "['cat', 'dog', 'rabbit', 'parrot', 'hamster']"
      ]
     },
     "execution_count": 36,
     "metadata": {},
     "output_type": "execute_result"
    }
   ],
   "source": [
    "animals = [\"cat\", \"dog\", \"rabbit\", \"parrot\"]\n",
    "animals.append(\"hamster\")\n",
    "animals"
   ]
  },
  {
   "cell_type": "code",
   "execution_count": 37,
   "id": "65850e07-1b36-42e3-b8a0-ecc271e512ed",
   "metadata": {},
   "outputs": [
    {
     "data": {
      "text/plain": [
       "['cat', 'dog', 'parrot']"
      ]
     },
     "execution_count": 37,
     "metadata": {},
     "output_type": "execute_result"
    }
   ],
   "source": [
    "animals = [\"cat\", \"dog\", \"rabbit\", \"parrot\"]\n",
    "animals.remove(\"rabbit\")\n",
    "animals"
   ]
  },
  {
   "cell_type": "code",
   "execution_count": 38,
   "id": "7583a458-85ed-48d7-ba13-77eb5971a279",
   "metadata": {},
   "outputs": [
    {
     "data": {
      "text/plain": [
       "['cat', 'dog', 'parrot', 'rabbit']"
      ]
     },
     "execution_count": 38,
     "metadata": {},
     "output_type": "execute_result"
    }
   ],
   "source": [
    "animals = [\"cat\", \"dog\", \"rabbit\", \"parrot\"]\n",
    "animals.sort()\n",
    "animals"
   ]
  },
  {
   "cell_type": "code",
   "execution_count": 43,
   "id": "d9dccef3-81a2-4a8e-bb6f-fe6b523d66e8",
   "metadata": {},
   "outputs": [
    {
     "name": "stdout",
     "output_type": "stream",
     "text": [
      "Index of dog is 1\n"
     ]
    }
   ],
   "source": [
    "animals = [\"cat\", \"dog\", \"rabbit\", \"parrot\"]\n",
    "returned_value = animals.index(\"dog\")\n",
    "print(f\"Index of dog is {returned_value}\")"
   ]
  },
  {
   "cell_type": "markdown",
   "id": "f7a3b45a-a579-45b9-aba2-7bf812069713",
   "metadata": {},
   "source": [
    "## List Concatenation and Repetition:\n",
    "\n",
    "```markdown\n",
    "Concatenate the lists [1, 2, 3] and [4, 5, 6].\n",
    "Repeat the list ['a', 'b', 'c'] three times.\n",
    "```"
   ]
  },
  {
   "cell_type": "code",
   "execution_count": 52,
   "id": "96cb3d05-9fa3-4013-ac49-059368ce50af",
   "metadata": {},
   "outputs": [
    {
     "name": "stdout",
     "output_type": "stream",
     "text": [
      "Concatinated list : [1, 2, 3, 4, 5, 6]\n",
      "Repeating the list 3 times: ['a', 'b', 'c', 'a', 'b', 'c', 'a', 'b', 'c']\n"
     ]
    }
   ],
   "source": [
    "list_one = [1,2,3]\n",
    "list_two = [4,5,6]\n",
    "list_char = ['a','b','c']\n",
    "\n",
    "conc_list = list_one + list_two\n",
    "print(\"Concatinated list : {}\".format(conc_list))\n",
    "\n",
    "print(\"Repeating the list 3 times: {}\".format(list_char * 3))"
   ]
  },
  {
   "cell_type": "markdown",
   "id": "0052abad-34dd-4703-936d-2762b3e54d6c",
   "metadata": {
    "scrolled": true
   },
   "source": [
    "<h2 style=\"color: red;\"> Finding the Length of a List:</h2>\n",
    "\n",
    "```markdown\n",
    "Write a function to count the number of elements in the list ['apple', 'banana', 'cherry', 'date', 'fig', 'grape'].\n",
    "```"
   ]
  },
  {
   "cell_type": "code",
   "execution_count": 75,
   "id": "c5fedba7-e3f7-42e7-8dc9-b186cb00aca8",
   "metadata": {},
   "outputs": [
    {
     "name": "stdout",
     "output_type": "stream",
     "text": [
      "The number of element in the list is : 6\n"
     ]
    }
   ],
   "source": [
    "fruits = ['apple', 'banana', 'cherry', 'date', 'fig', 'grape']\n",
    "\n",
    "def count_element():\n",
    "    count = 0\n",
    "    for fruit in fruits:\n",
    "        count += 1\n",
    "    print(f\"The number of element in the list is : {count}\")\n",
    "    \n",
    "count_element()"
   ]
  },
  {
   "cell_type": "markdown",
   "id": "2b76df14-a5b5-4069-a52e-916473c2efb6",
   "metadata": {},
   "source": [
    "<h1 style=\"color:red;\">Intermediate List Operations</h1>"
   ]
  },
  {
   "cell_type": "markdown",
   "id": "a243a233-6aba-4d49-89fa-4859d7a1cd21",
   "metadata": {},
   "source": [
    "<h2 style=\"color: red;\"> List Comprehension: </h2>\n",
    "\n",
    "```markdown\n",
    "Create a list of the squares of numbers from 1 to 10 using a list comprehension.\n",
    "Generate a list of odd numbers between 1 and 20 using list comprehension.\n",
    "```"
   ]
  },
  {
   "cell_type": "code",
   "execution_count": 88,
   "id": "69af36f7-aa97-401a-a91b-6780b1f88620",
   "metadata": {},
   "outputs": [
    {
     "name": "stdout",
     "output_type": "stream",
     "text": [
      "1 Square number: 1\n",
      "2 Square number: 4\n",
      "3 Square number: 9\n",
      "4 Square number: 16\n",
      "5 Square number: 25\n",
      "6 Square number: 36\n",
      "7 Square number: 49\n",
      "8 Square number: 64\n",
      "9 Square number: 81\n",
      "10 Square number: 100\n",
      "[1, 4, 9, 16, 25, 36, 49, 64, 81, 100]\n"
     ]
    }
   ],
   "source": [
    "## Without list comprehension\n",
    "\n",
    "list = []\n",
    "\n",
    "for num in range(1,11,1):\n",
    "    print(num, end = \" \")\n",
    "    print(f\"Square number: {num**2}\")\n",
    "    list.append(num**2)\n",
    "\n",
    "print(list)"
   ]
  },
  {
   "cell_type": "code",
   "execution_count": 97,
   "id": "564fe9f0-c10e-49ed-9a79-adae158f449e",
   "metadata": {},
   "outputs": [
    {
     "name": "stdout",
     "output_type": "stream",
     "text": [
      "[1, 3, 5, 7, 9, 11, 13, 15, 17, 19]\n"
     ]
    }
   ],
   "source": [
    "## Without list comprehension\n",
    "\n",
    "list = []\n",
    "\n",
    "for num in range(1,21,1):\n",
    "    if num % 2 != 0:\n",
    "        list.append(num)\n",
    "\n",
    "print(list)"
   ]
  },
  {
   "cell_type": "code",
   "execution_count": 101,
   "id": "31f3b05b-b964-4000-b4ee-56a642eb9472",
   "metadata": {},
   "outputs": [
    {
     "data": {
      "text/plain": [
       "[1, 4, 9, 16, 25, 36, 49, 64, 81, 100]"
      ]
     },
     "execution_count": 101,
     "metadata": {},
     "output_type": "execute_result"
    }
   ],
   "source": [
    "## List comprehension for question 1\n",
    "\n",
    "[ num**2 for num in range(1,11,1) ] # It combines the creation of the list and the operation to compute the squares into a single line."
   ]
  },
  {
   "cell_type": "code",
   "execution_count": 103,
   "id": "3456b23f-e218-4e46-8834-3bcd64919f7a",
   "metadata": {},
   "outputs": [
    {
     "data": {
      "text/plain": [
       "[1, 3, 5, 7, 9, 11, 13, 15, 17, 19]"
      ]
     },
     "execution_count": 103,
     "metadata": {},
     "output_type": "execute_result"
    }
   ],
   "source": [
    "## List comprehension for question 2\n",
    "\n",
    "[ num for num in range(1,21,1) if num % 2 != 0]"
   ]
  },
  {
   "cell_type": "markdown",
   "id": "65a1f3be-134e-4592-bb5a-2cf60faff4f1",
   "metadata": {
    "scrolled": true
   },
   "source": [
    "<h2 style=\"color:red;\">Nested Lists:</h2>\n",
    "\n",
    "```markdown\n",
    "Given the nested list matrix = [[1, 2, 3], [4, 5, 6], [7, 8, 9]], do the following:\n",
    "Access the element at the second row, third column.\n",
    "Change the element at the first row, second column to 10.\n",
    "Flatten the nested list [[1, 2, 3], [4, 5], [6, 7, 8, 9]] into a single list.\n",
    "```"
   ]
  },
  {
   "cell_type": "code",
   "execution_count": 105,
   "id": "74adb6a5-ed62-42c7-b029-615786c09126",
   "metadata": {},
   "outputs": [
    {
     "name": "stdout",
     "output_type": "stream",
     "text": [
      "[[1, 2, 3], [4, 5, 6], [7, 8, 9]]\n"
     ]
    }
   ],
   "source": [
    "matrix = [[1, 2, 3], [4, 5, 6], [7, 8, 9]]\n",
    "print(matrix)"
   ]
  },
  {
   "cell_type": "code",
   "execution_count": 106,
   "id": "ddf42688-7464-4154-bb8b-09695ee31a43",
   "metadata": {},
   "outputs": [
    {
     "name": "stdout",
     "output_type": "stream",
     "text": [
      "6\n"
     ]
    }
   ],
   "source": [
    "# Access the element at the second row, third column.\n",
    "\n",
    "print(matrix[1][2])"
   ]
  },
  {
   "cell_type": "code",
   "execution_count": 108,
   "id": "71138384-33a6-40b7-a3ab-dfca8235c35b",
   "metadata": {},
   "outputs": [
    {
     "name": "stdout",
     "output_type": "stream",
     "text": [
      "[[1, 10, 3], [4, 5, 6], [7, 8, 9]]\n"
     ]
    }
   ],
   "source": [
    "# Change the element at the first row, second column to 10.\n",
    "\n",
    "matrix[0][1] = 10\n",
    "print(matrix)"
   ]
  },
  {
   "cell_type": "code",
   "execution_count": 141,
   "id": "9e1f1577-c4a7-43af-b4d6-706bb37eb717",
   "metadata": {},
   "outputs": [
    {
     "name": "stdout",
     "output_type": "stream",
     "text": [
      "[1, 2, 3, 4, 5, 6, 7, 8, 9]\n"
     ]
    }
   ],
   "source": [
    "# Flatten the nested list [[1, 2, 3], [4, 5], [6, 7, 8, 9]] into a single list.\n",
    "\n",
    "matrix = [[1, 2, 3], [4, 5, 6], [7, 8, 9]]\n",
    "flattened_list = []\n",
    "\n",
    "for sublist in matrix:\n",
    "    # print(sublist)\n",
    "    for deeper_list in sublist:\n",
    "        # print(deeper_list)\n",
    "        flattened_list.append(deeper_list)\n",
    "\n",
    "print(flattened_list)"
   ]
  },
  {
   "cell_type": "markdown",
   "id": "7a790d75-f7fa-45d6-b728-1dc610157a4e",
   "metadata": {},
   "source": [
    "## List Iteration:\n",
    "\n",
    "```markdown\n",
    "Iterate over the list fruits = [\"apple\", \"banana\", \"cherry\"] and print each fruit in uppercase.\n",
    "Write a program to find and print all the elements in the list numbers = [1, 4, 9, 16, 25, 36] that are greater than 10.\n",
    "```"
   ]
  },
  {
   "cell_type": "code",
   "execution_count": 152,
   "id": "b39d0264-33cb-49af-a182-14bc1075f111",
   "metadata": {},
   "outputs": [
    {
     "name": "stdout",
     "output_type": "stream",
     "text": [
      "['APPLE', 'BANANA', 'CHERRY']\n"
     ]
    }
   ],
   "source": [
    "fruits = [\"apple\", \"banana\", \"cherry\"]\n",
    "new_list = []\n",
    "\n",
    "for fruit in fruits:\n",
    "    # print(fruit.upper())\n",
    "    new_list.append(fruit.upper())\n",
    "\n",
    "print(new_list)"
   ]
  },
  {
   "cell_type": "code",
   "execution_count": 153,
   "id": "f523b80f-508e-47f5-aabb-0a987cdda5a7",
   "metadata": {},
   "outputs": [
    {
     "data": {
      "text/plain": [
       "['APPLE', 'BANANA', 'CHERRY']"
      ]
     },
     "execution_count": 153,
     "metadata": {},
     "output_type": "execute_result"
    }
   ],
   "source": [
    "# List comprehension\n",
    "\n",
    "fruits = [\"apple\", \"banana\", \"cherry\"]\n",
    "\n",
    "[ fruit.upper() for fruit in fruits ]"
   ]
  },
  {
   "cell_type": "markdown",
   "id": "dca5f9cb-12d5-4d04-aa7d-6d6b52288405",
   "metadata": {},
   "source": [
    "## List Copying:\n",
    "\n",
    "```markdown\n",
    "Create a list original = [10, 20, 30] and make a copy using slicing. Modify the original list and verify if the copied list remains unchanged.\n",
    "Use the copy() method to copy the list and verify it behaves the same way as slicing.\n",
    "```"
   ]
  },
  {
   "cell_type": "code",
   "execution_count": 165,
   "id": "f64aa492-6339-4245-bd6d-f46600db2cef",
   "metadata": {},
   "outputs": [
    {
     "name": "stdout",
     "output_type": "stream",
     "text": [
      "[10, 20, 30, 40]\n",
      "[10, 20, 30]\n"
     ]
    }
   ],
   "source": [
    "# using slicing\n",
    "\n",
    "original = [10, 20, 30]\n",
    "new_original = original[0:]\n",
    "\n",
    "## modifying original list\n",
    "original.append(40)\n",
    "print(original)\n",
    "\n",
    "# verify if the copied list remains unchanged\n",
    "print(new_original)"
   ]
  },
  {
   "cell_type": "code",
   "execution_count": 166,
   "id": "f8a027b8-5e95-4c8b-93e9-1cb084b26349",
   "metadata": {},
   "outputs": [
    {
     "name": "stdout",
     "output_type": "stream",
     "text": [
      "[10, 20, 30, 40]\n",
      "[10, 20, 30]\n"
     ]
    }
   ],
   "source": [
    "# using copy()\n",
    "\n",
    "original = [10, 20, 30]\n",
    "# new_original = original\n",
    "new_original = original.copy()\n",
    "\n",
    "## modifying original list\n",
    "original.append(40)\n",
    "print(original)\n",
    "\n",
    "# verify if the copied list remains unchanged\n",
    "print(new_original)"
   ]
  },
  {
   "cell_type": "markdown",
   "id": "346eda36-20f0-407d-bfc5-8eabee354340",
   "metadata": {},
   "source": [
    "\n",
    "## Membership Testing:\n",
    "\n",
    "```markdown\n",
    "Check if the number 7 is present in the list [3, 5, 7, 9, 11].\n",
    "Write a program to find out if the string \"orange\" is not in the list [\"apple\", \"banana\", \"cherry\"].\n",
    "```"
   ]
  },
  {
   "cell_type": "code",
   "execution_count": 173,
   "id": "3e4b6202-6a69-410a-a32e-00a579234656",
   "metadata": {},
   "outputs": [
    {
     "name": "stdout",
     "output_type": "stream",
     "text": [
      "Seven is present in the list\n"
     ]
    }
   ],
   "source": [
    "my_list = [3, 5, 7, 9, 11]\n",
    "\n",
    "for num in my_list:\n",
    "    if num == 7:\n",
    "        print(\"Seven is present in the list\")"
   ]
  },
  {
   "cell_type": "code",
   "execution_count": 174,
   "id": "19736ac0-4937-4f60-a858-3011c63e4f24",
   "metadata": {},
   "outputs": [
    {
     "name": "stdout",
     "output_type": "stream",
     "text": [
      "Seven is present in the list\n"
     ]
    }
   ],
   "source": [
    "my_list = [3, 5, 7, 9, 11]\n",
    "\n",
    "for num in my_list:\n",
    "    if num != 7:\n",
    "        continue\n",
    "    else:\n",
    "        print(\"Seven is present in the list\")"
   ]
  },
  {
   "cell_type": "markdown",
   "id": "f20846ce-b6e5-42ef-9671-b49d6213d81d",
   "metadata": {},
   "source": [
    "<h1 style=\"color:red;\">Advanced List Operations</h1>"
   ]
  },
  {
   "cell_type": "markdown",
   "id": "6c20d013-8847-4c0e-9c5a-31481fe826e4",
   "metadata": {},
   "source": [
    "## Sorting and Reversing:\n",
    "\n",
    "```markdown\n",
    "Sort the list prices = [50, 25, 75, 100, 10] in ascending and descending order.\n",
    "Reverse the list letters = ['a', 'b', 'c', 'd', 'e'].\n",
    "```"
   ]
  },
  {
   "cell_type": "code",
   "execution_count": 183,
   "id": "792faed7-945b-49e0-8555-034167c9fe0d",
   "metadata": {},
   "outputs": [
    {
     "name": "stdout",
     "output_type": "stream",
     "text": [
      "Ascending List: [10, 25, 50, 75, 100]\n",
      "Descending List: [100, 75, 50, 25, 10]\n"
     ]
    }
   ],
   "source": [
    "prices = [50, 25, 75, 100, 10]\n",
    "prices.sort()\n",
    "print(f\"Ascending List: {prices}\")\n",
    "prices.reverse()\n",
    "print(f\"Descending List: {prices}\")"
   ]
  },
  {
   "cell_type": "code",
   "execution_count": 186,
   "id": "2e7c53b5-36f7-4e09-b3e0-d0db71afdf16",
   "metadata": {},
   "outputs": [
    {
     "name": "stdout",
     "output_type": "stream",
     "text": [
      "Ascending List: [10, 25, 50, 75, 100]\n",
      "Descending List: [100, 75, 50, 25, 10]\n"
     ]
    }
   ],
   "source": [
    "# or for descending we can add parameters in sort method.\n",
    "prices = [50, 25, 75, 100, 10]\n",
    "prices.sort()\n",
    "print(f\"Ascending List: {prices}\")\n",
    "\n",
    "prices = [50, 25, 75, 100, 10]\n",
    "prices.sort(reverse=True)\n",
    "print(f\"Descending List: {prices}\")"
   ]
  },
  {
   "cell_type": "code",
   "execution_count": 184,
   "id": "67ef1740-67ec-4911-9ec0-b62b821546ed",
   "metadata": {},
   "outputs": [
    {
     "name": "stdout",
     "output_type": "stream",
     "text": [
      "['e', 'd', 'c', 'b', 'a']\n"
     ]
    }
   ],
   "source": [
    "letters = ['a', 'b', 'c', 'd', 'e']\n",
    "letters.reverse()\n",
    "print(letters)"
   ]
  },
  {
   "cell_type": "markdown",
   "id": "293e78bb-01b3-41fa-a459-d211d0593495",
   "metadata": {},
   "source": [
    "\n",
    "## List of Lists:\n",
    "\n",
    "```markdown\n",
    "Create a list of lists where each inner list contains the name, age, and profession of a person. Write a program to access the age of the third person in the list.\n",
    "```"
   ]
  },
  {
   "cell_type": "code",
   "execution_count": 188,
   "id": "a035cadc-6b27-4479-bc5f-09a07b2717d1",
   "metadata": {},
   "outputs": [
    {
     "name": "stdout",
     "output_type": "stream",
     "text": [
      "Age of third person i.e Piyush is 23\n"
     ]
    }
   ],
   "source": [
    "my_list = [[\"Aman\",21,\"Student\"],[\"Grusha\",22,\"Data Scrientist\"],[\"Piyush\",23,\"Engineer\"]]\n",
    "third_age = my_list[2][1]\n",
    "print(f\"Age of third person i.e {my_list[2][0]} is {third_age}\")"
   ]
  },
  {
   "cell_type": "markdown",
   "id": "5201cbde-1791-4441-a907-496fb7f50190",
   "metadata": {},
   "source": [
    "\n",
    "## Finding the Maximum and Minimum:\n",
    "\n",
    "```markdown\n",
    "Write a function to find the maximum and minimum values in the list [23, 45, 12, 78, 56, 89].\n",
    "```\n",
    "\n"
   ]
  },
  {
   "cell_type": "code",
   "execution_count": 193,
   "id": "6e8e7d4f-f317-4765-a55a-2efbb4bdcba9",
   "metadata": {},
   "outputs": [
    {
     "name": "stdout",
     "output_type": "stream",
     "text": [
      "The max number is 89\n",
      "The min number is 12\n"
     ]
    }
   ],
   "source": [
    "def max_min():\n",
    "    my_list = [23, 45, 12, 78, 56, 89]\n",
    "    my_list.sort(reverse=True)\n",
    "    print(f\"The max number is {my_list[0]}\")\n",
    "    print(f\"The min number is {my_list[-1]}\")\n",
    "\n",
    "max_min()"
   ]
  },
  {
   "cell_type": "code",
   "execution_count": 194,
   "id": "e39ddf6f-c19d-447b-b2ff-138a2b27b610",
   "metadata": {},
   "outputs": [
    {
     "name": "stdout",
     "output_type": "stream",
     "text": [
      "The max number is 89\n",
      "The min number is 12\n"
     ]
    }
   ],
   "source": [
    "# built-in functions\n",
    "\n",
    "def max_min():\n",
    "    my_list = [23, 45, 12, 78, 56, 89]\n",
    "    max_number = max(my_list)\n",
    "    min_number = min(my_list)\n",
    "    print(f\"The max number is {max_number}\")\n",
    "    print(f\"The min number is {min_number}\")\n",
    "\n",
    "max_min()"
   ]
  },
  {
   "cell_type": "markdown",
   "id": "46522e8a-a2ea-4d03-8a50-ceba62b3bc4e",
   "metadata": {},
   "source": [
    "## List Insertion:\n",
    "\n",
    "```markdown\n",
    "Given the list countries = [\"USA\", \"Canada\", \"Australia\"], insert \"UK\" at the second position.\n",
    "```\n"
   ]
  },
  {
   "cell_type": "code",
   "execution_count": 197,
   "id": "944e5364-9744-437f-bb57-cc5bfae1f9e6",
   "metadata": {},
   "outputs": [
    {
     "name": "stdout",
     "output_type": "stream",
     "text": [
      "['USA', 'UK', 'Canada', 'Australia']\n"
     ]
    }
   ],
   "source": [
    "countries = [\"USA\", \"Canada\", \"Australia\"]\n",
    "\n",
    "countries.insert(1, \"UK\")\n",
    "\n",
    "print(countries)"
   ]
  },
  {
   "cell_type": "markdown",
   "id": "6210ea10-b59b-492b-87a5-f25263e66639",
   "metadata": {},
   "source": [
    "\n",
    "## List Counting:\n",
    "\n",
    "```markdown\n",
    "Count how many times the letter \"a\" appears in the list letters = ['a', 'b', 'c', 'a', 'd', 'a'].\n",
    "```\n"
   ]
  },
  {
   "cell_type": "code",
   "execution_count": 198,
   "id": "7bfbd423-1894-476f-aa97-a9eb0303ae17",
   "metadata": {},
   "outputs": [
    {
     "data": {
      "text/plain": [
       "3"
      ]
     },
     "execution_count": 198,
     "metadata": {},
     "output_type": "execute_result"
    }
   ],
   "source": [
    "letters = ['a', 'b', 'c', 'a', 'd', 'a']\n",
    "\n",
    "letters.count('a')"
   ]
  },
  {
   "cell_type": "markdown",
   "id": "e53025b0-b1bc-4e87-a9c8-f462e1f1d603",
   "metadata": {},
   "source": [
    "\n",
    "<h2 style=\"color:red;\"> Removing Duplicates: </h2>\n",
    "\n",
    "```markdown\n",
    "Write a program to remove all duplicates from the list [1, 2, 2, 3, 4, 4, 5, 6, 6].\n",
    "```"
   ]
  },
  {
   "cell_type": "code",
   "execution_count": 217,
   "id": "bee3372a-8eb3-4703-b916-b33a3a5f30da",
   "metadata": {},
   "outputs": [
    {
     "name": "stdout",
     "output_type": "stream",
     "text": [
      "[1, 2, 3, 4, 5, 6]\n"
     ]
    }
   ],
   "source": [
    "numbers = [1, 2, 2, 3, 4, 4, 5, 6, 6]\n",
    "\n",
    "for number in numbers:\n",
    "    # print(number)\n",
    "    if number in numbers:\n",
    "        if numbers.count(number) > 1:\n",
    "            numbers.remove(number)\n",
    "    #     else:\n",
    "    #         pass\n",
    "    # else:\n",
    "    #     pass\n",
    "\n",
    "print(numbers)"
   ]
  },
  {
   "cell_type": "markdown",
   "id": "40e1fad5-d0ea-40e0-a67a-bc34b480ec95",
   "metadata": {},
   "source": [
    "\n",
    "## List Merging:\n",
    "\n",
    "```markdown\n",
    "Merge two lists [1, 3, 5] and [2, 4, 6] into a single sorted list.\n",
    "```"
   ]
  },
  {
   "cell_type": "code",
   "execution_count": 223,
   "id": "440703e1-738e-4007-875d-f58693150fb5",
   "metadata": {},
   "outputs": [
    {
     "name": "stdout",
     "output_type": "stream",
     "text": [
      "Unsorted merged list [1, 3, 5, 2, 4, 6]\n",
      "Sorted merged list [1, 2, 3, 4, 5, 6]\n"
     ]
    }
   ],
   "source": [
    "list_one = [1,3,5]\n",
    "list_two = [2,4,6]\n",
    "\n",
    "merged_list = list_one + list_two\n",
    "print(f\"Unsorted merged list {merged_list}\")\n",
    "\n",
    "merged_list.sort()\n",
    "print(f\"Sorted merged list {merged_list}\")"
   ]
  },
  {
   "cell_type": "markdown",
   "id": "36d6a726-6616-4af5-a149-831477a92edb",
   "metadata": {},
   "source": [
    "\n",
    "## Sum of List Elements:\n",
    "\n",
    "```markdown\n",
    "Write a function to calculate the sum of all elements in the list [10, 20, 30, 40, 50].\n",
    "```"
   ]
  },
  {
   "cell_type": "code",
   "execution_count": 228,
   "id": "cef8bbf7-118f-402e-8dd1-6a2b0e894d60",
   "metadata": {},
   "outputs": [
    {
     "name": "stdout",
     "output_type": "stream",
     "text": [
      "[10, 20, 30, 40, 50]\n",
      "Sum is: 150\n"
     ]
    }
   ],
   "source": [
    "def sum_list(my_list):\n",
    "    print(my_list)\n",
    "    my_sum = sum(my_list)\n",
    "    print(f\"Sum is: {my_sum}\")\n",
    "\n",
    "sum_list([10,20,30,40,50])"
   ]
  },
  {
   "cell_type": "code",
   "execution_count": 230,
   "id": "6566756b-ead3-40a4-8bad-2f6400730097",
   "metadata": {},
   "outputs": [
    {
     "name": "stdout",
     "output_type": "stream",
     "text": [
      "Sum is: 150\n"
     ]
    }
   ],
   "source": [
    "# without using functions\n",
    "\n",
    "def sum_list(my_list):\n",
    "    sumed = 0\n",
    "    for num in my_list:\n",
    "        sumed = sumed + num\n",
    "    print(f\"Sum is: {sumed}\")\n",
    "    \n",
    "sum_list([10,20,30,40,50])"
   ]
  },
  {
   "cell_type": "markdown",
   "id": "d03202d3-286b-4724-ba9e-79f18f3e318e",
   "metadata": {},
   "source": [
    "\n",
    "<h2 style=\"color: red;\"> Splitting a List:</h2>\n",
    "\n",
    "```markdown\n",
    "Split the list data = [1, 2, 3, 4, 5, 6, 7, 8] into two lists: one with the first half of the elements and one with the second half.\n",
    "```"
   ]
  },
  {
   "cell_type": "code",
   "execution_count": 260,
   "id": "f58fc272-3352-44bf-9345-a84f536d4248",
   "metadata": {},
   "outputs": [
    {
     "name": "stdout",
     "output_type": "stream",
     "text": [
      "[1, 2, 3, 4]\n",
      "[5, 6, 7, 8]\n"
     ]
    }
   ],
   "source": [
    "data = [1, 2, 3, 4, 5, 6, 7, 8]\n",
    "copied_data = data.copy()\n",
    "\n",
    "n = 4\n",
    "\n",
    "first_split = copied_data[:n:1]\n",
    "print(first_split)\n",
    "second_split = copied_data[n::]\n",
    "print(second_split)"
   ]
  },
  {
   "cell_type": "code",
   "execution_count": 261,
   "id": "88394e31-9de1-4b86-919d-25d12562ac37",
   "metadata": {},
   "outputs": [
    {
     "name": "stdout",
     "output_type": "stream",
     "text": [
      "4\n",
      "[1, 2, 3, 4]\n",
      "[5, 6, 7, 8]\n"
     ]
    }
   ],
   "source": [
    "# if data is large it will be difficult to manually find value of n ,so lets find midpoint\n",
    "\n",
    "data = [1, 2, 3, 4, 5, 6, 7, 8]\n",
    "copied_data = data.copy()\n",
    "\n",
    "# finding midpoint\n",
    "n = len(data) // 2\n",
    "print(n)\n",
    "\n",
    "first_split = copied_data[:n:1]\n",
    "print(first_split)\n",
    "second_split = copied_data[n::]\n",
    "print(second_split)"
   ]
  },
  {
   "cell_type": "markdown",
   "id": "3e3bb8c9-8e77-4b2a-9b73-2fae3b1e9216",
   "metadata": {},
   "source": [
    "\n",
    "## Nested List Operations:\n",
    "\n",
    "```markdown\n",
    "Create a 3x3 matrix using nested lists and write a program to calculate the sum of all elements in the matrix.\n",
    "```"
   ]
  },
  {
   "cell_type": "code",
   "execution_count": 269,
   "id": "9becda49-6e3d-40c5-8564-5b4f576778e7",
   "metadata": {},
   "outputs": [
    {
     "name": "stdout",
     "output_type": "stream",
     "text": [
      "The sum of all elements in the matrix: 18\n"
     ]
    }
   ],
   "source": [
    "matrix = [[1,2,3],[1,2,3],[1,2,3]]\n",
    "my_sum = 0\n",
    "\n",
    "for mat in matrix:\n",
    "    # print(mat)\n",
    "    for m in mat:\n",
    "        # print(m)\n",
    "        my_sum = my_sum + m\n",
    "print(f\"The sum of all elements in the matrix: {my_sum}\")"
   ]
  },
  {
   "cell_type": "code",
   "execution_count": null,
   "id": "14b7c8c9-7000-45aa-8b09-9e8279d914fe",
   "metadata": {},
   "outputs": [],
   "source": []
  }
 ],
 "metadata": {
  "kernelspec": {
   "display_name": "Python 3 (ipykernel)",
   "language": "python",
   "name": "python3"
  },
  "language_info": {
   "codemirror_mode": {
    "name": "ipython",
    "version": 3
   },
   "file_extension": ".py",
   "mimetype": "text/x-python",
   "name": "python",
   "nbconvert_exporter": "python",
   "pygments_lexer": "ipython3",
   "version": "3.12.4"
  }
 },
 "nbformat": 4,
 "nbformat_minor": 5
}
