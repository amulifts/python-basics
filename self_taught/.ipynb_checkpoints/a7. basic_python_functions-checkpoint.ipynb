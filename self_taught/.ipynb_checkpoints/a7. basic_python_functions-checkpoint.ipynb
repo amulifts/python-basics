{
 "cells": [
  {
   "cell_type": "markdown",
   "id": "71dd67ff-61f6-4712-a5de-8e7d9d0839b4",
   "metadata": {
    "jp-MarkdownHeadingCollapsed": true
   },
   "source": [
    "# 1. Functions in Python\n",
    "\n",
    "## What is a Function?\n",
    "\n",
    "- A function is a block of reusable code that performs a specific task.\n",
    "- Functions help you organize your code and make it more readable and modular.\n",
    "\n",
    "## Defining a Function:\n",
    "- You define a function using the `def keyword, followed by the function name, parentheses (), and a colon :`.\n",
    "- Inside the function, you write the code that will run when the function is called."
   ]
  },
  {
   "cell_type": "code",
   "execution_count": 1,
   "id": "23fb56b9-f0ea-41f7-bb0a-9dbabfe5ae9d",
   "metadata": {},
   "outputs": [
    {
     "name": "stdout",
     "output_type": "stream",
     "text": [
      "hello everyone\n"
     ]
    }
   ],
   "source": [
    "def greet():\n",
    "    print(f\"hello everyone\")\n",
    "\n",
    "greet()"
   ]
  },
  {
   "cell_type": "markdown",
   "id": "cab51c3d-1c48-4f13-8f82-a71dee3e7c9f",
   "metadata": {},
   "source": [
    "## Functions with Multiple Parameters:\n",
    "- Functions can take multiple parameters."
   ]
  },
  {
   "cell_type": "code",
   "execution_count": 6,
   "id": "07a206d8-feed-4c6e-b483-aff20e4385ad",
   "metadata": {},
   "outputs": [
    {
     "name": "stdout",
     "output_type": "stream",
     "text": [
      "Hello aman , i know you are 12 years old.\n",
      "None\n"
     ]
    }
   ],
   "source": [
    "def greet(name,age):\n",
    "    print(f\"Hello {name} , i know you are {age} years old.\")\n",
    "\n",
    "a = greet(\"aman\",12)\n",
    "print(a)"
   ]
  },
  {
   "cell_type": "markdown",
   "id": "5f0b7ad6-429b-4df8-8a2f-9642ba9644e5",
   "metadata": {},
   "source": [
    "## Returning Values from Functions:\n",
    "\n",
    "- You can use the return statement to return a value from a function."
   ]
  },
  {
   "cell_type": "code",
   "execution_count": 7,
   "id": "b6acd4e2-74af-4907-87b8-c6c222e409cd",
   "metadata": {},
   "outputs": [
    {
     "name": "stdout",
     "output_type": "stream",
     "text": [
      "7\n"
     ]
    }
   ],
   "source": [
    "def sum(num1, num2):\n",
    "    return num1 + num2 # You can use the return statement to return a value from a function.\n",
    "\n",
    "b = sum(2,5)\n",
    "print(b)"
   ]
  },
  {
   "cell_type": "markdown",
   "id": "33642858-00e6-4e44-99d6-a843425da935",
   "metadata": {},
   "source": [
    "# 2. Introduction to Built-in Functions\n",
    "Python comes with many built-in functions that you can use directly. Here are a few examples:"
   ]
  },
  {
   "cell_type": "markdown",
   "id": "0ee333d1-88a5-4cea-b008-f21b8cf9e223",
   "metadata": {},
   "source": [
    "## len() Function:\n",
    "- Returns the length (number of items) of an object, like a string, list, or tuple."
   ]
  },
  {
   "cell_type": "code",
   "execution_count": 8,
   "id": "13942dbf-f551-488f-893d-73f5bc8589cb",
   "metadata": {},
   "outputs": [
    {
     "data": {
      "text/plain": [
       "5"
      ]
     },
     "execution_count": 8,
     "metadata": {},
     "output_type": "execute_result"
    }
   ],
   "source": [
    "my_list = [1,2,3,4,5]\n",
    "len(my_list)"
   ]
  },
  {
   "cell_type": "markdown",
   "id": "9c7b4a45-d1e3-44f0-9b36-b957b763e238",
   "metadata": {},
   "source": [
    "## type() Function:\n",
    "\n",
    "- Returns the type of an object."
   ]
  },
  {
   "cell_type": "code",
   "execution_count": 9,
   "id": "e054b2cf-cb8b-4ac8-9587-3fe4e0fffef6",
   "metadata": {},
   "outputs": [
    {
     "data": {
      "text/plain": [
       "int"
      ]
     },
     "execution_count": 9,
     "metadata": {},
     "output_type": "execute_result"
    }
   ],
   "source": [
    "num = 10\n",
    "type(num)"
   ]
  },
  {
   "cell_type": "markdown",
   "id": "a834719e-d561-48b6-92fe-b3c8ab267139",
   "metadata": {},
   "source": [
    "## range() Function:\n",
    "\n",
    "- Generates a sequence of numbers, often used in loops."
   ]
  },
  {
   "cell_type": "code",
   "execution_count": 14,
   "id": "b75c0490-fc23-4d02-a862-20d78980c894",
   "metadata": {},
   "outputs": [
    {
     "data": {
      "text/plain": [
       "(1, 2, 3, 4, 5, 6, 7, 8, 9)"
      ]
     },
     "execution_count": 14,
     "metadata": {},
     "output_type": "execute_result"
    }
   ],
   "source": [
    "tuple(range(1,10,1))"
   ]
  },
  {
   "cell_type": "markdown",
   "id": "e43c9169-30a0-4a9f-b06e-c0d8ca48229b",
   "metadata": {},
   "source": [
    "# 3. Using the help() Function for Documentation\n",
    "\n",
    "- The help() function provides information about how to use a function, module, or class.\n",
    "\n"
   ]
  },
  {
   "cell_type": "code",
   "execution_count": 13,
   "id": "2a504b7c-6372-4461-a205-a81521352f25",
   "metadata": {},
   "outputs": [
    {
     "name": "stdout",
     "output_type": "stream",
     "text": [
      "Help on built-in function len in module builtins:\n",
      "\n",
      "len(obj, /)\n",
      "    Return the number of items in a container.\n",
      "\n"
     ]
    }
   ],
   "source": [
    "help(len)"
   ]
  },
  {
   "cell_type": "code",
   "execution_count": null,
   "id": "b28066e4-f3f6-4e61-ba03-828248c13a2a",
   "metadata": {},
   "outputs": [],
   "source": []
  }
 ],
 "metadata": {
  "kernelspec": {
   "display_name": "Python 3 (ipykernel)",
   "language": "python",
   "name": "python3"
  },
  "language_info": {
   "codemirror_mode": {
    "name": "ipython",
    "version": 3
   },
   "file_extension": ".py",
   "mimetype": "text/x-python",
   "name": "python",
   "nbconvert_exporter": "python",
   "pygments_lexer": "ipython3",
   "version": "3.12.4"
  }
 },
 "nbformat": 4,
 "nbformat_minor": 5
}
