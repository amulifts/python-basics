{
 "cells": [
  {
   "cell_type": "markdown",
   "id": "8057ce95-1e65-4ddc-9e19-491cd6e4e4a0",
   "metadata": {},
   "source": [
    "# 1. Defining Functions with def\n",
    "\n",
    "- To define a function in Python, you use the def keyword followed by the function name, parentheses (), and a colon :.\n",
    "- The code block under the def statement is the function body."
   ]
  },
  {
   "cell_type": "code",
   "execution_count": 2,
   "id": "f625224a-f9b9-41cd-984e-1c93e06b143e",
   "metadata": {},
   "outputs": [
    {
     "name": "stdout",
     "output_type": "stream",
     "text": [
      "Hello World\n"
     ]
    }
   ],
   "source": [
    "def greet():\n",
    "    print(\"Hello World\")\n",
    "\n",
    "greet()"
   ]
  },
  {
   "cell_type": "markdown",
   "id": "22843949-3777-4c51-9b32-f6af04a253d2",
   "metadata": {},
   "source": [
    "# 2. Parameters, Arguments, and Return Values\n",
    "- Parameters are variables listed in the function definition.\n",
    "- Arguments are values passed to the function when it is called.\n",
    "- Return Values are the results that the function sends back to the caller."
   ]
  },
  {
   "cell_type": "code",
   "execution_count": 8,
   "id": "727751d6-6508-4639-bc52-fb8f39c997aa",
   "metadata": {},
   "outputs": [
    {
     "data": {
      "text/plain": [
       "4"
      ]
     },
     "execution_count": 8,
     "metadata": {},
     "output_type": "execute_result"
    }
   ],
   "source": [
    "def add(num1, num2):\n",
    "    return num1 + num2\n",
    "\n",
    "add(2,2)"
   ]
  },
  {
   "cell_type": "markdown",
   "id": "619bb58a-a738-41db-8bdc-b097eda1b728",
   "metadata": {},
   "source": [
    "# 3. Default Arguments and Keyword Arguments\n",
    "- `Default Arguments:` You can provide default values for parameters. If the caller doesn’t provide an argument, the default is used.\n",
    "- `Keyword Arguments:` You can call functions with arguments in the form of key=value. This allows you to specify which arguments to pass, even out of order."
   ]
  },
  {
   "cell_type": "code",
   "execution_count": 10,
   "id": "b5b5d9c6-4a52-4f61-be12-bd34ea451b3b",
   "metadata": {},
   "outputs": [
    {
     "name": "stdout",
     "output_type": "stream",
     "text": [
      "Hello World\n",
      "Hello Aman\n"
     ]
    }
   ],
   "source": [
    "# Example of Default Arguments\n",
    "\n",
    "def greet(name=\"World\"):\n",
    "    print(f\"Hello {name}\")\n",
    "\n",
    "greet()\n",
    "greet(\"Aman\")"
   ]
  },
  {
   "cell_type": "code",
   "execution_count": 11,
   "id": "e8b6e67f-edfc-407b-ad27-a81adab12f84",
   "metadata": {},
   "outputs": [
    {
     "name": "stdout",
     "output_type": "stream",
     "text": [
      "Aman is 21 years old and lives in Nepal\n"
     ]
    }
   ],
   "source": [
    "# Example of Keyword Arguments\n",
    "\n",
    "def greet(name, age, country):\n",
    "    print(f\"{name} is {age} years old and lives in {country}\")\n",
    "\n",
    "greet(age=21,name=\"Aman\",country=\"Nepal\")"
   ]
  },
  {
   "cell_type": "markdown",
   "id": "8f3749e9-6983-4dab-9fe4-4f6e1dbfb347",
   "metadata": {},
   "source": [
    "# 4. Variable Scope: Local vs Global\n",
    "- `Local Variables:` Variables defined inside a function are local to that function and cannot be accessed outside it.\n",
    "- `Global Variables:` Variables defined outside all functions are global and can be accessed anywhere in the code."
   ]
  },
  {
   "cell_type": "code",
   "execution_count": 12,
   "id": "8efa9a3a-3097-4c54-8d09-c9e7a63b9852",
   "metadata": {},
   "outputs": [
    {
     "name": "stdout",
     "output_type": "stream",
     "text": [
      "Inside function: 5\n",
      "Outside function: 10\n"
     ]
    }
   ],
   "source": [
    "x = 10  # Global variable\n",
    "\n",
    "def func():\n",
    "    x = 5  # Local variable\n",
    "    print(f\"Inside function: {x}\")\n",
    "\n",
    "func()  # Outputs: Inside function: 5\n",
    "print(f\"Outside function: {x}\")  # Outputs: Outside function: 10\n"
   ]
  },
  {
   "cell_type": "markdown",
   "id": "61da7cf9-a620-4211-8a36-d44475177c45",
   "metadata": {},
   "source": [
    "- To modify a global variable inside a function, you can use the global keyword."
   ]
  },
  {
   "cell_type": "code",
   "execution_count": 16,
   "id": "e752187d-106f-4ab6-ad50-4eb6dca6633a",
   "metadata": {},
   "outputs": [
    {
     "name": "stdout",
     "output_type": "stream",
     "text": [
      "5\n"
     ]
    }
   ],
   "source": [
    "x = 10\n",
    "\n",
    "def change_global():\n",
    "    global x\n",
    "    x = 5\n",
    "\n",
    "change_global()\n",
    "print(x)"
   ]
  },
  {
   "cell_type": "markdown",
   "id": "821dabbf-f9dd-4f09-8785-208315d0050a",
   "metadata": {},
   "source": [
    "# 5. Function Documentation (Docstrings)\n",
    "- Docstrings are a way to document what your function does.\n",
    "- You define them by writing a string (usually triple quotes \"\"\") immediately after the function definition."
   ]
  },
  {
   "cell_type": "code",
   "execution_count": 17,
   "id": "9a083f31-34f4-4bd9-a0e7-e2b2082b69ab",
   "metadata": {},
   "outputs": [
    {
     "name": "stdout",
     "output_type": "stream",
     "text": [
      "20\n",
      "\n",
      "    Multiplies two numbers and returns the result.\n",
      "    :param a: First number\n",
      "    :param b: Second number\n",
      "    :return: Product of a and b\n",
      "    \n"
     ]
    }
   ],
   "source": [
    "def multiply(a, b):\n",
    "    \"\"\"\n",
    "    Multiplies two numbers and returns the result.\n",
    "    :param a: First number\n",
    "    :param b: Second number\n",
    "    :return: Product of a and b\n",
    "    \"\"\"\n",
    "    return a * b\n",
    "\n",
    "print(multiply(4, 5))\n",
    "print(multiply.__doc__)"
   ]
  },
  {
   "cell_type": "markdown",
   "id": "302fc0cb-9f52-4203-ae51-a7bc403f4f83",
   "metadata": {},
   "source": [
    "# *args\n",
    "- When a function parameter starts with an asterisk, it allows for an arbitrary number of arguments, and the function takes them in as a `tuple of values`. Rewriting the above function:"
   ]
  },
  {
   "cell_type": "code",
   "execution_count": 21,
   "id": "b2705219-c3b2-46e7-9d73-e7870ca833b2",
   "metadata": {},
   "outputs": [
    {
     "data": {
      "text/plain": [
       "(10, 20, 30, 10, 20, 30)"
      ]
     },
     "execution_count": 21,
     "metadata": {},
     "output_type": "execute_result"
    }
   ],
   "source": [
    "def myfunc(*args):\n",
    "    return(args*2)\n",
    "\n",
    "myfunc(10,20,30)"
   ]
  },
  {
   "cell_type": "code",
   "execution_count": 23,
   "id": "964996b2-a05d-4b4b-be8f-38a78e61af9a",
   "metadata": {},
   "outputs": [
    {
     "data": {
      "text/plain": [
       "(10, 20, 30, 10, 20, 30)"
      ]
     },
     "execution_count": 23,
     "metadata": {},
     "output_type": "execute_result"
    }
   ],
   "source": [
    "# we can use anyname instead of args but args is naming conventions \n",
    "\n",
    "def myfunc(*aman):\n",
    "    return(aman*2)\n",
    "\n",
    "myfunc(10,20,30)"
   ]
  },
  {
   "cell_type": "code",
   "execution_count": 24,
   "id": "300c8065-2915-414e-b68e-beeff642c539",
   "metadata": {},
   "outputs": [
    {
     "name": "stdout",
     "output_type": "stream",
     "text": [
      "10\n",
      "20\n",
      "30\n"
     ]
    }
   ],
   "source": [
    "def myfunc(*args):\n",
    "    for i in args:\n",
    "        print(i)\n",
    "\n",
    "myfunc(10,20,30)"
   ]
  },
  {
   "cell_type": "markdown",
   "id": "cf52a452-cd2c-46ec-a178-5f587b1cd583",
   "metadata": {},
   "source": [
    "# **kwargs\n",
    "\n",
    "- Similarly, Python offers a way to handle arbitrary numbers of keyworded arguments. Instead of creating a tuple of values, **kwargs builds a `dictionary of key/value pairs`."
   ]
  },
  {
   "cell_type": "code",
   "execution_count": 28,
   "id": "662ffbe5-9038-43c2-b4f2-51514e723e35",
   "metadata": {},
   "outputs": [
    {
     "name": "stdout",
     "output_type": "stream",
     "text": [
      "{'fruit': 'Apple'}\n",
      "My favourite fruit is Apple\n"
     ]
    }
   ],
   "source": [
    "def fav_fruit(**kwargs):\n",
    "    print(kwargs)\n",
    "    if 'fruit' in kwargs:\n",
    "        print(f\"My favourite fruit is {kwargs['fruit']}\")\n",
    "    else:\n",
    "        print(\"I don't like fruit\")\n",
    "\n",
    "fav_fruit(fruit='Apple')"
   ]
  },
  {
   "cell_type": "markdown",
   "id": "cb75a54c-2664-464a-962e-a8cbd928c985",
   "metadata": {},
   "source": [
    "# *args and **kwargs combined\n",
    "- You can pass *args and **kwargs into the same function, but *args have to appear before **kwargs"
   ]
  },
  {
   "cell_type": "code",
   "execution_count": 36,
   "id": "b2083d96-d10c-4e40-83cf-5607881e212d",
   "metadata": {},
   "outputs": [
    {
     "name": "stdout",
     "output_type": "stream",
     "text": [
      "I have 10 chicken\n"
     ]
    }
   ],
   "source": [
    "def myfunc(*args, **kwargs):\n",
    "    print(f\"I have {args[0]} {kwargs['food']}\")\n",
    "\n",
    "myfunc(10,20,30,40,food=\"chicken\", fruits=\"grapes\")"
   ]
  },
  {
   "cell_type": "code",
   "execution_count": 38,
   "id": "16cecdc0-d3f8-4822-af0f-fea91f5d6494",
   "metadata": {},
   "outputs": [
    {
     "name": "stdout",
     "output_type": "stream",
     "text": [
      "(10, 20, 30, 40)\n",
      "{'food': 'chicken', 'fruits': 'grapes'}\n",
      "I have 20 grapes\n"
     ]
    }
   ],
   "source": [
    "def myfunc(*args, **kwargs):\n",
    "    print(args)\n",
    "    print(kwargs)\n",
    "    print(f\"I have {args[1]} {kwargs['fruits']}\")\n",
    "\n",
    "myfunc(10,20,30,40,food=\"chicken\", fruits=\"grapes\")"
   ]
  },
  {
   "cell_type": "code",
   "execution_count": null,
   "id": "6c457f4c-0a57-4321-971d-bc5f974e03ba",
   "metadata": {},
   "outputs": [],
   "source": []
  }
 ],
 "metadata": {
  "kernelspec": {
   "display_name": "Python 3 (ipykernel)",
   "language": "python",
   "name": "python3"
  },
  "language_info": {
   "codemirror_mode": {
    "name": "ipython",
    "version": 3
   },
   "file_extension": ".py",
   "mimetype": "text/x-python",
   "name": "python",
   "nbconvert_exporter": "python",
   "pygments_lexer": "ipython3",
   "version": "3.12.4"
  }
 },
 "nbformat": 4,
 "nbformat_minor": 5
}
