{
 "cells": [
  {
   "cell_type": "markdown",
   "id": "a6f649de-a0cb-41de-ab27-fd2221f53e40",
   "metadata": {},
   "source": [
    "# 1. Defining and using variables"
   ]
  },
  {
   "cell_type": "markdown",
   "id": "dfd6e8a5-a18b-47bf-a14e-c7fb40f6641f",
   "metadata": {},
   "source": [
    "## What are Variables?\n",
    "- Variables are used to store data that can be used and manipulated in your program.\n",
    "- In Python, you don't need to declare a variable type explicitly; Python automatically assigns the data type based on the value you assign.\n",
    "\n",
    "## Defining Variables:\n",
    "- You can define a variable by simply assigning a value to it using the = operator.\n"
   ]
  },
  {
   "cell_type": "code",
   "execution_count": 1,
   "id": "aed6902c-2e25-4faa-920e-2d7f27063870",
   "metadata": {},
   "outputs": [],
   "source": [
    "name = \"Aman\" # string variable\n",
    "age = 21 # integer variable\n",
    "height = 5.9 # float variable\n",
    "is_male = True # boolean variable"
   ]
  },
  {
   "cell_type": "markdown",
   "id": "79d97dae-2e90-418c-bf3a-be9020e55239",
   "metadata": {},
   "source": [
    "## Using Variables:"
   ]
  },
  {
   "cell_type": "code",
   "execution_count": 2,
   "id": "5128cea0-faa8-4e3e-b30b-23f66d4ed5e0",
   "metadata": {},
   "outputs": [
    {
     "name": "stdout",
     "output_type": "stream",
     "text": [
      "Name:  Aman\n",
      "Age:  21\n",
      "height:  5.9\n",
      "Male:  True\n"
     ]
    }
   ],
   "source": [
    "# We can use these variables in our program\n",
    "\n",
    "print(\"Name: \", name)\n",
    "print(\"Age: \", age)\n",
    "print(\"height: \", height)\n",
    "print(\"Male: \", is_male)"
   ]
  },
  {
   "cell_type": "markdown",
   "id": "2a055763-83a8-4b54-ac62-f8a2e3bc192e",
   "metadata": {},
   "source": [
    "# 2. Understanding data types"
   ]
  },
  {
   "cell_type": "markdown",
   "id": "da343e5c-dc71-4a99-87c0-4290deba7f4c",
   "metadata": {},
   "source": [
    "## Integers (int):\n",
    "- Whole numbers without a decimal point."
   ]
  },
  {
   "cell_type": "code",
   "execution_count": 3,
   "id": "e5008269-5ea2-4dcf-89ef-46f967f45f78",
   "metadata": {},
   "outputs": [],
   "source": [
    "num1 = 10\n",
    "num2 = -1"
   ]
  },
  {
   "cell_type": "markdown",
   "id": "633b41c1-e678-4327-9223-150abe6b70d4",
   "metadata": {},
   "source": [
    "## Floats (float):\n",
    "- Numbers with a decimal point."
   ]
  },
  {
   "cell_type": "code",
   "execution_count": 6,
   "id": "76a53094-652f-4a8b-9a5d-e617ede74477",
   "metadata": {},
   "outputs": [],
   "source": [
    "pi = 3.14\n",
    "gravity = 9.81"
   ]
  },
  {
   "cell_type": "markdown",
   "id": "8ca00572-602d-4245-a987-9d8b55583ad3",
   "metadata": {},
   "source": [
    "## Strings (str):\n",
    "A sequence of characters enclosed in quotes (\"\" or '')."
   ]
  },
  {
   "cell_type": "code",
   "execution_count": 7,
   "id": "a311fe4d-d51f-4a01-acc5-0867aabf3ba0",
   "metadata": {},
   "outputs": [],
   "source": [
    "greeting = \"Hello, World!\"\n",
    "single_char = 'A'"
   ]
  },
  {
   "cell_type": "markdown",
   "id": "1f48f3d0-9961-43f2-96e4-05f182840be5",
   "metadata": {},
   "source": [
    "## Booleans (bool):\n",
    "Logical values representing True or False."
   ]
  },
  {
   "cell_type": "code",
   "execution_count": 8,
   "id": "55c39791-5f1d-497c-8c6c-9ceefa36f285",
   "metadata": {},
   "outputs": [],
   "source": [
    "is_python_fun = True\n",
    "is_snowing = False"
   ]
  },
  {
   "cell_type": "markdown",
   "id": "34ef3218-bb5f-43ea-954f-aec5b41891f8",
   "metadata": {},
   "source": [
    "# 3. Type conversion"
   ]
  },
  {
   "cell_type": "code",
   "execution_count": 10,
   "id": "52064cfe-3e91-4767-87c0-fd6628dfae5f",
   "metadata": {},
   "outputs": [],
   "source": [
    "number_str = \"30\" # This is an string\n",
    "number_int = int(number_str) # This converts that string value to integer\n",
    "height_str = \"5.9\"\n",
    "height_int = float(height_str) # This converts that string value to float"
   ]
  },
  {
   "cell_type": "code",
   "execution_count": 15,
   "id": "3cdd3e7c-6bbb-4317-b7bb-34d774722435",
   "metadata": {},
   "outputs": [
    {
     "data": {
      "text/plain": [
       "str"
      ]
     },
     "execution_count": 15,
     "metadata": {},
     "output_type": "execute_result"
    }
   ],
   "source": [
    "type(number_str)"
   ]
  },
  {
   "cell_type": "code",
   "execution_count": 16,
   "id": "50f95c38-4539-4a02-b32e-8d49e7decaa3",
   "metadata": {},
   "outputs": [
    {
     "data": {
      "text/plain": [
       "int"
      ]
     },
     "execution_count": 16,
     "metadata": {},
     "output_type": "execute_result"
    }
   ],
   "source": [
    "type(number_int)"
   ]
  },
  {
   "cell_type": "code",
   "execution_count": 17,
   "id": "4ab771dc-731c-466e-87dc-801f5f9a7f73",
   "metadata": {},
   "outputs": [
    {
     "data": {
      "text/plain": [
       "str"
      ]
     },
     "execution_count": 17,
     "metadata": {},
     "output_type": "execute_result"
    }
   ],
   "source": [
    "type(height_str)"
   ]
  },
  {
   "cell_type": "code",
   "execution_count": 18,
   "id": "fd00369d-d6d4-4cc1-8753-d8ecdfd40fa5",
   "metadata": {},
   "outputs": [
    {
     "data": {
      "text/plain": [
       "float"
      ]
     },
     "execution_count": 18,
     "metadata": {},
     "output_type": "execute_result"
    }
   ],
   "source": [
    "type(height_int)"
   ]
  },
  {
   "cell_type": "code",
   "execution_count": null,
   "id": "3f8910b7-5123-4b68-8574-eb46c6dc16b5",
   "metadata": {},
   "outputs": [],
   "source": []
  }
 ],
 "metadata": {
  "kernelspec": {
   "display_name": "Python 3 (ipykernel)",
   "language": "python",
   "name": "python3"
  },
  "language_info": {
   "codemirror_mode": {
    "name": "ipython",
    "version": 3
   },
   "file_extension": ".py",
   "mimetype": "text/x-python",
   "name": "python",
   "nbconvert_exporter": "python",
   "pygments_lexer": "ipython3",
   "version": "3.12.4"
  }
 },
 "nbformat": 4,
 "nbformat_minor": 5
}
