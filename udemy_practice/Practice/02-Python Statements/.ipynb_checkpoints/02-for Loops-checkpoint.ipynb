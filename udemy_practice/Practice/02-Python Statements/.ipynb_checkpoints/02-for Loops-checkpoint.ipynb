{
 "cells": [
  {
   "cell_type": "markdown",
   "id": "a8aed7fb",
   "metadata": {},
   "source": [
    "# for Loops"
   ]
  },
  {
   "cell_type": "markdown",
   "id": "c8b67a4e",
   "metadata": {},
   "source": [
    "A <code>for</code> loop acts as an iterator in Python; it goes through items that are in a *sequence* or any other iterable item. Objects that we've learned about that we can iterate over include <b>strings, lists, tuples, and even built-in iterables for dictionaries</b>, such as keys or values.\n",
    "\n",
    "Here's the general format for a <code>for</code> loop in Python:\n",
    "\n",
    "    for item in object:\n",
    "        statements to do stuff"
   ]
  },
  {
   "cell_type": "code",
   "execution_count": 4,
   "id": "f42b5498",
   "metadata": {},
   "outputs": [
    {
     "name": "stdout",
     "output_type": "stream",
     "text": [
      "1\n",
      "2\n",
      "3\n",
      "4\n",
      "5\n"
     ]
    }
   ],
   "source": [
    "my_list = [1,2,3,4,5]\n",
    "for num in my_list:\n",
    "    print(num)"
   ]
  },
  {
   "cell_type": "code",
   "execution_count": 7,
   "id": "a18e313c",
   "metadata": {},
   "outputs": [
    {
     "name": "stdout",
     "output_type": "stream",
     "text": [
      "Grusha\n",
      "Grusha\n",
      "Grusha\n",
      "Grusha\n"
     ]
    }
   ],
   "source": [
    "my_list = [1,2,3,4]\n",
    "for abc in my_list:\n",
    "    print(\"Grusha\")"
   ]
  },
  {
   "cell_type": "markdown",
   "id": "02e8692f",
   "metadata": {},
   "source": [
    "### Modulo\n",
    "\n",
    "The Moduo allows us to get the remainder in a division."
   ]
  },
  {
   "cell_type": "code",
   "execution_count": 10,
   "id": "639f7df9",
   "metadata": {},
   "outputs": [
    {
     "data": {
      "text/plain": [
       "2"
      ]
     },
     "execution_count": 10,
     "metadata": {},
     "output_type": "execute_result"
    }
   ],
   "source": [
    "# 3 Remainder 2\n",
    "17 % 5"
   ]
  },
  {
   "cell_type": "code",
   "execution_count": 11,
   "id": "441ad1de",
   "metadata": {},
   "outputs": [
    {
     "data": {
      "text/plain": [
       "1"
      ]
     },
     "execution_count": 11,
     "metadata": {},
     "output_type": "execute_result"
    }
   ],
   "source": [
    "# 3 Remainder 1\n",
    "10 % 3"
   ]
  },
  {
   "cell_type": "code",
   "execution_count": 12,
   "id": "12ecf648",
   "metadata": {},
   "outputs": [
    {
     "data": {
      "text/plain": [
       "4"
      ]
     },
     "execution_count": 12,
     "metadata": {},
     "output_type": "execute_result"
    }
   ],
   "source": [
    "# 2 Remainder 4\n",
    "18 % 7"
   ]
  },
  {
   "cell_type": "code",
   "execution_count": 22,
   "id": "b4505c9f",
   "metadata": {},
   "outputs": [
    {
     "data": {
      "text/plain": [
       "0"
      ]
     },
     "execution_count": 22,
     "metadata": {},
     "output_type": "execute_result"
    }
   ],
   "source": [
    "# 2 no Remainder\n",
    "4 % 2"
   ]
  },
  {
   "cell_type": "markdown",
   "id": "d66674f8",
   "metadata": {},
   "source": [
    "## Even and Odd Numbers"
   ]
  },
  {
   "cell_type": "code",
   "execution_count": 27,
   "id": "9299a3aa",
   "metadata": {},
   "outputs": [
    {
     "name": "stdout",
     "output_type": "stream",
     "text": [
      "1\n",
      "2\n",
      "3\n",
      "4\n",
      "5\n",
      "6\n",
      "7\n",
      "8\n",
      "9\n",
      "10\n"
     ]
    }
   ],
   "source": [
    "my_list = [1,2,3,4,5,6,7,8,9,10]\n",
    "for num in my_list:\n",
    "#     if num%2 == 0:\n",
    "        print(num)\n",
    "#     else:\n",
    "#         print(\"Odd number\")"
   ]
  },
  {
   "cell_type": "code",
   "execution_count": 26,
   "id": "347d3c29",
   "metadata": {},
   "outputs": [
    {
     "name": "stdout",
     "output_type": "stream",
     "text": [
      "2\n",
      "4\n",
      "6\n",
      "8\n",
      "10\n"
     ]
    }
   ],
   "source": [
    "my_list = [1,2,3,4,5,6,7,8,9,10]\n",
    "for num in my_list:\n",
    "    if num%2 == 0:\n",
    "        print(num)\n",
    "#     else:\n",
    "#         print(\"Odd number\")"
   ]
  },
  {
   "cell_type": "code",
   "execution_count": 36,
   "id": "361b094e",
   "metadata": {},
   "outputs": [
    {
     "name": "stdout",
     "output_type": "stream",
     "text": [
      "Odd number\n",
      "2\n",
      "Odd number\n",
      "4\n",
      "Odd number\n",
      "6\n",
      "Odd number\n",
      "8\n",
      "Odd number\n",
      "10\n"
     ]
    }
   ],
   "source": [
    "my_list = [1,2,3,4,5,6,7,8,9,10]\n",
    "for num in my_list:\n",
    "    if num%2 == 0:\n",
    "        print(num)\n",
    "    else:\n",
    "        print(\"Odd number\")"
   ]
  },
  {
   "cell_type": "markdown",
   "id": "17c39089",
   "metadata": {},
   "source": [
    "<b>-----------------------------------------------------------------------------------------------------------------------------------------------------------------------</b>"
   ]
  },
  {
   "cell_type": "code",
   "execution_count": 38,
   "id": "4faa2c46",
   "metadata": {},
   "outputs": [
    {
     "name": "stdout",
     "output_type": "stream",
     "text": [
      "1\n",
      "2\n",
      "3\n",
      "4\n",
      "5\n",
      "6\n",
      "7\n",
      "8\n",
      "9\n",
      "10\n"
     ]
    }
   ],
   "source": [
    "my_list = [1,2,3,4,5,6,7,8,9,10]\n",
    "for num in my_list:\n",
    "#     if num%2 == 0:\n",
    "        print(num)\n",
    "#     else:\n",
    "#         print(\"Even number\")"
   ]
  },
  {
   "cell_type": "code",
   "execution_count": 40,
   "id": "6e4e1a4d",
   "metadata": {},
   "outputs": [
    {
     "name": "stdout",
     "output_type": "stream",
     "text": [
      "1\n",
      "3\n",
      "5\n",
      "7\n",
      "9\n"
     ]
    }
   ],
   "source": [
    "my_list = [1,2,3,4,5,6,7,8,9,10]\n",
    "for num in my_list:\n",
    "    if num%2 == 1:\n",
    "        print(num)\n",
    "#     else:\n",
    "#         print(\"Even number\")"
   ]
  },
  {
   "cell_type": "code",
   "execution_count": 54,
   "id": "739b95d1",
   "metadata": {},
   "outputs": [
    {
     "name": "stdout",
     "output_type": "stream",
     "text": [
      "1\n",
      "Even number\n",
      "3\n",
      "Even number\n",
      "5\n",
      "Even number\n",
      "7\n",
      "Even number\n",
      "9\n",
      "Even number\n"
     ]
    }
   ],
   "source": [
    "my_list = [1,2,3,4,5,6,7,8,9,10]\n",
    "for num in my_list:\n",
    "    if num%2 == 1:\n",
    "        print(num)\n",
    "    else:\n",
    "        print(\"Even number\")"
   ]
  },
  {
   "cell_type": "code",
   "execution_count": 64,
   "id": "122dd581",
   "metadata": {},
   "outputs": [
    {
     "name": "stdout",
     "output_type": "stream",
     "text": [
      "Odd Numbers 1\n",
      "Even Numbers 2\n",
      "Odd Numbers 3\n",
      "Even Numbers 4\n",
      "Odd Numbers 5\n",
      "Even Numbers 6\n",
      "Odd Numbers 7\n",
      "Even Numbers 8\n",
      "Odd Numbers 9\n",
      "Even Numbers 10\n"
     ]
    }
   ],
   "source": [
    "# Final Program\n",
    "my_list = [1,2,3,4,5,6,7,8,9,10]\n",
    "for i in my_list:\n",
    "    if i%2==0:\n",
    "        print(\"Even Numbers {}\".format(i))\n",
    "    else:\n",
    "        print(f\"Odd Numbers {i}\")"
   ]
  },
  {
   "cell_type": "markdown",
   "id": "f6cdceb1",
   "metadata": {},
   "source": [
    "## Example"
   ]
  },
  {
   "cell_type": "code",
   "execution_count": 2,
   "id": "22a372d1",
   "metadata": {},
   "outputs": [],
   "source": [
    "my_list = [1,2,3,4,5]"
   ]
  },
  {
   "cell_type": "code",
   "execution_count": 3,
   "id": "62b2455f",
   "metadata": {},
   "outputs": [
    {
     "name": "stdout",
     "output_type": "stream",
     "text": [
      "15\n"
     ]
    }
   ],
   "source": [
    "print(my_list[0]+my_list[1]+my_list[2]+my_list[3]+my_list[4])"
   ]
  },
  {
   "cell_type": "markdown",
   "id": "93c67ba1",
   "metadata": {},
   "source": [
    "What if there are <b>hundreds of thousands</b> numbers in that list, it is impossible to add all those"
   ]
  },
  {
   "cell_type": "code",
   "execution_count": 11,
   "id": "1da22c44",
   "metadata": {},
   "outputs": [
    {
     "name": "stdout",
     "output_type": "stream",
     "text": [
      "1\n",
      "3\n",
      "6\n",
      "10\n",
      "15\n"
     ]
    }
   ],
   "source": [
    "initial_num = 0\n",
    "for i in my_list:\n",
    "    initial_num = initial_num + i\n",
    "    print(initial_num)"
   ]
  },
  {
   "cell_type": "code",
   "execution_count": 16,
   "id": "30d2ce03",
   "metadata": {},
   "outputs": [
    {
     "name": "stdout",
     "output_type": "stream",
     "text": [
      "Sum is: 15\n"
     ]
    }
   ],
   "source": [
    "initial_num = 0\n",
    "for i in my_list:\n",
    "    initial_num = initial_num + i\n",
    "print(f\"Sum is: {initial_num}\")"
   ]
  },
  {
   "cell_type": "code",
   "execution_count": 17,
   "id": "f919189b",
   "metadata": {},
   "outputs": [
    {
     "name": "stdout",
     "output_type": "stream",
     "text": [
      "1\n",
      "2\n",
      "6\n",
      "24\n",
      "120\n"
     ]
    }
   ],
   "source": [
    "initial_num = 1\n",
    "for i in my_list:\n",
    "    initial_num = initial_num * i\n",
    "    print(initial_num)"
   ]
  },
  {
   "cell_type": "code",
   "execution_count": 19,
   "id": "dd140ec4",
   "metadata": {},
   "outputs": [
    {
     "name": "stdout",
     "output_type": "stream",
     "text": [
      "Product is: 120\n"
     ]
    }
   ],
   "source": [
    "initial_num = 1\n",
    "for i in my_list:\n",
    "    initial_num = initial_num * i\n",
    "print(\"Product is: {}\".format(initial_num))"
   ]
  },
  {
   "cell_type": "markdown",
   "id": "2a3e29c2",
   "metadata": {},
   "source": [
    "## Example\n",
    "Let's now look at how a <code>for</code> loop can be used with a string:"
   ]
  },
  {
   "cell_type": "code",
   "execution_count": 23,
   "id": "215d3efb",
   "metadata": {},
   "outputs": [
    {
     "name": "stdout",
     "output_type": "stream",
     "text": [
      "H\n",
      "e\n",
      "l\n",
      "l\n",
      "o\n",
      " \n",
      "A\n",
      "m\n",
      "a\n",
      "n\n",
      " \n",
      "K\n",
      "h\n",
      "a\n",
      "d\n",
      "k\n",
      "a\n"
     ]
    }
   ],
   "source": [
    "name = \"Hello Aman Khadka\"\n",
    "for letter in name:\n",
    "    print(letter)"
   ]
  },
  {
   "cell_type": "code",
   "execution_count": 24,
   "id": "38db728f",
   "metadata": {},
   "outputs": [
    {
     "name": "stdout",
     "output_type": "stream",
     "text": [
      "H\n",
      "e\n",
      "l\n",
      "l\n",
      "o\n",
      " \n",
      "A\n",
      "m\n",
      "a\n",
      "n\n",
      " \n",
      "K\n",
      "h\n",
      "a\n",
      "d\n",
      "k\n",
      "a\n"
     ]
    }
   ],
   "source": [
    "for letter in \"Hello Aman Khadka\":\n",
    "    print(letter)"
   ]
  },
  {
   "cell_type": "code",
   "execution_count": 36,
   "id": "c03f289c",
   "metadata": {},
   "outputs": [
    {
     "name": "stdout",
     "output_type": "stream",
     "text": [
      "Aman!\n",
      "Aman!\n",
      "Aman!\n",
      "Aman!\n",
      "Aman!\n",
      "Aman!\n",
      "Aman!\n",
      "Aman!\n",
      "Aman!\n",
      "Aman!\n",
      "Aman!\n",
      "Aman!\n",
      "Aman!\n",
      "Aman!\n",
      "Aman!\n",
      "Aman!\n",
      "Aman!\n",
      "Aman!\n",
      "Aman!\n",
      "Aman!\n",
      "Aman!\n",
      "Aman!\n"
     ]
    }
   ],
   "source": [
    "# _ dummy variable / temporary variable\n",
    "for _ in \"Hello Grusha Bhattarai\":\n",
    "    print('Aman!')"
   ]
  },
  {
   "cell_type": "code",
   "execution_count": 35,
   "id": "82a0b6a2",
   "metadata": {},
   "outputs": [
    {
     "name": "stdout",
     "output_type": "stream",
     "text": [
      "Aman! Aman! Aman! Aman! Aman! Aman! Aman! Aman! Aman! Aman! Aman! Aman! Aman! Aman! Aman! Aman! Aman! Aman! Aman! Aman! Aman! Aman! "
     ]
    }
   ],
   "source": [
    "for _ in \"Hello Grusha Bhattarai\":\n",
    "    print('Aman!', end=\" \")"
   ]
  },
  {
   "cell_type": "markdown",
   "id": "66fb512b",
   "metadata": {},
   "source": [
    "## Example\n",
    "Let's now look at how a <code>for</code> loop can be used with a tuple:"
   ]
  },
  {
   "cell_type": "code",
   "execution_count": 41,
   "id": "fdc7e8b9",
   "metadata": {},
   "outputs": [
    {
     "name": "stdout",
     "output_type": "stream",
     "text": [
      "1\n",
      "2\n",
      "3\n",
      "4\n",
      "5\n"
     ]
    }
   ],
   "source": [
    "my_tup = (1,2,3,4,5)\n",
    "for i in my_tup:\n",
    "    print(i)"
   ]
  },
  {
   "cell_type": "code",
   "execution_count": 42,
   "id": "769daf78",
   "metadata": {},
   "outputs": [],
   "source": [
    "my_list = [(1,2),(3,4),(5,6),(7,8)]"
   ]
  },
  {
   "cell_type": "code",
   "execution_count": 43,
   "id": "f66c2887",
   "metadata": {},
   "outputs": [
    {
     "data": {
      "text/plain": [
       "4"
      ]
     },
     "execution_count": 43,
     "metadata": {},
     "output_type": "execute_result"
    }
   ],
   "source": [
    "len(my_list)"
   ]
  },
  {
   "cell_type": "code",
   "execution_count": 44,
   "id": "5bc4fca0",
   "metadata": {},
   "outputs": [
    {
     "name": "stdout",
     "output_type": "stream",
     "text": [
      "(1, 2)\n",
      "(3, 4)\n",
      "(5, 6)\n",
      "(7, 8)\n"
     ]
    }
   ],
   "source": [
    "for i in my_list:\n",
    "    print(i)"
   ]
  },
  {
   "cell_type": "code",
   "execution_count": 55,
   "id": "7ec1c72b",
   "metadata": {},
   "outputs": [
    {
     "name": "stdout",
     "output_type": "stream",
     "text": [
      "1 3 5 7 \n",
      "\n",
      "2\n",
      "4\n",
      "6\n",
      "8\n"
     ]
    }
   ],
   "source": [
    "# Now with unpacking!\n",
    "\n",
    "for n1,n2 in my_list:\n",
    "    print(f\"{n1}\", end=\" \")\n",
    "print(\"\\n\")\n",
    "\n",
    "for n1,n2 in my_list:\n",
    "    print(n2)"
   ]
  },
  {
   "cell_type": "code",
   "execution_count": 58,
   "id": "21d601eb",
   "metadata": {},
   "outputs": [
    {
     "name": "stdout",
     "output_type": "stream",
     "text": [
      "10 11 12 13 "
     ]
    }
   ],
   "source": [
    "my_list = [(1,2,10),(3,4,11),(5,6,12),(7,8,13)]\n",
    "\n",
    "for a,b,c in my_list:\n",
    "    print(f\"{c}\", end=\" \")"
   ]
  },
  {
   "cell_type": "markdown",
   "id": "915b9fb5",
   "metadata": {},
   "source": [
    "## Example\n",
    "Let's now look at how a <code>for</code> loop can be used with a dictionary:"
   ]
  },
  {
   "cell_type": "code",
   "execution_count": 90,
   "id": "4683e044",
   "metadata": {},
   "outputs": [
    {
     "name": "stdout",
     "output_type": "stream",
     "text": [
      "d1\n",
      "d2\n",
      "d3\n"
     ]
    }
   ],
   "source": [
    "my_dict = {\"d1\":5,\"d2\":3,\"d3\":1}\n",
    "\n",
    "for item in my_dict:\n",
    "    print(item)"
   ]
  },
  {
   "cell_type": "code",
   "execution_count": 91,
   "id": "71997c7c",
   "metadata": {},
   "outputs": [
    {
     "name": "stdout",
     "output_type": "stream",
     "text": [
      "d1\n",
      "d2\n",
      "d3\n"
     ]
    }
   ],
   "source": [
    "my_dict = {\"d1\":1,\"d2\":2,\"d3\":3}\n",
    "\n",
    "for item in my_dict.keys():\n",
    "    print(item)"
   ]
  },
  {
   "cell_type": "markdown",
   "id": "f160aef2",
   "metadata": {},
   "source": [
    "We're going to introduce three new Dictionary methods: **.keys()**, **.values()** and **.items()**"
   ]
  },
  {
   "cell_type": "code",
   "execution_count": 94,
   "id": "0070e425",
   "metadata": {},
   "outputs": [
    {
     "data": {
      "text/plain": [
       "dict_items([('d1', 5), ('d2', 3), ('d3', 1)])"
      ]
     },
     "execution_count": 94,
     "metadata": {},
     "output_type": "execute_result"
    }
   ],
   "source": [
    "my_dict = {\"d1\":5,\"d2\":3,\"d3\":1}\n",
    "\n",
    "my_dict.items()"
   ]
  },
  {
   "cell_type": "code",
   "execution_count": 95,
   "id": "d7d90885",
   "metadata": {},
   "outputs": [
    {
     "name": "stdout",
     "output_type": "stream",
     "text": [
      "d1\n",
      "5\n",
      "d2\n",
      "3\n",
      "d3\n",
      "1\n"
     ]
    }
   ],
   "source": [
    "# Dictionary unpacking\n",
    "\n",
    "for k,v in my_dict.items():\n",
    "    print(k)\n",
    "    print(v)"
   ]
  },
  {
   "cell_type": "code",
   "execution_count": 96,
   "id": "935a8ab8",
   "metadata": {},
   "outputs": [
    {
     "data": {
      "text/plain": [
       "[1, 3, 5]"
      ]
     },
     "execution_count": 96,
     "metadata": {},
     "output_type": "execute_result"
    }
   ],
   "source": [
    "sorted(my_dict.values())"
   ]
  },
  {
   "cell_type": "code",
   "execution_count": 63,
   "id": "0021bc0c",
   "metadata": {},
   "outputs": [
    {
     "name": "stdout",
     "output_type": "stream",
     "text": [
      "('d1', 1)\n",
      "('d2', 2)\n",
      "('d3', 3)\n"
     ]
    }
   ],
   "source": [
    "my_dict = {\"d1\":1,\"d2\":2,\"d3\":3}\n",
    "\n",
    "for item in my_dict.items():\n",
    "    print(item)"
   ]
  },
  {
   "cell_type": "code",
   "execution_count": 97,
   "id": "fc7e05bf",
   "metadata": {},
   "outputs": [
    {
     "name": "stdout",
     "output_type": "stream",
     "text": [
      "d1\n",
      "d2\n",
      "d3\n"
     ]
    }
   ],
   "source": [
    "my_dict = {\"d1\":1,\"d2\":2,\"d3\":3}\n",
    "\n",
    "for item in my_dict.keys():\n",
    "    print(item)"
   ]
  },
  {
   "cell_type": "code",
   "execution_count": 62,
   "id": "2772c825",
   "metadata": {},
   "outputs": [
    {
     "name": "stdout",
     "output_type": "stream",
     "text": [
      "1\n",
      "2\n",
      "3\n"
     ]
    }
   ],
   "source": [
    "my_dict = {\"d1\":1,\"d2\":2,\"d3\":3}\n",
    "\n",
    "for item in my_dict.values():\n",
    "    print(item)"
   ]
  },
  {
   "cell_type": "markdown",
   "id": "2aec543c",
   "metadata": {},
   "source": [
    "# Conclusion"
   ]
  },
  {
   "cell_type": "markdown",
   "id": "992e5086",
   "metadata": {},
   "source": [
    "We've learned how to use loops to iterate through tuples, lists, string and dictionaries.\n",
    "\n",
    "[More resources](http://www.tutorialspoint.com/python/python_for_loop.htm)"
   ]
  }
 ],
 "metadata": {
  "kernelspec": {
   "display_name": "Python 3 (ipykernel)",
   "language": "python",
   "name": "python3"
  },
  "language_info": {
   "codemirror_mode": {
    "name": "ipython",
    "version": 3
   },
   "file_extension": ".py",
   "mimetype": "text/x-python",
   "name": "python",
   "nbconvert_exporter": "python",
   "pygments_lexer": "ipython3",
   "version": "3.9.13"
  }
 },
 "nbformat": 4,
 "nbformat_minor": 5
}
