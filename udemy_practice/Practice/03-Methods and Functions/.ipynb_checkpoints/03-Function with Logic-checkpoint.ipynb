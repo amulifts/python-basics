{
 "cells": [
  {
   "cell_type": "markdown",
   "id": "84bc42f3",
   "metadata": {},
   "source": [
    "# Function with Logic"
   ]
  },
  {
   "cell_type": "markdown",
   "id": "03472c10",
   "metadata": {},
   "source": [
    "### Check if a number is even "
   ]
  },
  {
   "cell_type": "code",
   "execution_count": 11,
   "id": "b1d53870",
   "metadata": {},
   "outputs": [],
   "source": [
    "def even_check(number):\n",
    "    return number % 2 == 0"
   ]
  },
  {
   "cell_type": "code",
   "execution_count": 12,
   "id": "09793bc5",
   "metadata": {},
   "outputs": [
    {
     "data": {
      "text/plain": [
       "True"
      ]
     },
     "execution_count": 12,
     "metadata": {},
     "output_type": "execute_result"
    }
   ],
   "source": [
    "even_check(20)"
   ]
  },
  {
   "cell_type": "code",
   "execution_count": 13,
   "id": "b20623d2",
   "metadata": {},
   "outputs": [
    {
     "data": {
      "text/plain": [
       "False"
      ]
     },
     "execution_count": 13,
     "metadata": {},
     "output_type": "execute_result"
    }
   ],
   "source": [
    "even_check(21)"
   ]
  },
  {
   "cell_type": "markdown",
   "id": "346a7bd0",
   "metadata": {},
   "source": [
    "### Check if any number in  a list is even"
   ]
  },
  {
   "cell_type": "code",
   "execution_count": 38,
   "id": "15d588be",
   "metadata": {},
   "outputs": [],
   "source": [
    "def check_even_list(lst):\n",
    "    for num in lst:\n",
    "        if num%2 == 0:\n",
    "            return True\n",
    "        else:\n",
    "            pass"
   ]
  },
  {
   "cell_type": "markdown",
   "id": "d98ed29e",
   "metadata": {},
   "source": [
    "** Is this enough? NO! We're not returning anything if they are all odds!**"
   ]
  },
  {
   "cell_type": "code",
   "execution_count": 39,
   "id": "e39bff93",
   "metadata": {},
   "outputs": [],
   "source": [
    "check_even_list([1,3,5,7,9])"
   ]
  },
  {
   "cell_type": "code",
   "execution_count": 40,
   "id": "7d11971b",
   "metadata": {},
   "outputs": [
    {
     "data": {
      "text/plain": [
       "True"
      ]
     },
     "execution_count": 40,
     "metadata": {},
     "output_type": "execute_result"
    }
   ],
   "source": [
    "check_even_list([1,2,3,5,7])"
   ]
  },
  {
   "cell_type": "markdown",
   "id": "8de597f9",
   "metadata": {},
   "source": [
    "** VERY COMMON MISTAKE!! LET'S SEE A COMMON LOGIC ERROR, NOTE THIS IS WRONG!!!**"
   ]
  },
  {
   "cell_type": "code",
   "execution_count": 42,
   "id": "dca441da",
   "metadata": {},
   "outputs": [],
   "source": [
    "def check_even_list(lst):\n",
    "    for num in lst:\n",
    "        if num%2 == 0:\n",
    "            return True\n",
    "        else:\n",
    "            return False # Wrong !!"
   ]
  },
  {
   "cell_type": "code",
   "execution_count": 43,
   "id": "72415fac",
   "metadata": {},
   "outputs": [
    {
     "data": {
      "text/plain": [
       "False"
      ]
     },
     "execution_count": 43,
     "metadata": {},
     "output_type": "execute_result"
    }
   ],
   "source": [
    "check_even_list([1,3,5,7])"
   ]
  },
  {
   "cell_type": "code",
   "execution_count": 44,
   "id": "258b55ab",
   "metadata": {},
   "outputs": [
    {
     "data": {
      "text/plain": [
       "False"
      ]
     },
     "execution_count": 44,
     "metadata": {},
     "output_type": "execute_result"
    }
   ],
   "source": [
    "check_even_list([1,2,5,7])"
   ]
  },
  {
   "cell_type": "markdown",
   "id": "a418427e",
   "metadata": {},
   "source": [
    "** Correct Approach: We need to initiate a return False AFTER running through the entire loop**"
   ]
  },
  {
   "cell_type": "code",
   "execution_count": 45,
   "id": "82b84ad0",
   "metadata": {},
   "outputs": [],
   "source": [
    "def check_even_list(lst):\n",
    "    for num in lst:\n",
    "        if num%2 == 0:\n",
    "            return True # return value to function\n",
    "        else:\n",
    "            pass\n",
    "    return False # Right"
   ]
  },
  {
   "cell_type": "code",
   "execution_count": 48,
   "id": "4485da67",
   "metadata": {},
   "outputs": [
    {
     "data": {
      "text/plain": [
       "False"
      ]
     },
     "execution_count": 48,
     "metadata": {},
     "output_type": "execute_result"
    }
   ],
   "source": [
    "check_even_list([1,3,5])"
   ]
  },
  {
   "cell_type": "code",
   "execution_count": 49,
   "id": "c02f9a59",
   "metadata": {},
   "outputs": [
    {
     "data": {
      "text/plain": [
       "True"
      ]
     },
     "execution_count": 49,
     "metadata": {},
     "output_type": "execute_result"
    }
   ],
   "source": [
    "check_even_list([1,2,3,5,7])"
   ]
  },
  {
   "cell_type": "markdown",
   "id": "357b1a8f",
   "metadata": {},
   "source": [
    "### Return all even numbers in a list"
   ]
  },
  {
   "cell_type": "code",
   "execution_count": 64,
   "id": "2e0fad3f",
   "metadata": {},
   "outputs": [],
   "source": [
    "def check_even_list(num_list):\n",
    "    even_numbers = [ ]\n",
    "    for num in num_list:\n",
    "        if num%2==0:\n",
    "            even_numbers.append(num)\n",
    "        else:\n",
    "            pass\n",
    "    return even_numbers"
   ]
  },
  {
   "cell_type": "code",
   "execution_count": 65,
   "id": "7aceaf0a",
   "metadata": {},
   "outputs": [
    {
     "data": {
      "text/plain": [
       "[2, 4, 6]"
      ]
     },
     "execution_count": 65,
     "metadata": {},
     "output_type": "execute_result"
    }
   ],
   "source": [
    "check_even_list([1,2,3,4,5,6])"
   ]
  },
  {
   "cell_type": "markdown",
   "id": "65dab6ff",
   "metadata": {},
   "source": [
    "### Return all odd numbers in a list"
   ]
  },
  {
   "cell_type": "code",
   "execution_count": 72,
   "id": "dbc98c91",
   "metadata": {},
   "outputs": [],
   "source": [
    "def check_odd_list(num_list):\n",
    "    odd_num = []\n",
    "    for i in num_list:\n",
    "        if i%2==1:\n",
    "            odd_num.append(i)\n",
    "        else:\n",
    "            pass\n",
    "    return odd_num"
   ]
  },
  {
   "cell_type": "code",
   "execution_count": 73,
   "id": "e0593a5b",
   "metadata": {},
   "outputs": [
    {
     "data": {
      "text/plain": [
       "[1, 3, 5, 7]"
      ]
     },
     "execution_count": 73,
     "metadata": {},
     "output_type": "execute_result"
    }
   ],
   "source": [
    "check_odd_list([1,2,3,4,5,6,7,8])"
   ]
  },
  {
   "cell_type": "code",
   "execution_count": 94,
   "id": "785932c9",
   "metadata": {},
   "outputs": [],
   "source": [
    "check_odd_list([1,2,3,4,5,6,7,8])"
   ]
  },
  {
   "cell_type": "markdown",
   "id": "eda06f64",
   "metadata": {},
   "source": [
    "# Tuple Unpacking"
   ]
  },
  {
   "cell_type": "code",
   "execution_count": 117,
   "id": "9f765d27",
   "metadata": {},
   "outputs": [],
   "source": [
    "stock_prices = [('APPL',200),('GOOG',400),('MSFT',100)]"
   ]
  },
  {
   "cell_type": "code",
   "execution_count": 118,
   "id": "9fe71a76",
   "metadata": {},
   "outputs": [
    {
     "name": "stdout",
     "output_type": "stream",
     "text": [
      "('APPL', 200)\n",
      "('GOOG', 400)\n",
      "('MSFT', 100)\n"
     ]
    }
   ],
   "source": [
    "for i in stock_prices:\n",
    "    print(i)"
   ]
  },
  {
   "cell_type": "code",
   "execution_count": 120,
   "id": "cffe77eb",
   "metadata": {},
   "outputs": [
    {
     "name": "stdout",
     "output_type": "stream",
     "text": [
      "APPL\n",
      "GOOG\n",
      "MSFT\n"
     ]
    }
   ],
   "source": [
    "for i,j in stock_prices:\n",
    "    print(i)"
   ]
  },
  {
   "cell_type": "code",
   "execution_count": 121,
   "id": "c3547bce",
   "metadata": {},
   "outputs": [
    {
     "name": "stdout",
     "output_type": "stream",
     "text": [
      "200\n",
      "400\n",
      "100\n"
     ]
    }
   ],
   "source": [
    "for i,j in stock_prices:\n",
    "    print(j)"
   ]
  },
  {
   "cell_type": "code",
   "execution_count": 123,
   "id": "61121bd5",
   "metadata": {},
   "outputs": [
    {
     "name": "stdout",
     "output_type": "stream",
     "text": [
      "210.0\n",
      "420.0\n",
      "105.0\n"
     ]
    }
   ],
   "source": [
    "for i,j in stock_prices:\n",
    "    print(j+(0.05*j))"
   ]
  },
  {
   "cell_type": "code",
   "execution_count": 124,
   "id": "6f8efce6",
   "metadata": {},
   "outputs": [],
   "source": [
    "work_hours = [(\"Aman\",1000),(\"Grusha\",400),(\"Deepak\",800)]"
   ]
  },
  {
   "cell_type": "code",
   "execution_count": 132,
   "id": "74704c8e",
   "metadata": {},
   "outputs": [],
   "source": [
    "def employee_check(work_hours):\n",
    "    \n",
    "    max_hrs_worked = 0\n",
    "    employee_of_month = ' '\n",
    "    \n",
    "    for name,hour in work_hours: # tuple unpacking\n",
    "        if hour > max_hrs_worked:\n",
    "            max_hrs_worked = hour\n",
    "            employee_of_month = name\n",
    "        else:\n",
    "            pass\n",
    "    return (employee_of_month, max_hrs_worked)"
   ]
  },
  {
   "cell_type": "code",
   "execution_count": 133,
   "id": "bb7fce68",
   "metadata": {},
   "outputs": [
    {
     "data": {
      "text/plain": [
       "('Aman', 1000)"
      ]
     },
     "execution_count": 133,
     "metadata": {},
     "output_type": "execute_result"
    }
   ],
   "source": [
    "employee_check(work_hours)"
   ]
  },
  {
   "cell_type": "code",
   "execution_count": 134,
   "id": "b9e82641",
   "metadata": {},
   "outputs": [],
   "source": [
    "name, hours = employee_check(work_hours)"
   ]
  },
  {
   "cell_type": "code",
   "execution_count": 135,
   "id": "91a002fb",
   "metadata": {},
   "outputs": [
    {
     "data": {
      "text/plain": [
       "'Aman'"
      ]
     },
     "execution_count": 135,
     "metadata": {},
     "output_type": "execute_result"
    }
   ],
   "source": [
    "name"
   ]
  },
  {
   "cell_type": "code",
   "execution_count": 136,
   "id": "b07c43af",
   "metadata": {},
   "outputs": [
    {
     "data": {
      "text/plain": [
       "1000"
      ]
     },
     "execution_count": 136,
     "metadata": {},
     "output_type": "execute_result"
    }
   ],
   "source": [
    "hours"
   ]
  },
  {
   "cell_type": "code",
   "execution_count": 166,
   "id": "3738694d",
   "metadata": {},
   "outputs": [],
   "source": [
    "# name, hours, location = employee_check(work_hours)"
   ]
  }
 ],
 "metadata": {
  "kernelspec": {
   "display_name": "Python 3 (ipykernel)",
   "language": "python",
   "name": "python3"
  },
  "language_info": {
   "codemirror_mode": {
    "name": "ipython",
    "version": 3
   },
   "file_extension": ".py",
   "mimetype": "text/x-python",
   "name": "python",
   "nbconvert_exporter": "python",
   "pygments_lexer": "ipython3",
   "version": "3.9.13"
  }
 },
 "nbformat": 4,
 "nbformat_minor": 5
}
