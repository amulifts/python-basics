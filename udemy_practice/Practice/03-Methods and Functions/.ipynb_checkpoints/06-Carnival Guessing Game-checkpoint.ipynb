{
 "cells": [
  {
   "cell_type": "markdown",
   "id": "454f7d0e",
   "metadata": {},
   "source": [
    "# Interaction with Functions\n",
    "\n",
    "Functions often use results from other functions, let's see a simple example through a guessing game."
   ]
  },
  {
   "cell_type": "markdown",
   "id": "25fa21b1",
   "metadata": {},
   "source": [
    "**How to shuffle a list in Python**"
   ]
  },
  {
   "cell_type": "code",
   "execution_count": 37,
   "id": "2b2f25c9",
   "metadata": {},
   "outputs": [],
   "source": [
    "from random import shuffle"
   ]
  },
  {
   "cell_type": "code",
   "execution_count": 44,
   "id": "8fbc4450",
   "metadata": {},
   "outputs": [],
   "source": [
    "my_list = [10,20,30]"
   ]
  },
  {
   "cell_type": "code",
   "execution_count": 45,
   "id": "79ed25bd",
   "metadata": {},
   "outputs": [],
   "source": [
    "# Note shuffle is in-place\n",
    "a = shuffle(my_list)"
   ]
  },
  {
   "cell_type": "code",
   "execution_count": 46,
   "id": "b4b306fa",
   "metadata": {},
   "outputs": [
    {
     "data": {
      "text/plain": [
       "NoneType"
      ]
     },
     "execution_count": 46,
     "metadata": {},
     "output_type": "execute_result"
    }
   ],
   "source": [
    "type(a)"
   ]
  },
  {
   "cell_type": "code",
   "execution_count": 53,
   "id": "7cf76721",
   "metadata": {},
   "outputs": [],
   "source": [
    "shuffle(my_list)"
   ]
  },
  {
   "cell_type": "code",
   "execution_count": 54,
   "id": "bc6ae46a",
   "metadata": {},
   "outputs": [
    {
     "data": {
      "text/plain": [
       "[20, 10, 30]"
      ]
     },
     "execution_count": 54,
     "metadata": {},
     "output_type": "execute_result"
    }
   ],
   "source": [
    "my_list"
   ]
  },
  {
   "cell_type": "markdown",
   "id": "7db7983a",
   "metadata": {},
   "source": [
    "Create a few function to mimic the carnival guessing game `\"Three Cup Monte\"`"
   ]
  },
  {
   "cell_type": "markdown",
   "id": "c5884a79",
   "metadata": {},
   "source": [
    "* There will be 3 positions in the list, one of which is an 'O'\n",
    "* A function will shuffle the list\n",
    "* Another will take a player's guess\n",
    "* Finally another will check to see if it is correct"
   ]
  },
  {
   "cell_type": "markdown",
   "id": "2d0b4a63",
   "metadata": {},
   "source": [
    "**OK, let's create our simple game**"
   ]
  },
  {
   "cell_type": "code",
   "execution_count": 101,
   "id": "edbcc84c",
   "metadata": {},
   "outputs": [],
   "source": [
    "my_list = [' ','O',' ']"
   ]
  },
  {
   "cell_type": "code",
   "execution_count": 56,
   "id": "1923d2e9",
   "metadata": {},
   "outputs": [],
   "source": [
    "# first shuffle\n",
    "# plyaer choice\n",
    "# check result"
   ]
  },
  {
   "cell_type": "code",
   "execution_count": 179,
   "id": "18795a14",
   "metadata": {},
   "outputs": [],
   "source": [
    "from random import shuffle\n",
    "\n",
    "def shuffle_list(my_list):\n",
    "    # in-place function\n",
    "    shuffle(my_list)\n",
    "    return my_list"
   ]
  },
  {
   "cell_type": "code",
   "execution_count": 102,
   "id": "557b2658",
   "metadata": {},
   "outputs": [
    {
     "data": {
      "text/plain": [
       "[' ', 'O', ' ']"
      ]
     },
     "execution_count": 102,
     "metadata": {},
     "output_type": "execute_result"
    }
   ],
   "source": [
    "my_list"
   ]
  },
  {
   "cell_type": "code",
   "execution_count": 180,
   "id": "3817919d",
   "metadata": {},
   "outputs": [
    {
     "data": {
      "text/plain": [
       "['O', ' ', ' ']"
      ]
     },
     "execution_count": 180,
     "metadata": {},
     "output_type": "execute_result"
    }
   ],
   "source": [
    "shuffle_list(my_list)"
   ]
  },
  {
   "cell_type": "code",
   "execution_count": 181,
   "id": "a3926cdd",
   "metadata": {},
   "outputs": [],
   "source": [
    "def player_choice():\n",
    "    guess = \" \"\n",
    "    while guess not in [0,1,2]:\n",
    "        guess = int(input(\"Pick a number: 0,1,2: \"))\n",
    "    return guess"
   ]
  },
  {
   "cell_type": "code",
   "execution_count": 182,
   "id": "d167e12c",
   "metadata": {},
   "outputs": [
    {
     "name": "stdout",
     "output_type": "stream",
     "text": [
      "Pick a number: 0,1,2: 2\n"
     ]
    },
    {
     "data": {
      "text/plain": [
       "2"
      ]
     },
     "execution_count": 182,
     "metadata": {},
     "output_type": "execute_result"
    }
   ],
   "source": [
    "player_choice()"
   ]
  },
  {
   "cell_type": "code",
   "execution_count": 183,
   "id": "8b609f3a",
   "metadata": {},
   "outputs": [],
   "source": [
    "def player_choice():\n",
    "    guess = \" \"\n",
    "    while guess not in ['0','1','2']:\n",
    "        guess = input(\"Pick your choice: 0,1,2\")\n",
    "    return int(guess)"
   ]
  },
  {
   "cell_type": "code",
   "execution_count": 184,
   "id": "27d1c9c8",
   "metadata": {},
   "outputs": [
    {
     "name": "stdout",
     "output_type": "stream",
     "text": [
      "Pick your choice: 0,1,21\n"
     ]
    },
    {
     "data": {
      "text/plain": [
       "1"
      ]
     },
     "execution_count": 184,
     "metadata": {},
     "output_type": "execute_result"
    }
   ],
   "source": [
    "player_choice()"
   ]
  },
  {
   "cell_type": "code",
   "execution_count": 189,
   "id": "22368d09",
   "metadata": {},
   "outputs": [],
   "source": [
    "def check_result(my_list,guess):\n",
    "    if my_list[guess] == 'O':\n",
    "        print(\"Correct!\")\n",
    "    else:\n",
    "        print(\"Wrong! Better luck next time\")\n",
    "        print(my_list)"
   ]
  },
  {
   "cell_type": "markdown",
   "id": "a0a3e21d",
   "metadata": {},
   "source": [
    "Now we create a little setup logic to run all the functions. Notice how they interact with each other!"
   ]
  },
  {
   "cell_type": "code",
   "execution_count": 190,
   "id": "4bd29c23",
   "metadata": {},
   "outputs": [
    {
     "name": "stdout",
     "output_type": "stream",
     "text": [
      "Pick your choice: 0,1,21\n",
      "Correct!\n"
     ]
    }
   ],
   "source": [
    "# initial list\n",
    "my_list = [\" \",\"O\",\" \"]\n",
    "\n",
    "# shuffle list\n",
    "shuffle_list(my_list)\n",
    "\n",
    "# get user's guess\n",
    "guess = player_choice()\n",
    "\n",
    "#check user's guess\n",
    "check_result(my_list,guess)"
   ]
  },
  {
   "cell_type": "markdown",
   "id": "7a9d002d",
   "metadata": {},
   "source": [
    "## Actual Game"
   ]
  },
  {
   "cell_type": "code",
   "execution_count": 191,
   "id": "ca5280ac",
   "metadata": {},
   "outputs": [],
   "source": [
    "from random import shuffle\n",
    "\n",
    "def shuffle_list(my_list):\n",
    "    # in-place function\n",
    "    shuffle(my_list)\n",
    "    return my_list"
   ]
  },
  {
   "cell_type": "code",
   "execution_count": 192,
   "id": "1b942ba1",
   "metadata": {},
   "outputs": [],
   "source": [
    "def player_choice():\n",
    "    guess = \" \"\n",
    "    while guess not in [0,1,2]:\n",
    "        guess = int(input(\"Pick a number: 0,1,2: \"))\n",
    "    return guess"
   ]
  },
  {
   "cell_type": "code",
   "execution_count": 194,
   "id": "13e0038e",
   "metadata": {},
   "outputs": [],
   "source": [
    "def check_result(my_list,guess):\n",
    "    if my_list[guess] == 'O':\n",
    "        print(\"Correct!\")\n",
    "        print(my_list)\n",
    "    else:\n",
    "        print(\"Wrong! Better luck next time\")\n",
    "        print(my_list)"
   ]
  },
  {
   "cell_type": "code",
   "execution_count": 197,
   "id": "c5c80970",
   "metadata": {},
   "outputs": [
    {
     "name": "stdout",
     "output_type": "stream",
     "text": [
      "Pick a number: 0,1,2: 0\n",
      "Correct!\n",
      "['O', ' ', ' ']\n"
     ]
    }
   ],
   "source": [
    "# initial list\n",
    "my_list = [\" \",\"O\",\" \"]\n",
    "\n",
    "# shuffle list\n",
    "shuffle_list(my_list)\n",
    "\n",
    "# get user's guess\n",
    "guess = player_choice()\n",
    "\n",
    "#check user's guess\n",
    "check_result(my_list,guess)"
   ]
  }
 ],
 "metadata": {
  "kernelspec": {
   "display_name": "Python 3 (ipykernel)",
   "language": "python",
   "name": "python3"
  },
  "language_info": {
   "codemirror_mode": {
    "name": "ipython",
    "version": 3
   },
   "file_extension": ".py",
   "mimetype": "text/x-python",
   "name": "python",
   "nbconvert_exporter": "python",
   "pygments_lexer": "ipython3",
   "version": "3.9.13"
  }
 },
 "nbformat": 4,
 "nbformat_minor": 5
}
