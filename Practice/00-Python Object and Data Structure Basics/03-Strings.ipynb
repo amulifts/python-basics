{
 "cells": [
  {
   "cell_type": "markdown",
   "id": "a180f59f",
   "metadata": {},
   "source": [
    "# Strings"
   ]
  },
  {
   "cell_type": "markdown",
   "id": "a523c824",
   "metadata": {},
   "source": [
    "1. sequence of characters, using syntax of either single quote or double quotes.\n",
    "2. ordered sequences it means we can use indexing and slicing\n",
    "3. indexing notation uses [], allows us to grab a single character from the string\n",
    "4. slicing allows us to grab a subsection of multiple chaaracters, it's syntax is [start:stop:step]"
   ]
  },
  {
   "cell_type": "markdown",
   "id": "fb49dec0",
   "metadata": {},
   "source": [
    "## Creating a String"
   ]
  },
  {
   "cell_type": "code",
   "execution_count": 1,
   "id": "dc48f849",
   "metadata": {},
   "outputs": [
    {
     "data": {
      "text/plain": [
       "'hello'"
      ]
     },
     "execution_count": 1,
     "metadata": {},
     "output_type": "execute_result"
    }
   ],
   "source": [
    "'hello'"
   ]
  },
  {
   "cell_type": "code",
   "execution_count": 7,
   "id": "9523f8f9",
   "metadata": {},
   "outputs": [
    {
     "data": {
      "text/plain": [
       "' This is also a string '"
      ]
     },
     "execution_count": 7,
     "metadata": {},
     "output_type": "execute_result"
    }
   ],
   "source": [
    "' This is also a string '"
   ]
  },
  {
   "cell_type": "code",
   "execution_count": 6,
   "id": "0bd8ccff",
   "metadata": {},
   "outputs": [
    {
     "data": {
      "text/plain": [
       "' String built with double quote '"
      ]
     },
     "execution_count": 6,
     "metadata": {},
     "output_type": "execute_result"
    }
   ],
   "source": [
    "\" String built with double quote \""
   ]
  },
  {
   "cell_type": "code",
   "execution_count": 11,
   "id": "f2127b0a",
   "metadata": {},
   "outputs": [],
   "source": [
    "# ' i'm aman khadka \""
   ]
  },
  {
   "cell_type": "code",
   "execution_count": 12,
   "id": "da5f2a12",
   "metadata": {},
   "outputs": [
    {
     "data": {
      "text/plain": [
       "\" i'm grusha bhattarai \""
      ]
     },
     "execution_count": 12,
     "metadata": {},
     "output_type": "execute_result"
    }
   ],
   "source": [
    "\" i'm grusha bhattarai \""
   ]
  },
  {
   "cell_type": "markdown",
   "id": "d5afa091",
   "metadata": {},
   "source": [
    "## Printing a String"
   ]
  },
  {
   "cell_type": "code",
   "execution_count": 13,
   "id": "4f8e51a9",
   "metadata": {},
   "outputs": [
    {
     "data": {
      "text/plain": [
       "'Hello World'"
      ]
     },
     "execution_count": 13,
     "metadata": {},
     "output_type": "execute_result"
    }
   ],
   "source": [
    "'Hello World'"
   ]
  },
  {
   "cell_type": "code",
   "execution_count": 16,
   "id": "71699ba2",
   "metadata": {},
   "outputs": [
    {
     "data": {
      "text/plain": [
       "' Hello World 2 '"
      ]
     },
     "execution_count": 16,
     "metadata": {},
     "output_type": "execute_result"
    }
   ],
   "source": [
    "' Hello World 1'\n",
    "' Hello World 2 '"
   ]
  },
  {
   "cell_type": "code",
   "execution_count": 21,
   "id": "c6b858d7",
   "metadata": {},
   "outputs": [
    {
     "name": "stdout",
     "output_type": "stream",
     "text": [
      "Hello World 1\n",
      "Hello World 2\n",
      "Use \n",
      " to print a new line\n",
      "\n",
      "\n",
      "Bujhyo ?\n"
     ]
    }
   ],
   "source": [
    "print('Hello World 1')\n",
    "print('Hello World 2')\n",
    "print('Use \\n to print a new line')\n",
    "print('\\n')\n",
    "print('Bujhyo ?')"
   ]
  },
  {
   "cell_type": "markdown",
   "id": "29a6173f",
   "metadata": {},
   "source": [
    "## String Basics"
   ]
  },
  {
   "cell_type": "code",
   "execution_count": 23,
   "id": "cc24a088",
   "metadata": {},
   "outputs": [
    {
     "data": {
      "text/plain": [
       "16"
      ]
     },
     "execution_count": 23,
     "metadata": {},
     "output_type": "execute_result"
    }
   ],
   "source": [
    "len(\"Grusha Bhattarai\")"
   ]
  },
  {
   "cell_type": "markdown",
   "id": "bfd963e4",
   "metadata": {},
   "source": [
    "## String Indexing and String Slicing"
   ]
  },
  {
   "cell_type": "markdown",
   "id": "1371a003",
   "metadata": {},
   "source": [
    "### Indexing"
   ]
  },
  {
   "cell_type": "code",
   "execution_count": 166,
   "id": "7fe21588",
   "metadata": {},
   "outputs": [],
   "source": [
    "a = \"Aman Khadka\""
   ]
  },
  {
   "cell_type": "code",
   "execution_count": 167,
   "id": "8fbb76e5",
   "metadata": {},
   "outputs": [
    {
     "data": {
      "text/plain": [
       "'Aman Khadka'"
      ]
     },
     "execution_count": 167,
     "metadata": {},
     "output_type": "execute_result"
    }
   ],
   "source": [
    "a"
   ]
  },
  {
   "cell_type": "code",
   "execution_count": 168,
   "id": "59a2b802",
   "metadata": {},
   "outputs": [
    {
     "name": "stdout",
     "output_type": "stream",
     "text": [
      "Aman Khadka\n"
     ]
    }
   ],
   "source": [
    "print(a)"
   ]
  },
  {
   "cell_type": "code",
   "execution_count": 169,
   "id": "49c429ef",
   "metadata": {},
   "outputs": [
    {
     "data": {
      "text/plain": [
       "'A'"
      ]
     },
     "execution_count": 169,
     "metadata": {},
     "output_type": "execute_result"
    }
   ],
   "source": [
    "a[0]"
   ]
  },
  {
   "cell_type": "code",
   "execution_count": 170,
   "id": "6539206b",
   "metadata": {},
   "outputs": [
    {
     "data": {
      "text/plain": [
       "' '"
      ]
     },
     "execution_count": 170,
     "metadata": {},
     "output_type": "execute_result"
    }
   ],
   "source": [
    "a[4]"
   ]
  },
  {
   "cell_type": "code",
   "execution_count": 171,
   "id": "537cd66e",
   "metadata": {},
   "outputs": [
    {
     "data": {
      "text/plain": [
       "'d'"
      ]
     },
     "execution_count": 171,
     "metadata": {},
     "output_type": "execute_result"
    }
   ],
   "source": [
    "a[-3]"
   ]
  },
  {
   "cell_type": "code",
   "execution_count": 50,
   "id": "868476a9",
   "metadata": {},
   "outputs": [],
   "source": [
    "# a[11]"
   ]
  },
  {
   "cell_type": "markdown",
   "id": "753d7aab",
   "metadata": {},
   "source": [
    "### Slicing"
   ]
  },
  {
   "cell_type": "markdown",
   "id": "8e1c3924",
   "metadata": {},
   "source": [
    "[ start : stop : step ]"
   ]
  },
  {
   "cell_type": "code",
   "execution_count": 161,
   "id": "c9d50e67",
   "metadata": {},
   "outputs": [],
   "source": [
    "a = \"Aman Khadka\""
   ]
  },
  {
   "cell_type": "code",
   "execution_count": 162,
   "id": "7ec5c253",
   "metadata": {},
   "outputs": [
    {
     "data": {
      "text/plain": [
       "'Aman '"
      ]
     },
     "execution_count": 162,
     "metadata": {},
     "output_type": "execute_result"
    }
   ],
   "source": [
    "a[0:5]"
   ]
  },
  {
   "cell_type": "code",
   "execution_count": 163,
   "id": "32e74e22",
   "metadata": {},
   "outputs": [
    {
     "data": {
      "text/plain": [
       "'Aman Khadka'"
      ]
     },
     "execution_count": 163,
     "metadata": {},
     "output_type": "execute_result"
    }
   ],
   "source": [
    "a[0:]"
   ]
  },
  {
   "cell_type": "code",
   "execution_count": 164,
   "id": "09bb9ee8",
   "metadata": {},
   "outputs": [
    {
     "data": {
      "text/plain": [
       "'Ama'"
      ]
     },
     "execution_count": 164,
     "metadata": {},
     "output_type": "execute_result"
    }
   ],
   "source": [
    "a[:3]"
   ]
  },
  {
   "cell_type": "code",
   "execution_count": 165,
   "id": "5c2468f1",
   "metadata": {},
   "outputs": [
    {
     "data": {
      "text/plain": [
       "'Aman Khadka'"
      ]
     },
     "execution_count": 165,
     "metadata": {},
     "output_type": "execute_result"
    }
   ],
   "source": [
    "a[:]"
   ]
  },
  {
   "cell_type": "code",
   "execution_count": 60,
   "id": "0a5c1aba",
   "metadata": {},
   "outputs": [
    {
     "data": {
      "text/plain": [
       "'Aman Khad'"
      ]
     },
     "execution_count": 60,
     "metadata": {},
     "output_type": "execute_result"
    }
   ],
   "source": [
    "a[:-2]"
   ]
  },
  {
   "cell_type": "code",
   "execution_count": 70,
   "id": "a19cd2d9",
   "metadata": {},
   "outputs": [],
   "source": [
    "a = \"Hello World\""
   ]
  },
  {
   "cell_type": "code",
   "execution_count": 71,
   "id": "0a54b992",
   "metadata": {},
   "outputs": [
    {
     "data": {
      "text/plain": [
       "'Hello World'"
      ]
     },
     "execution_count": 71,
     "metadata": {},
     "output_type": "execute_result"
    }
   ],
   "source": [
    "a[::1]"
   ]
  },
  {
   "cell_type": "code",
   "execution_count": 74,
   "id": "80ced59f",
   "metadata": {},
   "outputs": [
    {
     "data": {
      "text/plain": [
       "'HloWrd'"
      ]
     },
     "execution_count": 74,
     "metadata": {},
     "output_type": "execute_result"
    }
   ],
   "source": [
    "a[::2]"
   ]
  },
  {
   "cell_type": "code",
   "execution_count": 75,
   "id": "9c89631d",
   "metadata": {},
   "outputs": [
    {
     "data": {
      "text/plain": [
       "'dlroW olleH'"
      ]
     },
     "execution_count": 75,
     "metadata": {},
     "output_type": "execute_result"
    }
   ],
   "source": [
    "a[::-1]"
   ]
  },
  {
   "cell_type": "markdown",
   "id": "54f9c559",
   "metadata": {},
   "source": [
    "## String Properties"
   ]
  },
  {
   "cell_type": "code",
   "execution_count": 91,
   "id": "fab68244",
   "metadata": {},
   "outputs": [],
   "source": [
    "a = \"Aman Khadka\""
   ]
  },
  {
   "cell_type": "code",
   "execution_count": 100,
   "id": "76bf46fa",
   "metadata": {},
   "outputs": [
    {
     "ename": "TypeError",
     "evalue": "'str' object does not support item assignment",
     "output_type": "error",
     "traceback": [
      "\u001b[1;31m---------------------------------------------------------------------------\u001b[0m",
      "\u001b[1;31mTypeError\u001b[0m                                 Traceback (most recent call last)",
      "Input \u001b[1;32mIn [100]\u001b[0m, in \u001b[0;36m<cell line: 1>\u001b[1;34m()\u001b[0m\n\u001b[1;32m----> 1\u001b[0m a[\u001b[38;5;241m0\u001b[39m] \u001b[38;5;241m=\u001b[39m \u001b[38;5;124m\"\u001b[39m\u001b[38;5;124mB\u001b[39m\u001b[38;5;124m\"\u001b[39m\n",
      "\u001b[1;31mTypeError\u001b[0m: 'str' object does not support item assignment"
     ]
    }
   ],
   "source": [
    "a[0] = \"B\" # immutable"
   ]
  },
  {
   "cell_type": "code",
   "execution_count": 93,
   "id": "64fe0ec5",
   "metadata": {},
   "outputs": [
    {
     "data": {
      "text/plain": [
       "'Aman Khadka'"
      ]
     },
     "execution_count": 93,
     "metadata": {},
     "output_type": "execute_result"
    }
   ],
   "source": [
    "a"
   ]
  },
  {
   "cell_type": "code",
   "execution_count": 94,
   "id": "5e156c56",
   "metadata": {},
   "outputs": [
    {
     "data": {
      "text/plain": [
       "'Aman Khadka love you'"
      ]
     },
     "execution_count": 94,
     "metadata": {},
     "output_type": "execute_result"
    }
   ],
   "source": [
    "a + \" love you\" # concatinate"
   ]
  },
  {
   "cell_type": "code",
   "execution_count": 95,
   "id": "acb4f040",
   "metadata": {},
   "outputs": [],
   "source": [
    "a = a + \" love you\""
   ]
  },
  {
   "cell_type": "code",
   "execution_count": 96,
   "id": "8f757bfa",
   "metadata": {},
   "outputs": [
    {
     "name": "stdout",
     "output_type": "stream",
     "text": [
      "Aman Khadka love you\n"
     ]
    }
   ],
   "source": [
    "print(a)"
   ]
  },
  {
   "cell_type": "code",
   "execution_count": 97,
   "id": "25a4de88",
   "metadata": {},
   "outputs": [],
   "source": [
    "letter = 'g' # We can also do multiplication"
   ]
  },
  {
   "cell_type": "code",
   "execution_count": 99,
   "id": "2e66b8da",
   "metadata": {},
   "outputs": [
    {
     "data": {
      "text/plain": [
       "'gggggggggg'"
      ]
     },
     "execution_count": 99,
     "metadata": {},
     "output_type": "execute_result"
    }
   ],
   "source": [
    "letter*10"
   ]
  },
  {
   "cell_type": "markdown",
   "id": "b9b3023e",
   "metadata": {},
   "source": [
    "## Basic Built-in String methods"
   ]
  },
  {
   "cell_type": "code",
   "execution_count": 102,
   "id": "6f8382d8",
   "metadata": {},
   "outputs": [
    {
     "data": {
      "text/plain": [
       "'Aman Khadka love you'"
      ]
     },
     "execution_count": 102,
     "metadata": {},
     "output_type": "execute_result"
    }
   ],
   "source": [
    "a"
   ]
  },
  {
   "cell_type": "code",
   "execution_count": 103,
   "id": "8c9a342d",
   "metadata": {},
   "outputs": [
    {
     "data": {
      "text/plain": [
       "<function str.upper()>"
      ]
     },
     "execution_count": 103,
     "metadata": {},
     "output_type": "execute_result"
    }
   ],
   "source": [
    "a.upper"
   ]
  },
  {
   "cell_type": "code",
   "execution_count": 104,
   "id": "28beb92d",
   "metadata": {},
   "outputs": [
    {
     "data": {
      "text/plain": [
       "'AMAN KHADKA LOVE YOU'"
      ]
     },
     "execution_count": 104,
     "metadata": {},
     "output_type": "execute_result"
    }
   ],
   "source": [
    "a.upper()"
   ]
  },
  {
   "cell_type": "code",
   "execution_count": 110,
   "id": "d3e2669f",
   "metadata": {},
   "outputs": [
    {
     "data": {
      "text/plain": [
       "'aman khadka love you'"
      ]
     },
     "execution_count": 110,
     "metadata": {},
     "output_type": "execute_result"
    }
   ],
   "source": [
    "a.lower()"
   ]
  },
  {
   "cell_type": "code",
   "execution_count": 111,
   "id": "01c3b1f4",
   "metadata": {},
   "outputs": [
    {
     "data": {
      "text/plain": [
       "['Aman', 'Khadka', 'love', 'you']"
      ]
     },
     "execution_count": 111,
     "metadata": {},
     "output_type": "execute_result"
    }
   ],
   "source": [
    "a.split()"
   ]
  },
  {
   "cell_type": "code",
   "execution_count": 112,
   "id": "038cb8b3",
   "metadata": {},
   "outputs": [
    {
     "data": {
      "text/plain": [
       "['Am', 'n Kh', 'dk', ' love you']"
      ]
     },
     "execution_count": 112,
     "metadata": {},
     "output_type": "execute_result"
    }
   ],
   "source": [
    "a.split('a')"
   ]
  },
  {
   "cell_type": "code",
   "execution_count": 113,
   "id": "3ff0e503",
   "metadata": {},
   "outputs": [
    {
     "data": {
      "text/plain": [
       "'Aman khadka love you'"
      ]
     },
     "execution_count": 113,
     "metadata": {},
     "output_type": "execute_result"
    }
   ],
   "source": [
    "a.capitalize()"
   ]
  },
  {
   "cell_type": "code",
   "execution_count": 115,
   "id": "49eac32b",
   "metadata": {},
   "outputs": [
    {
     "data": {
      "text/plain": [
       "'Aman Khadka Love You'"
      ]
     },
     "execution_count": 115,
     "metadata": {},
     "output_type": "execute_result"
    }
   ],
   "source": [
    "a.title()"
   ]
  },
  {
   "cell_type": "markdown",
   "id": "1bf3f34f",
   "metadata": {},
   "source": [
    "## Print Formatting"
   ]
  },
  {
   "cell_type": "code",
   "execution_count": 118,
   "id": "11898fdd",
   "metadata": {},
   "outputs": [],
   "source": [
    "a = \"baby\""
   ]
  },
  {
   "cell_type": "code",
   "execution_count": 122,
   "id": "50844005",
   "metadata": {},
   "outputs": [
    {
     "name": "stdout",
     "output_type": "stream",
     "text": [
      "Aman is my baby\n"
     ]
    }
   ],
   "source": [
    "print(\"Aman is my \" + a)"
   ]
  },
  {
   "cell_type": "markdown",
   "id": "7eda30b1",
   "metadata": {},
   "source": [
    "#### .format()"
   ]
  },
  {
   "cell_type": "code",
   "execution_count": 124,
   "id": "b3a7e0fe",
   "metadata": {},
   "outputs": [
    {
     "name": "stdout",
     "output_type": "stream",
     "text": [
      "Aman is my baby\n"
     ]
    }
   ],
   "source": [
    "print(\"Aman is my {}\".format(a))"
   ]
  },
  {
   "cell_type": "code",
   "execution_count": 134,
   "id": "67d5fd31",
   "metadata": {},
   "outputs": [
    {
     "name": "stdout",
     "output_type": "stream",
     "text": [
      "Aman is my baby villain hero\n"
     ]
    }
   ],
   "source": [
    "print(\"Aman is my {a} {b} {c}\".format(a=\"baby\",b=\"villain\",c=\"hero\"))"
   ]
  },
  {
   "cell_type": "code",
   "execution_count": 135,
   "id": "11fe83ea",
   "metadata": {},
   "outputs": [
    {
     "name": "stdout",
     "output_type": "stream",
     "text": [
      "Aman is my villain hero baby\n"
     ]
    }
   ],
   "source": [
    "print(\"Aman is my {b} {c} {a}\".format(a=\"baby\",b=\"villain\",c=\"hero\"))"
   ]
  },
  {
   "cell_type": "markdown",
   "id": "7252e5da",
   "metadata": {},
   "source": [
    "#### f-strings"
   ]
  },
  {
   "cell_type": "code",
   "execution_count": 153,
   "id": "3b39f992",
   "metadata": {},
   "outputs": [],
   "source": [
    "name = \"Aman\"\n",
    "age = 20"
   ]
  },
  {
   "cell_type": "code",
   "execution_count": 155,
   "id": "56b6dbba",
   "metadata": {},
   "outputs": [
    {
     "name": "stdout",
     "output_type": "stream",
     "text": [
      "Name : Aman\n",
      "Age : 20 \n"
     ]
    }
   ],
   "source": [
    "print(f\"Name : {name}\\nAge : {age} \")"
   ]
  },
  {
   "cell_type": "markdown",
   "id": "c956a3bb",
   "metadata": {},
   "source": [
    "#### Foramtting with placeholders"
   ]
  },
  {
   "cell_type": "code",
   "execution_count": 190,
   "id": "99bb13ff",
   "metadata": {},
   "outputs": [
    {
     "name": "stdout",
     "output_type": "stream",
     "text": [
      "I'm going to LOD tonight\n"
     ]
    }
   ],
   "source": [
    "print(\"I'm going to %s tonight\" % \"LOD\")"
   ]
  },
  {
   "cell_type": "code",
   "execution_count": 199,
   "id": "a70b602d",
   "metadata": {},
   "outputs": [
    {
     "name": "stdout",
     "output_type": "stream",
     "text": [
      "I'm going to LOD and Platinum tonight\n"
     ]
    }
   ],
   "source": [
    "print(\"I'm going to %s %s %s tonight\" % ('LOD',\"and\",'Platinum'))"
   ]
  },
  {
   "cell_type": "code",
   "execution_count": 201,
   "id": "8cbd540c",
   "metadata": {},
   "outputs": [
    {
     "name": "stdout",
     "output_type": "stream",
     "text": [
      "I'm going to LOD and Purple Haze tonight\n"
     ]
    }
   ],
   "source": [
    "x,y = \"LOD\",\"Purple Haze\"\n",
    "print(\"I'm going to %s %s %s tonight\" % (x,\"and\",y))"
   ]
  },
  {
   "cell_type": "markdown",
   "id": "5a362c9a",
   "metadata": {},
   "source": [
    "#### Padding and Precision of Floating Point No"
   ]
  },
  {
   "cell_type": "markdown",
   "id": "110a5c70",
   "metadata": {},
   "source": [
    "{ value:width.precision f }"
   ]
  },
  {
   "cell_type": "code",
   "execution_count": 1,
   "id": "b21eafd5",
   "metadata": {},
   "outputs": [],
   "source": [
    "result = 100/777"
   ]
  },
  {
   "cell_type": "code",
   "execution_count": 7,
   "id": "adbd5b0a",
   "metadata": {},
   "outputs": [
    {
     "data": {
      "text/plain": [
       "0.1287001287001287"
      ]
     },
     "execution_count": 7,
     "metadata": {},
     "output_type": "execute_result"
    }
   ],
   "source": [
    "result"
   ]
  },
  {
   "cell_type": "code",
   "execution_count": 4,
   "id": "72c076f0",
   "metadata": {},
   "outputs": [
    {
     "name": "stdout",
     "output_type": "stream",
     "text": [
      "Result = 0.1287001287001287\n"
     ]
    }
   ],
   "source": [
    "print(\"Result = {r}\".format(r = result))"
   ]
  },
  {
   "cell_type": "code",
   "execution_count": 5,
   "id": "a6f37b21",
   "metadata": {},
   "outputs": [
    {
     "name": "stdout",
     "output_type": "stream",
     "text": [
      "Result = 0.1287001287001287\n"
     ]
    }
   ],
   "source": [
    "print(\"Result = {}\".format(result))"
   ]
  },
  {
   "cell_type": "code",
   "execution_count": 9,
   "id": "24c76399",
   "metadata": {},
   "outputs": [
    {
     "name": "stdout",
     "output_type": "stream",
     "text": [
      "Result = 0.129\n"
     ]
    }
   ],
   "source": [
    "print(\"Result = {r:1.3f}\".format(r = result))"
   ]
  },
  {
   "cell_type": "code",
   "execution_count": 14,
   "id": "b20a9274",
   "metadata": {},
   "outputs": [
    {
     "name": "stdout",
     "output_type": "stream",
     "text": [
      "Result =      0.129\n"
     ]
    }
   ],
   "source": [
    "print(\"Result = {r:10.3f}\".format(r = result))"
   ]
  },
  {
   "cell_type": "code",
   "execution_count": 20,
   "id": "46c58aaf",
   "metadata": {},
   "outputs": [
    {
     "name": "stdout",
     "output_type": "stream",
     "text": [
      "Result =   0.128700\n"
     ]
    }
   ],
   "source": [
    "print(\"Result = {r:10.6f}\".format(r = result))"
   ]
  }
 ],
 "metadata": {
  "kernelspec": {
   "display_name": "Python 3 (ipykernel)",
   "language": "python",
   "name": "python3"
  },
  "language_info": {
   "codemirror_mode": {
    "name": "ipython",
    "version": 3
   },
   "file_extension": ".py",
   "mimetype": "text/x-python",
   "name": "python",
   "nbconvert_exporter": "python",
   "pygments_lexer": "ipython3",
   "version": "3.10.6"
  }
 },
 "nbformat": 4,
 "nbformat_minor": 5
}
