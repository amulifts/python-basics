{
 "cells": [
  {
   "cell_type": "markdown",
   "id": "85e20dff",
   "metadata": {},
   "source": [
    "# Files"
   ]
  },
  {
   "cell_type": "markdown",
   "id": "ffde3c37",
   "metadata": {},
   "source": [
    "### IPython Writing a File"
   ]
  },
  {
   "cell_type": "markdown",
   "id": "9b7a5ac5",
   "metadata": {},
   "source": [
    "This function is specific to jupyter notebooks<br>\n",
    "Alternatively, quickly create a simple .txt."
   ]
  },
  {
   "cell_type": "code",
   "execution_count": 33,
   "id": "ae65d75d",
   "metadata": {},
   "outputs": [
    {
     "name": "stdout",
     "output_type": "stream",
     "text": [
      "Overwriting test.txt\n"
     ]
    }
   ],
   "source": [
    "%%writefile test.txt\n",
    "Hello, this is a text file\n",
    "this is second line\n",
    "this is third line"
   ]
  },
  {
   "cell_type": "markdown",
   "id": "7738a7e8",
   "metadata": {},
   "source": [
    "### Python Opening a file"
   ]
  },
  {
   "cell_type": "code",
   "execution_count": 13,
   "id": "08612b15",
   "metadata": {},
   "outputs": [],
   "source": [
    "# myfile = open('newfile.txt') error"
   ]
  },
  {
   "cell_type": "code",
   "execution_count": 34,
   "id": "c54caa34",
   "metadata": {},
   "outputs": [
    {
     "data": {
      "text/plain": [
       "'E:\\\\Grusha\\\\00-Python Object and Data Structure Basics'"
      ]
     },
     "execution_count": 34,
     "metadata": {},
     "output_type": "execute_result"
    }
   ],
   "source": [
    "%pwd"
   ]
  },
  {
   "cell_type": "markdown",
   "id": "f4867156",
   "metadata": {},
   "source": [
    "## File Location\n",
    "If you want to open files from another location to your computer, simply pass entire file path\n",
    "\n",
    "<b>For Windows:</b><br>\n",
    "myfile = open(\"C:\\Users\\UserName\\Folder\\test.txt\")\n",
    "<br><b>For MacOS and Linux:</b><br>\n",
    "myfile = open(\"/Users/YourUserName/Folder/myfile.txt\")"
   ]
  },
  {
   "cell_type": "code",
   "execution_count": 52,
   "id": "42cda191",
   "metadata": {},
   "outputs": [],
   "source": [
    "myfile = open(\"test.txt\")"
   ]
  },
  {
   "cell_type": "code",
   "execution_count": 53,
   "id": "2751b923",
   "metadata": {},
   "outputs": [
    {
     "data": {
      "text/plain": [
       "'Hello, this is a text file\\nthis is second line\\nthis is third line\\n'"
      ]
     },
     "execution_count": 53,
     "metadata": {},
     "output_type": "execute_result"
    }
   ],
   "source": [
    "myfile.read()"
   ]
  },
  {
   "cell_type": "code",
   "execution_count": 54,
   "id": "938a0a0c",
   "metadata": {},
   "outputs": [
    {
     "data": {
      "text/plain": [
       "''"
      ]
     },
     "execution_count": 54,
     "metadata": {},
     "output_type": "execute_result"
    }
   ],
   "source": [
    "myfile.read()"
   ]
  },
  {
   "cell_type": "markdown",
   "id": "4745f452",
   "metadata": {},
   "source": [
    "This happens because you can imagine the reading \"cursor\" is at the end of the file after having read it. So there is nothing left to read. <br>\n",
    "<b> We can reset the \"cursor\" </b>"
   ]
  },
  {
   "cell_type": "code",
   "execution_count": 55,
   "id": "670e037d",
   "metadata": {},
   "outputs": [
    {
     "data": {
      "text/plain": [
       "0"
      ]
     },
     "execution_count": 55,
     "metadata": {},
     "output_type": "execute_result"
    }
   ],
   "source": [
    "myfile.seek(0)"
   ]
  },
  {
   "cell_type": "code",
   "execution_count": 56,
   "id": "aba2e0ef",
   "metadata": {},
   "outputs": [
    {
     "data": {
      "text/plain": [
       "'Hello, this is a text file\\nthis is second line\\nthis is third line\\n'"
      ]
     },
     "execution_count": 56,
     "metadata": {},
     "output_type": "execute_result"
    }
   ],
   "source": [
    "myfile.read()"
   ]
  },
  {
   "cell_type": "markdown",
   "id": "95aa371a",
   "metadata": {},
   "source": [
    "You can read a file by line using the <b>readlines</b> methods."
   ]
  },
  {
   "cell_type": "code",
   "execution_count": 57,
   "id": "b47c4fe6",
   "metadata": {},
   "outputs": [
    {
     "data": {
      "text/plain": [
       "['Hello, this is a text file\\n',\n",
       " 'this is second line\\n',\n",
       " 'this is third line\\n']"
      ]
     },
     "execution_count": 57,
     "metadata": {},
     "output_type": "execute_result"
    }
   ],
   "source": [
    "# Readlines returns a list of the lines in the file\n",
    "myfile.seek(0)\n",
    "myfile.readlines()"
   ]
  },
  {
   "cell_type": "code",
   "execution_count": 58,
   "id": "9d297cb3",
   "metadata": {},
   "outputs": [
    {
     "data": {
      "text/plain": [
       "'Hello, this is a text file\\n'"
      ]
     },
     "execution_count": 58,
     "metadata": {},
     "output_type": "execute_result"
    }
   ],
   "source": [
    "# Readline returns a list of the lines in the file\n",
    "myfile.seek(0)\n",
    "myfile.readline()"
   ]
  },
  {
   "cell_type": "code",
   "execution_count": 59,
   "id": "3caff3be",
   "metadata": {},
   "outputs": [
    {
     "data": {
      "text/plain": [
       "'this is second line\\n'"
      ]
     },
     "execution_count": 59,
     "metadata": {},
     "output_type": "execute_result"
    }
   ],
   "source": [
    "# Readline Read until newline or EOF\n",
    "myfile.readline()"
   ]
  },
  {
   "cell_type": "code",
   "execution_count": 61,
   "id": "f4e7b0f4",
   "metadata": {},
   "outputs": [
    {
     "data": {
      "text/plain": [
       "''"
      ]
     },
     "execution_count": 61,
     "metadata": {},
     "output_type": "execute_result"
    }
   ],
   "source": [
    "myfile.read()"
   ]
  },
  {
   "cell_type": "code",
   "execution_count": 62,
   "id": "3b313ef4",
   "metadata": {},
   "outputs": [
    {
     "data": {
      "text/plain": [
       "0"
      ]
     },
     "execution_count": 62,
     "metadata": {},
     "output_type": "execute_result"
    }
   ],
   "source": [
    "myfile.seek(0)"
   ]
  },
  {
   "cell_type": "code",
   "execution_count": 63,
   "id": "7b867d75",
   "metadata": {},
   "outputs": [],
   "source": [
    "contents = myfile.read()"
   ]
  },
  {
   "cell_type": "code",
   "execution_count": 64,
   "id": "b9c77b08",
   "metadata": {},
   "outputs": [
    {
     "data": {
      "text/plain": [
       "'Hello, this is a text file\\nthis is second line\\nthis is third line\\n'"
      ]
     },
     "execution_count": 64,
     "metadata": {},
     "output_type": "execute_result"
    }
   ],
   "source": [
    "contents"
   ]
  },
  {
   "cell_type": "markdown",
   "id": "facc1a17",
   "metadata": {},
   "source": [
    "When you have finished using a file, it is always good practice to close it."
   ]
  },
  {
   "cell_type": "code",
   "execution_count": 67,
   "id": "d7f494b5",
   "metadata": {},
   "outputs": [],
   "source": [
    "myfile.close()"
   ]
  },
  {
   "cell_type": "markdown",
   "id": "5596d9c2",
   "metadata": {},
   "source": [
    "### Writing to a File"
   ]
  },
  {
   "cell_type": "markdown",
   "id": "7e0c4270",
   "metadata": {},
   "source": [
    "By default, the open() function will only allow us to read the file. <br>\n",
    "We need to pass the argument `'w'` to write over the file."
   ]
  },
  {
   "cell_type": "code",
   "execution_count": 79,
   "id": "c7f4910d",
   "metadata": {},
   "outputs": [],
   "source": [
    "myfile = open('test.txt','w+') # write and read"
   ]
  },
  {
   "cell_type": "code",
   "execution_count": 80,
   "id": "6fda2f27",
   "metadata": {},
   "outputs": [
    {
     "data": {
      "text/plain": [
       "18"
      ]
     },
     "execution_count": 80,
     "metadata": {},
     "output_type": "execute_result"
    }
   ],
   "source": [
    "myfile.write(\"This is a new line\")"
   ]
  },
  {
   "cell_type": "code",
   "execution_count": 81,
   "id": "66ffd291",
   "metadata": {},
   "outputs": [
    {
     "data": {
      "text/plain": [
       "'This is a new line'"
      ]
     },
     "execution_count": 81,
     "metadata": {},
     "output_type": "execute_result"
    }
   ],
   "source": [
    "myfile.seek(0)\n",
    "myfile.read()"
   ]
  },
  {
   "cell_type": "code",
   "execution_count": 82,
   "id": "288a3d32",
   "metadata": {},
   "outputs": [],
   "source": [
    "myfile.close()"
   ]
  },
  {
   "cell_type": "markdown",
   "id": "bded4311",
   "metadata": {},
   "source": [
    "### Appending to a File"
   ]
  },
  {
   "cell_type": "markdown",
   "id": "444b762d",
   "metadata": {},
   "source": [
    "Passing the argument `'a'` opens the file and puts the pointer at the end, so anything is appended. Like `'w+'`,`'a+'` lets us read and write to a file. If the file doesn't exist, one will be created. "
   ]
  },
  {
   "cell_type": "code",
   "execution_count": 83,
   "id": "4a319b61",
   "metadata": {},
   "outputs": [],
   "source": [
    "myfile = open(\"test.txt\", \"a+\") # append and read"
   ]
  },
  {
   "cell_type": "code",
   "execution_count": 84,
   "id": "05a7ddd2",
   "metadata": {},
   "outputs": [
    {
     "data": {
      "text/plain": [
       "29"
      ]
     },
     "execution_count": 84,
     "metadata": {},
     "output_type": "execute_result"
    }
   ],
   "source": [
    "myfile.write(\"\\n This is text being appended\")"
   ]
  },
  {
   "cell_type": "code",
   "execution_count": 85,
   "id": "14a378b6",
   "metadata": {},
   "outputs": [
    {
     "data": {
      "text/plain": [
       "34"
      ]
     },
     "execution_count": 85,
     "metadata": {},
     "output_type": "execute_result"
    }
   ],
   "source": [
    "myfile.write(\"\\n And another line is appended too\")"
   ]
  },
  {
   "cell_type": "code",
   "execution_count": 86,
   "id": "0d41ece5",
   "metadata": {},
   "outputs": [
    {
     "data": {
      "text/plain": [
       "'This is a new line\\n This is text being appended\\n And another line is appended too'"
      ]
     },
     "execution_count": 86,
     "metadata": {},
     "output_type": "execute_result"
    }
   ],
   "source": [
    "myfile.seek(0)\n",
    "myfile.read()"
   ]
  },
  {
   "cell_type": "code",
   "execution_count": 87,
   "id": "e7903b28",
   "metadata": {},
   "outputs": [],
   "source": [
    "myfile.close()"
   ]
  },
  {
   "cell_type": "markdown",
   "id": "4cbe6953",
   "metadata": {},
   "source": [
    "### Appending with `%%writefile`\n",
    "We can do the same thing using IPython cell magic."
   ]
  },
  {
   "cell_type": "code",
   "execution_count": 88,
   "id": "b3711e03",
   "metadata": {},
   "outputs": [
    {
     "name": "stdout",
     "output_type": "stream",
     "text": [
      "Appending to test.txt\n"
     ]
    }
   ],
   "source": [
    "%%writefile -a test.txt\n",
    "\n",
    "This is text being appended by IPython cell magic\n",
    "And another line is here"
   ]
  },
  {
   "cell_type": "markdown",
   "id": "acab7d0a",
   "metadata": {},
   "source": [
    "## Best Practice"
   ]
  },
  {
   "cell_type": "code",
   "execution_count": 89,
   "id": "e1878ca8",
   "metadata": {},
   "outputs": [],
   "source": [
    "with open(\"test.txt\",mode=\"r\") as myfile:\n",
    "    contents = myfile.read()"
   ]
  },
  {
   "cell_type": "code",
   "execution_count": 90,
   "id": "52f1a0b9",
   "metadata": {},
   "outputs": [
    {
     "data": {
      "text/plain": [
       "'This is a new line\\n This is text being appended\\n And another line is appended too\\nThis is text being appended by IPython cell magic\\nAnd another line is here\\n'"
      ]
     },
     "execution_count": 90,
     "metadata": {},
     "output_type": "execute_result"
    }
   ],
   "source": [
    "contents"
   ]
  },
  {
   "cell_type": "code",
   "execution_count": 92,
   "id": "7e5a92f0",
   "metadata": {},
   "outputs": [],
   "source": [
    "# with open(\"test.txt\",mode=\"w\") as myfile:\n",
    "#     contents = myfile.read()"
   ]
  },
  {
   "cell_type": "markdown",
   "id": "d9833be5",
   "metadata": {},
   "source": [
    "### Reading, Writing, Appending Modes"
   ]
  },
  {
   "cell_type": "markdown",
   "id": "8cf3e6e8",
   "metadata": {},
   "source": [
    "1. mode = 'r' is read only\n",
    "2. mode = 'w' is write only ( will overwrite files or create new )\n",
    "3. mode = 'a' is append only ( will add on to files )\n",
    "4. mode = 'r+' is reading and writing\n",
    "5. mode = 'w+' is writing and reading ( Overwrites existing files or creates a new file)"
   ]
  },
  {
   "cell_type": "code",
   "execution_count": 93,
   "id": "d04ea1f2",
   "metadata": {},
   "outputs": [
    {
     "name": "stdout",
     "output_type": "stream",
     "text": [
      "Writing mynewfile.txt\n"
     ]
    }
   ],
   "source": [
    "%%writefile mynewfile.txt\n",
    "One on First\n",
    "Two on Second\n",
    "Three on Third"
   ]
  },
  {
   "cell_type": "code",
   "execution_count": 94,
   "id": "df68bd84",
   "metadata": {},
   "outputs": [
    {
     "name": "stdout",
     "output_type": "stream",
     "text": [
      "One on First\n",
      "Two on Second\n",
      "Three on Third\n",
      "\n"
     ]
    }
   ],
   "source": [
    "with open(\"mynewfile.txt\",mode=\"r\") as f:\n",
    "    print(f.read())"
   ]
  },
  {
   "cell_type": "code",
   "execution_count": 95,
   "id": "8f89defb",
   "metadata": {},
   "outputs": [],
   "source": [
    "with open(\"mynewfile.txt\", mode=\"a\") as f:\n",
    "    f.write(\"\\nFour on Four\")"
   ]
  },
  {
   "cell_type": "code",
   "execution_count": 96,
   "id": "bc8c0c3f",
   "metadata": {
    "scrolled": true
   },
   "outputs": [
    {
     "name": "stdout",
     "output_type": "stream",
     "text": [
      "One on First\n",
      "Two on Second\n",
      "Three on Third\n",
      "\n",
      "Four on Four\n"
     ]
    }
   ],
   "source": [
    "with open(\"mynewfile.txt\", mode=\"r\") as f:\n",
    "    print(f.read())"
   ]
  },
  {
   "cell_type": "code",
   "execution_count": 97,
   "id": "3c03dba9",
   "metadata": {},
   "outputs": [],
   "source": [
    "with open(\"mynewfile.txt\", mode=\"w\") as f:\n",
    "    f.write(\"Aman Khadka created this file\")"
   ]
  },
  {
   "cell_type": "code",
   "execution_count": 98,
   "id": "210dca27",
   "metadata": {},
   "outputs": [
    {
     "name": "stdout",
     "output_type": "stream",
     "text": [
      "Aman Khadka created this file\n"
     ]
    }
   ],
   "source": [
    "with open(\"mynewfile.txt\", mode=\"r\") as f:\n",
    "    print(f.read())"
   ]
  },
  {
   "cell_type": "markdown",
   "id": "65ace991",
   "metadata": {},
   "source": [
    "### Iterating through a File"
   ]
  },
  {
   "cell_type": "code",
   "execution_count": 99,
   "id": "bce2734a",
   "metadata": {},
   "outputs": [
    {
     "name": "stdout",
     "output_type": "stream",
     "text": [
      "Writing foriter.txt\n"
     ]
    }
   ],
   "source": [
    "%%writefile foriter.txt\n",
    "First Line\n",
    "Second Line"
   ]
  },
  {
   "cell_type": "code",
   "execution_count": 102,
   "id": "950b29d1",
   "metadata": {},
   "outputs": [
    {
     "name": "stdout",
     "output_type": "stream",
     "text": [
      "First Line\n",
      "\n",
      "Second Line\n",
      "\n"
     ]
    }
   ],
   "source": [
    "for line in open(\"foriter.txt\"):\n",
    "    print(line)"
   ]
  },
  {
   "cell_type": "markdown",
   "id": "62a08aa1",
   "metadata": {},
   "source": [
    "# Bonus Links:"
   ]
  },
  {
   "cell_type": "markdown",
   "id": "bb825199",
   "metadata": {},
   "source": [
    "Practice Exercises:\n",
    "\n",
    "https://pynative.com/python-exercises-with-solutions/\n",
    "\n",
    "Basic Practice:\n",
    "\n",
    "http://codingbat.com/python\n",
    "\n",
    "More Mathematical (and Harder) Practice:\n",
    "\n",
    "https://projecteuler.net/archives\n",
    "\n",
    "List of Practice Problems:\n",
    "\n",
    "http://www.codeabbey.com/index/task_list\n",
    "\n",
    "A SubReddit Devoted to Daily Practice Problems:\n",
    "\n",
    "https://www.reddit.com/r/dailyprogrammer\n",
    "\n",
    "A very tricky website with very few hints and touch problems (Not for beginners but still interesting)\n",
    "\n",
    "http://www.pythonchallenge.com/ "
   ]
  }
 ],
 "metadata": {
  "kernelspec": {
   "display_name": "Python 3 (ipykernel)",
   "language": "python",
   "name": "python3"
  },
  "language_info": {
   "codemirror_mode": {
    "name": "ipython",
    "version": 3
   },
   "file_extension": ".py",
   "mimetype": "text/x-python",
   "name": "python",
   "nbconvert_exporter": "python",
   "pygments_lexer": "ipython3",
   "version": "3.10.6"
  }
 },
 "nbformat": 4,
 "nbformat_minor": 5
}
