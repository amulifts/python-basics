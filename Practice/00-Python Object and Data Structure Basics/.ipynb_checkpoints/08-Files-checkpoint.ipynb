{
 "cells": [
  {
   "cell_type": "code",
   "execution_count": 54,
   "id": "a6c7d0c2",
   "metadata": {},
   "outputs": [
    {
     "name": "stdout",
     "output_type": "stream",
     "text": [
      "Writing myfile.txt\n"
     ]
    }
   ],
   "source": [
    "%%writefile myfile.txt\n",
    "Hello this is a text file\n",
    "this is second line\n",
    "this is third line"
   ]
  },
  {
   "cell_type": "code",
   "execution_count": 55,
   "id": "762fa216",
   "metadata": {},
   "outputs": [],
   "source": [
    "myfile = open('myfile.txt')"
   ]
  },
  {
   "cell_type": "code",
   "execution_count": 56,
   "id": "a0eb9ee9",
   "metadata": {},
   "outputs": [],
   "source": [
    "# myfile = open('thisfile.txt') error"
   ]
  },
  {
   "cell_type": "code",
   "execution_count": 57,
   "id": "8533b476",
   "metadata": {},
   "outputs": [
    {
     "data": {
      "text/plain": [
       "'E:\\\\TBC\\\\Level 4\\\\Python\\\\Practice'"
      ]
     },
     "execution_count": 57,
     "metadata": {},
     "output_type": "execute_result"
    }
   ],
   "source": [
    "pwd"
   ]
  },
  {
   "cell_type": "code",
   "execution_count": 58,
   "id": "50dd9b89",
   "metadata": {},
   "outputs": [],
   "source": [
    "myfile = open('myfile.txt')"
   ]
  },
  {
   "cell_type": "code",
   "execution_count": 60,
   "id": "28d6c1e1",
   "metadata": {},
   "outputs": [
    {
     "data": {
      "text/plain": [
       "'Hello this is a text file\\nthis is second line\\nthis is third line\\n'"
      ]
     },
     "execution_count": 60,
     "metadata": {},
     "output_type": "execute_result"
    }
   ],
   "source": [
    "myfile.read()"
   ]
  },
  {
   "cell_type": "code",
   "execution_count": 61,
   "id": "4c82644f",
   "metadata": {},
   "outputs": [
    {
     "data": {
      "text/plain": [
       "''"
      ]
     },
     "execution_count": 61,
     "metadata": {},
     "output_type": "execute_result"
    }
   ],
   "source": [
    "myfile.read()"
   ]
  },
  {
   "cell_type": "code",
   "execution_count": 62,
   "id": "c2204f21",
   "metadata": {},
   "outputs": [
    {
     "data": {
      "text/plain": [
       "0"
      ]
     },
     "execution_count": 62,
     "metadata": {},
     "output_type": "execute_result"
    }
   ],
   "source": [
    "myfile.seek(0)"
   ]
  },
  {
   "cell_type": "code",
   "execution_count": 63,
   "id": "b8507932",
   "metadata": {},
   "outputs": [
    {
     "data": {
      "text/plain": [
       "'Hello this is a text file\\nthis is second line\\nthis is third line\\n'"
      ]
     },
     "execution_count": 63,
     "metadata": {},
     "output_type": "execute_result"
    }
   ],
   "source": [
    "myfile.read()"
   ]
  },
  {
   "cell_type": "code",
   "execution_count": 64,
   "id": "2f67415c",
   "metadata": {},
   "outputs": [
    {
     "data": {
      "text/plain": [
       "''"
      ]
     },
     "execution_count": 64,
     "metadata": {},
     "output_type": "execute_result"
    }
   ],
   "source": [
    "myfile.read()"
   ]
  },
  {
   "cell_type": "code",
   "execution_count": 65,
   "id": "f8304e52",
   "metadata": {},
   "outputs": [
    {
     "data": {
      "text/plain": [
       "0"
      ]
     },
     "execution_count": 65,
     "metadata": {},
     "output_type": "execute_result"
    }
   ],
   "source": [
    "myfile.seek(0)"
   ]
  },
  {
   "cell_type": "code",
   "execution_count": 66,
   "id": "9523f66b",
   "metadata": {},
   "outputs": [],
   "source": [
    "contents = myfile.read()"
   ]
  },
  {
   "cell_type": "code",
   "execution_count": 67,
   "id": "0f3f9c9e",
   "metadata": {},
   "outputs": [
    {
     "data": {
      "text/plain": [
       "'Hello this is a text file\\nthis is second line\\nthis is third line\\n'"
      ]
     },
     "execution_count": 67,
     "metadata": {},
     "output_type": "execute_result"
    }
   ],
   "source": [
    "contents"
   ]
  },
  {
   "cell_type": "code",
   "execution_count": 68,
   "id": "f8a40d5a",
   "metadata": {},
   "outputs": [
    {
     "data": {
      "text/plain": [
       "0"
      ]
     },
     "execution_count": 68,
     "metadata": {},
     "output_type": "execute_result"
    }
   ],
   "source": [
    "myfile.seek(0)"
   ]
  },
  {
   "cell_type": "code",
   "execution_count": 69,
   "id": "9b4cc47c",
   "metadata": {},
   "outputs": [
    {
     "data": {
      "text/plain": [
       "['Hello this is a text file\\n',\n",
       " 'this is second line\\n',\n",
       " 'this is third line\\n']"
      ]
     },
     "execution_count": 69,
     "metadata": {},
     "output_type": "execute_result"
    }
   ],
   "source": [
    "myfile.readlines()"
   ]
  },
  {
   "cell_type": "markdown",
   "id": "12a07bb5",
   "metadata": {},
   "source": [
    "## File Locations"
   ]
  },
  {
   "cell_type": "markdown",
   "id": "2bb080c0",
   "metadata": {},
   "source": [
    "If want to open files at another location on your computer,\n",
    "simply pass in entire file path\n",
    "\n",
    "<b>For Windows:</b> <br>\n",
    "    myfile = open(\"C:\\\\Users\\\\UserName\\\\Folder\\\\test.txt\")\n",
    "<br><b>For MacOS and Linux:</b> <br>\n",
    "    myfile = open(\"/Users/YourUserName/Folder/myfile.txt\")"
   ]
  },
  {
   "cell_type": "code",
   "execution_count": 70,
   "id": "1008467d",
   "metadata": {},
   "outputs": [
    {
     "data": {
      "text/plain": [
       "'E:\\\\TBC\\\\Level 4\\\\Python\\\\Practice'"
      ]
     },
     "execution_count": 70,
     "metadata": {},
     "output_type": "execute_result"
    }
   ],
   "source": [
    "pwd"
   ]
  },
  {
   "cell_type": "code",
   "execution_count": 71,
   "id": "9f2e8eb3",
   "metadata": {},
   "outputs": [],
   "source": [
    "myfile.close()"
   ]
  },
  {
   "cell_type": "code",
   "execution_count": 72,
   "id": "50cbdbf8",
   "metadata": {},
   "outputs": [],
   "source": [
    "# myfile = open('myfile.txt')"
   ]
  },
  {
   "cell_type": "code",
   "execution_count": 73,
   "id": "17c6f7df",
   "metadata": {},
   "outputs": [],
   "source": [
    "with open('myfile.txt') as my_new_file:\n",
    "    contents = my_new_file.read()\n",
    "    # We don't need to close file"
   ]
  },
  {
   "cell_type": "code",
   "execution_count": 74,
   "id": "33f9c9cf",
   "metadata": {},
   "outputs": [
    {
     "data": {
      "text/plain": [
       "'Hello this is a text file\\nthis is second line\\nthis is third line\\n'"
      ]
     },
     "execution_count": 74,
     "metadata": {},
     "output_type": "execute_result"
    }
   ],
   "source": [
    "contents"
   ]
  },
  {
   "cell_type": "code",
   "execution_count": 75,
   "id": "f4a7cd36",
   "metadata": {},
   "outputs": [],
   "source": [
    "#shift + tab for help\n",
    "with open('myfile.txt',mode='r') as myfile:\n",
    "    contents = myfile.read()"
   ]
  },
  {
   "cell_type": "code",
   "execution_count": 76,
   "id": "da8e6531",
   "metadata": {},
   "outputs": [
    {
     "data": {
      "text/plain": [
       "'Hello this is a text file\\nthis is second line\\nthis is third line\\n'"
      ]
     },
     "execution_count": 76,
     "metadata": {},
     "output_type": "execute_result"
    }
   ],
   "source": [
    "contents"
   ]
  },
  {
   "cell_type": "code",
   "execution_count": 53,
   "id": "aa6eec5d",
   "metadata": {},
   "outputs": [],
   "source": [
    "# #shift + tab for help\n",
    "# with open('myfile.txt',mode='w') as myfile:\n",
    "#     contents = myfile.read()"
   ]
  },
  {
   "cell_type": "markdown",
   "id": "6d123711",
   "metadata": {},
   "source": [
    "## Reading, Writing, Append Modes"
   ]
  },
  {
   "cell_type": "markdown",
   "id": "0ef7fe01",
   "metadata": {},
   "source": [
    "1. mode = 'r' is read only\n",
    "2. mode = 'w' is write only ( will overwrite files or create new )\n",
    "3. mode = 'a' is append only ( will add on to files )\n",
    "4. mode = 'r+' is reading and writing\n",
    "5. mode = 'w+' is writing and reading ( Overwrites existing files or creates a new file)"
   ]
  },
  {
   "cell_type": "code",
   "execution_count": 77,
   "id": "3b0f8b54",
   "metadata": {},
   "outputs": [
    {
     "name": "stdout",
     "output_type": "stream",
     "text": [
      "Writing my_new_file.txt\n"
     ]
    }
   ],
   "source": [
    "%%writefile my_new_file.txt\n",
    "One on First\n",
    "Two on Second\n",
    "Three on Third"
   ]
  },
  {
   "cell_type": "code",
   "execution_count": 78,
   "id": "ebba25c7",
   "metadata": {},
   "outputs": [
    {
     "name": "stdout",
     "output_type": "stream",
     "text": [
      "One on First\n",
      "Two on Second\n",
      "Three on Third\n",
      "\n"
     ]
    }
   ],
   "source": [
    "with open('my_new_file.txt', mode='r') as f:\n",
    "    print(f.read())"
   ]
  },
  {
   "cell_type": "code",
   "execution_count": 79,
   "id": "f2428ddc",
   "metadata": {},
   "outputs": [],
   "source": [
    "with open('my_new_file.txt', mode='a') as f:\n",
    "    f.write(\"\\nFour on Four\")"
   ]
  },
  {
   "cell_type": "code",
   "execution_count": 80,
   "id": "a5e7b96e",
   "metadata": {},
   "outputs": [
    {
     "name": "stdout",
     "output_type": "stream",
     "text": [
      "One on First\n",
      "Two on Second\n",
      "Three on Third\n",
      "\n",
      "Four on Four\n"
     ]
    }
   ],
   "source": [
    "with open('my_new_file.txt', mode='r') as f:\n",
    "    print(f.read())"
   ]
  },
  {
   "cell_type": "code",
   "execution_count": 81,
   "id": "4c425768",
   "metadata": {},
   "outputs": [],
   "source": [
    "with open('automaticreated.txt', mode='w') as f:\n",
    "    f.write(\"I created this file\")"
   ]
  },
  {
   "cell_type": "code",
   "execution_count": 82,
   "id": "7a31f1c6",
   "metadata": {},
   "outputs": [
    {
     "name": "stdout",
     "output_type": "stream",
     "text": [
      "I created this file\n"
     ]
    }
   ],
   "source": [
    "with open('automaticreated.txt', mode='r') as f:\n",
    "    print(f.read())"
   ]
  },
  {
   "cell_type": "markdown",
   "id": "62a08aa1",
   "metadata": {},
   "source": [
    "# Bonus Links:"
   ]
  },
  {
   "cell_type": "markdown",
   "id": "bb825199",
   "metadata": {},
   "source": [
    "Basic Practice:\n",
    "\n",
    "http://codingbat.com/python\n",
    "\n",
    "More Mathematical (and Harder) Practice:\n",
    "\n",
    "https://projecteuler.net/archives\n",
    "\n",
    "List of Practice Problems:\n",
    "\n",
    "http://www.codeabbey.com/index/task_list\n",
    "\n",
    "A SubReddit Devoted to Daily Practice Problems:\n",
    "\n",
    "https://www.reddit.com/r/dailyprogrammer\n",
    "\n",
    "A very tricky website with very few hints and touch problems (Not for beginners but still interesting)\n",
    "\n",
    "http://www.pythonchallenge.com/ "
   ]
  }
 ],
 "metadata": {
  "kernelspec": {
   "display_name": "Python 3 (ipykernel)",
   "language": "python",
   "name": "python3"
  },
  "language_info": {
   "codemirror_mode": {
    "name": "ipython",
    "version": 3
   },
   "file_extension": ".py",
   "mimetype": "text/x-python",
   "name": "python",
   "nbconvert_exporter": "python",
   "pygments_lexer": "ipython3",
   "version": "3.10.6"
  }
 },
 "nbformat": 4,
 "nbformat_minor": 5
}
