{
 "cells": [
  {
   "cell_type": "markdown",
   "id": "85e20dff",
   "metadata": {},
   "source": [
    "# Files"
   ]
  },
  {
   "cell_type": "markdown",
   "id": "4caab0fc",
   "metadata": {},
   "source": [
    "### IPython Writing a File"
   ]
  },
  {
   "cell_type": "markdown",
   "id": "229c568c",
   "metadata": {},
   "source": [
    "This function is specific to jupyter notebooks<br>\n",
    "Alternatively, quickly create a simple .txt."
   ]
  },
  {
   "cell_type": "code",
   "execution_count": 33,
   "id": "ae65d75d",
   "metadata": {},
   "outputs": [
    {
     "name": "stdout",
     "output_type": "stream",
     "text": [
      "Overwriting test.txt\n"
     ]
    }
   ],
   "source": [
    "%%writefile test.txt\n",
    "Hello, this is a text file\n",
    "this is second line\n",
    "this is third line"
   ]
  },
  {
   "cell_type": "markdown",
   "id": "24b6bf1b",
   "metadata": {},
   "source": [
    "### Python Opening a file"
   ]
  },
  {
   "cell_type": "code",
   "execution_count": 13,
   "id": "c42e15ad",
   "metadata": {},
   "outputs": [],
   "source": [
    "# myfile = open('newfile.txt') error"
   ]
  },
  {
   "cell_type": "code",
   "execution_count": 34,
   "id": "3935d982",
   "metadata": {},
   "outputs": [
    {
     "data": {
      "text/plain": [
       "'E:\\\\Grusha\\\\00-Python Object and Data Structure Basics'"
      ]
     },
     "execution_count": 34,
     "metadata": {},
     "output_type": "execute_result"
    }
   ],
   "source": [
    "%pwd"
   ]
  },
  {
   "cell_type": "markdown",
   "id": "a5e7c553",
   "metadata": {},
   "source": [
    "## File Location\n",
    "If you want to open files from another location to your computer, simply pass entire file path\n",
    "\n",
    "<b>For Windows:</b><br>\n",
    "myfile = open(\"C:\\Users\\UserName\\Folder\\test.txt\")\n",
    "<br><b>For MacOS and Linux:</b><br>\n",
    "myfile = open(\"/Users/YourUserName/Folder/myfile.txt\")"
   ]
  },
  {
   "cell_type": "code",
   "execution_count": 52,
   "id": "ed5d9cd3",
   "metadata": {},
   "outputs": [],
   "source": [
    "myfile = open(\"test.txt\")"
   ]
  },
  {
   "cell_type": "code",
   "execution_count": 53,
   "id": "26b14e69",
   "metadata": {},
   "outputs": [
    {
     "data": {
      "text/plain": [
       "'Hello, this is a text file\\nthis is second line\\nthis is third line\\n'"
      ]
     },
     "execution_count": 53,
     "metadata": {},
     "output_type": "execute_result"
    }
   ],
   "source": [
    "myfile.read()"
   ]
  },
  {
   "cell_type": "code",
   "execution_count": 54,
   "id": "7f102c42",
   "metadata": {},
   "outputs": [
    {
     "data": {
      "text/plain": [
       "''"
      ]
     },
     "execution_count": 54,
     "metadata": {},
     "output_type": "execute_result"
    }
   ],
   "source": [
    "myfile.read()"
   ]
  },
  {
   "cell_type": "markdown",
   "id": "f654485f",
   "metadata": {},
   "source": [
    "This happens because you can imagine the reading \"cursor\" is at the end of the file after having read it. So there is nothing left to read. <br>\n",
    "<b> We can reset the \"cursor\" </b>"
   ]
  },
  {
   "cell_type": "code",
   "execution_count": 55,
   "id": "4cfe6653",
   "metadata": {},
   "outputs": [
    {
     "data": {
      "text/plain": [
       "0"
      ]
     },
     "execution_count": 55,
     "metadata": {},
     "output_type": "execute_result"
    }
   ],
   "source": [
    "myfile.seek(0)"
   ]
  },
  {
   "cell_type": "code",
   "execution_count": 56,
   "id": "00a3b654",
   "metadata": {},
   "outputs": [
    {
     "data": {
      "text/plain": [
       "'Hello, this is a text file\\nthis is second line\\nthis is third line\\n'"
      ]
     },
     "execution_count": 56,
     "metadata": {},
     "output_type": "execute_result"
    }
   ],
   "source": [
    "myfile.read()"
   ]
  },
  {
   "cell_type": "markdown",
   "id": "ac3f7d32",
   "metadata": {},
   "source": [
    "You can read a file by line using the <b>readlines</b> methods."
   ]
  },
  {
   "cell_type": "code",
   "execution_count": 57,
   "id": "8c3b539a",
   "metadata": {},
   "outputs": [
    {
     "data": {
      "text/plain": [
       "['Hello, this is a text file\\n',\n",
       " 'this is second line\\n',\n",
       " 'this is third line\\n']"
      ]
     },
     "execution_count": 57,
     "metadata": {},
     "output_type": "execute_result"
    }
   ],
   "source": [
    "# Readlines returns a list of the lines in the file\n",
    "myfile.seek(0)\n",
    "myfile.readlines()"
   ]
  },
  {
   "cell_type": "code",
   "execution_count": 58,
   "id": "6596a0fd",
   "metadata": {},
   "outputs": [
    {
     "data": {
      "text/plain": [
       "'Hello, this is a text file\\n'"
      ]
     },
     "execution_count": 58,
     "metadata": {},
     "output_type": "execute_result"
    }
   ],
   "source": [
    "# Readline returns a list of the lines in the file\n",
    "myfile.seek(0)\n",
    "myfile.readline()"
   ]
  },
  {
   "cell_type": "code",
   "execution_count": 59,
   "id": "bd89da43",
   "metadata": {},
   "outputs": [
    {
     "data": {
      "text/plain": [
       "'this is second line\\n'"
      ]
     },
     "execution_count": 59,
     "metadata": {},
     "output_type": "execute_result"
    }
   ],
   "source": [
    "# Readline Read until newline or EOF\n",
    "myfile.readline()"
   ]
  },
  {
   "cell_type": "code",
   "execution_count": 61,
   "id": "cf8f7cd8",
   "metadata": {},
   "outputs": [
    {
     "data": {
      "text/plain": [
       "''"
      ]
     },
     "execution_count": 61,
     "metadata": {},
     "output_type": "execute_result"
    }
   ],
   "source": [
    "myfile.read()"
   ]
  },
  {
   "cell_type": "code",
   "execution_count": 62,
   "id": "6c99885f",
   "metadata": {},
   "outputs": [
    {
     "data": {
      "text/plain": [
       "0"
      ]
     },
     "execution_count": 62,
     "metadata": {},
     "output_type": "execute_result"
    }
   ],
   "source": [
    "myfile.seek(0)"
   ]
  },
  {
   "cell_type": "code",
   "execution_count": 63,
   "id": "db3a1d61",
   "metadata": {},
   "outputs": [],
   "source": [
    "contents = myfile.read()"
   ]
  },
  {
   "cell_type": "code",
   "execution_count": 64,
   "id": "ef0bddf1",
   "metadata": {},
   "outputs": [
    {
     "data": {
      "text/plain": [
       "'Hello, this is a text file\\nthis is second line\\nthis is third line\\n'"
      ]
     },
     "execution_count": 64,
     "metadata": {},
     "output_type": "execute_result"
    }
   ],
   "source": [
    "contents"
   ]
  },
  {
   "cell_type": "markdown",
   "id": "6416de89",
   "metadata": {},
   "source": [
    "When you have finished using a file, it is always good practice to close it."
   ]
  },
  {
   "cell_type": "code",
   "execution_count": 67,
   "id": "20c2f87c",
   "metadata": {},
   "outputs": [],
   "source": [
    "myfile.close()"
   ]
  },
  {
   "cell_type": "markdown",
   "id": "17020280",
   "metadata": {},
   "source": [
    "### Writing to a File"
   ]
  },
  {
   "cell_type": "markdown",
   "id": "17366f8c",
   "metadata": {},
   "source": [
    "By default, the open() function will only allow us to read the file. <br>\n",
    "We need to pass the argument `'w'` to write over the file."
   ]
  },
  {
   "cell_type": "code",
   "execution_count": 79,
   "id": "1d3ab556",
   "metadata": {},
   "outputs": [],
   "source": [
    "myfile = open('test.txt','w+') # write and read"
   ]
  },
  {
   "cell_type": "code",
   "execution_count": 80,
   "id": "463d1f7d",
   "metadata": {},
   "outputs": [
    {
     "data": {
      "text/plain": [
       "18"
      ]
     },
     "execution_count": 80,
     "metadata": {},
     "output_type": "execute_result"
    }
   ],
   "source": [
    "myfile.write(\"This is a new line\")"
   ]
  },
  {
   "cell_type": "code",
   "execution_count": 81,
   "id": "29458802",
   "metadata": {},
   "outputs": [
    {
     "data": {
      "text/plain": [
       "'This is a new line'"
      ]
     },
     "execution_count": 81,
     "metadata": {},
     "output_type": "execute_result"
    }
   ],
   "source": [
    "myfile.seek(0)\n",
    "myfile.read()"
   ]
  },
  {
   "cell_type": "code",
   "execution_count": 82,
   "id": "c8f85cac",
   "metadata": {},
   "outputs": [],
   "source": [
    "myfile.close()"
   ]
  },
  {
   "cell_type": "markdown",
   "id": "600be338",
   "metadata": {},
   "source": [
    "### Appending to a File"
   ]
  },
  {
   "cell_type": "markdown",
   "id": "b478678f",
   "metadata": {},
   "source": [
    "Passing the argument `'a'` opens the file and puts the pointer at the end, so anything is appended. Like `'w+'`,`'a+'` lets us read and write to a file. If the file doesn't exist, one will be created. "
   ]
  },
  {
   "cell_type": "code",
   "execution_count": 83,
   "id": "072cba9b",
   "metadata": {},
   "outputs": [],
   "source": [
    "myfile = open(\"test.txt\", \"a+\") # append and read"
   ]
  },
  {
   "cell_type": "code",
   "execution_count": 84,
   "id": "b8b1530a",
   "metadata": {},
   "outputs": [
    {
     "data": {
      "text/plain": [
       "29"
      ]
     },
     "execution_count": 84,
     "metadata": {},
     "output_type": "execute_result"
    }
   ],
   "source": [
    "myfile.write(\"\\n This is text being appended\")"
   ]
  },
  {
   "cell_type": "code",
   "execution_count": 85,
   "id": "2618643b",
   "metadata": {},
   "outputs": [
    {
     "data": {
      "text/plain": [
       "34"
      ]
     },
     "execution_count": 85,
     "metadata": {},
     "output_type": "execute_result"
    }
   ],
   "source": [
    "myfile.write(\"\\n And another line is appended too\")"
   ]
  },
  {
   "cell_type": "code",
   "execution_count": 86,
   "id": "5d074edb",
   "metadata": {},
   "outputs": [
    {
     "data": {
      "text/plain": [
       "'This is a new line\\n This is text being appended\\n And another line is appended too'"
      ]
     },
     "execution_count": 86,
     "metadata": {},
     "output_type": "execute_result"
    }
   ],
   "source": [
    "myfile.seek(0)\n",
    "myfile.read()"
   ]
  },
  {
   "cell_type": "code",
   "execution_count": 87,
   "id": "8ac81b2e",
   "metadata": {},
   "outputs": [],
   "source": [
    "myfile.close()"
   ]
  },
  {
   "cell_type": "markdown",
   "id": "ec7be952",
   "metadata": {},
   "source": [
    "### Appending with `%%writefile`\n",
    "We can do the same thing using IPython cell magic."
   ]
  },
  {
   "cell_type": "code",
   "execution_count": 88,
   "id": "b425f74a",
   "metadata": {},
   "outputs": [
    {
     "name": "stdout",
     "output_type": "stream",
     "text": [
      "Appending to test.txt\n"
     ]
    }
   ],
   "source": [
    "%%writefile -a test.txt\n",
    "\n",
    "This is text being appended by IPython cell magic\n",
    "And another line is here"
   ]
  },
  {
   "cell_type": "markdown",
   "id": "121d1cd6",
   "metadata": {},
   "source": [
    "## Best Practice"
   ]
  },
  {
   "cell_type": "code",
   "execution_count": 89,
   "id": "1293ce27",
   "metadata": {},
   "outputs": [],
   "source": [
    "with open(\"test.txt\",mode=\"r\") as myfile:\n",
    "    contents = myfile.read()"
   ]
  },
  {
   "cell_type": "code",
   "execution_count": 90,
   "id": "e83e6ba9",
   "metadata": {},
   "outputs": [
    {
     "data": {
      "text/plain": [
       "'This is a new line\\n This is text being appended\\n And another line is appended too\\nThis is text being appended by IPython cell magic\\nAnd another line is here\\n'"
      ]
     },
     "execution_count": 90,
     "metadata": {},
     "output_type": "execute_result"
    }
   ],
   "source": [
    "contents"
   ]
  },
  {
   "cell_type": "code",
   "execution_count": 92,
   "id": "09a76cab",
   "metadata": {},
   "outputs": [],
   "source": [
    "# with open(\"test.txt\",mode=\"w\") as myfile:\n",
    "#     contents = myfile.read()"
   ]
  },
  {
   "cell_type": "markdown",
   "id": "fd292996",
   "metadata": {},
   "source": [
    "### Reading, Writing, Appending Modes"
   ]
  },
  {
   "cell_type": "markdown",
   "id": "bd754374",
   "metadata": {},
   "source": [
    "1. mode = 'r' is read only\n",
    "2. mode = 'w' is write only ( will overwrite files or create new )\n",
    "3. mode = 'a' is append only ( will add on to files )\n",
    "4. mode = 'r+' is reading and writing\n",
    "5. mode = 'w+' is writing and reading ( Overwrites existing files or creates a new file)"
   ]
  },
  {
   "cell_type": "code",
   "execution_count": 93,
   "id": "126bb637",
   "metadata": {},
   "outputs": [
    {
     "name": "stdout",
     "output_type": "stream",
     "text": [
      "Writing mynewfile.txt\n"
     ]
    }
   ],
   "source": [
    "%%writefile mynewfile.txt\n",
    "One on First\n",
    "Two on Second\n",
    "Three on Third"
   ]
  },
  {
   "cell_type": "code",
   "execution_count": 94,
   "id": "cabd2146",
   "metadata": {},
   "outputs": [
    {
     "name": "stdout",
     "output_type": "stream",
     "text": [
      "One on First\n",
      "Two on Second\n",
      "Three on Third\n",
      "\n"
     ]
    }
   ],
   "source": [
    "with open(\"mynewfile.txt\",mode=\"r\") as f:\n",
    "    print(f.read())"
   ]
  },
  {
   "cell_type": "code",
   "execution_count": 95,
   "id": "82394763",
   "metadata": {},
   "outputs": [],
   "source": [
    "with open(\"mynewfile.txt\", mode=\"a\") as f:\n",
    "    f.write(\"\\nFour on Four\")"
   ]
  },
  {
   "cell_type": "code",
   "execution_count": 96,
   "id": "d5570a7a",
   "metadata": {
    "scrolled": true
   },
   "outputs": [
    {
     "name": "stdout",
     "output_type": "stream",
     "text": [
      "One on First\n",
      "Two on Second\n",
      "Three on Third\n",
      "\n",
      "Four on Four\n"
     ]
    }
   ],
   "source": [
    "with open(\"mynewfile.txt\", mode=\"r\") as f:\n",
    "    print(f.read())"
   ]
  },
  {
   "cell_type": "code",
   "execution_count": 97,
   "id": "61d004c7",
   "metadata": {},
   "outputs": [],
   "source": [
    "with open(\"mynewfile.txt\", mode=\"w\") as f:\n",
    "    f.write(\"Aman Khadka created this file\")"
   ]
  },
  {
   "cell_type": "code",
   "execution_count": 98,
   "id": "e97031f5",
   "metadata": {},
   "outputs": [
    {
     "name": "stdout",
     "output_type": "stream",
     "text": [
      "Aman Khadka created this file\n"
     ]
    }
   ],
   "source": [
    "with open(\"mynewfile.txt\", mode=\"r\") as f:\n",
    "    print(f.read())"
   ]
  },
  {
   "cell_type": "markdown",
   "id": "2aedde7a",
   "metadata": {},
   "source": [
    "### Iterating through a File"
   ]
  },
  {
   "cell_type": "code",
   "execution_count": 99,
   "id": "2aea7cbf",
   "metadata": {},
   "outputs": [
    {
     "name": "stdout",
     "output_type": "stream",
     "text": [
      "Writing foriter.txt\n"
     ]
    }
   ],
   "source": [
    "%%writefile foriter.txt\n",
    "First Line\n",
    "Second Line"
   ]
  },
  {
   "cell_type": "code",
   "execution_count": 102,
   "id": "e5850789",
   "metadata": {},
   "outputs": [
    {
     "name": "stdout",
     "output_type": "stream",
     "text": [
      "First Line\n",
      "\n",
      "Second Line\n",
      "\n"
     ]
    }
   ],
   "source": [
    "for line in open(\"foriter.txt\"):\n",
    "    print(line)"
   ]
  },
  {
   "cell_type": "markdown",
   "id": "62a08aa1",
   "metadata": {},
   "source": [
    "# Bonus Links:"
   ]
  },
  {
   "cell_type": "markdown",
   "id": "bb825199",
   "metadata": {},
   "source": [
    "Basic Practice:\n",
    "\n",
    "http://codingbat.com/python\n",
    "\n",
    "More Mathematical (and Harder) Practice:\n",
    "\n",
    "https://projecteuler.net/archives\n",
    "\n",
    "List of Practice Problems:\n",
    "\n",
    "http://www.codeabbey.com/index/task_list\n",
    "\n",
    "A SubReddit Devoted to Daily Practice Problems:\n",
    "\n",
    "https://www.reddit.com/r/dailyprogrammer\n",
    "\n",
    "A very tricky website with very few hints and touch problems (Not for beginners but still interesting)\n",
    "\n",
    "http://www.pythonchallenge.com/ "
   ]
  }
 ],
 "metadata": {
  "kernelspec": {
   "display_name": "Python 3 (ipykernel)",
   "language": "python",
   "name": "python3"
  },
  "language_info": {
   "codemirror_mode": {
    "name": "ipython",
    "version": 3
   },
   "file_extension": ".py",
   "mimetype": "text/x-python",
   "name": "python",
   "nbconvert_exporter": "python",
   "pygments_lexer": "ipython3",
   "version": "3.10.6"
  }
 },
 "nbformat": 4,
 "nbformat_minor": 5
}
