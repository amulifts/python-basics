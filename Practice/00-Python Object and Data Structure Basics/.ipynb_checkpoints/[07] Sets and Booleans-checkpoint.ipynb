{
 "cells": [
  {
   "cell_type": "markdown",
   "id": "32bd1270",
   "metadata": {},
   "source": [
    "# Sets and Boolean"
   ]
  },
  {
   "cell_type": "markdown",
   "id": "6b7df5da",
   "metadata": {},
   "source": [
    "There are two other object types in Python:\n",
    "- Sets\n",
    "- Booleans"
   ]
  },
  {
   "cell_type": "markdown",
   "id": "7f76c289",
   "metadata": {},
   "source": [
    "# Sets"
   ]
  },
  {
   "cell_type": "markdown",
   "id": "ea5f18ef",
   "metadata": {},
   "source": [
    "- sets are unordered collections of <b>unique elements<b>\n",
    "- it doesn't supports indexing, slicing and also can be nested\n",
    "- like lists, dictionary ; sets are mutable\n",
    "- syntax : { 1,2 }"
   ]
  },
  {
   "cell_type": "code",
   "execution_count": 10,
   "id": "c7bf00cc",
   "metadata": {},
   "outputs": [],
   "source": [
    "x = set()"
   ]
  },
  {
   "cell_type": "code",
   "execution_count": 11,
   "id": "488c7a5b",
   "metadata": {},
   "outputs": [],
   "source": [
    "x.add(1)"
   ]
  },
  {
   "cell_type": "code",
   "execution_count": 12,
   "id": "ce5c6421",
   "metadata": {},
   "outputs": [
    {
     "data": {
      "text/plain": [
       "{1}"
      ]
     },
     "execution_count": 12,
     "metadata": {},
     "output_type": "execute_result"
    }
   ],
   "source": [
    "x"
   ]
  },
  {
   "cell_type": "code",
   "execution_count": 13,
   "id": "9be15b3f",
   "metadata": {},
   "outputs": [
    {
     "data": {
      "text/plain": [
       "set"
      ]
     },
     "execution_count": 13,
     "metadata": {},
     "output_type": "execute_result"
    }
   ],
   "source": [
    "type(x)"
   ]
  },
  {
   "cell_type": "markdown",
   "id": "7859cfd7",
   "metadata": {},
   "source": [
    "Note that the curly brackets doesn't indicate a dictionary."
   ]
  },
  {
   "cell_type": "code",
   "execution_count": 23,
   "id": "5d807d20",
   "metadata": {},
   "outputs": [],
   "source": [
    "# Add a different element\n",
    "x.add(3)"
   ]
  },
  {
   "cell_type": "code",
   "execution_count": 20,
   "id": "5962f193",
   "metadata": {},
   "outputs": [
    {
     "data": {
      "text/plain": [
       "{1, 3}"
      ]
     },
     "execution_count": 20,
     "metadata": {},
     "output_type": "execute_result"
    }
   ],
   "source": [
    "x"
   ]
  },
  {
   "cell_type": "code",
   "execution_count": 31,
   "id": "c443a40a",
   "metadata": {},
   "outputs": [],
   "source": [
    "# Try to add the same element\n",
    "x.add(1)"
   ]
  },
  {
   "cell_type": "code",
   "execution_count": 32,
   "id": "d74f6a55",
   "metadata": {},
   "outputs": [
    {
     "data": {
      "text/plain": [
       "{1, 3}"
      ]
     },
     "execution_count": 32,
     "metadata": {},
     "output_type": "execute_result"
    }
   ],
   "source": [
    "x"
   ]
  },
  {
   "cell_type": "code",
   "execution_count": 34,
   "id": "16d1c999",
   "metadata": {},
   "outputs": [],
   "source": [
    "#  Notice how it won't place another 1 there. That's because a set is only concerned with unique elements\n",
    "list1 = [1,2,3,4,5,6,1,1,1,2,3]"
   ]
  },
  {
   "cell_type": "code",
   "execution_count": 35,
   "id": "367e80f5",
   "metadata": {},
   "outputs": [
    {
     "data": {
      "text/plain": [
       "[1, 2, 3, 4, 5, 6, 1, 1, 1, 2, 3]"
      ]
     },
     "execution_count": 35,
     "metadata": {},
     "output_type": "execute_result"
    }
   ],
   "source": [
    "list1"
   ]
  },
  {
   "cell_type": "code",
   "execution_count": 37,
   "id": "30f32ec5",
   "metadata": {},
   "outputs": [
    {
     "data": {
      "text/plain": [
       "{1, 2, 3, 4, 5, 6}"
      ]
     },
     "execution_count": 37,
     "metadata": {},
     "output_type": "execute_result"
    }
   ],
   "source": [
    "# Cast as set to get unique values\n",
    "set(list1)"
   ]
  },
  {
   "cell_type": "markdown",
   "id": "bd0f2223",
   "metadata": {},
   "source": [
    "# Booleans"
   ]
  },
  {
   "cell_type": "markdown",
   "id": "1f348bf9",
   "metadata": {},
   "source": [
    "- True or False\n",
    "- It also has a placeholder object called None"
   ]
  },
  {
   "cell_type": "code",
   "execution_count": 43,
   "id": "1788b42e",
   "metadata": {},
   "outputs": [],
   "source": [
    "# Set object to be a boolean\n",
    "a = True"
   ]
  },
  {
   "cell_type": "code",
   "execution_count": 44,
   "id": "9daba485",
   "metadata": {},
   "outputs": [
    {
     "data": {
      "text/plain": [
       "True"
      ]
     },
     "execution_count": 44,
     "metadata": {},
     "output_type": "execute_result"
    }
   ],
   "source": [
    "a"
   ]
  },
  {
   "cell_type": "code",
   "execution_count": 45,
   "id": "3a1053a5",
   "metadata": {},
   "outputs": [
    {
     "data": {
      "text/plain": [
       "False"
      ]
     },
     "execution_count": 45,
     "metadata": {},
     "output_type": "execute_result"
    }
   ],
   "source": [
    "# We can also do comparision\n",
    "1 > 2"
   ]
  },
  {
   "cell_type": "code",
   "execution_count": 47,
   "id": "d0983c86",
   "metadata": {},
   "outputs": [],
   "source": [
    "# None placeholder\n",
    "b = None"
   ]
  },
  {
   "cell_type": "code",
   "execution_count": 50,
   "id": "33f22929",
   "metadata": {},
   "outputs": [],
   "source": [
    "# Doesn't print because it has null value\n",
    "b "
   ]
  },
  {
   "cell_type": "code",
   "execution_count": 51,
   "id": "8471416e",
   "metadata": {},
   "outputs": [
    {
     "name": "stdout",
     "output_type": "stream",
     "text": [
      "None\n"
     ]
    }
   ],
   "source": [
    "print(b)"
   ]
  }
 ],
 "metadata": {
  "kernelspec": {
   "display_name": "Python 3 (ipykernel)",
   "language": "python",
   "name": "python3"
  },
  "language_info": {
   "codemirror_mode": {
    "name": "ipython",
    "version": 3
   },
   "file_extension": ".py",
   "mimetype": "text/x-python",
   "name": "python",
   "nbconvert_exporter": "python",
   "pygments_lexer": "ipython3",
   "version": "3.10.6"
  }
 },
 "nbformat": 4,
 "nbformat_minor": 5
}
