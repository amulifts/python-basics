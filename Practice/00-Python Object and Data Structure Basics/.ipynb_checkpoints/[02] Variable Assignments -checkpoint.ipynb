{
 "cells": [
  {
   "cell_type": "markdown",
   "id": "6c94724f",
   "metadata": {},
   "source": [
    "# Variable Assignment"
   ]
  },
  {
   "cell_type": "markdown",
   "id": "f6ec143e",
   "metadata": {},
   "source": [
    "## Dynamic Typing"
   ]
  },
  {
   "cell_type": "code",
   "execution_count": 2,
   "id": "d4e10589",
   "metadata": {},
   "outputs": [],
   "source": [
    "my_dogs = 2"
   ]
  },
  {
   "cell_type": "code",
   "execution_count": 3,
   "id": "3d644dc6",
   "metadata": {},
   "outputs": [
    {
     "data": {
      "text/plain": [
       "2"
      ]
     },
     "execution_count": 3,
     "metadata": {},
     "output_type": "execute_result"
    }
   ],
   "source": [
    "my_dogs"
   ]
  },
  {
   "cell_type": "code",
   "execution_count": 10,
   "id": "b1eaabb4",
   "metadata": {},
   "outputs": [],
   "source": [
    "my_dogs = ['Aman','Grusha']"
   ]
  },
  {
   "cell_type": "code",
   "execution_count": 5,
   "id": "8d84fa1b",
   "metadata": {},
   "outputs": [
    {
     "data": {
      "text/plain": [
       "['Aman', 'Grusha']"
      ]
     },
     "execution_count": 5,
     "metadata": {},
     "output_type": "execute_result"
    }
   ],
   "source": [
    "my_dogs"
   ]
  },
  {
   "cell_type": "markdown",
   "id": "7616d7f2",
   "metadata": {},
   "source": [
    "## Assigning Variable"
   ]
  },
  {
   "cell_type": "code",
   "execution_count": 6,
   "id": "d8589e05",
   "metadata": {},
   "outputs": [],
   "source": [
    "a = 5"
   ]
  },
  {
   "cell_type": "code",
   "execution_count": 7,
   "id": "bf45a5bc",
   "metadata": {},
   "outputs": [
    {
     "data": {
      "text/plain": [
       "5"
      ]
     },
     "execution_count": 7,
     "metadata": {},
     "output_type": "execute_result"
    }
   ],
   "source": [
    "a"
   ]
  },
  {
   "cell_type": "code",
   "execution_count": 11,
   "id": "a5942b56",
   "metadata": {},
   "outputs": [],
   "source": [
    "a = 10 # a variable, = assignment operator, 10 object "
   ]
  },
  {
   "cell_type": "code",
   "execution_count": 12,
   "id": "868b44ce",
   "metadata": {},
   "outputs": [
    {
     "data": {
      "text/plain": [
       "10"
      ]
     },
     "execution_count": 12,
     "metadata": {},
     "output_type": "execute_result"
    }
   ],
   "source": [
    "a"
   ]
  },
  {
   "cell_type": "code",
   "execution_count": 13,
   "id": "f894ceb9",
   "metadata": {},
   "outputs": [
    {
     "data": {
      "text/plain": [
       "20"
      ]
     },
     "execution_count": 13,
     "metadata": {},
     "output_type": "execute_result"
    }
   ],
   "source": [
    "a + a"
   ]
  },
  {
   "cell_type": "markdown",
   "id": "c160a9eb",
   "metadata": {},
   "source": [
    "## Reassigning Variable "
   ]
  },
  {
   "cell_type": "code",
   "execution_count": 14,
   "id": "44b8ff99",
   "metadata": {},
   "outputs": [],
   "source": [
    "a = a + 10"
   ]
  },
  {
   "cell_type": "code",
   "execution_count": 15,
   "id": "5f2317ea",
   "metadata": {},
   "outputs": [
    {
     "data": {
      "text/plain": [
       "20"
      ]
     },
     "execution_count": 15,
     "metadata": {},
     "output_type": "execute_result"
    }
   ],
   "source": [
    "a "
   ]
  },
  {
   "cell_type": "code",
   "execution_count": 16,
   "id": "01bc3bd4",
   "metadata": {},
   "outputs": [],
   "source": [
    "a += 10 # a = a + 10"
   ]
  },
  {
   "cell_type": "code",
   "execution_count": 17,
   "id": "fc3ec106",
   "metadata": {},
   "outputs": [
    {
     "data": {
      "text/plain": [
       "30"
      ]
     },
     "execution_count": 17,
     "metadata": {},
     "output_type": "execute_result"
    }
   ],
   "source": [
    "a"
   ]
  },
  {
   "cell_type": "code",
   "execution_count": 18,
   "id": "ee2f1b94",
   "metadata": {},
   "outputs": [],
   "source": [
    "a *= 2 # a = a * 2"
   ]
  },
  {
   "cell_type": "code",
   "execution_count": 19,
   "id": "2e514d50",
   "metadata": {},
   "outputs": [
    {
     "data": {
      "text/plain": [
       "60"
      ]
     },
     "execution_count": 19,
     "metadata": {},
     "output_type": "execute_result"
    }
   ],
   "source": [
    "a"
   ]
  },
  {
   "cell_type": "markdown",
   "id": "628afe7b",
   "metadata": {},
   "source": [
    "### Determining variable type with type()"
   ]
  },
  {
   "cell_type": "markdown",
   "id": "402da8b3",
   "metadata": {},
   "source": [
    "- int\n",
    "- float\n",
    "- str\n",
    "- list\n",
    "- tuple\n",
    "- dict\n",
    "- set\n",
    "- bool"
   ]
  },
  {
   "cell_type": "code",
   "execution_count": 23,
   "id": "81037521",
   "metadata": {},
   "outputs": [],
   "source": [
    "a = 10"
   ]
  },
  {
   "cell_type": "code",
   "execution_count": 24,
   "id": "6649c54b",
   "metadata": {},
   "outputs": [
    {
     "data": {
      "text/plain": [
       "int"
      ]
     },
     "execution_count": 24,
     "metadata": {},
     "output_type": "execute_result"
    }
   ],
   "source": [
    "type(a)"
   ]
  },
  {
   "cell_type": "code",
   "execution_count": 25,
   "id": "ba736b76",
   "metadata": {},
   "outputs": [],
   "source": [
    "a = (1,2)"
   ]
  },
  {
   "cell_type": "code",
   "execution_count": 26,
   "id": "b80de443",
   "metadata": {},
   "outputs": [
    {
     "data": {
      "text/plain": [
       "tuple"
      ]
     },
     "execution_count": 26,
     "metadata": {},
     "output_type": "execute_result"
    }
   ],
   "source": [
    "type(a)"
   ]
  },
  {
   "cell_type": "code",
   "execution_count": 27,
   "id": "68975c79",
   "metadata": {},
   "outputs": [],
   "source": [
    "a = 10.2"
   ]
  },
  {
   "cell_type": "code",
   "execution_count": 28,
   "id": "4b13f933",
   "metadata": {},
   "outputs": [
    {
     "data": {
      "text/plain": [
       "float"
      ]
     },
     "execution_count": 28,
     "metadata": {},
     "output_type": "execute_result"
    }
   ],
   "source": [
    "type(a)"
   ]
  },
  {
   "cell_type": "code",
   "execution_count": 29,
   "id": "250de51d",
   "metadata": {},
   "outputs": [],
   "source": [
    "a = [1,2]"
   ]
  },
  {
   "cell_type": "code",
   "execution_count": 30,
   "id": "75aac261",
   "metadata": {},
   "outputs": [
    {
     "data": {
      "text/plain": [
       "list"
      ]
     },
     "execution_count": 30,
     "metadata": {},
     "output_type": "execute_result"
    }
   ],
   "source": [
    "type(a)"
   ]
  },
  {
   "cell_type": "code",
   "execution_count": 31,
   "id": "56bd7baa",
   "metadata": {},
   "outputs": [],
   "source": [
    "a = \"Aman\""
   ]
  },
  {
   "cell_type": "code",
   "execution_count": 32,
   "id": "2c28f915",
   "metadata": {},
   "outputs": [
    {
     "data": {
      "text/plain": [
       "str"
      ]
     },
     "execution_count": 32,
     "metadata": {},
     "output_type": "execute_result"
    }
   ],
   "source": [
    "type(a)"
   ]
  },
  {
   "cell_type": "code",
   "execution_count": 33,
   "id": "dc861a1e",
   "metadata": {},
   "outputs": [
    {
     "data": {
      "text/plain": [
       "bool"
      ]
     },
     "execution_count": 33,
     "metadata": {},
     "output_type": "execute_result"
    }
   ],
   "source": [
    "type(True)"
   ]
  },
  {
   "cell_type": "code",
   "execution_count": null,
   "id": "bf348215",
   "metadata": {},
   "outputs": [],
   "source": [
    "# Variable Assignment\n",
    "\n",
    "## Dynamic Typing\n",
    "\n",
    "my_dogs = 2\n",
    "\n",
    "my_dogs\n",
    "\n",
    "my_dogs = ['Aman','Grusha']\n",
    "\n",
    "my_dogs\n",
    "\n",
    "## Assigning Variable\n",
    "\n",
    "a = 5\n",
    "\n",
    "a\n",
    "\n",
    "a = 10 # a variable, = assignment operator, 10 object \n",
    "\n",
    "a\n",
    "\n",
    "a + a\n",
    "\n",
    "## Reassigning Variable \n",
    "\n",
    "a = a + 10\n",
    "\n",
    "a \n",
    "\n",
    "a += 10 # a = a + 10\n",
    "\n",
    "a\n",
    "\n",
    "a *= 2 # a = a * 2\n",
    "\n",
    "a\n",
    "\n",
    "### Determining variable type with type()\n",
    "\n",
    "- int\n",
    "- float\n",
    "- str\n",
    "- list\n",
    "- tuple\n",
    "- dict\n",
    "- set\n",
    "- bool\n",
    "\n",
    "a = 10\n",
    "\n",
    "type(a)\n",
    "\n",
    "a = (1,2)\n",
    "\n",
    "type(a)\n",
    "\n",
    "a = 10.2\n",
    "\n",
    "type(a)\n",
    "\n",
    "a = [1,2]\n",
    "\n",
    "type(a)\n",
    "\n",
    "a = \"Aman\"\n",
    "\n",
    "type(a)\n",
    "\n",
    "type(True)"
   ]
  }
 ],
 "metadata": {
  "kernelspec": {
   "display_name": "Python 3 (ipykernel)",
   "language": "python",
   "name": "python3"
  },
  "language_info": {
   "codemirror_mode": {
    "name": "ipython",
    "version": 3
   },
   "file_extension": ".py",
   "mimetype": "text/x-python",
   "name": "python",
   "nbconvert_exporter": "python",
   "pygments_lexer": "ipython3",
   "version": "3.10.6"
  }
 },
 "nbformat": 4,
 "nbformat_minor": 5
}
