{
 "cells": [
  {
   "cell_type": "markdown",
   "id": "f7587190",
   "metadata": {},
   "source": [
    "# Tuples"
   ]
  },
  {
   "cell_type": "markdown",
   "id": "5d4dd480",
   "metadata": {},
   "source": [
    "- similar to list\n",
    "- but tuple uses ( ) paranthesis and commas to separate object in the list ( 1,2 )\n",
    "- once an element is inside tuple, it can't be reassigned\n",
    "- it supports indexing, slicing, also can be nested\n",
    "- unlike list, tutple are immutable"
   ]
  },
  {
   "cell_type": "code",
   "execution_count": 9,
   "id": "0a81930f",
   "metadata": {},
   "outputs": [],
   "source": [
    "my_tup = (1,2,3)"
   ]
  },
  {
   "cell_type": "code",
   "execution_count": 13,
   "id": "d2cad496",
   "metadata": {},
   "outputs": [
    {
     "data": {
      "text/plain": [
       "tuple"
      ]
     },
     "execution_count": 13,
     "metadata": {},
     "output_type": "execute_result"
    }
   ],
   "source": [
    "type(my_tup)"
   ]
  },
  {
   "cell_type": "code",
   "execution_count": 19,
   "id": "e2d4adf6",
   "metadata": {},
   "outputs": [],
   "source": [
    "# multiple data type\n",
    "t = ('one',2,2.33)"
   ]
  },
  {
   "cell_type": "code",
   "execution_count": 20,
   "id": "54fd01dc",
   "metadata": {},
   "outputs": [
    {
     "data": {
      "text/plain": [
       "'one'"
      ]
     },
     "execution_count": 20,
     "metadata": {},
     "output_type": "execute_result"
    }
   ],
   "source": [
    "# indexing\n",
    "t[0]"
   ]
  },
  {
   "cell_type": "code",
   "execution_count": 22,
   "id": "5c6870bd",
   "metadata": {},
   "outputs": [
    {
     "data": {
      "text/plain": [
       "2.33"
      ]
     },
     "execution_count": 22,
     "metadata": {},
     "output_type": "execute_result"
    }
   ],
   "source": [
    "# negative indexing\n",
    "t[-1]"
   ]
  },
  {
   "cell_type": "code",
   "execution_count": 23,
   "id": "7d82eb00",
   "metadata": {},
   "outputs": [
    {
     "data": {
      "text/plain": [
       "(2, 2.33)"
      ]
     },
     "execution_count": 23,
     "metadata": {},
     "output_type": "execute_result"
    }
   ],
   "source": [
    "# slicing\n",
    "t[1:]"
   ]
  },
  {
   "cell_type": "code",
   "execution_count": 28,
   "id": "dd83666e",
   "metadata": {},
   "outputs": [
    {
     "data": {
      "text/plain": [
       "(2.33, 2, 'one')"
      ]
     },
     "execution_count": 28,
     "metadata": {},
     "output_type": "execute_result"
    }
   ],
   "source": [
    "# negative slicing\n",
    "t[::-1]"
   ]
  },
  {
   "cell_type": "markdown",
   "id": "8a2aa92e",
   "metadata": {},
   "source": [
    "### Basic Typle Methods"
   ]
  },
  {
   "cell_type": "markdown",
   "id": "b0f7db1b",
   "metadata": {},
   "source": [
    "Tuples have built-in methods, but not as many as lists do. Let's have a look"
   ]
  },
  {
   "cell_type": "code",
   "execution_count": 38,
   "id": "b09b75e1",
   "metadata": {},
   "outputs": [],
   "source": [
    "t = (1,1,2,3,4,5,6,1,2,3)"
   ]
  },
  {
   "cell_type": "code",
   "execution_count": 39,
   "id": "6d1eac51",
   "metadata": {},
   "outputs": [
    {
     "data": {
      "text/plain": [
       "(1, 1, 2, 3, 4, 5, 6, 1, 2, 3)"
      ]
     },
     "execution_count": 39,
     "metadata": {},
     "output_type": "execute_result"
    }
   ],
   "source": [
    "t"
   ]
  },
  {
   "cell_type": "code",
   "execution_count": 41,
   "id": "fec5982b",
   "metadata": {},
   "outputs": [
    {
     "data": {
      "text/plain": [
       "3"
      ]
     },
     "execution_count": 41,
     "metadata": {},
     "output_type": "execute_result"
    }
   ],
   "source": [
    "# Return occurance of value\n",
    "t.count(1)"
   ]
  },
  {
   "cell_type": "code",
   "execution_count": 45,
   "id": "8ed6d60b",
   "metadata": {},
   "outputs": [
    {
     "data": {
      "text/plain": [
       "2"
      ]
     },
     "execution_count": 45,
     "metadata": {},
     "output_type": "execute_result"
    }
   ],
   "source": [
    "# Shows which index the value lies\n",
    "t.index(2)"
   ]
  },
  {
   "cell_type": "markdown",
   "id": "9babf1e6",
   "metadata": {},
   "source": [
    "### Immutability"
   ]
  },
  {
   "cell_type": "code",
   "execution_count": 46,
   "id": "3bb4b7ad",
   "metadata": {},
   "outputs": [
    {
     "data": {
      "text/plain": [
       "(1, 1, 2, 3, 4, 5, 6, 1, 2, 3)"
      ]
     },
     "execution_count": 46,
     "metadata": {},
     "output_type": "execute_result"
    }
   ],
   "source": [
    "t"
   ]
  },
  {
   "cell_type": "code",
   "execution_count": 48,
   "id": "773515e6",
   "metadata": {},
   "outputs": [
    {
     "ename": "TypeError",
     "evalue": "'tuple' object does not support item assignment",
     "output_type": "error",
     "traceback": [
      "\u001b[1;31m---------------------------------------------------------------------------\u001b[0m",
      "\u001b[1;31mTypeError\u001b[0m                                 Traceback (most recent call last)",
      "Input \u001b[1;32mIn [48]\u001b[0m, in \u001b[0;36m<cell line: 1>\u001b[1;34m()\u001b[0m\n\u001b[1;32m----> 1\u001b[0m t[\u001b[38;5;241m0\u001b[39m] \u001b[38;5;241m=\u001b[39m \u001b[38;5;241m100\u001b[39m\n",
      "\u001b[1;31mTypeError\u001b[0m: 'tuple' object does not support item assignment"
     ]
    }
   ],
   "source": [
    "t[0] = 'change'"
   ]
  },
  {
   "cell_type": "code",
   "execution_count": 50,
   "id": "367014cb",
   "metadata": {},
   "outputs": [
    {
     "ename": "AttributeError",
     "evalue": "'tuple' object has no attribute 'append'",
     "output_type": "error",
     "traceback": [
      "\u001b[1;31m---------------------------------------------------------------------------\u001b[0m",
      "\u001b[1;31mAttributeError\u001b[0m                            Traceback (most recent call last)",
      "Input \u001b[1;32mIn [50]\u001b[0m, in \u001b[0;36m<cell line: 1>\u001b[1;34m()\u001b[0m\n\u001b[1;32m----> 1\u001b[0m \u001b[43mt\u001b[49m\u001b[38;5;241;43m.\u001b[39;49m\u001b[43mappend\u001b[49m(\u001b[38;5;124m'\u001b[39m\u001b[38;5;124mnope\u001b[39m\u001b[38;5;124m'\u001b[39m)\n",
      "\u001b[1;31mAttributeError\u001b[0m: 'tuple' object has no attribute 'append'"
     ]
    }
   ],
   "source": [
    "t.append('nope')"
   ]
  },
  {
   "cell_type": "markdown",
   "id": "51d70ba8",
   "metadata": {},
   "source": [
    "### Why we use tuple ?"
   ]
  },
  {
   "cell_type": "markdown",
   "id": "f03a08e0",
   "metadata": {},
   "source": [
    "- data integrity\n",
    "- If in our program we are passing around an object and need to make sure it does not get changed, then tuple becomes our solution."
   ]
  }
 ],
 "metadata": {
  "kernelspec": {
   "display_name": "Python 3 (ipykernel)",
   "language": "python",
   "name": "python3"
  },
  "language_info": {
   "codemirror_mode": {
    "name": "ipython",
    "version": 3
   },
   "file_extension": ".py",
   "mimetype": "text/x-python",
   "name": "python",
   "nbconvert_exporter": "python",
   "pygments_lexer": "ipython3",
   "version": "3.10.6"
  }
 },
 "nbformat": 4,
 "nbformat_minor": 5
}
