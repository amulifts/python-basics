{
 "cells": [
  {
   "cell_type": "markdown",
   "id": "cdd5da70",
   "metadata": {},
   "source": [
    "# Dictionaries"
   ]
  },
  {
   "cell_type": "markdown",
   "id": "69a4ac6d",
   "metadata": {},
   "source": [
    "- unordered mapping for storing objects using key-value pairs\n",
    "- dictionary objects are retrieved by key name : unordered and can't be sorted\n",
    "- like list , dictionary are also mutable"
   ]
  },
  {
   "cell_type": "code",
   "execution_count": 33,
   "id": "fc2d49a0",
   "metadata": {},
   "outputs": [],
   "source": [
    "# Making a dictionary with {} and : to signify a key and a value\n",
    "# Synatax\n",
    "my_dict = { 'key1':'value1' , 'key2' : 'value2' }"
   ]
  },
  {
   "cell_type": "code",
   "execution_count": 34,
   "id": "b0df276b",
   "metadata": {},
   "outputs": [
    {
     "data": {
      "text/plain": [
       "dict"
      ]
     },
     "execution_count": 34,
     "metadata": {},
     "output_type": "execute_result"
    }
   ],
   "source": [
    "type(my_dict)"
   ]
  },
  {
   "cell_type": "code",
   "execution_count": 37,
   "id": "0314bd1f",
   "metadata": {},
   "outputs": [
    {
     "data": {
      "text/plain": [
       "'value2'"
      ]
     },
     "execution_count": 37,
     "metadata": {},
     "output_type": "execute_result"
    }
   ],
   "source": [
    "my_dict['key2']"
   ]
  },
  {
   "cell_type": "code",
   "execution_count": 39,
   "id": "52b2ae32",
   "metadata": {},
   "outputs": [
    {
     "data": {
      "text/plain": [
       "'value1'"
      ]
     },
     "execution_count": 39,
     "metadata": {},
     "output_type": "execute_result"
    }
   ],
   "source": [
    "my_dict['key1']"
   ]
  },
  {
   "cell_type": "code",
   "execution_count": 50,
   "id": "d92128f4",
   "metadata": {},
   "outputs": [],
   "source": [
    "my_dict = {\"key1\":\"male\",'key2':[1,2,3],\"key3\":['item1','item2']}"
   ]
  },
  {
   "cell_type": "code",
   "execution_count": 52,
   "id": "a975722c",
   "metadata": {},
   "outputs": [
    {
     "data": {
      "text/plain": [
       "'male'"
      ]
     },
     "execution_count": 52,
     "metadata": {},
     "output_type": "execute_result"
    }
   ],
   "source": [
    "my_dict[\"key1\"]"
   ]
  },
  {
   "cell_type": "code",
   "execution_count": 57,
   "id": "aeccf327",
   "metadata": {},
   "outputs": [
    {
     "data": {
      "text/plain": [
       "['item1', 'item2']"
      ]
     },
     "execution_count": 57,
     "metadata": {},
     "output_type": "execute_result"
    }
   ],
   "source": [
    "# Let's call items from the dictionary\n",
    "my_dict[\"key3\"]"
   ]
  },
  {
   "cell_type": "code",
   "execution_count": 58,
   "id": "450f25d2",
   "metadata": {},
   "outputs": [],
   "source": [
    "a = my_dict[\"key3\"]"
   ]
  },
  {
   "cell_type": "code",
   "execution_count": 59,
   "id": "5c40568a",
   "metadata": {},
   "outputs": [
    {
     "data": {
      "text/plain": [
       "['item1', 'item2']"
      ]
     },
     "execution_count": 59,
     "metadata": {},
     "output_type": "execute_result"
    }
   ],
   "source": [
    "a"
   ]
  },
  {
   "cell_type": "code",
   "execution_count": 60,
   "id": "8239fdf2",
   "metadata": {},
   "outputs": [
    {
     "data": {
      "text/plain": [
       "'item1'"
      ]
     },
     "execution_count": 60,
     "metadata": {},
     "output_type": "execute_result"
    }
   ],
   "source": [
    "a[0]"
   ]
  },
  {
   "cell_type": "code",
   "execution_count": 63,
   "id": "93516125",
   "metadata": {
    "scrolled": true
   },
   "outputs": [
    {
     "data": {
      "text/plain": [
       "'item1'"
      ]
     },
     "execution_count": 63,
     "metadata": {},
     "output_type": "execute_result"
    }
   ],
   "source": [
    "# Can call an index on that value\n",
    "my_dict[\"key3\"][0]"
   ]
  },
  {
   "cell_type": "code",
   "execution_count": 64,
   "id": "1e66b8b7",
   "metadata": {},
   "outputs": [
    {
     "data": {
      "text/plain": [
       "str"
      ]
     },
     "execution_count": 64,
     "metadata": {},
     "output_type": "execute_result"
    }
   ],
   "source": [
    "type(my_dict[\"key3\"][0])"
   ]
  },
  {
   "cell_type": "code",
   "execution_count": 65,
   "id": "be29f28c",
   "metadata": {},
   "outputs": [
    {
     "data": {
      "text/plain": [
       "'ITEM1'"
      ]
     },
     "execution_count": 65,
     "metadata": {},
     "output_type": "execute_result"
    }
   ],
   "source": [
    "# Can then even call methods on that value\n",
    "my_dict[\"key3\"][0].upper()"
   ]
  },
  {
   "cell_type": "code",
   "execution_count": 66,
   "id": "4277ba1e",
   "metadata": {},
   "outputs": [
    {
     "data": {
      "text/plain": [
       "{'key1': 'male', 'key2': [1, 2, 3], 'key3': ['item1', 'item2']}"
      ]
     },
     "execution_count": 66,
     "metadata": {},
     "output_type": "execute_result"
    }
   ],
   "source": [
    "my_dict"
   ]
  },
  {
   "cell_type": "code",
   "execution_count": 67,
   "id": "d35644c2",
   "metadata": {},
   "outputs": [
    {
     "data": {
      "text/plain": [
       "'male'"
      ]
     },
     "execution_count": 67,
     "metadata": {},
     "output_type": "execute_result"
    }
   ],
   "source": [
    "my_dict['key1']"
   ]
  },
  {
   "cell_type": "code",
   "execution_count": 68,
   "id": "e635f40f",
   "metadata": {},
   "outputs": [],
   "source": [
    "# Mutable\n",
    "my_dict['key1'] = \"female\""
   ]
  },
  {
   "cell_type": "code",
   "execution_count": 69,
   "id": "0f0d7e08",
   "metadata": {},
   "outputs": [
    {
     "data": {
      "text/plain": [
       "{'key1': 'female', 'key2': [1, 2, 3], 'key3': ['item1', 'item2']}"
      ]
     },
     "execution_count": 69,
     "metadata": {},
     "output_type": "execute_result"
    }
   ],
   "source": [
    "my_dict"
   ]
  },
  {
   "cell_type": "code",
   "execution_count": 85,
   "id": "24d6e348",
   "metadata": {},
   "outputs": [],
   "source": [
    "my_dict = {\"key1\":100,'key2':[1,2,3],\"key3\":['item1','item2']}"
   ]
  },
  {
   "cell_type": "code",
   "execution_count": 86,
   "id": "e3a65b30",
   "metadata": {},
   "outputs": [],
   "source": [
    "my_dict[\"key1\"] = my_dict[\"key1\"] - 100"
   ]
  },
  {
   "cell_type": "code",
   "execution_count": 87,
   "id": "d8bc0f06",
   "metadata": {},
   "outputs": [
    {
     "data": {
      "text/plain": [
       "{'key1': 0, 'key2': [1, 2, 3], 'key3': ['item1', 'item2']}"
      ]
     },
     "execution_count": 87,
     "metadata": {},
     "output_type": "execute_result"
    }
   ],
   "source": [
    "my_dict"
   ]
  },
  {
   "cell_type": "code",
   "execution_count": 95,
   "id": "cab52f27",
   "metadata": {},
   "outputs": [],
   "source": [
    "# Create a new dictionary\n",
    "d = { }"
   ]
  },
  {
   "cell_type": "code",
   "execution_count": 96,
   "id": "a3a17464",
   "metadata": {},
   "outputs": [],
   "source": [
    "# Create a new key through assignment\n",
    "d[\"fruit\"] = \"apple\" "
   ]
  },
  {
   "cell_type": "code",
   "execution_count": 106,
   "id": "a69f88a0",
   "metadata": {},
   "outputs": [],
   "source": [
    "# Can do thsi with any object\n",
    "d[\"fruit1\"] = \"banana\""
   ]
  },
  {
   "cell_type": "code",
   "execution_count": 108,
   "id": "6236dcc1",
   "metadata": {},
   "outputs": [
    {
     "data": {
      "text/plain": [
       "{'fruit': 2, 'fruit1': 'banana'}"
      ]
     },
     "execution_count": 108,
     "metadata": {},
     "output_type": "execute_result"
    }
   ],
   "source": [
    "# Show\n",
    "d"
   ]
  },
  {
   "cell_type": "markdown",
   "id": "0420e090",
   "metadata": {},
   "source": [
    "### Nesting with Dictionaries"
   ]
  },
  {
   "cell_type": "code",
   "execution_count": 122,
   "id": "5e1ceebf",
   "metadata": {},
   "outputs": [],
   "source": [
    "d = {'key1':{\"nestkey\":{'subnestkey':'value'}}}"
   ]
  },
  {
   "cell_type": "code",
   "execution_count": 124,
   "id": "9f0c1498",
   "metadata": {},
   "outputs": [
    {
     "data": {
      "text/plain": [
       "'value'"
      ]
     },
     "execution_count": 124,
     "metadata": {},
     "output_type": "execute_result"
    }
   ],
   "source": [
    "d['key1']['nestkey']['subnestkey']"
   ]
  },
  {
   "cell_type": "code",
   "execution_count": 125,
   "id": "92c082ab",
   "metadata": {},
   "outputs": [
    {
     "data": {
      "text/plain": [
       "str"
      ]
     },
     "execution_count": 125,
     "metadata": {},
     "output_type": "execute_result"
    }
   ],
   "source": [
    "type(d['key1']['nestkey']['subnestkey'])"
   ]
  },
  {
   "cell_type": "code",
   "execution_count": 127,
   "id": "b48a875b",
   "metadata": {},
   "outputs": [
    {
     "data": {
      "text/plain": [
       "'VALUE'"
      ]
     },
     "execution_count": 127,
     "metadata": {},
     "output_type": "execute_result"
    }
   ],
   "source": [
    "d['key1']['nestkey']['subnestkey'].upper()"
   ]
  },
  {
   "cell_type": "markdown",
   "id": "f23bfcc3",
   "metadata": {},
   "source": [
    "### Dictionary Methods"
   ]
  },
  {
   "cell_type": "code",
   "execution_count": 128,
   "id": "84ce068c",
   "metadata": {},
   "outputs": [],
   "source": [
    "d = {'key1':1,'key2':2,'key3':3}"
   ]
  },
  {
   "cell_type": "code",
   "execution_count": 137,
   "id": "d0ad060c",
   "metadata": {},
   "outputs": [
    {
     "data": {
      "text/plain": [
       "dict_keys(['key1', 'key2', 'key3'])"
      ]
     },
     "execution_count": 137,
     "metadata": {},
     "output_type": "execute_result"
    }
   ],
   "source": [
    "# Method to return a list of all keys\n",
    "d.keys()"
   ]
  },
  {
   "cell_type": "code",
   "execution_count": 138,
   "id": "918353f1",
   "metadata": {},
   "outputs": [
    {
     "data": {
      "text/plain": [
       "dict_values([1, 2, 3])"
      ]
     },
     "execution_count": 138,
     "metadata": {},
     "output_type": "execute_result"
    }
   ],
   "source": [
    "# Method to grab all values\n",
    "d.values()"
   ]
  },
  {
   "cell_type": "code",
   "execution_count": 140,
   "id": "7211bcf9",
   "metadata": {},
   "outputs": [
    {
     "data": {
      "text/plain": [
       "dict_items([('key1', 1), ('key2', 2), ('key3', 3)])"
      ]
     },
     "execution_count": 140,
     "metadata": {},
     "output_type": "execute_result"
    }
   ],
   "source": [
    "# Method to return tuples of all items (we'll learn about tuple soon)\n",
    "d.items()"
   ]
  }
 ],
 "metadata": {
  "kernelspec": {
   "display_name": "Python 3 (ipykernel)",
   "language": "python",
   "name": "python3"
  },
  "language_info": {
   "codemirror_mode": {
    "name": "ipython",
    "version": 3
   },
   "file_extension": ".py",
   "mimetype": "text/x-python",
   "name": "python",
   "nbconvert_exporter": "python",
   "pygments_lexer": "ipython3",
   "version": "3.10.6"
  }
 },
 "nbformat": 4,
 "nbformat_minor": 5
}
