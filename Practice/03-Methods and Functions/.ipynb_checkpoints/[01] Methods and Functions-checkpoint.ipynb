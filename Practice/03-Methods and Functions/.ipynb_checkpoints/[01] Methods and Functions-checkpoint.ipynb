{
 "cells": [
  {
   "cell_type": "markdown",
   "id": "340a20d5",
   "metadata": {},
   "source": [
    "# Methods"
   ]
  },
  {
   "cell_type": "markdown",
   "id": "f3707a4d",
   "metadata": {},
   "source": [
    "built-in objects in python"
   ]
  },
  {
   "cell_type": "code",
   "execution_count": 1,
   "id": "078ae124",
   "metadata": {},
   "outputs": [],
   "source": [
    "mylist = [1,2,3]"
   ]
  },
  {
   "cell_type": "code",
   "execution_count": 2,
   "id": "ffd6b1d6",
   "metadata": {},
   "outputs": [],
   "source": [
    "mylist.append(4)"
   ]
  },
  {
   "cell_type": "code",
   "execution_count": 3,
   "id": "b8544002",
   "metadata": {},
   "outputs": [
    {
     "data": {
      "text/plain": [
       "[1, 2, 3, 4]"
      ]
     },
     "execution_count": 3,
     "metadata": {},
     "output_type": "execute_result"
    }
   ],
   "source": [
    "mylist"
   ]
  },
  {
   "cell_type": "code",
   "execution_count": 4,
   "id": "c3154d2c",
   "metadata": {},
   "outputs": [
    {
     "data": {
      "text/plain": [
       "4"
      ]
     },
     "execution_count": 4,
     "metadata": {},
     "output_type": "execute_result"
    }
   ],
   "source": [
    "mylist.pop()"
   ]
  },
  {
   "cell_type": "code",
   "execution_count": 5,
   "id": "08e9adb7",
   "metadata": {},
   "outputs": [
    {
     "data": {
      "text/plain": [
       "[1, 2, 3]"
      ]
     },
     "execution_count": 5,
     "metadata": {},
     "output_type": "execute_result"
    }
   ],
   "source": [
    "mylist"
   ]
  },
  {
   "cell_type": "code",
   "execution_count": 6,
   "id": "e92a1dbb",
   "metadata": {},
   "outputs": [
    {
     "name": "stdout",
     "output_type": "stream",
     "text": [
      "Help on built-in function insert:\n",
      "\n",
      "insert(index, object, /) method of builtins.list instance\n",
      "    Insert object before index.\n",
      "\n"
     ]
    }
   ],
   "source": [
    "## shift + tab or simply help()\n",
    "help(mylist.insert)"
   ]
  },
  {
   "cell_type": "markdown",
   "id": "2527c338",
   "metadata": {},
   "source": [
    "official python documentation page:\n",
    "https://docs.python.org/"
   ]
  },
  {
   "cell_type": "markdown",
   "id": "99e602d3",
   "metadata": {},
   "source": [
    "# Function"
   ]
  },
  {
   "cell_type": "markdown",
   "id": "c1097d65",
   "metadata": {},
   "source": [
    "allows us to create block of code that can be easily executed many times, without needing to constantly rewrite the entire block of code."
   ]
  },
  {
   "cell_type": "markdown",
   "id": "14f0ca66",
   "metadata": {},
   "source": [
    "### Syntax\n",
    "def name_of_function(): //snake casisng"
   ]
  },
  {
   "cell_type": "code",
   "execution_count": 8,
   "id": "7c94d9d6",
   "metadata": {},
   "outputs": [
    {
     "name": "stdout",
     "output_type": "stream",
     "text": [
      "Hello\n"
     ]
    }
   ],
   "source": [
    "def first_func():\n",
    "    print(\"Hello\")\n",
    "first_func()"
   ]
  },
  {
   "cell_type": "code",
   "execution_count": 10,
   "id": "cedc134d",
   "metadata": {},
   "outputs": [
    {
     "name": "stdout",
     "output_type": "stream",
     "text": [
      "Hello Aman\n"
     ]
    }
   ],
   "source": [
    "def first_func(name):\n",
    "    print(f'Hello {name}')\n",
    "first_func(\"Aman\")"
   ]
  },
  {
   "cell_type": "markdown",
   "id": "29df14ba",
   "metadata": {},
   "source": [
    "we are going to use return keyword to send back the result to the function, instead of just printing it out.<br>\n",
    "it allows us to assign the output of the function to a new variable"
   ]
  },
  {
   "cell_type": "code",
   "execution_count": 13,
   "id": "a271af09",
   "metadata": {},
   "outputs": [
    {
     "data": {
      "text/plain": [
       "3"
      ]
     },
     "execution_count": 13,
     "metadata": {},
     "output_type": "execute_result"
    }
   ],
   "source": [
    "def add_num(num1,num2):\n",
    "    return num1+num2\n",
    "add_num(1,2)"
   ]
  },
  {
   "cell_type": "markdown",
   "id": "787c780a",
   "metadata": {},
   "source": [
    "# Basic Function"
   ]
  },
  {
   "cell_type": "code",
   "execution_count": 15,
   "id": "6500e450",
   "metadata": {},
   "outputs": [],
   "source": [
    "# def say_hello(name):\n",
    "#     print(f\"Hello {name}\")\n",
    "# say_hello()"
   ]
  },
  {
   "cell_type": "code",
   "execution_count": 16,
   "id": "86624b75",
   "metadata": {},
   "outputs": [
    {
     "name": "stdout",
     "output_type": "stream",
     "text": [
      "Hello Aman\n"
     ]
    }
   ],
   "source": [
    "def say_hello(name):\n",
    "    print(f\"Hello {name}\")\n",
    "say_hello(\"Aman\")"
   ]
  },
  {
   "cell_type": "code",
   "execution_count": 17,
   "id": "78fea2b8",
   "metadata": {},
   "outputs": [
    {
     "name": "stdout",
     "output_type": "stream",
     "text": [
      "Hello Aman\n"
     ]
    }
   ],
   "source": [
    "def say_hello(name=\"Aman\"):\n",
    "    print(f\"Hello {name}\")\n",
    "say_hello()"
   ]
  },
  {
   "cell_type": "code",
   "execution_count": 19,
   "id": "36ade940",
   "metadata": {},
   "outputs": [],
   "source": [
    "def product_num(num1,num2):\n",
    "    return num1*num2"
   ]
  },
  {
   "cell_type": "code",
   "execution_count": 20,
   "id": "4d404269",
   "metadata": {},
   "outputs": [],
   "source": [
    "result = product_num(2,4)"
   ]
  },
  {
   "cell_type": "code",
   "execution_count": 21,
   "id": "23325173",
   "metadata": {},
   "outputs": [
    {
     "data": {
      "text/plain": [
       "8"
      ]
     },
     "execution_count": 21,
     "metadata": {},
     "output_type": "execute_result"
    }
   ],
   "source": [
    "result"
   ]
  },
  {
   "cell_type": "code",
   "execution_count": 28,
   "id": "78332b24",
   "metadata": {},
   "outputs": [],
   "source": [
    "# Difference between print and return\n",
    "def print_num(num1,num2):\n",
    "    print(num1*num2)"
   ]
  },
  {
   "cell_type": "code",
   "execution_count": 29,
   "id": "a4891202",
   "metadata": {},
   "outputs": [],
   "source": [
    "def return_num(num1,num2):\n",
    "    return num1*num2"
   ]
  },
  {
   "cell_type": "code",
   "execution_count": 31,
   "id": "6d224390",
   "metadata": {},
   "outputs": [
    {
     "name": "stdout",
     "output_type": "stream",
     "text": [
      "300\n"
     ]
    }
   ],
   "source": [
    "result = print_num(10,30)"
   ]
  },
  {
   "cell_type": "code",
   "execution_count": 32,
   "id": "9df83be3",
   "metadata": {},
   "outputs": [],
   "source": [
    "result"
   ]
  },
  {
   "cell_type": "code",
   "execution_count": 33,
   "id": "d83c8491",
   "metadata": {},
   "outputs": [
    {
     "data": {
      "text/plain": [
       "NoneType"
      ]
     },
     "execution_count": 33,
     "metadata": {},
     "output_type": "execute_result"
    }
   ],
   "source": [
    "type(result)"
   ]
  },
  {
   "cell_type": "code",
   "execution_count": 34,
   "id": "b7708f7f",
   "metadata": {},
   "outputs": [],
   "source": [
    "result = return_num(10,30)"
   ]
  },
  {
   "cell_type": "code",
   "execution_count": 35,
   "id": "5e061d24",
   "metadata": {},
   "outputs": [
    {
     "data": {
      "text/plain": [
       "300"
      ]
     },
     "execution_count": 35,
     "metadata": {},
     "output_type": "execute_result"
    }
   ],
   "source": [
    "result"
   ]
  },
  {
   "cell_type": "code",
   "execution_count": 36,
   "id": "675aa19f",
   "metadata": {},
   "outputs": [
    {
     "data": {
      "text/plain": [
       "int"
      ]
     },
     "execution_count": 36,
     "metadata": {},
     "output_type": "execute_result"
    }
   ],
   "source": [
    "type(result)"
   ]
  },
  {
   "cell_type": "code",
   "execution_count": 37,
   "id": "84786bad",
   "metadata": {},
   "outputs": [],
   "source": [
    "def sum_num(num1,num2):\n",
    "    return num1+num2"
   ]
  },
  {
   "cell_type": "code",
   "execution_count": 38,
   "id": "721fed2a",
   "metadata": {},
   "outputs": [
    {
     "data": {
      "text/plain": [
       "30"
      ]
     },
     "execution_count": 38,
     "metadata": {},
     "output_type": "execute_result"
    }
   ],
   "source": [
    "sum_num(10,20)"
   ]
  },
  {
   "cell_type": "code",
   "execution_count": 39,
   "id": "b7a22ba9",
   "metadata": {},
   "outputs": [
    {
     "data": {
      "text/plain": [
       "'1020'"
      ]
     },
     "execution_count": 39,
     "metadata": {},
     "output_type": "execute_result"
    }
   ],
   "source": [
    "sum_num(\"10\",\"20\")"
   ]
  }
 ],
 "metadata": {
  "kernelspec": {
   "display_name": "Python 3 (ipykernel)",
   "language": "python",
   "name": "python3"
  },
  "language_info": {
   "codemirror_mode": {
    "name": "ipython",
    "version": 3
   },
   "file_extension": ".py",
   "mimetype": "text/x-python",
   "name": "python",
   "nbconvert_exporter": "python",
   "pygments_lexer": "ipython3",
   "version": "3.10.6"
  }
 },
 "nbformat": 4,
 "nbformat_minor": 5
}
