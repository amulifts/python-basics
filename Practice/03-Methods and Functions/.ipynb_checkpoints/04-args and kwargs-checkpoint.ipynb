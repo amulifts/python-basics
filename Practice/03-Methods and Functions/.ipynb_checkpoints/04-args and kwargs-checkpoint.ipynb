{
 "cells": [
  {
   "cell_type": "markdown",
   "id": "e8665050",
   "metadata": {},
   "source": [
    "# `*args` and `**kwargs`"
   ]
  },
  {
   "cell_type": "code",
   "execution_count": 31,
   "id": "b3f8b064",
   "metadata": {},
   "outputs": [],
   "source": [
    "def myfunc(a,b):\n",
    "    return sum((a,b))*5/100"
   ]
  },
  {
   "cell_type": "code",
   "execution_count": 32,
   "id": "6f7434ec",
   "metadata": {},
   "outputs": [
    {
     "data": {
      "text/plain": [
       "3.0"
      ]
     },
     "execution_count": 32,
     "metadata": {},
     "output_type": "execute_result"
    }
   ],
   "source": [
    "myfunc(20,40)"
   ]
  },
  {
   "cell_type": "code",
   "execution_count": 33,
   "id": "0c0f0e44",
   "metadata": {},
   "outputs": [],
   "source": [
    "# if we want more parameter\n",
    "\n",
    "def myfunc(a,b,c,d,e):\n",
    "    return sum((a,b,c,d,e))*5/100"
   ]
  },
  {
   "cell_type": "code",
   "execution_count": 34,
   "id": "cf6fdb07",
   "metadata": {},
   "outputs": [
    {
     "data": {
      "text/plain": [
       "7.5"
      ]
     },
     "execution_count": 34,
     "metadata": {},
     "output_type": "execute_result"
    }
   ],
   "source": [
    "myfunc(10,20,30,40,50)"
   ]
  },
  {
   "cell_type": "code",
   "execution_count": 51,
   "id": "649a5e85",
   "metadata": {},
   "outputs": [],
   "source": [
    "# default argument\n",
    "\n",
    "def myfunc(a=0,b=0,c=0,d=0,e=0):\n",
    "    return sum((a,b,c,d,e))*5/100"
   ]
  },
  {
   "cell_type": "code",
   "execution_count": 52,
   "id": "1f69c001",
   "metadata": {},
   "outputs": [
    {
     "data": {
      "text/plain": [
       "1.5"
      ]
     },
     "execution_count": 52,
     "metadata": {},
     "output_type": "execute_result"
    }
   ],
   "source": [
    "myfunc(10,20)"
   ]
  },
  {
   "cell_type": "markdown",
   "id": "bea1d137",
   "metadata": {},
   "source": [
    "Obviously this is not a very efficient solution, and that's where `*args` comes in.\n",
    "\n",
    "## ` *args `\n",
    "\n",
    "When a function parameter starts with an asterisk, it allows for an `arbitrary number` of arguments, and the function takes them in as a tuple of values. Rewriting the above function:\n",
    "\n",
    "* arbitrary = manmani "
   ]
  },
  {
   "cell_type": "code",
   "execution_count": 62,
   "id": "03aafcfd",
   "metadata": {},
   "outputs": [],
   "source": [
    "# args takes all parameter and set them inside tuple\n",
    "def myfunc(*args): \n",
    "    return (sum(args)) * 5/100"
   ]
  },
  {
   "cell_type": "code",
   "execution_count": 63,
   "id": "5117144c",
   "metadata": {},
   "outputs": [
    {
     "data": {
      "text/plain": [
       "1.5"
      ]
     },
     "execution_count": 63,
     "metadata": {},
     "output_type": "execute_result"
    }
   ],
   "source": [
    "myfunc(10,20)"
   ]
  },
  {
   "cell_type": "code",
   "execution_count": 64,
   "id": "46e3d2d7",
   "metadata": {},
   "outputs": [],
   "source": [
    "# args takes all parameter and set them inside tuple\n",
    "def myfunc(*args):\n",
    "    print(args)"
   ]
  },
  {
   "cell_type": "code",
   "execution_count": 65,
   "id": "02aaf7b0",
   "metadata": {},
   "outputs": [
    {
     "name": "stdout",
     "output_type": "stream",
     "text": [
      "(1, 2, 3)\n"
     ]
    }
   ],
   "source": [
    "myfunc(1,2,3)"
   ]
  },
  {
   "cell_type": "code",
   "execution_count": 66,
   "id": "4e75791a",
   "metadata": {},
   "outputs": [],
   "source": [
    "def myfunc(*aman): # but we should always use args\n",
    "    return sum(aman)"
   ]
  },
  {
   "cell_type": "code",
   "execution_count": 67,
   "id": "fdd74024",
   "metadata": {},
   "outputs": [
    {
     "data": {
      "text/plain": [
       "9"
      ]
     },
     "execution_count": 67,
     "metadata": {},
     "output_type": "execute_result"
    }
   ],
   "source": [
    "myfunc(2,3,4)"
   ]
  },
  {
   "cell_type": "code",
   "execution_count": 70,
   "id": "2f7c9751",
   "metadata": {},
   "outputs": [],
   "source": [
    "def myfunc(*args):\n",
    "    for items in args:\n",
    "        print(items)"
   ]
  },
  {
   "cell_type": "code",
   "execution_count": 71,
   "id": "721bdd33",
   "metadata": {},
   "outputs": [
    {
     "name": "stdout",
     "output_type": "stream",
     "text": [
      "1\n",
      "2\n",
      "3\n",
      "4\n",
      "5\n"
     ]
    }
   ],
   "source": [
    "myfunc(1,2,3,4,5)"
   ]
  },
  {
   "cell_type": "markdown",
   "id": "05fcfbc6",
   "metadata": {},
   "source": [
    "## `**kwargs`\n",
    "\n",
    "Similarly, Python offers a way to handle arbitrary numbers of `keyworded arguments`. Instead of creating a tuple of values, `**kwargs` builds a dictionary of key/value pairs. For example:"
   ]
  },
  {
   "cell_type": "code",
   "execution_count": 82,
   "id": "bc9eecbc",
   "metadata": {},
   "outputs": [],
   "source": [
    "def myfunc(**kwargs): # dictionary\n",
    "    if 'fruit' in kwargs:\n",
    "        print(f\"My favourite fruit is {kwargs['fruit']}\")\n",
    "    else:\n",
    "        print(\"I don't like fruit\")"
   ]
  },
  {
   "cell_type": "code",
   "execution_count": 83,
   "id": "2f369482",
   "metadata": {},
   "outputs": [
    {
     "name": "stdout",
     "output_type": "stream",
     "text": [
      "My favourite fruit is apple\n"
     ]
    }
   ],
   "source": [
    "myfunc(fruit='apple')"
   ]
  },
  {
   "cell_type": "code",
   "execution_count": 84,
   "id": "8b3dc1de",
   "metadata": {},
   "outputs": [
    {
     "name": "stdout",
     "output_type": "stream",
     "text": [
      "I don't like fruit\n"
     ]
    }
   ],
   "source": [
    "myfunc(food='apple')"
   ]
  },
  {
   "cell_type": "code",
   "execution_count": 85,
   "id": "0830db9e",
   "metadata": {},
   "outputs": [
    {
     "name": "stdout",
     "output_type": "stream",
     "text": [
      "I don't like fruit\n"
     ]
    }
   ],
   "source": [
    "myfunc()"
   ]
  },
  {
   "cell_type": "code",
   "execution_count": 99,
   "id": "cd54ea82",
   "metadata": {},
   "outputs": [],
   "source": [
    "def myfunc(**kwargs):\n",
    "    print(kwargs)\n",
    "    if 'fruit' in kwargs:\n",
    "        print(\"My favourite fruit is {}\".format(kwargs['fruit']))\n",
    "    else:\n",
    "        print(\"I don't like fruit\")"
   ]
  },
  {
   "cell_type": "code",
   "execution_count": 103,
   "id": "d551d647",
   "metadata": {},
   "outputs": [
    {
     "name": "stdout",
     "output_type": "stream",
     "text": [
      "{'fruit': 'banana'}\n",
      "My favourite fruit is banana\n"
     ]
    }
   ],
   "source": [
    "myfunc(fruit='banana')"
   ]
  },
  {
   "cell_type": "markdown",
   "id": "f2e2243f",
   "metadata": {},
   "source": [
    "## `*args` and `**kwargs` combined\n",
    "\n",
    "You can pass `*args` and `**kwargs` into the same function, but `*args` have to appear before `**kwargs`"
   ]
  },
  {
   "cell_type": "code",
   "execution_count": 138,
   "id": "62c1f573",
   "metadata": {},
   "outputs": [],
   "source": [
    "def myfunc(*args, **kwargs):\n",
    "    print('I would like {} {}'.format(args[0],kwargs['food']))"
   ]
  },
  {
   "cell_type": "code",
   "execution_count": 139,
   "id": "d13cb63d",
   "metadata": {},
   "outputs": [
    {
     "name": "stdout",
     "output_type": "stream",
     "text": [
      "I would like 10 carrot\n"
     ]
    }
   ],
   "source": [
    "myfunc(10,20, food='carrot',fruit='banana')"
   ]
  },
  {
   "cell_type": "code",
   "execution_count": 140,
   "id": "9e9d61ba",
   "metadata": {},
   "outputs": [
    {
     "name": "stdout",
     "output_type": "stream",
     "text": [
      "I would like 10 egg\n"
     ]
    }
   ],
   "source": [
    "myfunc(10,20,30,fruit='strawberry',food='egg',animal='dog')"
   ]
  },
  {
   "cell_type": "code",
   "execution_count": 141,
   "id": "43cb041d",
   "metadata": {},
   "outputs": [],
   "source": [
    "def myfunc(*args, **kwargs):\n",
    "    print(args)\n",
    "    print(kwargs)\n",
    "    print('I would like {} {}'.format(args[0],kwargs['food']))"
   ]
  },
  {
   "cell_type": "code",
   "execution_count": 142,
   "id": "d5b193b2",
   "metadata": {},
   "outputs": [
    {
     "name": "stdout",
     "output_type": "stream",
     "text": [
      "(10, 20, 30)\n",
      "{'fruit': 'strawberry', 'food': 'egg', 'animal': 'dog'}\n",
      "I would like 10 egg\n"
     ]
    }
   ],
   "source": [
    "myfunc(10,20,30,fruit='strawberry',food='egg',animal='dog')"
   ]
  },
  {
   "cell_type": "code",
   "execution_count": 143,
   "id": "99401094",
   "metadata": {},
   "outputs": [],
   "source": [
    "# myfunc(10,20,30,fruit='orange',food='egg',animal='dog',100)"
   ]
  },
  {
   "cell_type": "code",
   "execution_count": 145,
   "id": "5b8b654a",
   "metadata": {},
   "outputs": [
    {
     "name": "stdout",
     "output_type": "stream",
     "text": [
      "(\"aman's\", 20, 30)\n",
      "{'fruit': 'orange', 'food': 'egg', 'animal': 'dog'}\n",
      "I would like aman's egg\n"
     ]
    }
   ],
   "source": [
    "myfunc(10,20,30,fruit='orange',food='egg',animal='dog')"
   ]
  }
 ],
 "metadata": {
  "kernelspec": {
   "display_name": "Python 3 (ipykernel)",
   "language": "python",
   "name": "python3"
  },
  "language_info": {
   "codemirror_mode": {
    "name": "ipython",
    "version": 3
   },
   "file_extension": ".py",
   "mimetype": "text/x-python",
   "name": "python",
   "nbconvert_exporter": "python",
   "pygments_lexer": "ipython3",
   "version": "3.9.13"
  }
 },
 "nbformat": 4,
 "nbformat_minor": 5
}
