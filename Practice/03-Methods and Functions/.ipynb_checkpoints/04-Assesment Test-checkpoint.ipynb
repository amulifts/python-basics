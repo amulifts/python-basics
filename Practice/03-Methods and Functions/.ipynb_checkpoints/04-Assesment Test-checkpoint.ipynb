{
 "cells": [
  {
   "cell_type": "markdown",
   "id": "6cee3846",
   "metadata": {},
   "source": [
    "## Test your knowledge. \n",
    "\n",
    "** Answer the following questions **"
   ]
  },
  {
   "cell_type": "markdown",
   "id": "9fc57a05",
   "metadata": {},
   "source": [
    "***\n",
    "<b>Write a function called myfunc that prints the string 'Hello World'."
   ]
  },
  {
   "cell_type": "code",
   "execution_count": null,
   "id": "aa190f94",
   "metadata": {},
   "outputs": [],
   "source": []
  },
  {
   "cell_type": "markdown",
   "id": "303f4986",
   "metadata": {},
   "source": [
    "***\n",
    "<b>Define a function called myfunc that takes in a name, and prints 'Hello Name' "
   ]
  },
  {
   "cell_type": "code",
   "execution_count": null,
   "id": "d865405a",
   "metadata": {},
   "outputs": [],
   "source": []
  },
  {
   "cell_type": "markdown",
   "id": "adbbf1b0",
   "metadata": {},
   "source": [
    "***\n",
    "<b>Define a function called myfunc that takes in a Boolean value (True or False). If True, return 'Hello', and if False, return 'Goodbye'"
   ]
  },
  {
   "cell_type": "code",
   "execution_count": null,
   "id": "8935264d",
   "metadata": {},
   "outputs": [],
   "source": []
  },
  {
   "cell_type": "markdown",
   "id": "a7a0c980",
   "metadata": {},
   "source": [
    "***\n",
    "<b>Define a function called myfunc that takes three arguments, x, y and z. If z is True, return x.  If z is False, return y.<br>\n",
    "``` myfunc('Hello','Goodbye',False) Output: 'Goodbye' ```"
   ]
  },
  {
   "cell_type": "code",
   "execution_count": null,
   "id": "311f82d5",
   "metadata": {},
   "outputs": [],
   "source": []
  },
  {
   "cell_type": "markdown",
   "id": "845ca6ae",
   "metadata": {},
   "source": [
    "***\n",
    "<b>Define a function called myfunc that takes in two arguments and returns their sum."
   ]
  },
  {
   "cell_type": "code",
   "execution_count": null,
   "id": "860cb639",
   "metadata": {},
   "outputs": [],
   "source": []
  },
  {
   "cell_type": "markdown",
   "id": "597ef36d",
   "metadata": {},
   "source": [
    "***\n",
    "<b>Define a function called is_even that takes in one argument, and returns True if the passed-in value is even, False if it is not."
   ]
  },
  {
   "cell_type": "code",
   "execution_count": null,
   "id": "7379258d",
   "metadata": {},
   "outputs": [],
   "source": []
  },
  {
   "cell_type": "markdown",
   "id": "f915fbf5",
   "metadata": {},
   "source": [
    "***\n",
    "<b>Define a function called is_greater that takes in two arguments, and returns True if the first value is greater than the second, False if it is less than or equal to the second.<br>\n",
    "```is_less(5,9) Output: True```"
   ]
  },
  {
   "cell_type": "code",
   "execution_count": null,
   "id": "ccfda45f",
   "metadata": {},
   "outputs": [],
   "source": []
  },
  {
   "cell_type": "markdown",
   "id": "e7e9e90b",
   "metadata": {},
   "source": [
    "***\n",
    "<b>Define a function called myfunc that takes in an arbitrary number of arguments, and returns the sum of those arguments.<br>\n",
    "```myfunc(5,6,7,8) Output: 4 ```"
   ]
  },
  {
   "cell_type": "code",
   "execution_count": null,
   "id": "61faadbb",
   "metadata": {},
   "outputs": [],
   "source": []
  },
  {
   "cell_type": "markdown",
   "id": "691bc731",
   "metadata": {},
   "source": [
    "***\n",
    "<b>Define a function called myfunc that takes in an arbitrary number of arguments, and returns a list containing only those arguments that are even. <br>\n",
    "```myfunc(5,6,7,8) Output: [6, 8] ```"
   ]
  },
  {
   "cell_type": "code",
   "execution_count": null,
   "id": "51481337",
   "metadata": {},
   "outputs": [],
   "source": []
  },
  {
   "cell_type": "markdown",
   "id": "e6834228",
   "metadata": {},
   "source": [
    "***\n",
    "<b>Define a function called myfunc that takes in a string, and returns a matching string where every even letter is uppercase, and every odd letter is lowercase. Assume that the incoming string only contains letters, and don't worry about numbers, spaces or punctuation. The output string can start with either an uppercase or lowercase letter, so long as letters alternate throughout the string.<br>\n",
    "```myfunc('Anthropomorphism') Output: 'aNtHrOpOmOrPhIsM' ```"
   ]
  },
  {
   "cell_type": "code",
   "execution_count": null,
   "id": "b7f82e43",
   "metadata": {},
   "outputs": [],
   "source": []
  }
 ],
 "metadata": {
  "kernelspec": {
   "display_name": "Python 3 (ipykernel)",
   "language": "python",
   "name": "python3"
  },
  "language_info": {
   "codemirror_mode": {
    "name": "ipython",
    "version": 3
   },
   "file_extension": ".py",
   "mimetype": "text/x-python",
   "name": "python",
   "nbconvert_exporter": "python",
   "pygments_lexer": "ipython3",
   "version": "3.9.13"
  }
 },
 "nbformat": 4,
 "nbformat_minor": 5
}
