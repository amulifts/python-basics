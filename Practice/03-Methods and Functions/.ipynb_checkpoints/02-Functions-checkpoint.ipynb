{
 "cells": [
  {
   "cell_type": "markdown",
   "id": "bcbe6f48",
   "metadata": {},
   "source": [
    "# Functions\n",
    "\n",
    "allows us to create a block of code that can be easily executed many times, without needing to constantly rewrite the entire block of code."
   ]
  },
  {
   "cell_type": "markdown",
   "id": "cf6be495",
   "metadata": {},
   "source": [
    "### def keyword\n",
    "\n",
    "Lets see how to build out a function's syntax in Python."
   ]
  },
  {
   "cell_type": "code",
   "execution_count": null,
   "id": "8bac3984",
   "metadata": {},
   "outputs": [],
   "source": [
    "def name_of_function(arg1,arg2): #snake casing\n",
    "    # Do stuff here\n",
    "    # Return desired result"
   ]
  },
  {
   "cell_type": "markdown",
   "id": "3ea8918b",
   "metadata": {},
   "source": [
    "### Simple example of a function"
   ]
  },
  {
   "cell_type": "code",
   "execution_count": 4,
   "id": "8be35d75",
   "metadata": {},
   "outputs": [],
   "source": [
    "def say_hello():\n",
    "    print('hello')"
   ]
  },
  {
   "cell_type": "markdown",
   "id": "7b4188f9",
   "metadata": {},
   "source": [
    "### Calling a function with ()"
   ]
  },
  {
   "cell_type": "code",
   "execution_count": 5,
   "id": "acf47dc0",
   "metadata": {},
   "outputs": [
    {
     "name": "stdout",
     "output_type": "stream",
     "text": [
      "hello\n"
     ]
    }
   ],
   "source": [
    "say_hello()"
   ]
  },
  {
   "cell_type": "code",
   "execution_count": 6,
   "id": "6dbfa44b",
   "metadata": {},
   "outputs": [
    {
     "data": {
      "text/plain": [
       "<function __main__.say_hello()>"
      ]
     },
     "execution_count": 6,
     "metadata": {},
     "output_type": "execute_result"
    }
   ],
   "source": [
    "say_hello"
   ]
  },
  {
   "cell_type": "markdown",
   "id": "9ab9dbef",
   "metadata": {},
   "source": [
    "### Accepting parameters (arguments)"
   ]
  },
  {
   "cell_type": "code",
   "execution_count": 29,
   "id": "5e0cab55",
   "metadata": {},
   "outputs": [],
   "source": [
    "def greeting(name):\n",
    "    print(f\"Hello {name}\")"
   ]
  },
  {
   "cell_type": "code",
   "execution_count": 30,
   "id": "7d55c481",
   "metadata": {},
   "outputs": [],
   "source": [
    "# greeting()"
   ]
  },
  {
   "cell_type": "code",
   "execution_count": 32,
   "id": "ce72ed68",
   "metadata": {},
   "outputs": [
    {
     "name": "stdout",
     "output_type": "stream",
     "text": [
      "Hello Aman\n"
     ]
    }
   ],
   "source": [
    "greeting('Aman')"
   ]
  },
  {
   "cell_type": "code",
   "execution_count": 33,
   "id": "a7db864f",
   "metadata": {},
   "outputs": [
    {
     "name": "stdout",
     "output_type": "stream",
     "text": [
      "Hello Grusha\n"
     ]
    }
   ],
   "source": [
    "greeting('Grusha')"
   ]
  },
  {
   "cell_type": "markdown",
   "id": "93d82c90",
   "metadata": {},
   "source": [
    "### Using return\n",
    "\n",
    "So far we've only seen <code>print()</code> used, but if we actually want to save the resulting variable we need to use the <code>return</code> keyword.\n",
    "\n",
    "We are going to use <code>return</code> keyword to send back the result to the function, instead of just printing it out.\n",
    "\n",
    "It allows us to assign the output of the function to a new variable."
   ]
  },
  {
   "cell_type": "code",
   "execution_count": 18,
   "id": "80da736c",
   "metadata": {},
   "outputs": [],
   "source": [
    "def add_num(num1,num2):\n",
    "    return num1+num2"
   ]
  },
  {
   "cell_type": "code",
   "execution_count": 20,
   "id": "0d4b6182",
   "metadata": {},
   "outputs": [
    {
     "data": {
      "text/plain": [
       "4"
      ]
     },
     "execution_count": 20,
     "metadata": {},
     "output_type": "execute_result"
    }
   ],
   "source": [
    "add_num(2,2)"
   ]
  },
  {
   "cell_type": "code",
   "execution_count": 21,
   "id": "c8ebcfe8",
   "metadata": {},
   "outputs": [],
   "source": [
    "# Can also save as varible due to return\n",
    "result = add_num(2,2)"
   ]
  },
  {
   "cell_type": "code",
   "execution_count": 22,
   "id": "6933c82c",
   "metadata": {},
   "outputs": [
    {
     "data": {
      "text/plain": [
       "4"
      ]
     },
     "execution_count": 22,
     "metadata": {},
     "output_type": "execute_result"
    }
   ],
   "source": [
    "result"
   ]
  },
  {
   "cell_type": "code",
   "execution_count": 25,
   "id": "8196c60f",
   "metadata": {},
   "outputs": [
    {
     "data": {
      "text/plain": [
       "'onetwo'"
      ]
     },
     "execution_count": 25,
     "metadata": {},
     "output_type": "execute_result"
    }
   ],
   "source": [
    "add_num('one','two')"
   ]
  },
  {
   "cell_type": "code",
   "execution_count": 28,
   "id": "bb8225e5",
   "metadata": {},
   "outputs": [],
   "source": [
    "# add_num('one',2)"
   ]
  },
  {
   "cell_type": "code",
   "execution_count": 29,
   "id": "667e9f7d",
   "metadata": {},
   "outputs": [
    {
     "data": {
      "text/plain": [
       "'one 2'"
      ]
     },
     "execution_count": 29,
     "metadata": {},
     "output_type": "execute_result"
    }
   ],
   "source": [
    "add_num('one ',str(2))"
   ]
  },
  {
   "cell_type": "markdown",
   "id": "e762ba7f",
   "metadata": {},
   "source": [
    "### Difference between  return and print"
   ]
  },
  {
   "cell_type": "markdown",
   "id": "3d29ac39",
   "metadata": {},
   "source": [
    "**The return keyword allows you to actually save the result of the output of a function as a variable. The print() function simply displays the output to you, but doesn't save it for future use. Let's explore this in more detail**"
   ]
  },
  {
   "cell_type": "code",
   "execution_count": 2,
   "id": "f88c709d",
   "metadata": {},
   "outputs": [],
   "source": [
    "def print_num(num1,num2):\n",
    "    print (num1*num2)"
   ]
  },
  {
   "cell_type": "code",
   "execution_count": 3,
   "id": "15734518",
   "metadata": {},
   "outputs": [],
   "source": [
    "def return_num(num1,num2):\n",
    "    return num1*num2"
   ]
  },
  {
   "cell_type": "code",
   "execution_count": 4,
   "id": "360bf46b",
   "metadata": {},
   "outputs": [
    {
     "name": "stdout",
     "output_type": "stream",
     "text": [
      "50\n"
     ]
    }
   ],
   "source": [
    "print_num(10,5)"
   ]
  },
  {
   "cell_type": "code",
   "execution_count": 5,
   "id": "ab4ecd8f",
   "metadata": {},
   "outputs": [
    {
     "data": {
      "text/plain": [
       "50"
      ]
     },
     "execution_count": 5,
     "metadata": {},
     "output_type": "execute_result"
    }
   ],
   "source": [
    "# You won't see any output if you run this in a .py script\n",
    "return_num(10,5)"
   ]
  },
  {
   "cell_type": "markdown",
   "id": "a6407dfe",
   "metadata": {},
   "source": [
    "**But what happens if we actually want to save this result for later use?**"
   ]
  },
  {
   "cell_type": "code",
   "execution_count": 6,
   "id": "1bb5a600",
   "metadata": {},
   "outputs": [
    {
     "name": "stdout",
     "output_type": "stream",
     "text": [
      "400\n"
     ]
    }
   ],
   "source": [
    "my_result = print_num(20,20)"
   ]
  },
  {
   "cell_type": "code",
   "execution_count": 7,
   "id": "05de84ea",
   "metadata": {},
   "outputs": [],
   "source": [
    "my_result"
   ]
  },
  {
   "cell_type": "code",
   "execution_count": 8,
   "id": "92882c73",
   "metadata": {},
   "outputs": [
    {
     "data": {
      "text/plain": [
       "NoneType"
      ]
     },
     "execution_count": 8,
     "metadata": {},
     "output_type": "execute_result"
    }
   ],
   "source": [
    "type(my_result)"
   ]
  },
  {
   "cell_type": "markdown",
   "id": "767ae210",
   "metadata": {},
   "source": [
    "**Be careful! Notice how print_num() doesn't let you actually save the result to a variable! It only prints it out, with print() returning None for the assignment!**"
   ]
  },
  {
   "cell_type": "code",
   "execution_count": 9,
   "id": "6cb229fe",
   "metadata": {},
   "outputs": [],
   "source": [
    "my_result = return_num(20,20)"
   ]
  },
  {
   "cell_type": "code",
   "execution_count": 10,
   "id": "9bdce5aa",
   "metadata": {},
   "outputs": [
    {
     "data": {
      "text/plain": [
       "400"
      ]
     },
     "execution_count": 10,
     "metadata": {},
     "output_type": "execute_result"
    }
   ],
   "source": [
    "my_result"
   ]
  },
  {
   "cell_type": "code",
   "execution_count": 11,
   "id": "ad0ab9ba",
   "metadata": {},
   "outputs": [
    {
     "data": {
      "text/plain": [
       "800"
      ]
     },
     "execution_count": 11,
     "metadata": {},
     "output_type": "execute_result"
    }
   ],
   "source": [
    "my_result + my_result"
   ]
  },
  {
   "cell_type": "markdown",
   "id": "90493858",
   "metadata": {},
   "source": [
    "## Note: Pep 8 Guidelines:\n",
    "- PEP 8 is just style conventions for writing Python.\n",
    "    * For variables, functions, methods, and modules: <b>Snake Case</b>.\n",
    "    * For classes: <b>Pascal Case</b>.\n",
    "    * For constants: <b>Capitalized Snake Case</b>.\n",
    "\n",
    "* Camel Case: firstName\n",
    "* Pascal Case: FirstName\n",
    "* Snake Case: first_name\n",
    "* Constant Case (Capitalized Snake Case): FIRST_NAME\n",
    "* Kebab Case: first-name"
   ]
  }
 ],
 "metadata": {
  "kernelspec": {
   "display_name": "Python 3 (ipykernel)",
   "language": "python",
   "name": "python3"
  },
  "language_info": {
   "codemirror_mode": {
    "name": "ipython",
    "version": 3
   },
   "file_extension": ".py",
   "mimetype": "text/x-python",
   "name": "python",
   "nbconvert_exporter": "python",
   "pygments_lexer": "ipython3",
   "version": "3.9.13"
  }
 },
 "nbformat": 4,
 "nbformat_minor": 5
}
