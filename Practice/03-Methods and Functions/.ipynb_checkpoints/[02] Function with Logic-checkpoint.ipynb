{
 "cells": [
  {
   "cell_type": "markdown",
   "id": "241c63ee",
   "metadata": {},
   "source": [
    "# Function with Logic"
   ]
  },
  {
   "cell_type": "code",
   "execution_count": 3,
   "id": "af663577",
   "metadata": {},
   "outputs": [],
   "source": [
    "def check_even(num):\n",
    "    return num%2==0"
   ]
  },
  {
   "cell_type": "code",
   "execution_count": 4,
   "id": "fa342aaf",
   "metadata": {},
   "outputs": [
    {
     "data": {
      "text/plain": [
       "True"
      ]
     },
     "execution_count": 4,
     "metadata": {},
     "output_type": "execute_result"
    }
   ],
   "source": [
    "check_even(100)"
   ]
  },
  {
   "cell_type": "code",
   "execution_count": 5,
   "id": "8ab8d020",
   "metadata": {},
   "outputs": [],
   "source": [
    "# Return true if any number is even inside a list"
   ]
  },
  {
   "cell_type": "code",
   "execution_count": 6,
   "id": "7bf6de66",
   "metadata": {},
   "outputs": [],
   "source": [
    "def check_even_list(num_list):\n",
    "    for num in num_list:\n",
    "        if num%2==0:\n",
    "            return True\n",
    "        else:\n",
    "            pass"
   ]
  },
  {
   "cell_type": "code",
   "execution_count": 8,
   "id": "67da074b",
   "metadata": {},
   "outputs": [],
   "source": [
    "check_even_list([1,3,5,7,9])"
   ]
  },
  {
   "cell_type": "code",
   "execution_count": 9,
   "id": "04f957bc",
   "metadata": {},
   "outputs": [
    {
     "data": {
      "text/plain": [
       "True"
      ]
     },
     "execution_count": 9,
     "metadata": {},
     "output_type": "execute_result"
    }
   ],
   "source": [
    "check_even_list([1,2,3,5,7])"
   ]
  },
  {
   "cell_type": "code",
   "execution_count": 10,
   "id": "a59794f7",
   "metadata": {},
   "outputs": [],
   "source": [
    "def check_even_list(num_list):\n",
    "    for num in num_list:\n",
    "        if num%2==0:\n",
    "            return True\n",
    "        else:\n",
    "            return False # Wrong!!"
   ]
  },
  {
   "cell_type": "code",
   "execution_count": 12,
   "id": "2acb8365",
   "metadata": {},
   "outputs": [
    {
     "data": {
      "text/plain": [
       "False"
      ]
     },
     "execution_count": 12,
     "metadata": {},
     "output_type": "execute_result"
    }
   ],
   "source": [
    "check_even_list([1,3,5,7])"
   ]
  },
  {
   "cell_type": "code",
   "execution_count": 13,
   "id": "f611d273",
   "metadata": {},
   "outputs": [
    {
     "data": {
      "text/plain": [
       "False"
      ]
     },
     "execution_count": 13,
     "metadata": {},
     "output_type": "execute_result"
    }
   ],
   "source": [
    "check_even_list([1,2,5,7])"
   ]
  },
  {
   "cell_type": "code",
   "execution_count": 17,
   "id": "5ad2b5f4",
   "metadata": {},
   "outputs": [],
   "source": [
    "def check_even_list(num_list):\n",
    "    for num in num_list:\n",
    "        if num%2==0:\n",
    "            return True # return value to function\n",
    "        else:\n",
    "            pass\n",
    "    return False # Right !!"
   ]
  },
  {
   "cell_type": "code",
   "execution_count": 18,
   "id": "e8603c9f",
   "metadata": {},
   "outputs": [
    {
     "data": {
      "text/plain": [
       "False"
      ]
     },
     "execution_count": 18,
     "metadata": {},
     "output_type": "execute_result"
    }
   ],
   "source": [
    "check_even_list([1,3,5])"
   ]
  },
  {
   "cell_type": "code",
   "execution_count": 19,
   "id": "91a28036",
   "metadata": {},
   "outputs": [
    {
     "data": {
      "text/plain": [
       "True"
      ]
     },
     "execution_count": 19,
     "metadata": {},
     "output_type": "execute_result"
    }
   ],
   "source": [
    "check_even_list([1,2,3,5,7])"
   ]
  },
  {
   "cell_type": "code",
   "execution_count": 20,
   "id": "71cd260b",
   "metadata": {},
   "outputs": [],
   "source": [
    "# Return all even numbers in a list"
   ]
  },
  {
   "cell_type": "code",
   "execution_count": 29,
   "id": "503d2de1",
   "metadata": {},
   "outputs": [],
   "source": [
    "def return_even(num_list):\n",
    "    \n",
    "    even_list = []\n",
    "    for i in num_list:\n",
    "        if i%2==0:\n",
    "            even_list.append(i)\n",
    "        else:\n",
    "            pass\n",
    "    return even_list"
   ]
  },
  {
   "cell_type": "code",
   "execution_count": 32,
   "id": "d3f4f596",
   "metadata": {},
   "outputs": [
    {
     "data": {
      "text/plain": [
       "[2, 4, 6, 8, 100]"
      ]
     },
     "execution_count": 32,
     "metadata": {},
     "output_type": "execute_result"
    }
   ],
   "source": [
    "return_even([1,2,4,6,8,11,100])"
   ]
  },
  {
   "cell_type": "markdown",
   "id": "932a3c0f",
   "metadata": {},
   "source": [
    "# Tuple Unpacking"
   ]
  },
  {
   "cell_type": "code",
   "execution_count": 33,
   "id": "1c5db2d7",
   "metadata": {},
   "outputs": [],
   "source": [
    "stock_prices = [('APPL',200),('GOOG',400),('MSFT',100)]"
   ]
  },
  {
   "cell_type": "code",
   "execution_count": 35,
   "id": "81f3cc76",
   "metadata": {},
   "outputs": [
    {
     "name": "stdout",
     "output_type": "stream",
     "text": [
      "('APPL', 200)\n",
      "('GOOG', 400)\n",
      "('MSFT', 100)\n"
     ]
    }
   ],
   "source": [
    "for i in stock_prices:\n",
    "    print(i)"
   ]
  },
  {
   "cell_type": "code",
   "execution_count": 37,
   "id": "ad26fffa",
   "metadata": {},
   "outputs": [
    {
     "name": "stdout",
     "output_type": "stream",
     "text": [
      "APPL\n",
      "GOOG\n",
      "MSFT\n"
     ]
    }
   ],
   "source": [
    "for i,j in stock_prices:\n",
    "    print(i)"
   ]
  },
  {
   "cell_type": "code",
   "execution_count": 39,
   "id": "2879b636",
   "metadata": {},
   "outputs": [
    {
     "name": "stdout",
     "output_type": "stream",
     "text": [
      "200\n",
      "400\n",
      "100\n"
     ]
    }
   ],
   "source": [
    "for i,j in stock_prices:\n",
    "    print(j)"
   ]
  },
  {
   "cell_type": "code",
   "execution_count": 40,
   "id": "aed0ca4b",
   "metadata": {},
   "outputs": [
    {
     "name": "stdout",
     "output_type": "stream",
     "text": [
      "300.0\n",
      "600.0\n",
      "150.0\n"
     ]
    }
   ],
   "source": [
    "for i,j in stock_prices:\n",
    "    print(j+(0.5*j))"
   ]
  },
  {
   "cell_type": "code",
   "execution_count": 59,
   "id": "f3e65573",
   "metadata": {},
   "outputs": [],
   "source": [
    "work_hours = [(\"Aman\",1000),(\"Grusha\",400),(\"Khadka\",800)]"
   ]
  },
  {
   "cell_type": "code",
   "execution_count": 60,
   "id": "4dd2c0cd",
   "metadata": {},
   "outputs": [],
   "source": [
    "def employee_check(work_hours):\n",
    "    max_hrs_worked = 0\n",
    "    employee_of_month = \"\"\n",
    "    \n",
    "    for x,y in work_hours: # tuple unpacking\n",
    "        if y>max_hrs_worked:\n",
    "            max_hrs_worked = y\n",
    "            employee_of_month = x\n",
    "        else:\n",
    "            pass\n",
    "    return (employee_of_month, max_hrs_worked)"
   ]
  },
  {
   "cell_type": "code",
   "execution_count": 62,
   "id": "d76f8e19",
   "metadata": {},
   "outputs": [],
   "source": [
    "result = employee_check(work_hours)"
   ]
  },
  {
   "cell_type": "code",
   "execution_count": 67,
   "id": "f3eb0171",
   "metadata": {},
   "outputs": [],
   "source": [
    "# Tuple unpacking with function call\n",
    "name, hours = employee_check(work_hours)"
   ]
  },
  {
   "cell_type": "code",
   "execution_count": 68,
   "id": "7bc7f4a5",
   "metadata": {},
   "outputs": [
    {
     "data": {
      "text/plain": [
       "'Aman'"
      ]
     },
     "execution_count": 68,
     "metadata": {},
     "output_type": "execute_result"
    }
   ],
   "source": [
    "name"
   ]
  },
  {
   "cell_type": "code",
   "execution_count": 69,
   "id": "26f51859",
   "metadata": {},
   "outputs": [
    {
     "data": {
      "text/plain": [
       "1000"
      ]
     },
     "execution_count": 69,
     "metadata": {},
     "output_type": "execute_result"
    }
   ],
   "source": [
    "hours"
   ]
  },
  {
   "cell_type": "code",
   "execution_count": 71,
   "id": "16cdbda1",
   "metadata": {},
   "outputs": [],
   "source": [
    "# name, hours, location = employee_check(work_hours)"
   ]
  }
 ],
 "metadata": {
  "kernelspec": {
   "display_name": "Python 3 (ipykernel)",
   "language": "python",
   "name": "python3"
  },
  "language_info": {
   "codemirror_mode": {
    "name": "ipython",
    "version": 3
   },
   "file_extension": ".py",
   "mimetype": "text/x-python",
   "name": "python",
   "nbconvert_exporter": "python",
   "pygments_lexer": "ipython3",
   "version": "3.10.6"
  }
 },
 "nbformat": 4,
 "nbformat_minor": 5
}
