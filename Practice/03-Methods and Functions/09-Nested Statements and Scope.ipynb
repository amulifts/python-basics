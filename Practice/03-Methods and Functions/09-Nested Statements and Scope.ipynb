{
 "cells": [
  {
   "cell_type": "markdown",
   "id": "9dd443ac",
   "metadata": {},
   "source": [
    "# Nested Statements and Scope \n",
    "\n",
    "Now that we have gone over writing our own functions, it's important to understand how Python deals with the variable names you assign. When you create a variable name in Python the name is stored in a **name-space**. Variable names also have a **scope**, the scope determines the visibility of that variable name to other parts of your code.\n",
    "\n",
    "Let's start with a quick thought experiment; imagine the following code:"
   ]
  },
  {
   "cell_type": "code",
   "execution_count": 11,
   "id": "1c9e638e",
   "metadata": {},
   "outputs": [],
   "source": [
    "x = 25\n",
    "\n",
    "def printer():\n",
    "    x = 50\n",
    "    return x"
   ]
  },
  {
   "cell_type": "code",
   "execution_count": 12,
   "id": "c6834491",
   "metadata": {},
   "outputs": [
    {
     "name": "stdout",
     "output_type": "stream",
     "text": [
      "25\n"
     ]
    }
   ],
   "source": [
    "print(x)"
   ]
  },
  {
   "cell_type": "code",
   "execution_count": 14,
   "id": "5e7a3a41",
   "metadata": {},
   "outputs": [
    {
     "name": "stdout",
     "output_type": "stream",
     "text": [
      "50\n"
     ]
    }
   ],
   "source": [
    "print(printer())"
   ]
  },
  {
   "cell_type": "markdown",
   "id": "7ba57fc4",
   "metadata": {},
   "source": [
    "But how does python know which **x** we am refering to in our code ? This is where the idea of scope comes in. Python has a <code>set of rules</code> it follows to decide what variables (such as **x** in this case) we are referencing in our code.\n",
    "\n",
    "The idea of scope in our code is very important to understand in order to properly assign and call variable names.\n",
    "\n",
    "The idea of scope can be described by 3 general rules:\n",
    "\n",
    "1. Name assignments will create or change local names by default\n",
    "2. Name references search (at most) four scopes, these are:\n",
    "    * local\n",
    "    * enclosing funtions\n",
    "    * global\n",
    "    * built-in\n",
    "3. Names declared in global and nonlocal statements map assigned names to enclosing module and function scopes."
   ]
  },
  {
   "cell_type": "markdown",
   "id": "d20db576",
   "metadata": {},
   "source": [
    "**LEGB Rule:**\n",
    "\n",
    "L: Local - Defined inside function (def or lambda)/class\n",
    "\n",
    "E: Enclosing function locals - Defined inside enclosing functions (Nested function concept)\n",
    "\n",
    "G: Global (module) - Defined at uppermost level\n",
    "\n",
    "B: Built-in (Python) - Reserved names in Python builtiin modules : open, range, SyntaxError,..."
   ]
  },
  {
   "cell_type": "markdown",
   "id": "6bbd9e3e",
   "metadata": {},
   "source": [
    "## Quick example of LEGB"
   ]
  },
  {
   "cell_type": "markdown",
   "id": "1949f892",
   "metadata": {},
   "source": [
    "### Local"
   ]
  },
  {
   "cell_type": "code",
   "execution_count": 22,
   "id": "d24d4853",
   "metadata": {},
   "outputs": [
    {
     "data": {
      "text/plain": [
       "<function __main__.<lambda>(n)>"
      ]
     },
     "execution_count": 22,
     "metadata": {},
     "output_type": "execute_result"
    }
   ],
   "source": [
    "lambda n:n**2"
   ]
  },
  {
   "cell_type": "markdown",
   "id": "fa6d9bf3",
   "metadata": {},
   "source": [
    "### Enclosed\n",
    "\n",
    "This occurs when we have a function inside a function (nested functions)"
   ]
  },
  {
   "cell_type": "code",
   "execution_count": 30,
   "id": "dfdb3b5f",
   "metadata": {},
   "outputs": [
    {
     "name": "stdout",
     "output_type": "stream",
     "text": [
      "Hello Aman Khadka\n"
     ]
    }
   ],
   "source": [
    "name = 'This is a global string'\n",
    "\n",
    "def greet():\n",
    "    # enclosing function\n",
    "    name = \"Aman Khadka\"\n",
    "\n",
    "    def hello():\n",
    "        print(\"Hello \"+name)\n",
    "\n",
    "    hello()\n",
    "\n",
    "greet()"
   ]
  },
  {
   "cell_type": "markdown",
   "id": "9a00b9d3",
   "metadata": {},
   "source": [
    "### Global"
   ]
  },
  {
   "cell_type": "code",
   "execution_count": 31,
   "id": "af7b4f19",
   "metadata": {},
   "outputs": [
    {
     "name": "stdout",
     "output_type": "stream",
     "text": [
      "Hello This is a global string\n"
     ]
    }
   ],
   "source": [
    "name = 'This is a global string'\n",
    "\n",
    "def greet():\n",
    "\n",
    "#     name = \"Aman Khadka\"\n",
    "\n",
    "    def hello():\n",
    "        print(\"Hello \"+name)\n",
    "\n",
    "    hello()\n",
    "\n",
    "greet()"
   ]
  },
  {
   "cell_type": "code",
   "execution_count": 36,
   "id": "95af5716",
   "metadata": {},
   "outputs": [
    {
     "name": "stdout",
     "output_type": "stream",
     "text": [
      "Hello Aman Khadka\n"
     ]
    }
   ],
   "source": [
    "# Global\n",
    "name = 'This is a global string'\n",
    "\n",
    "def greet():\n",
    "    # Enclosed\n",
    "    name = \"Aman Khadka\"\n",
    "    \n",
    "    def hello():\n",
    "        # Local\n",
    "        name = \"Grusha Bhattarai\"\n",
    "        print(\"Hello \"+name)\n",
    "    hello()\n",
    "greet()"
   ]
  },
  {
   "cell_type": "markdown",
   "id": "75b98402",
   "metadata": {},
   "source": [
    "### Built-it\n",
    "\n",
    "These are the built-in function names in Python (don't overwrite these!)"
   ]
  },
  {
   "cell_type": "code",
   "execution_count": 33,
   "id": "a1529cdc",
   "metadata": {},
   "outputs": [
    {
     "data": {
      "text/plain": [
       "<function len(obj, /)>"
      ]
     },
     "execution_count": 33,
     "metadata": {},
     "output_type": "execute_result"
    }
   ],
   "source": [
    "len"
   ]
  },
  {
   "cell_type": "code",
   "execution_count": 34,
   "id": "fe7eeb09",
   "metadata": {},
   "outputs": [
    {
     "name": "stdout",
     "output_type": "stream",
     "text": [
      "Help on built-in function len in module builtins:\n",
      "\n",
      "len(obj, /)\n",
      "    Return the number of items in a container.\n",
      "\n"
     ]
    }
   ],
   "source": [
    "help(len)"
   ]
  },
  {
   "cell_type": "markdown",
   "id": "2e7e9957",
   "metadata": {},
   "source": [
    "****\n",
    "### Local and Global Variable"
   ]
  },
  {
   "cell_type": "code",
   "execution_count": 38,
   "id": "17ddba66",
   "metadata": {},
   "outputs": [],
   "source": [
    "x = 50\n",
    "def func(x):\n",
    "    print(f\"x is {x}\")"
   ]
  },
  {
   "cell_type": "code",
   "execution_count": 39,
   "id": "0928dbc0",
   "metadata": {},
   "outputs": [
    {
     "name": "stdout",
     "output_type": "stream",
     "text": [
      "x is 50\n"
     ]
    }
   ],
   "source": [
    "func(x)"
   ]
  },
  {
   "cell_type": "code",
   "execution_count": 40,
   "id": "a9732981",
   "metadata": {},
   "outputs": [
    {
     "name": "stdout",
     "output_type": "stream",
     "text": [
      "x is 60\n"
     ]
    }
   ],
   "source": [
    "func(60)"
   ]
  },
  {
   "cell_type": "code",
   "execution_count": 50,
   "id": "a25a89c0",
   "metadata": {},
   "outputs": [],
   "source": [
    "x = 50\n",
    "\n",
    "def func(x):\n",
    "    print(f\"x is {x}\")\n",
    "    \n",
    "    # Local Reassignment\n",
    "    x = 200\n",
    "    print(f\"I just changed x to {x}\")"
   ]
  },
  {
   "cell_type": "code",
   "execution_count": 52,
   "id": "bc9259a9",
   "metadata": {},
   "outputs": [
    {
     "name": "stdout",
     "output_type": "stream",
     "text": [
      "x is 50\n",
      "I just changed x to 200\n"
     ]
    }
   ],
   "source": [
    "func(x)"
   ]
  },
  {
   "cell_type": "code",
   "execution_count": 53,
   "id": "2a39f6c2",
   "metadata": {},
   "outputs": [
    {
     "name": "stdout",
     "output_type": "stream",
     "text": [
      "50\n"
     ]
    }
   ],
   "source": [
    "print(x)"
   ]
  },
  {
   "cell_type": "code",
   "execution_count": 54,
   "id": "132c93d5",
   "metadata": {},
   "outputs": [],
   "source": [
    "x = 50\n",
    "\n",
    "def func():\n",
    "    global x\n",
    "    print(f\"x is {x}\")\n",
    "    \n",
    "    # Local Reassignment on a global variable\n",
    "    x = \"New Value\"\n",
    "    print(f\"I just locally changed global x to {x}\")"
   ]
  },
  {
   "cell_type": "code",
   "execution_count": 55,
   "id": "e4c0b7af",
   "metadata": {},
   "outputs": [
    {
     "name": "stdout",
     "output_type": "stream",
     "text": [
      "50\n"
     ]
    }
   ],
   "source": [
    "print(x)"
   ]
  },
  {
   "cell_type": "code",
   "execution_count": 56,
   "id": "636791c1",
   "metadata": {},
   "outputs": [
    {
     "name": "stdout",
     "output_type": "stream",
     "text": [
      "x is 50\n",
      "I just locally changed global x to New Value\n"
     ]
    }
   ],
   "source": [
    "func()"
   ]
  },
  {
   "cell_type": "code",
   "execution_count": 57,
   "id": "01ec7f5a",
   "metadata": {},
   "outputs": [
    {
     "name": "stdout",
     "output_type": "stream",
     "text": [
      "New Value\n"
     ]
    }
   ],
   "source": [
    "print(x)"
   ]
  },
  {
   "cell_type": "code",
   "execution_count": 62,
   "id": "6da6f222",
   "metadata": {},
   "outputs": [],
   "source": [
    "x = 50\n",
    "\n",
    "def func(x):\n",
    "    print(f\"x is {x}\")\n",
    "    \n",
    "    #Local Reassignment\n",
    "    x = \"New Value\"\n",
    "    print(f\"I just locally changed global x to {x}\")\n",
    "    return x"
   ]
  },
  {
   "cell_type": "code",
   "execution_count": 63,
   "id": "455eda59",
   "metadata": {},
   "outputs": [
    {
     "name": "stdout",
     "output_type": "stream",
     "text": [
      "50\n"
     ]
    }
   ],
   "source": [
    "print(x)"
   ]
  },
  {
   "cell_type": "code",
   "execution_count": 61,
   "id": "cc617d59",
   "metadata": {},
   "outputs": [
    {
     "name": "stdout",
     "output_type": "stream",
     "text": [
      "x is 50\n",
      "I just locally changed global x to New Value\n"
     ]
    }
   ],
   "source": [
    "a = func(x)"
   ]
  },
  {
   "cell_type": "code",
   "execution_count": 64,
   "id": "e44532af",
   "metadata": {},
   "outputs": [
    {
     "data": {
      "text/plain": [
       "'New Value'"
      ]
     },
     "execution_count": 64,
     "metadata": {},
     "output_type": "execute_result"
    }
   ],
   "source": [
    "a"
   ]
  }
 ],
 "metadata": {
  "kernelspec": {
   "display_name": "Python 3 (ipykernel)",
   "language": "python",
   "name": "python3"
  },
  "language_info": {
   "codemirror_mode": {
    "name": "ipython",
    "version": 3
   },
   "file_extension": ".py",
   "mimetype": "text/x-python",
   "name": "python",
   "nbconvert_exporter": "python",
   "pygments_lexer": "ipython3",
   "version": "3.9.13"
  }
 },
 "nbformat": 4,
 "nbformat_minor": 5
}
