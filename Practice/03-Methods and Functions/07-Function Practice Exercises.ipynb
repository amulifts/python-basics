{
 "cells": [
  {
   "cell_type": "markdown",
   "id": "deac6c0f",
   "metadata": {},
   "source": [
    "# Function Practice Exercises\n",
    "\n",
    "Problems are arranged in increasing difficulty:\n",
    "* Warmup - these can be solved using basic comparisons and methods\n",
    "* Level 1 - these may involve if/then conditional statements and simple methods\n",
    "* Level 2 - these may require iterating over sequences, usually with some kind of loop\n",
    "* Challenging - these will take some creativity to solve"
   ]
  },
  {
   "cell_type": "markdown",
   "id": "aeba641f",
   "metadata": {},
   "source": [
    "## WARMUP SECTION:"
   ]
  },
  {
   "cell_type": "markdown",
   "id": "d86bf1eb",
   "metadata": {},
   "source": [
    "#### LESSER OF TWO EVENS: Write a function that returns the lesser of two given numbers *if* both numbers are even, but returns the greater if one or both numbers are odd\n",
    "    lesser_of_two_evens(2,4) --> 2\n",
    "    lesser_of_two_evens(2,5) --> 5"
   ]
  },
  {
   "cell_type": "code",
   "execution_count": null,
   "id": "ce67a367",
   "metadata": {},
   "outputs": [],
   "source": []
  },
  {
   "cell_type": "code",
   "execution_count": null,
   "id": "ba5e6f1f",
   "metadata": {},
   "outputs": [],
   "source": [
    "# Check\n"
   ]
  },
  {
   "cell_type": "code",
   "execution_count": null,
   "id": "dab62c80",
   "metadata": {},
   "outputs": [],
   "source": [
    "# Check\n"
   ]
  },
  {
   "cell_type": "markdown",
   "id": "2098da96",
   "metadata": {},
   "source": [
    "#### ANIMAL CRACKERS: Write a function takes a two-word string and returns True if both words begin with same letter\n",
    "    animal_crackers('Levelheaded Llama') --> True\n",
    "    animal_crackers('Crazy Kangaroo') --> False"
   ]
  },
  {
   "cell_type": "code",
   "execution_count": null,
   "id": "5989867a",
   "metadata": {},
   "outputs": [],
   "source": []
  },
  {
   "cell_type": "code",
   "execution_count": 2,
   "id": "33fe71c5",
   "metadata": {},
   "outputs": [],
   "source": [
    "#Check\n"
   ]
  },
  {
   "cell_type": "code",
   "execution_count": 3,
   "id": "694161ce",
   "metadata": {},
   "outputs": [],
   "source": [
    "#Check\n"
   ]
  },
  {
   "cell_type": "markdown",
   "id": "5054ac17",
   "metadata": {},
   "source": [
    "#### MAKES TWENTY: Given two integers, return True if the sum of the integers is 20 *or* if one of the integers is 20. If not, return False\n",
    "    makes_twenty(20,10) --> True\n",
    "    makes_twenty(12,8) --> True\n",
    "    makes_twenty(2,3) --> False"
   ]
  },
  {
   "cell_type": "code",
   "execution_count": null,
   "id": "b360c70c",
   "metadata": {},
   "outputs": [],
   "source": []
  },
  {
   "cell_type": "code",
   "execution_count": 4,
   "id": "7a2b4a87",
   "metadata": {},
   "outputs": [],
   "source": [
    "#Check\n"
   ]
  },
  {
   "cell_type": "code",
   "execution_count": 5,
   "id": "83581426",
   "metadata": {},
   "outputs": [],
   "source": [
    "#Check\n"
   ]
  },
  {
   "cell_type": "code",
   "execution_count": 7,
   "id": "4a112a14",
   "metadata": {},
   "outputs": [],
   "source": [
    "#Check\n"
   ]
  },
  {
   "cell_type": "markdown",
   "id": "ccc9c53e",
   "metadata": {},
   "source": [
    "# LEVEL 1 PROBLEMS"
   ]
  },
  {
   "cell_type": "markdown",
   "id": "19d63fb0",
   "metadata": {},
   "source": [
    "#### OLD MACDONALD: Write a function that capitalizes the first and fourth letters of a name\n",
    "    old_macdonald('macdonald') --> MacDonald\n",
    "    \n",
    "Note: `'macdonald'.capitalize()` returns `'Macdonald'`"
   ]
  },
  {
   "cell_type": "code",
   "execution_count": null,
   "id": "a6d41915",
   "metadata": {},
   "outputs": [],
   "source": []
  },
  {
   "cell_type": "code",
   "execution_count": 26,
   "id": "f0f99128",
   "metadata": {},
   "outputs": [],
   "source": [
    "#Check\n"
   ]
  },
  {
   "cell_type": "markdown",
   "id": "e07ef43c",
   "metadata": {},
   "source": [
    "#### MASTER YODA: Given a sentence, return a sentence with the words reversed\n",
    "\n",
    "    master_yoda('I am home') --> 'home am I'\n",
    "    master_yoda('We are ready') --> 'ready are We'\n",
    "    \n",
    "Note: The .join() method may be useful here. The .join() method allows you to join together strings in a list with some connector string. For example, some uses of the .join() method:\n",
    "\n",
    "    >>> \"--\".join(['a','b','c'])\n",
    "    >>> 'a--b--c'\n",
    "\n",
    "This means if you had a list of words you wanted to turn back into a sentence, you could just join them with a single space string:\n",
    "\n",
    "    >>> \" \".join(['Hello','world'])\n",
    "    >>> \"Hello world\""
   ]
  },
  {
   "cell_type": "code",
   "execution_count": null,
   "id": "f5527d25",
   "metadata": {},
   "outputs": [],
   "source": []
  },
  {
   "cell_type": "code",
   "execution_count": 27,
   "id": "038df5cf",
   "metadata": {},
   "outputs": [],
   "source": [
    "# Check"
   ]
  },
  {
   "cell_type": "code",
   "execution_count": 28,
   "id": "72a92a78",
   "metadata": {},
   "outputs": [],
   "source": [
    "# Check\n"
   ]
  },
  {
   "cell_type": "markdown",
   "id": "bc0739c6",
   "metadata": {},
   "source": [
    "#### ALMOST THERE: Given an integer n, return True if n is within 10 of either 100 or 200\n",
    "    almost_there(90) --> True\n",
    "    almost_there(104) --> True\n",
    "    almost_there(150) --> False\n",
    "    almost_there(209) --> True\n",
    "    \n",
    "NOTE: `abs(num)` returns the absolute value of a number"
   ]
  },
  {
   "cell_type": "code",
   "execution_count": null,
   "id": "a720fa34",
   "metadata": {},
   "outputs": [],
   "source": []
  },
  {
   "cell_type": "code",
   "execution_count": 29,
   "id": "971a0d7b",
   "metadata": {},
   "outputs": [],
   "source": [
    "# Check\n"
   ]
  },
  {
   "cell_type": "code",
   "execution_count": 30,
   "id": "1902b28a",
   "metadata": {},
   "outputs": [],
   "source": [
    "# Check\n"
   ]
  },
  {
   "cell_type": "code",
   "execution_count": 31,
   "id": "f8562b57",
   "metadata": {},
   "outputs": [],
   "source": [
    "# Check\n"
   ]
  },
  {
   "cell_type": "markdown",
   "id": "be4e817a",
   "metadata": {},
   "source": [
    "# LEVEL 2 PROBLEMS"
   ]
  },
  {
   "cell_type": "markdown",
   "id": "003f4d88",
   "metadata": {},
   "source": [
    "#### FIND 33: \n",
    "\n",
    "Given a list of ints, return True if the array contains a 3 next to a 3 somewhere.\n",
    "\n",
    "    has_33([1, 3, 3]) → True\n",
    "    has_33([1, 3, 1, 3]) → False\n",
    "    has_33([3, 1, 3]) → False"
   ]
  },
  {
   "cell_type": "code",
   "execution_count": null,
   "id": "a7e864a4",
   "metadata": {},
   "outputs": [],
   "source": []
  },
  {
   "cell_type": "code",
   "execution_count": 32,
   "id": "4bb7bf0a",
   "metadata": {},
   "outputs": [],
   "source": [
    "# Check\n"
   ]
  },
  {
   "cell_type": "code",
   "execution_count": 33,
   "id": "0dd89353",
   "metadata": {},
   "outputs": [],
   "source": [
    "# Check\n"
   ]
  },
  {
   "cell_type": "code",
   "execution_count": 34,
   "id": "37296b0a",
   "metadata": {},
   "outputs": [],
   "source": [
    "# Check\n"
   ]
  },
  {
   "cell_type": "markdown",
   "id": "48f107ea",
   "metadata": {},
   "source": [
    "#### PAPER DOLL: Given a string, return a string where for every character in the original there are three characters\n",
    "    paper_doll('Hello') --> 'HHHeeellllllooo'\n",
    "    paper_doll('Mississippi') --> 'MMMiiissssssiiippppppiii'"
   ]
  },
  {
   "cell_type": "code",
   "execution_count": null,
   "id": "ec5c7001",
   "metadata": {},
   "outputs": [],
   "source": []
  },
  {
   "cell_type": "code",
   "execution_count": 35,
   "id": "d3a19a71",
   "metadata": {},
   "outputs": [],
   "source": [
    "# Check\n"
   ]
  },
  {
   "cell_type": "code",
   "execution_count": 36,
   "id": "cb35843c",
   "metadata": {},
   "outputs": [],
   "source": [
    "# Check\n"
   ]
  },
  {
   "cell_type": "markdown",
   "id": "c25aec4f",
   "metadata": {},
   "source": [
    "#### BLACKJACK: Given three integers between 1 and 11, if their sum is less than or equal to 21, return their sum. If their sum exceeds 21 *and* there's an eleven, reduce the total sum by 10. Finally, if the sum (even after adjustment) exceeds 21, return 'BUST'\n",
    "    blackjack(5,6,7) --> 18\n",
    "    blackjack(9,9,9) --> 'BUST'\n",
    "    blackjack(9,9,11) --> 19"
   ]
  },
  {
   "cell_type": "code",
   "execution_count": null,
   "id": "f3a3ad79",
   "metadata": {},
   "outputs": [],
   "source": []
  },
  {
   "cell_type": "code",
   "execution_count": 37,
   "id": "701575f1",
   "metadata": {},
   "outputs": [],
   "source": [
    "# Check\n"
   ]
  },
  {
   "cell_type": "code",
   "execution_count": 38,
   "id": "5e247be1",
   "metadata": {},
   "outputs": [],
   "source": [
    "# Check\n"
   ]
  },
  {
   "cell_type": "code",
   "execution_count": 39,
   "id": "f48c3564",
   "metadata": {},
   "outputs": [],
   "source": [
    "# Check\n"
   ]
  },
  {
   "cell_type": "markdown",
   "id": "963ba298",
   "metadata": {},
   "source": [
    "#### SUMMER OF '69: Return the sum of the numbers in the array, except ignore sections of numbers starting with a 6 and extending to the next 9 (every 6 will be followed by at least one 9). Return 0 for no numbers.\n",
    "    summer_69([1, 3, 5]) --> 9\n",
    "    summer_69([4, 5, 6, 7, 8, 9]) --> 9\n",
    "    summer_69([2, 1, 6, 9, 11]) --> 14"
   ]
  },
  {
   "cell_type": "code",
   "execution_count": null,
   "id": "9c5e15fc",
   "metadata": {},
   "outputs": [],
   "source": []
  },
  {
   "cell_type": "code",
   "execution_count": 40,
   "id": "79532985",
   "metadata": {},
   "outputs": [],
   "source": [
    "# Check\n"
   ]
  },
  {
   "cell_type": "code",
   "execution_count": 41,
   "id": "1f0cfa15",
   "metadata": {},
   "outputs": [],
   "source": [
    "# Check\n"
   ]
  },
  {
   "cell_type": "code",
   "execution_count": 42,
   "id": "ef0e277b",
   "metadata": {},
   "outputs": [],
   "source": [
    "# Check\n"
   ]
  },
  {
   "cell_type": "markdown",
   "id": "0b090d59",
   "metadata": {},
   "source": [
    "# CHALLENGING PROBLEMS"
   ]
  },
  {
   "cell_type": "markdown",
   "id": "70d7da53",
   "metadata": {},
   "source": [
    "#### SPY GAME: Write a function that takes in a list of integers and returns True if it contains 007 in order\n",
    "     spy_game([1,2,4,0,0,7,5]) --> True\n",
    "     spy_game([1,0,2,4,0,5,7]) --> True\n",
    "     spy_game([1,7,2,0,4,5,0]) --> False"
   ]
  },
  {
   "cell_type": "code",
   "execution_count": null,
   "id": "3699a9ae",
   "metadata": {},
   "outputs": [],
   "source": []
  },
  {
   "cell_type": "code",
   "execution_count": 43,
   "id": "1fa3f1fe",
   "metadata": {},
   "outputs": [],
   "source": [
    "# Check\n"
   ]
  },
  {
   "cell_type": "code",
   "execution_count": 44,
   "id": "3d03ddf7",
   "metadata": {},
   "outputs": [],
   "source": [
    "# Check\n"
   ]
  },
  {
   "cell_type": "code",
   "execution_count": 45,
   "id": "dd82b674",
   "metadata": {},
   "outputs": [],
   "source": [
    "# Check\n"
   ]
  },
  {
   "cell_type": "markdown",
   "id": "b06ca542",
   "metadata": {},
   "source": [
    "#### COUNT PRIMES: Write a function that returns the *number* of prime numbers that exist up to and including a given number\n",
    "    count_primes(100) --> 25\n",
    "\n",
    "By convention, 0 and 1 are not prime."
   ]
  },
  {
   "cell_type": "code",
   "execution_count": null,
   "id": "833a089b",
   "metadata": {},
   "outputs": [],
   "source": []
  },
  {
   "cell_type": "markdown",
   "id": "565bd950",
   "metadata": {},
   "source": [
    "### Just for fun:\n",
    "#### PRINT BIG: Write a function that takes in a single letter, and returns a 5x5 representation of that letter\n",
    "    print_big('a')\n",
    "    \n",
    "    out:   *  \n",
    "          * *\n",
    "         *****\n",
    "         *   *\n",
    "         *   *"
   ]
  },
  {
   "cell_type": "code",
   "execution_count": null,
   "id": "67506121",
   "metadata": {},
   "outputs": [],
   "source": []
  },
  {
   "cell_type": "markdown",
   "id": "dc818290",
   "metadata": {},
   "source": [
    "## Great Job!"
   ]
  }
 ],
 "metadata": {
  "kernelspec": {
   "display_name": "Python 3 (ipykernel)",
   "language": "python",
   "name": "python3"
  },
  "language_info": {
   "codemirror_mode": {
    "name": "ipython",
    "version": 3
   },
   "file_extension": ".py",
   "mimetype": "text/x-python",
   "name": "python",
   "nbconvert_exporter": "python",
   "pygments_lexer": "ipython3",
   "version": "3.9.13"
  }
 },
 "nbformat": 4,
 "nbformat_minor": 5
}
