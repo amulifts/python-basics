{
 "cells": [
  {
   "cell_type": "markdown",
   "id": "241c63ee",
   "metadata": {},
   "source": [
    "# Function with Logic"
   ]
  },
  {
   "cell_type": "code",
   "execution_count": 3,
   "id": "af663577",
   "metadata": {},
   "outputs": [],
   "source": [
    "def check_even(num):\n",
    "    return num%2==0"
   ]
  },
  {
   "cell_type": "code",
   "execution_count": 4,
   "id": "fa342aaf",
   "metadata": {},
   "outputs": [
    {
     "data": {
      "text/plain": [
       "True"
      ]
     },
     "execution_count": 4,
     "metadata": {},
     "output_type": "execute_result"
    }
   ],
   "source": [
    "check_even(100)"
   ]
  },
  {
   "cell_type": "code",
   "execution_count": 5,
   "id": "8ab8d020",
   "metadata": {},
   "outputs": [],
   "source": [
    "# Return true if any number is even inside a list"
   ]
  },
  {
   "cell_type": "code",
   "execution_count": 6,
   "id": "7bf6de66",
   "metadata": {},
   "outputs": [],
   "source": [
    "def check_even_list(num_list):\n",
    "    for num in num_list:\n",
    "        if num%2==0:\n",
    "            return True\n",
    "        else:\n",
    "            pass"
   ]
  },
  {
   "cell_type": "code",
   "execution_count": 8,
   "id": "67da074b",
   "metadata": {},
   "outputs": [],
   "source": [
    "check_even_list([1,3,5,7,9])"
   ]
  },
  {
   "cell_type": "code",
   "execution_count": 9,
   "id": "04f957bc",
   "metadata": {},
   "outputs": [
    {
     "data": {
      "text/plain": [
       "True"
      ]
     },
     "execution_count": 9,
     "metadata": {},
     "output_type": "execute_result"
    }
   ],
   "source": [
    "check_even_list([1,2,3,5,7])"
   ]
  },
  {
   "cell_type": "code",
   "execution_count": 10,
   "id": "a59794f7",
   "metadata": {},
   "outputs": [],
   "source": [
    "def check_even_list(num_list):\n",
    "    for num in num_list:\n",
    "        if num%2==0:\n",
    "            return True\n",
    "        else:\n",
    "            return False # Wrong!!"
   ]
  },
  {
   "cell_type": "code",
   "execution_count": 12,
   "id": "2acb8365",
   "metadata": {},
   "outputs": [
    {
     "data": {
      "text/plain": [
       "False"
      ]
     },
     "execution_count": 12,
     "metadata": {},
     "output_type": "execute_result"
    }
   ],
   "source": [
    "check_even_list([1,3,5,7])"
   ]
  },
  {
   "cell_type": "code",
   "execution_count": 13,
   "id": "f611d273",
   "metadata": {},
   "outputs": [
    {
     "data": {
      "text/plain": [
       "False"
      ]
     },
     "execution_count": 13,
     "metadata": {},
     "output_type": "execute_result"
    }
   ],
   "source": [
    "check_even_list([1,2,5,7])"
   ]
  },
  {
   "cell_type": "code",
   "execution_count": 17,
   "id": "5ad2b5f4",
   "metadata": {},
   "outputs": [],
   "source": [
    "def check_even_list(num_list):\n",
    "    for num in num_list:\n",
    "        if num%2==0:\n",
    "            return True # return value to function\n",
    "        else:\n",
    "            pass\n",
    "    return False # Right !!"
   ]
  },
  {
   "cell_type": "code",
   "execution_count": 18,
   "id": "e8603c9f",
   "metadata": {},
   "outputs": [
    {
     "data": {
      "text/plain": [
       "False"
      ]
     },
     "execution_count": 18,
     "metadata": {},
     "output_type": "execute_result"
    }
   ],
   "source": [
    "check_even_list([1,3,5])"
   ]
  },
  {
   "cell_type": "code",
   "execution_count": 19,
   "id": "91a28036",
   "metadata": {},
   "outputs": [
    {
     "data": {
      "text/plain": [
       "True"
      ]
     },
     "execution_count": 19,
     "metadata": {},
     "output_type": "execute_result"
    }
   ],
   "source": [
    "check_even_list([1,2,3,5,7])"
   ]
  },
  {
   "cell_type": "code",
   "execution_count": 20,
   "id": "71cd260b",
   "metadata": {},
   "outputs": [],
   "source": [
    "# Return all even numbers in a list"
   ]
  },
  {
   "cell_type": "code",
   "execution_count": 29,
   "id": "503d2de1",
   "metadata": {},
   "outputs": [],
   "source": [
    "def return_even(num_list):\n",
    "    \n",
    "    even_list = []\n",
    "    for i in num_list:\n",
    "        if i%2==0:\n",
    "            even_list.append(i)\n",
    "        else:\n",
    "            pass\n",
    "    return even_list"
   ]
  },
  {
   "cell_type": "code",
   "execution_count": 32,
   "id": "d3f4f596",
   "metadata": {},
   "outputs": [
    {
     "data": {
      "text/plain": [
       "[2, 4, 6, 8, 100]"
      ]
     },
     "execution_count": 32,
     "metadata": {},
     "output_type": "execute_result"
    }
   ],
   "source": [
    "return_even([1,2,4,6,8,11,100])"
   ]
  },
  {
   "cell_type": "markdown",
   "id": "932a3c0f",
   "metadata": {},
   "source": [
    "# Tuple Unpacking"
   ]
  },
  {
   "cell_type": "code",
   "execution_count": 33,
   "id": "1c5db2d7",
   "metadata": {},
   "outputs": [],
   "source": [
    "stock_prices = [('APPL',200),('GOOG',400),('MSFT',100)]"
   ]
  },
  {
   "cell_type": "code",
   "execution_count": 35,
   "id": "81f3cc76",
   "metadata": {},
   "outputs": [
    {
     "name": "stdout",
     "output_type": "stream",
     "text": [
      "('APPL', 200)\n",
      "('GOOG', 400)\n",
      "('MSFT', 100)\n"
     ]
    }
   ],
   "source": [
    "for i in stock_prices:\n",
    "    print(i)"
   ]
  },
  {
   "cell_type": "code",
   "execution_count": 37,
   "id": "ad26fffa",
   "metadata": {},
   "outputs": [
    {
     "name": "stdout",
     "output_type": "stream",
     "text": [
      "APPL\n",
      "GOOG\n",
      "MSFT\n"
     ]
    }
   ],
   "source": [
    "for i,j in stock_prices:\n",
    "    print(i)"
   ]
  },
  {
   "cell_type": "code",
   "execution_count": 39,
   "id": "2879b636",
   "metadata": {},
   "outputs": [
    {
     "name": "stdout",
     "output_type": "stream",
     "text": [
      "200\n",
      "400\n",
      "100\n"
     ]
    }
   ],
   "source": [
    "for i,j in stock_prices:\n",
    "    print(j)"
   ]
  },
  {
   "cell_type": "code",
   "execution_count": 40,
   "id": "aed0ca4b",
   "metadata": {},
   "outputs": [
    {
     "name": "stdout",
     "output_type": "stream",
     "text": [
      "300.0\n",
      "600.0\n",
      "150.0\n"
     ]
    }
   ],
   "source": [
    "for i,j in stock_prices:\n",
    "    print(j+(0.5*j))"
   ]
  },
  {
   "cell_type": "code",
   "execution_count": 59,
   "id": "f3e65573",
   "metadata": {},
   "outputs": [],
   "source": [
    "work_hours = [(\"Aman\",1000),(\"Grusha\",400),(\"Khadka\",800)]"
   ]
  },
  {
   "cell_type": "code",
   "execution_count": 60,
   "id": "4dd2c0cd",
   "metadata": {},
   "outputs": [],
   "source": [
    "def employee_check(work_hours):\n",
    "    max_hrs_worked = 0\n",
    "    employee_of_month = \"\"\n",
    "    \n",
    "    for x,y in work_hours: # tuple unpacking\n",
    "        if y>max_hrs_worked:\n",
    "            max_hrs_worked = y\n",
    "            employee_of_month = x\n",
    "        else:\n",
    "            pass\n",
    "    return (employee_of_month, max_hrs_worked)"
   ]
  },
  {
   "cell_type": "code",
   "execution_count": 62,
   "id": "d76f8e19",
   "metadata": {},
   "outputs": [],
   "source": [
    "result = employee_check(work_hours)"
   ]
  },
  {
   "cell_type": "code",
   "execution_count": 67,
   "id": "f3eb0171",
   "metadata": {},
   "outputs": [],
   "source": [
    "# Tuple unpacking with function call\n",
    "name, hours = employee_check(work_hours)"
   ]
  },
  {
   "cell_type": "code",
   "execution_count": 68,
   "id": "7bc7f4a5",
   "metadata": {},
   "outputs": [
    {
     "data": {
      "text/plain": [
       "'Aman'"
      ]
     },
     "execution_count": 68,
     "metadata": {},
     "output_type": "execute_result"
    }
   ],
   "source": [
    "name"
   ]
  },
  {
   "cell_type": "code",
   "execution_count": 69,
   "id": "26f51859",
   "metadata": {},
   "outputs": [
    {
     "data": {
      "text/plain": [
       "1000"
      ]
     },
     "execution_count": 69,
     "metadata": {},
     "output_type": "execute_result"
    }
   ],
   "source": [
    "hours"
   ]
  },
  {
   "cell_type": "code",
   "execution_count": 71,
   "id": "16cdbda1",
   "metadata": {},
   "outputs": [],
   "source": [
    "# name, hours, location = employee_check(work_hours)"
   ]
  },
  {
   "cell_type": "markdown",
   "id": "cd1406d3",
   "metadata": {},
   "source": [
    "# Interaction with Functions"
   ]
  },
  {
   "cell_type": "code",
   "execution_count": 22,
   "id": "d34a821d",
   "metadata": {},
   "outputs": [],
   "source": [
    "mylist = [1,2,3,4,5,6,7]"
   ]
  },
  {
   "cell_type": "code",
   "execution_count": 23,
   "id": "cbd04e79",
   "metadata": {},
   "outputs": [],
   "source": [
    "from random import shuffle"
   ]
  },
  {
   "cell_type": "code",
   "execution_count": 24,
   "id": "83cebc52",
   "metadata": {},
   "outputs": [],
   "source": [
    "shuffle(mylist)"
   ]
  },
  {
   "cell_type": "code",
   "execution_count": 25,
   "id": "2e289c13",
   "metadata": {},
   "outputs": [
    {
     "data": {
      "text/plain": [
       "[4, 6, 5, 1, 2, 7, 3]"
      ]
     },
     "execution_count": 25,
     "metadata": {},
     "output_type": "execute_result"
    }
   ],
   "source": [
    "mylist"
   ]
  },
  {
   "cell_type": "code",
   "execution_count": 26,
   "id": "68752282",
   "metadata": {},
   "outputs": [],
   "source": [
    "result = shuffle(mylist)"
   ]
  },
  {
   "cell_type": "code",
   "execution_count": 27,
   "id": "ad3994d3",
   "metadata": {},
   "outputs": [
    {
     "data": {
      "text/plain": [
       "NoneType"
      ]
     },
     "execution_count": 27,
     "metadata": {},
     "output_type": "execute_result"
    }
   ],
   "source": [
    "type(result)"
   ]
  },
  {
   "cell_type": "markdown",
   "id": "18160458",
   "metadata": {},
   "source": [
    "Create a few function to mimic the carnival guessing game <b>\" Three Cup Monte \"<b>"
   ]
  },
  {
   "cell_type": "code",
   "execution_count": 28,
   "id": "0e87b4f9",
   "metadata": {},
   "outputs": [],
   "source": [
    "def shuffle_list(mylist):\n",
    "    shuffle(mylist)\n",
    "    return mylist"
   ]
  },
  {
   "cell_type": "code",
   "execution_count": 30,
   "id": "d6155e67",
   "metadata": {},
   "outputs": [],
   "source": [
    "result = shuffle_list(mylist)"
   ]
  },
  {
   "cell_type": "code",
   "execution_count": 31,
   "id": "2d5e36d7",
   "metadata": {},
   "outputs": [
    {
     "data": {
      "text/plain": [
       "[4, 7, 3, 2, 5, 1, 6]"
      ]
     },
     "execution_count": 31,
     "metadata": {},
     "output_type": "execute_result"
    }
   ],
   "source": [
    "result"
   ]
  },
  {
   "cell_type": "code",
   "execution_count": 60,
   "id": "e066475c",
   "metadata": {},
   "outputs": [],
   "source": [
    "mylist = [' ','O',' ']"
   ]
  },
  {
   "cell_type": "code",
   "execution_count": 61,
   "id": "e9affe32",
   "metadata": {},
   "outputs": [
    {
     "data": {
      "text/plain": [
       "[' ', 'O', ' ']"
      ]
     },
     "execution_count": 61,
     "metadata": {},
     "output_type": "execute_result"
    }
   ],
   "source": [
    "shuffle_list(mylist)"
   ]
  },
  {
   "cell_type": "code",
   "execution_count": 62,
   "id": "191d4651",
   "metadata": {},
   "outputs": [],
   "source": [
    "def player_guess():\n",
    "    guess = \" \"\n",
    "    while guess not in ['0','1','2']:\n",
    "        guess = input(\"Pick a number: 0, 1 or 2: \")\n",
    "    return int(guess)"
   ]
  },
  {
   "cell_type": "code",
   "execution_count": 63,
   "id": "cccc862e",
   "metadata": {},
   "outputs": [
    {
     "name": "stdout",
     "output_type": "stream",
     "text": [
      "Pick a number: 0, 1 or 2: 1\n"
     ]
    },
    {
     "data": {
      "text/plain": [
       "1"
      ]
     },
     "execution_count": 63,
     "metadata": {},
     "output_type": "execute_result"
    }
   ],
   "source": [
    "player_guess()"
   ]
  },
  {
   "cell_type": "code",
   "execution_count": 64,
   "id": "e3971987",
   "metadata": {},
   "outputs": [
    {
     "name": "stdout",
     "output_type": "stream",
     "text": [
      "Pick a number: 0, 1 or 2: 1\n"
     ]
    }
   ],
   "source": [
    "myindex = player_guess()"
   ]
  },
  {
   "cell_type": "code",
   "execution_count": 65,
   "id": "8f935559",
   "metadata": {},
   "outputs": [
    {
     "data": {
      "text/plain": [
       "1"
      ]
     },
     "execution_count": 65,
     "metadata": {},
     "output_type": "execute_result"
    }
   ],
   "source": [
    "myindex"
   ]
  },
  {
   "cell_type": "code",
   "execution_count": 66,
   "id": "8cfc4ceb",
   "metadata": {},
   "outputs": [],
   "source": [
    "def check_guess(mylist,guess):\n",
    "    if mylist[guess] == 'O':\n",
    "        print(\"Correct!\")\n",
    "    else:\n",
    "        print(\"Wrong guess!\")\n",
    "        print(mylist)"
   ]
  },
  {
   "cell_type": "code",
   "execution_count": 68,
   "id": "95f0dda0",
   "metadata": {},
   "outputs": [
    {
     "name": "stdout",
     "output_type": "stream",
     "text": [
      "Pick a number: 0, 1 or 2: 2\n",
      "Wrong guess!\n",
      "['O', '', '']\n"
     ]
    }
   ],
   "source": [
    "# Initial List\n",
    "mylist = ['','O','']\n",
    "\n",
    "# Shuffle List\n",
    "mixedup_list = shuffle_list(mylist)\n",
    "\n",
    "# User Guess\n",
    "guess = player_guess()\n",
    "\n",
    "# Check Guess\n",
    "check_guess(mixedup_list,guess)"
   ]
  },
  {
   "cell_type": "code",
   "execution_count": 86,
   "id": "8cdc11bb",
   "metadata": {},
   "outputs": [],
   "source": [
    "# Game"
   ]
  },
  {
   "cell_type": "code",
   "execution_count": 87,
   "id": "c7a38d4b",
   "metadata": {},
   "outputs": [],
   "source": [
    "def shuffle_mylist(mylist):\n",
    "    shuffle(mylist)\n",
    "    return mylist"
   ]
  },
  {
   "cell_type": "code",
   "execution_count": 94,
   "id": "95ccbab1",
   "metadata": {},
   "outputs": [],
   "source": [
    "def player_choice():\n",
    "    guess = ''\n",
    "    while guess not in ['0','1','2']:\n",
    "        guess = input(\"Enter your choice 0,1 or 2: \")\n",
    "    return int(guess)"
   ]
  },
  {
   "cell_type": "code",
   "execution_count": 102,
   "id": "2632ea8a",
   "metadata": {},
   "outputs": [],
   "source": [
    "def check_guess(mylist, guess):\n",
    "    if mylist[guess] == 'O':\n",
    "        print(\"Correct!\")\n",
    "        print(mylist)\n",
    "    else:\n",
    "        print(\"Incorrect!\")\n",
    "        print(mylist)"
   ]
  },
  {
   "cell_type": "code",
   "execution_count": 103,
   "id": "7fa6dde4",
   "metadata": {},
   "outputs": [
    {
     "name": "stdout",
     "output_type": "stream",
     "text": [
      "Enter your choice 0,1 or 2: 2\n",
      "Correct!\n",
      "['', '', 'O']\n"
     ]
    }
   ],
   "source": [
    "# initial list\n",
    "mylist = ['','O','']\n",
    "\n",
    "#suffled list\n",
    "shuffle_mylist(mylist)\n",
    "\n",
    "#player guess\n",
    "guess = player_choice()\n",
    "\n",
    "#check guess\n",
    "check_guess(mylist,guess)"
   ]
  },
  {
   "cell_type": "markdown",
   "id": "602505c4",
   "metadata": {},
   "source": [
    "# Argument and Keyword Argument"
   ]
  },
  {
   "cell_type": "code",
   "execution_count": 105,
   "id": "8738a83d",
   "metadata": {},
   "outputs": [],
   "source": [
    "def myfunc(a,b):\n",
    "    # Returbs 5% of the sum of a and b\n",
    "    return sum((a,b)) * 5/100"
   ]
  },
  {
   "cell_type": "code",
   "execution_count": 106,
   "id": "50ff9261",
   "metadata": {},
   "outputs": [
    {
     "data": {
      "text/plain": [
       "5.0"
      ]
     },
     "execution_count": 106,
     "metadata": {},
     "output_type": "execute_result"
    }
   ],
   "source": [
    "myfunc(40,60)"
   ]
  },
  {
   "cell_type": "code",
   "execution_count": 107,
   "id": "a6d8c667",
   "metadata": {},
   "outputs": [],
   "source": [
    "# if we want more parameters"
   ]
  },
  {
   "cell_type": "code",
   "execution_count": 108,
   "id": "3f7fa51d",
   "metadata": {},
   "outputs": [],
   "source": [
    "def myfunc(a,b,c=0,d=0,e=0):\n",
    "    # Returbs 5% of the sum of a and b\n",
    "    return sum((a,b,c,d,e)) * 5/100"
   ]
  },
  {
   "cell_type": "code",
   "execution_count": 113,
   "id": "b76dfba9",
   "metadata": {},
   "outputs": [
    {
     "data": {
      "text/plain": [
       "7.5"
      ]
     },
     "execution_count": 113,
     "metadata": {},
     "output_type": "execute_result"
    }
   ],
   "source": [
    "myfunc(10,20,30,40,50)"
   ]
  },
  {
   "cell_type": "code",
   "execution_count": 116,
   "id": "df8c28c1",
   "metadata": {},
   "outputs": [],
   "source": [
    "# myfunc(10,20,30,40,50,60)"
   ]
  },
  {
   "cell_type": "code",
   "execution_count": 120,
   "id": "e5046194",
   "metadata": {},
   "outputs": [],
   "source": [
    "def myfunc(*args): # takes all parameter and set them inside tuple\n",
    "    return (sum(args)) * 5/100"
   ]
  },
  {
   "cell_type": "code",
   "execution_count": 123,
   "id": "f68ff6ca",
   "metadata": {},
   "outputs": [
    {
     "data": {
      "text/plain": [
       "5.5"
      ]
     },
     "execution_count": 123,
     "metadata": {},
     "output_type": "execute_result"
    }
   ],
   "source": [
    "myfunc(50,60)"
   ]
  },
  {
   "cell_type": "code",
   "execution_count": 124,
   "id": "feccf814",
   "metadata": {},
   "outputs": [],
   "source": [
    "def myfunc(*args): # takes all parameter and set them inside tuple\n",
    "    print(args)"
   ]
  },
  {
   "cell_type": "code",
   "execution_count": 125,
   "id": "0e2b1752",
   "metadata": {},
   "outputs": [
    {
     "name": "stdout",
     "output_type": "stream",
     "text": [
      "(10, 20, 30, 40)\n"
     ]
    }
   ],
   "source": [
    "myfunc(10,20,30,40)"
   ]
  },
  {
   "cell_type": "code",
   "execution_count": 128,
   "id": "ae96d0eb",
   "metadata": {},
   "outputs": [],
   "source": [
    "def myfunc(*aman): # but we should always use args\n",
    "    return (sum(aman))"
   ]
  },
  {
   "cell_type": "code",
   "execution_count": 129,
   "id": "be874b8d",
   "metadata": {},
   "outputs": [
    {
     "data": {
      "text/plain": [
       "21"
      ]
     },
     "execution_count": 129,
     "metadata": {},
     "output_type": "execute_result"
    }
   ],
   "source": [
    "myfunc(1,2,3,4,5,6)"
   ]
  },
  {
   "cell_type": "code",
   "execution_count": 132,
   "id": "34e3908d",
   "metadata": {},
   "outputs": [],
   "source": [
    "def myfunc(*args):\n",
    "    for items in args:\n",
    "        print(items)"
   ]
  },
  {
   "cell_type": "code",
   "execution_count": 133,
   "id": "35898ec7",
   "metadata": {},
   "outputs": [
    {
     "name": "stdout",
     "output_type": "stream",
     "text": [
      "10\n",
      "20\n",
      "30\n",
      "40\n",
      "50\n"
     ]
    }
   ],
   "source": [
    "myfunc(10,20,30,40,50)"
   ]
  },
  {
   "cell_type": "code",
   "execution_count": 151,
   "id": "0d21a3ae",
   "metadata": {},
   "outputs": [],
   "source": [
    "def myfunc(**kwargs): # takes all parameter and set them inside dictionary\n",
    "    if 'fruit' in kwargs:\n",
    "        print('My fruit of choice is {}'.format(kwargs['fruit']))\n",
    "    else:\n",
    "        print('I did not find any fruit here')"
   ]
  },
  {
   "cell_type": "code",
   "execution_count": 152,
   "id": "52888177",
   "metadata": {},
   "outputs": [
    {
     "name": "stdout",
     "output_type": "stream",
     "text": [
      "My fruit of choice is apple\n"
     ]
    }
   ],
   "source": [
    "myfunc(fruit=\"apple\")"
   ]
  },
  {
   "cell_type": "code",
   "execution_count": 158,
   "id": "bfd59ff2",
   "metadata": {},
   "outputs": [],
   "source": [
    "def myfunc(**kwargs):\n",
    "    print(kwargs)\n",
    "    if 'fruit' in kwargs:\n",
    "        print(\"My favourite fruit is {}\".format(kwargs['fruit']))\n",
    "    else:\n",
    "        print('i did not find any fruit here')"
   ]
  },
  {
   "cell_type": "code",
   "execution_count": 160,
   "id": "12cadc38",
   "metadata": {},
   "outputs": [
    {
     "name": "stdout",
     "output_type": "stream",
     "text": [
      "{'fruit': 'banana', 'vegitable': 'carrots'}\n",
      "My favourite fruit is banana\n"
     ]
    }
   ],
   "source": [
    "myfunc(fruit=\"banana\", vegitable=\"carrots\")"
   ]
  },
  {
   "cell_type": "code",
   "execution_count": 165,
   "id": "526ebdbe",
   "metadata": {},
   "outputs": [],
   "source": [
    "def myfunc(*args,**kwargs):\n",
    "    print(\"I would like {} {}\".format(args[0],kwargs['food']))"
   ]
  },
  {
   "cell_type": "code",
   "execution_count": 166,
   "id": "b56152f6",
   "metadata": {},
   "outputs": [
    {
     "name": "stdout",
     "output_type": "stream",
     "text": [
      "I would like 10 egg\n"
     ]
    }
   ],
   "source": [
    "myfunc(10,20,30,fruit='orange',food='egg',animal='dog')"
   ]
  },
  {
   "cell_type": "code",
   "execution_count": 167,
   "id": "96c0f6e7",
   "metadata": {},
   "outputs": [],
   "source": [
    "def myfunc(*args,**kwargs):\n",
    "    print(args)\n",
    "    print(kwargs)\n",
    "    print(\"I would like {} {}\".format(args[0],kwargs['food']))"
   ]
  },
  {
   "cell_type": "code",
   "execution_count": 173,
   "id": "d2e70147",
   "metadata": {},
   "outputs": [
    {
     "name": "stdout",
     "output_type": "stream",
     "text": [
      "(10, 20, 30)\n",
      "{'fruit': 'orange', 'food': 'egg', 'animal': 'dog'}\n",
      "I would like 10 egg\n"
     ]
    }
   ],
   "source": [
    "myfunc(10,20,30,fruit='orange',food='egg',animal='dog')"
   ]
  },
  {
   "cell_type": "code",
   "execution_count": 174,
   "id": "57c6a877",
   "metadata": {},
   "outputs": [],
   "source": [
    "# myfunc(10,20,30,fruit='orange',food='egg',animal='dog',100)"
   ]
  }
 ],
 "metadata": {
  "kernelspec": {
   "display_name": "Python 3 (ipykernel)",
   "language": "python",
   "name": "python3"
  },
  "language_info": {
   "codemirror_mode": {
    "name": "ipython",
    "version": 3
   },
   "file_extension": ".py",
   "mimetype": "text/x-python",
   "name": "python",
   "nbconvert_exporter": "python",
   "pygments_lexer": "ipython3",
   "version": "3.10.6"
  }
 },
 "nbformat": 4,
 "nbformat_minor": 5
}
