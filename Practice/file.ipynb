{
 "cells": [
  {
   "cell_type": "markdown",
   "id": "f770bd88",
   "metadata": {},
   "source": [
    "## Module"
   ]
  },
  {
   "cell_type": "code",
   "execution_count": 7,
   "id": "8abc02f4",
   "metadata": {},
   "outputs": [],
   "source": [
    "import hello"
   ]
  },
  {
   "cell_type": "code",
   "execution_count": 8,
   "id": "6a4ac6a5",
   "metadata": {},
   "outputs": [
    {
     "data": {
      "text/plain": [
       "6"
      ]
     },
     "execution_count": 8,
     "metadata": {},
     "output_type": "execute_result"
    }
   ],
   "source": [
    "hello.dif(8,2)"
   ]
  },
  {
   "cell_type": "code",
   "execution_count": 9,
   "id": "fb4ed142",
   "metadata": {},
   "outputs": [
    {
     "data": {
      "text/plain": [
       "3"
      ]
     },
     "execution_count": 9,
     "metadata": {},
     "output_type": "execute_result"
    }
   ],
   "source": [
    "hello.sum(1,2)"
   ]
  },
  {
   "cell_type": "code",
   "execution_count": 10,
   "id": "8d80d7f6",
   "metadata": {},
   "outputs": [],
   "source": [
    "from hello import dif"
   ]
  },
  {
   "cell_type": "code",
   "execution_count": 11,
   "id": "800c756c",
   "metadata": {},
   "outputs": [
    {
     "data": {
      "text/plain": [
       "1"
      ]
     },
     "execution_count": 11,
     "metadata": {},
     "output_type": "execute_result"
    }
   ],
   "source": [
    "dif(2,1)"
   ]
  },
  {
   "cell_type": "code",
   "execution_count": 12,
   "id": "f602d019",
   "metadata": {},
   "outputs": [],
   "source": [
    "import hello as hel #aliasing"
   ]
  },
  {
   "cell_type": "code",
   "execution_count": 13,
   "id": "cbad47cd",
   "metadata": {},
   "outputs": [
    {
     "data": {
      "text/plain": [
       "7"
      ]
     },
     "execution_count": 13,
     "metadata": {},
     "output_type": "execute_result"
    }
   ],
   "source": [
    "hel.sum(3,4)"
   ]
  },
  {
   "cell_type": "code",
   "execution_count": 14,
   "id": "14c2f48a",
   "metadata": {},
   "outputs": [],
   "source": [
    "from hello import sum as addition"
   ]
  },
  {
   "cell_type": "code",
   "execution_count": 15,
   "id": "b7eaee55",
   "metadata": {},
   "outputs": [
    {
     "data": {
      "text/plain": [
       "3"
      ]
     },
     "execution_count": 15,
     "metadata": {},
     "output_type": "execute_result"
    }
   ],
   "source": [
    "addition(1,2)"
   ]
  },
  {
   "cell_type": "code",
   "execution_count": 25,
   "id": "d5384f8f",
   "metadata": {},
   "outputs": [],
   "source": [
    "import hello"
   ]
  },
  {
   "cell_type": "code",
   "execution_count": 26,
   "id": "f072e738",
   "metadata": {},
   "outputs": [
    {
     "data": {
      "text/plain": [
       "<module 'hello' from 'E:\\\\TBC\\\\Level 4\\\\Python\\\\Practice\\\\hello.py'>"
      ]
     },
     "execution_count": 26,
     "metadata": {},
     "output_type": "execute_result"
    }
   ],
   "source": [
    "hello"
   ]
  },
  {
   "cell_type": "code",
   "execution_count": 27,
   "id": "ed7f4c73",
   "metadata": {},
   "outputs": [],
   "source": [
    "#another location"
   ]
  },
  {
   "cell_type": "code",
   "execution_count": 28,
   "id": "9386ed6c",
   "metadata": {},
   "outputs": [],
   "source": [
    "import sys"
   ]
  },
  {
   "cell_type": "code",
   "execution_count": 31,
   "id": "92861d43",
   "metadata": {},
   "outputs": [
    {
     "data": {
      "text/plain": [
       "['E:\\\\TBC\\\\Level 4\\\\Python\\\\Practice',\n",
       " 'C:\\\\Users\\\\amuli\\\\AppData\\\\Local\\\\Programs\\\\Python\\\\Python310\\\\python310.zip',\n",
       " 'C:\\\\Users\\\\amuli\\\\AppData\\\\Local\\\\Programs\\\\Python\\\\Python310\\\\DLLs',\n",
       " 'C:\\\\Users\\\\amuli\\\\AppData\\\\Local\\\\Programs\\\\Python\\\\Python310\\\\lib',\n",
       " 'C:\\\\Users\\\\amuli\\\\AppData\\\\Local\\\\Programs\\\\Python\\\\Python310',\n",
       " '',\n",
       " 'C:\\\\Users\\\\amuli\\\\AppData\\\\Local\\\\Programs\\\\Python\\\\Python310\\\\lib\\\\site-packages',\n",
       " 'C:\\\\Users\\\\amuli\\\\AppData\\\\Local\\\\Programs\\\\Python\\\\Python310\\\\lib\\\\site-packages\\\\win32',\n",
       " 'C:\\\\Users\\\\amuli\\\\AppData\\\\Local\\\\Programs\\\\Python\\\\Python310\\\\lib\\\\site-packages\\\\win32\\\\lib',\n",
       " 'C:\\\\Users\\\\amuli\\\\AppData\\\\Local\\\\Programs\\\\Python\\\\Python310\\\\lib\\\\site-packages\\\\Pythonwin']"
      ]
     },
     "execution_count": 31,
     "metadata": {},
     "output_type": "execute_result"
    }
   ],
   "source": [
    "sys.path"
   ]
  },
  {
   "cell_type": "code",
   "execution_count": 32,
   "id": "e17a1ecb",
   "metadata": {},
   "outputs": [],
   "source": [
    "#append garne"
   ]
  },
  {
   "cell_type": "code",
   "execution_count": 36,
   "id": "b230512d",
   "metadata": {},
   "outputs": [],
   "source": [
    "sys.path.append([\"E:\\\\\"])"
   ]
  },
  {
   "cell_type": "code",
   "execution_count": 38,
   "id": "758e75c5",
   "metadata": {},
   "outputs": [
    {
     "data": {
      "text/plain": [
       "['E:\\\\TBC\\\\Level 4\\\\Python\\\\Practice',\n",
       " 'C:\\\\Users\\\\amuli\\\\AppData\\\\Local\\\\Programs\\\\Python\\\\Python310\\\\python310.zip',\n",
       " 'C:\\\\Users\\\\amuli\\\\AppData\\\\Local\\\\Programs\\\\Python\\\\Python310\\\\DLLs',\n",
       " 'C:\\\\Users\\\\amuli\\\\AppData\\\\Local\\\\Programs\\\\Python\\\\Python310\\\\lib',\n",
       " 'C:\\\\Users\\\\amuli\\\\AppData\\\\Local\\\\Programs\\\\Python\\\\Python310',\n",
       " '',\n",
       " 'C:\\\\Users\\\\amuli\\\\AppData\\\\Local\\\\Programs\\\\Python\\\\Python310\\\\lib\\\\site-packages',\n",
       " 'C:\\\\Users\\\\amuli\\\\AppData\\\\Local\\\\Programs\\\\Python\\\\Python310\\\\lib\\\\site-packages\\\\win32',\n",
       " 'C:\\\\Users\\\\amuli\\\\AppData\\\\Local\\\\Programs\\\\Python\\\\Python310\\\\lib\\\\site-packages\\\\win32\\\\lib',\n",
       " 'C:\\\\Users\\\\amuli\\\\AppData\\\\Local\\\\Programs\\\\Python\\\\Python310\\\\lib\\\\site-packages\\\\Pythonwin',\n",
       " ['E:\\\\']]"
      ]
     },
     "execution_count": 38,
     "metadata": {},
     "output_type": "execute_result"
    }
   ],
   "source": [
    "sys.path"
   ]
  },
  {
   "cell_type": "code",
   "execution_count": 39,
   "id": "77be759c",
   "metadata": {},
   "outputs": [],
   "source": [
    "#E ayo mathi"
   ]
  },
  {
   "cell_type": "markdown",
   "id": "2239d9af",
   "metadata": {},
   "source": [
    "Package manager\n",
    "1. Pip\n",
    "2. Conda"
   ]
  },
  {
   "cell_type": "code",
   "execution_count": 41,
   "id": "33b65c4e",
   "metadata": {},
   "outputs": [
    {
     "name": "stdout",
     "output_type": "stream",
     "text": [
      "argon2-cffi==21.3.0\n",
      "argon2-cffi-bindings==21.2.0\n",
      "asgiref==3.3.4\n",
      "asttokens==2.0.5\n",
      "attrs==21.4.0\n",
      "backcall==0.2.0\n",
      "bcrypt==3.2.0\n",
      "beautifulsoup4==4.11.1\n",
      "bleach==5.0.0\n",
      "cffi==1.15.0\n",
      "colorama==0.4.4\n",
      "cycler==0.11.0\n",
      "debugpy==1.6.0\n",
      "decorator==5.1.1\n",
      "defusedxml==0.7.1\n",
      "distlib==0.3.5\n",
      "Django==3.2\n",
      "django-filter==2.4.0\n",
      "djangorestframework==3.12.4\n",
      "entrypoints==0.4\n",
      "executing==0.8.3\n",
      "fastjsonschema==2.15.3\n",
      "filelock==3.8.0\n",
      "fontawesome==5.10.1.post1\n",
      "fonttools==4.33.2\n",
      "ipykernel==6.13.0\n",
      "ipython==8.2.0\n",
      "ipython-genutils==0.2.0\n",
      "jedi==0.18.1\n",
      "Jinja2==3.1.1\n",
      "jsonschema==4.4.0\n",
      "jupyter-client==7.2.2\n",
      "jupyter-contrib-core==0.3.3\n",
      "jupyter-contrib-nbextensions==0.5.1\n",
      "jupyter-core==4.10.0\n",
      "jupyter-highlight-selected-word==0.2.0\n",
      "jupyter-latex-envs==1.4.6\n",
      "jupyter-nbextensions-configurator==0.4.1\n",
      "jupyterlab-pygments==0.2.2\n",
      "kiwisolver==1.4.2\n",
      "lxml==4.8.0\n",
      "Markdown==3.3.4\n",
      "MarkupSafe==2.1.1\n",
      "matplotlib==3.5.1\n",
      "matplotlib-inline==0.1.3\n",
      "mistune==0.8.4\n",
      "mysql==0.0.3\n",
      "mysql-connector-python==8.0.28\n",
      "mysqlclient==2.1.0\n",
      "nbclient==0.6.0\n",
      "nbconvert==6.5.0\n",
      "nbformat==5.3.0\n",
      "nest-asyncio==1.5.5\n",
      "notebook==6.4.11\n",
      "numpy==1.22.3\n",
      "packaging==21.3\n",
      "pandas==1.4.2\n",
      "pandocfilters==1.5.0\n",
      "parso==0.8.3\n",
      "pickleshare==0.7.5\n",
      "Pillow==9.1.0\n",
      "platformdirs==2.5.2\n",
      "prettytable==3.2.0\n",
      "prometheus-client==0.14.1\n",
      "prompt-toolkit==3.0.29\n",
      "protobuf==3.20.1\n",
      "psutil==5.9.0\n",
      "pure-eval==0.2.2\n",
      "pycparser==2.21\n",
      "Pygments==2.11.2\n",
      "PyMySQL==1.0.2\n",
      "pyparsing==3.0.8\n",
      "pyrsistent==0.18.1\n",
      "python-dateutil==2.8.2\n",
      "pytz==2021.1\n",
      "pywin32==303\n",
      "pywinpty==2.0.5\n",
      "PyYAML==6.0\n",
      "pyzmq==22.3.0\n",
      "Send2Trash==1.8.0\n",
      "six==1.16.0\n",
      "soupsieve==2.3.2.post1\n",
      "sqlparse==0.4.1\n",
      "stack-data==0.2.0\n",
      "terminado==0.13.3\n",
      "tinycss2==1.1.1\n",
      "tornado==6.1\n",
      "tracestack==0.2.4\n",
      "traitlets==5.1.1\n",
      "virtualenv==20.16.3\n",
      "wcwidth==0.2.5\n",
      "webencodings==0.5.1\n"
     ]
    }
   ],
   "source": [
    "!pip freeze # ! meaning we are running other command not a python command"
   ]
  },
  {
   "cell_type": "code",
   "execution_count": null,
   "id": "14f223c6",
   "metadata": {},
   "outputs": [],
   "source": []
  }
 ],
 "metadata": {
  "kernelspec": {
   "display_name": "Python 3 (ipykernel)",
   "language": "python",
   "name": "python3"
  },
  "language_info": {
   "codemirror_mode": {
    "name": "ipython",
    "version": 3
   },
   "file_extension": ".py",
   "mimetype": "text/x-python",
   "name": "python",
   "nbconvert_exporter": "python",
   "pygments_lexer": "ipython3",
   "version": "3.10.6"
  }
 },
 "nbformat": 4,
 "nbformat_minor": 5
}
