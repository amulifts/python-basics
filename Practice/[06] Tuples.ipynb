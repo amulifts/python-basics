{
 "cells": [
  {
   "cell_type": "markdown",
   "id": "064f294e",
   "metadata": {},
   "source": [
    "# Tuples"
   ]
  },
  {
   "cell_type": "markdown",
   "id": "3881a2c2",
   "metadata": {},
   "source": [
    "1. similar to lists\n",
    "2. Use ( ) paranthesis and commas to separate object in the list (1,2)\n",
    "3. once an element is inside tuple, it can't be reassigned\n",
    "4. supports indexing, slicing, also can be nested  and have variety of useful methods that can be called off of them\n",
    "5. Unlike list, tuple are immutable"
   ]
  },
  {
   "cell_type": "code",
   "execution_count": 1,
   "id": "eb9c01e8",
   "metadata": {},
   "outputs": [],
   "source": [
    "tup = (1,2,3)"
   ]
  },
  {
   "cell_type": "code",
   "execution_count": 17,
   "id": "5be9514a",
   "metadata": {},
   "outputs": [],
   "source": [
    "mylist = [1,2,3]"
   ]
  },
  {
   "cell_type": "code",
   "execution_count": 3,
   "id": "bf3c805c",
   "metadata": {},
   "outputs": [
    {
     "data": {
      "text/plain": [
       "tuple"
      ]
     },
     "execution_count": 3,
     "metadata": {},
     "output_type": "execute_result"
    }
   ],
   "source": [
    "type(tup)"
   ]
  },
  {
   "cell_type": "code",
   "execution_count": 4,
   "id": "55a1a3b4",
   "metadata": {},
   "outputs": [
    {
     "data": {
      "text/plain": [
       "list"
      ]
     },
     "execution_count": 4,
     "metadata": {},
     "output_type": "execute_result"
    }
   ],
   "source": [
    "type(mylist)"
   ]
  },
  {
   "cell_type": "code",
   "execution_count": 5,
   "id": "2ef57a21",
   "metadata": {},
   "outputs": [],
   "source": [
    "t = ('one',2)"
   ]
  },
  {
   "cell_type": "code",
   "execution_count": 6,
   "id": "95406fec",
   "metadata": {},
   "outputs": [
    {
     "data": {
      "text/plain": [
       "'one'"
      ]
     },
     "execution_count": 6,
     "metadata": {},
     "output_type": "execute_result"
    }
   ],
   "source": [
    "t[0]"
   ]
  },
  {
   "cell_type": "code",
   "execution_count": 7,
   "id": "b7847076",
   "metadata": {},
   "outputs": [
    {
     "data": {
      "text/plain": [
       "2"
      ]
     },
     "execution_count": 7,
     "metadata": {},
     "output_type": "execute_result"
    }
   ],
   "source": [
    "t[-1]"
   ]
  },
  {
   "cell_type": "code",
   "execution_count": 8,
   "id": "cba0e11d",
   "metadata": {},
   "outputs": [],
   "source": [
    "t = ('a','a','b')"
   ]
  },
  {
   "cell_type": "code",
   "execution_count": 9,
   "id": "91b19fc2",
   "metadata": {},
   "outputs": [
    {
     "data": {
      "text/plain": [
       "2"
      ]
     },
     "execution_count": 9,
     "metadata": {},
     "output_type": "execute_result"
    }
   ],
   "source": [
    "t.count('a')"
   ]
  },
  {
   "cell_type": "code",
   "execution_count": 10,
   "id": "e5018025",
   "metadata": {},
   "outputs": [
    {
     "data": {
      "text/plain": [
       "0"
      ]
     },
     "execution_count": 10,
     "metadata": {},
     "output_type": "execute_result"
    }
   ],
   "source": [
    "t.index('a')"
   ]
  },
  {
   "cell_type": "code",
   "execution_count": 11,
   "id": "61fcd691",
   "metadata": {},
   "outputs": [
    {
     "data": {
      "text/plain": [
       "2"
      ]
     },
     "execution_count": 11,
     "metadata": {},
     "output_type": "execute_result"
    }
   ],
   "source": [
    "t.index('b')"
   ]
  },
  {
   "cell_type": "code",
   "execution_count": 12,
   "id": "8ab5ad8a",
   "metadata": {},
   "outputs": [
    {
     "data": {
      "text/plain": [
       "('a', 'a', 'b')"
      ]
     },
     "execution_count": 12,
     "metadata": {},
     "output_type": "execute_result"
    }
   ],
   "source": [
    "t"
   ]
  },
  {
   "cell_type": "code",
   "execution_count": 18,
   "id": "6d8e49af",
   "metadata": {},
   "outputs": [
    {
     "data": {
      "text/plain": [
       "[1, 2, 3]"
      ]
     },
     "execution_count": 18,
     "metadata": {},
     "output_type": "execute_result"
    }
   ],
   "source": [
    "mylist"
   ]
  },
  {
   "cell_type": "code",
   "execution_count": 19,
   "id": "3cee147d",
   "metadata": {},
   "outputs": [],
   "source": [
    "mylist[0] = \"100\""
   ]
  },
  {
   "cell_type": "code",
   "execution_count": 20,
   "id": "87ace961",
   "metadata": {},
   "outputs": [
    {
     "data": {
      "text/plain": [
       "['100', 2, 3]"
      ]
     },
     "execution_count": 20,
     "metadata": {},
     "output_type": "execute_result"
    }
   ],
   "source": [
    "mylist"
   ]
  },
  {
   "cell_type": "code",
   "execution_count": 21,
   "id": "f7ac05c0",
   "metadata": {},
   "outputs": [
    {
     "data": {
      "text/plain": [
       "(1, 2, 3)"
      ]
     },
     "execution_count": 21,
     "metadata": {},
     "output_type": "execute_result"
    }
   ],
   "source": [
    "tup"
   ]
  },
  {
   "cell_type": "code",
   "execution_count": 23,
   "id": "1c6d5770",
   "metadata": {},
   "outputs": [],
   "source": [
    "# tup[0] = 'one'"
   ]
  }
 ],
 "metadata": {
  "kernelspec": {
   "display_name": "Python 3 (ipykernel)",
   "language": "python",
   "name": "python3"
  },
  "language_info": {
   "codemirror_mode": {
    "name": "ipython",
    "version": 3
   },
   "file_extension": ".py",
   "mimetype": "text/x-python",
   "name": "python",
   "nbconvert_exporter": "python",
   "pygments_lexer": "ipython3",
   "version": "3.10.6"
  }
 },
 "nbformat": 4,
 "nbformat_minor": 5
}
