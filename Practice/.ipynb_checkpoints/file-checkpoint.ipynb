{
 "cells": [
  {
   "cell_type": "markdown",
   "id": "f770bd88",
   "metadata": {},
   "source": [
    "## Module"
   ]
  },
  {
   "cell_type": "code",
   "execution_count": null,
   "id": "8abc02f4",
   "metadata": {},
   "outputs": [],
   "source": [
    "import hello"
   ]
  },
  {
   "cell_type": "code",
   "execution_count": null,
   "id": "6a4ac6a5",
   "metadata": {},
   "outputs": [],
   "source": [
    "hello.dif(8,2)"
   ]
  },
  {
   "cell_type": "code",
   "execution_count": null,
   "id": "fb4ed142",
   "metadata": {},
   "outputs": [],
   "source": [
    "hello.sum(1,2)"
   ]
  },
  {
   "cell_type": "code",
   "execution_count": null,
   "id": "8d80d7f6",
   "metadata": {},
   "outputs": [],
   "source": [
    "from hello import dif"
   ]
  },
  {
   "cell_type": "code",
   "execution_count": null,
   "id": "800c756c",
   "metadata": {},
   "outputs": [],
   "source": [
    "dif(2,1)"
   ]
  },
  {
   "cell_type": "code",
   "execution_count": null,
   "id": "f602d019",
   "metadata": {},
   "outputs": [],
   "source": [
    "import hello as hel #aliasing"
   ]
  },
  {
   "cell_type": "code",
   "execution_count": null,
   "id": "cbad47cd",
   "metadata": {},
   "outputs": [],
   "source": [
    "hel.sum(3,4)"
   ]
  },
  {
   "cell_type": "code",
   "execution_count": null,
   "id": "14c2f48a",
   "metadata": {},
   "outputs": [],
   "source": [
    "from hello import sum as addition"
   ]
  },
  {
   "cell_type": "code",
   "execution_count": null,
   "id": "b7eaee55",
   "metadata": {},
   "outputs": [],
   "source": [
    "addition(1,2)"
   ]
  },
  {
   "cell_type": "code",
   "execution_count": null,
   "id": "d5384f8f",
   "metadata": {},
   "outputs": [],
   "source": [
    "import hello"
   ]
  },
  {
   "cell_type": "code",
   "execution_count": null,
   "id": "f072e738",
   "metadata": {},
   "outputs": [],
   "source": [
    "hello"
   ]
  },
  {
   "cell_type": "code",
   "execution_count": null,
   "id": "ed7f4c73",
   "metadata": {},
   "outputs": [],
   "source": [
    "#another location"
   ]
  },
  {
   "cell_type": "code",
   "execution_count": null,
   "id": "9386ed6c",
   "metadata": {},
   "outputs": [],
   "source": [
    "import sys"
   ]
  },
  {
   "cell_type": "code",
   "execution_count": null,
   "id": "92861d43",
   "metadata": {},
   "outputs": [],
   "source": [
    "sys.path"
   ]
  },
  {
   "cell_type": "code",
   "execution_count": null,
   "id": "e17a1ecb",
   "metadata": {},
   "outputs": [],
   "source": [
    "#append garne"
   ]
  },
  {
   "cell_type": "code",
   "execution_count": null,
   "id": "b230512d",
   "metadata": {},
   "outputs": [],
   "source": [
    "sys.path.append([\"E:\\\\\"])"
   ]
  },
  {
   "cell_type": "code",
   "execution_count": null,
   "id": "758e75c5",
   "metadata": {},
   "outputs": [],
   "source": [
    "sys.path"
   ]
  },
  {
   "cell_type": "code",
   "execution_count": null,
   "id": "77be759c",
   "metadata": {},
   "outputs": [],
   "source": [
    "#E ayo mathi"
   ]
  },
  {
   "cell_type": "markdown",
   "id": "2239d9af",
   "metadata": {},
   "source": [
    "Package manager\n",
    "1. Pip\n",
    "2. Conda"
   ]
  },
  {
   "cell_type": "code",
   "execution_count": null,
   "id": "33b65c4e",
   "metadata": {},
   "outputs": [],
   "source": [
    "!pip freeze # ! meaning we are running other command not a python command"
   ]
  },
  {
   "cell_type": "code",
   "execution_count": 1,
   "id": "e4e704dd",
   "metadata": {},
   "outputs": [
    {
     "name": "stdout",
     "output_type": "stream",
     "text": [
      "Enter correct password to continue\n",
      "Enter password: \n",
      "You can't access\n",
      "Enter password: \n",
      "You can't access\n",
      "Enter password: \n",
      "You can't access\n"
     ]
    }
   ],
   "source": [
    "print('Enter correct password to continue')\n",
    "count = 0\n",
    "password = \"\"\n",
    "while password!='aman' and count < 3:\n",
    "    password = input(\"Enter password: \")\n",
    "    \n",
    "    if password=='aman':\n",
    "        print(\"Access granted\")\n",
    "        break\n",
    "    \n",
    "    else:\n",
    "        print(\"You can't access\")\n",
    "        count+=1"
   ]
  },
  {
   "cell_type": "code",
   "execution_count": 6,
   "id": "facebf96",
   "metadata": {},
   "outputs": [
    {
     "name": "stdout",
     "output_type": "stream",
     "text": [
      "Enter your pin: 1\n",
      "Enter your pin: 2\n",
      "Enter your pin: 3\n",
      "Enter your pin: 4\n",
      "Enter your pin: 5\n",
      "Enter your pin: 123\n",
      "Enter your pin: 1234\n",
      "Welcome to TBC\n"
     ]
    }
   ],
   "source": [
    "while True:\n",
    "    val = input(\"Enter your pin: \")\n",
    "    if val==\"1234\":\n",
    "        print(\"Welcome to TBC\")\n",
    "        break"
   ]
  },
  {
   "cell_type": "code",
   "execution_count": 8,
   "id": "17dc4f1e",
   "metadata": {},
   "outputs": [],
   "source": []
  },
  {
   "cell_type": "code",
   "execution_count": 15,
   "id": "4e081697",
   "metadata": {},
   "outputs": [
    {
     "name": "stdout",
     "output_type": "stream",
     "text": [
      "[3.1622776601683795, 4.47213595499958, 5.0, 5.477225575051661, 6.708203932499369, 7.211102550927978, 10.0, 14.491376746189438, 7.416198487095663]\n"
     ]
    }
   ],
   "source": [
    "import math\n",
    "lst = [10,20,25,30,45,52,100,210,55]\n",
    "newlist = []\n",
    "for i in lst:\n",
    "    newlist.append(math.sqrt(i))\n",
    "print(newlist)"
   ]
  },
  {
   "cell_type": "code",
   "execution_count": null,
   "id": "8c89e762",
   "metadata": {},
   "outputs": [],
   "source": [
    "import math\n",
    "lst = [10,20,25,30,45,52,100,210,55]\n",
    "newlist = []\n",
    "for i in lst:\n",
    "    newlist.append(math.sqrt(i))\n",
    "print(newlist)"
   ]
  },
  {
   "cell_type": "code",
   "execution_count": 30,
   "id": "df46408f",
   "metadata": {},
   "outputs": [
    {
     "name": "stdout",
     "output_type": "stream",
     "text": [
      "10\n",
      "20\n",
      "25\n",
      "30\n",
      "45\n",
      "52\n",
      "f\n",
      "100\n",
      "210\n",
      "55\n"
     ]
    }
   ],
   "source": [
    "lst = [10,20,25,30,45,52,\"f\",100,210,55]\n",
    "for lst in lst:\n",
    "    print(lst)"
   ]
  },
  {
   "cell_type": "code",
   "execution_count": 32,
   "id": "906b83ab",
   "metadata": {},
   "outputs": [
    {
     "name": "stdout",
     "output_type": "stream",
     "text": [
      "10\n",
      "20\n",
      "25\n",
      "30\n",
      "45\n",
      "52\n",
      "f\n",
      "100\n",
      "210\n",
      "55\n"
     ]
    }
   ],
   "source": [
    "lst = [10,20,25,30,45,52,\"f\",100,210,55]\n",
    "for i in lst:\n",
    "    print(i)"
   ]
  },
  {
   "cell_type": "code",
   "execution_count": 44,
   "id": "ae530426",
   "metadata": {},
   "outputs": [
    {
     "name": "stdout",
     "output_type": "stream",
     "text": [
      "10\n",
      "20\n",
      "25\n",
      "30\n",
      "45\n",
      "52\n",
      "f\n",
      "100\n",
      "210\n",
      "55\n"
     ]
    }
   ],
   "source": [
    "lst = [10,20,25,30,45,52,\"f\",100,210,55]\n",
    "for i in range(len(lst)):\n",
    "    print(lst[i])"
   ]
  },
  {
   "cell_type": "code",
   "execution_count": 75,
   "id": "79589893",
   "metadata": {},
   "outputs": [
    {
     "name": "stdout",
     "output_type": "stream",
     "text": [
      "Enter any number: as\n",
      "Enter number not string\n"
     ]
    }
   ],
   "source": [
    "num = input(\"Enter any number: \")\n",
    "if num.isalpha():\n",
    "    print(\"Enter number not string\")\n",
    "else:\n",
    "    print(num)"
   ]
  },
  {
   "cell_type": "code",
   "execution_count": null,
   "id": "c5fc49a7",
   "metadata": {},
   "outputs": [],
   "source": []
  }
 ],
 "metadata": {
  "kernelspec": {
   "display_name": "Python 3 (ipykernel)",
   "language": "python",
   "name": "python3"
  },
  "language_info": {
   "codemirror_mode": {
    "name": "ipython",
    "version": 3
   },
   "file_extension": ".py",
   "mimetype": "text/x-python",
   "name": "python",
   "nbconvert_exporter": "python",
   "pygments_lexer": "ipython3",
   "version": "3.10.6"
  }
 },
 "nbformat": 4,
 "nbformat_minor": 5
}
