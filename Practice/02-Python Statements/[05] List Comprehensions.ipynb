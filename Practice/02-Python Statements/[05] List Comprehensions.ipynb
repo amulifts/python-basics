{
 "cells": [
  {
   "cell_type": "markdown",
   "id": "ba1c955b",
   "metadata": {},
   "source": [
    "# List Comprehensions\n",
    "\n",
    "unique way of quickly creating a list with python "
   ]
  },
  {
   "cell_type": "markdown",
   "id": "a3c5c7bc",
   "metadata": {},
   "source": [
    "## Example 1"
   ]
  },
  {
   "cell_type": "code",
   "execution_count": 8,
   "id": "976f546d",
   "metadata": {},
   "outputs": [
    {
     "name": "stdout",
     "output_type": "stream",
     "text": [
      "['h', 'e', 'l', 'l', 'o']\n"
     ]
    }
   ],
   "source": [
    "mystring = \"hello\"\n",
    "mylist = [ ]\n",
    "\n",
    "for letter in mystring:\n",
    "    mylist.append(letter)\n",
    "print(mylist)"
   ]
  },
  {
   "cell_type": "code",
   "execution_count": 22,
   "id": "3c5f73bc",
   "metadata": {},
   "outputs": [
    {
     "name": "stdout",
     "output_type": "stream",
     "text": [
      "['h', 'e', 'l', 'l', 'o']\n"
     ]
    }
   ],
   "source": [
    "mystring = \"hello\"\n",
    "mylist = [letter for letter in mystring]\n",
    "print(mylist)"
   ]
  },
  {
   "cell_type": "code",
   "execution_count": 24,
   "id": "e0d3310a",
   "metadata": {},
   "outputs": [
    {
     "name": "stdout",
     "output_type": "stream",
     "text": [
      "['h', 'e', 'l', 'l', 'o']\n"
     ]
    }
   ],
   "source": [
    "mylist = [x for x in \"hello\"]\n",
    "print(mylist)"
   ]
  },
  {
   "cell_type": "markdown",
   "id": "9136899d",
   "metadata": {},
   "source": [
    "## Example 2"
   ]
  },
  {
   "cell_type": "code",
   "execution_count": 25,
   "id": "e51cb998",
   "metadata": {},
   "outputs": [],
   "source": [
    "lst = [1,2,3,4,5,6]"
   ]
  },
  {
   "cell_type": "code",
   "execution_count": 56,
   "id": "6ee94517",
   "metadata": {},
   "outputs": [
    {
     "name": "stdout",
     "output_type": "stream",
     "text": [
      "[0, 4, 16, 36, 64]\n"
     ]
    }
   ],
   "source": [
    "# square number\n",
    "mylst = [ ]\n",
    "for i in lst:\n",
    "    a = (i**2)\n",
    "    mylst.append(a)\n",
    "print(mylst)"
   ]
  },
  {
   "cell_type": "code",
   "execution_count": 45,
   "id": "6626ac14",
   "metadata": {},
   "outputs": [
    {
     "data": {
      "text/plain": [
       "[1, 4, 9, 16, 25, 36, 49, 64, 81]"
      ]
     },
     "execution_count": 45,
     "metadata": {},
     "output_type": "execute_result"
    }
   ],
   "source": [
    "[i**2 for i in range(1,10)]"
   ]
  },
  {
   "cell_type": "markdown",
   "id": "fb1850a2",
   "metadata": {},
   "source": [
    "## Example 3"
   ]
  },
  {
   "cell_type": "code",
   "execution_count": 54,
   "id": "b5ce2add",
   "metadata": {},
   "outputs": [
    {
     "name": "stdout",
     "output_type": "stream",
     "text": [
      "[0, 2, 4, 6, 8]\n"
     ]
    }
   ],
   "source": [
    "# even number\n",
    "lst = [ ]\n",
    "for i in range(0,10,2):\n",
    "    lst.append(i)\n",
    "print(lst)"
   ]
  },
  {
   "cell_type": "code",
   "execution_count": 55,
   "id": "5484f8af",
   "metadata": {},
   "outputs": [
    {
     "data": {
      "text/plain": [
       "[0, 2, 4, 6, 8]"
      ]
     },
     "execution_count": 55,
     "metadata": {},
     "output_type": "execute_result"
    }
   ],
   "source": [
    "[ i for i in range(0,10,2)]"
   ]
  },
  {
   "cell_type": "code",
   "execution_count": 62,
   "id": "729b1e8c",
   "metadata": {},
   "outputs": [
    {
     "name": "stdout",
     "output_type": "stream",
     "text": [
      "0\n",
      "2\n",
      "4\n",
      "6\n",
      "8\n"
     ]
    }
   ],
   "source": [
    "# even number\n",
    "lst = [ ]\n",
    "for i in range(0,10):\n",
    "    if i % 2 == 0:\n",
    "        print(i)"
   ]
  },
  {
   "cell_type": "code",
   "execution_count": 63,
   "id": "d6b11db9",
   "metadata": {},
   "outputs": [
    {
     "data": {
      "text/plain": [
       "[0, 2, 4, 6, 8]"
      ]
     },
     "execution_count": 63,
     "metadata": {},
     "output_type": "execute_result"
    }
   ],
   "source": [
    "[ i for i in range(0,10) if i%2==0 ]"
   ]
  },
  {
   "cell_type": "markdown",
   "id": "9daed23c",
   "metadata": {},
   "source": [
    "## Example 4\n",
    "Can also do more complicated arithmetic:"
   ]
  },
  {
   "cell_type": "code",
   "execution_count": 73,
   "id": "ffd2641d",
   "metadata": {},
   "outputs": [
    {
     "name": "stdout",
     "output_type": "stream",
     "text": [
      "[32.0, 50.0, 68.0, 94.1]\n"
     ]
    }
   ],
   "source": [
    "# Convert Celsius to Fahrenheit\n",
    "celsius = [0,10,20,34.5]\n",
    "list_conv = [ ]\n",
    "\n",
    "for temp in celsius:\n",
    "    x = (temp*9/5)+32\n",
    "    list_conv.append(x)\n",
    "print(list_conv)"
   ]
  },
  {
   "cell_type": "code",
   "execution_count": 75,
   "id": "8cef3a40",
   "metadata": {},
   "outputs": [
    {
     "name": "stdout",
     "output_type": "stream",
     "text": [
      "[32.0, 50.0, 68.0, 94.1]\n"
     ]
    }
   ],
   "source": [
    "celsius = [0,10,20,34.5]\n",
    "\n",
    "fahrenheit = [ (temp*9/5)+32 for temp in celsius ]\n",
    "print(fahrenheit)"
   ]
  },
  {
   "cell_type": "markdown",
   "id": "72333a18",
   "metadata": {},
   "source": [
    "## Example 5\n",
    "Let's see how to add in <code>if...else</code> statements:"
   ]
  },
  {
   "cell_type": "code",
   "execution_count": 90,
   "id": "17273448",
   "metadata": {},
   "outputs": [
    {
     "name": "stdout",
     "output_type": "stream",
     "text": [
      "odd\n",
      "2\n",
      "odd\n",
      "4\n",
      "odd\n",
      "6\n",
      "odd\n",
      "8\n",
      "odd\n"
     ]
    }
   ],
   "source": [
    "for i in [1,2,3,4,5,6,7,8,9]:\n",
    "    if i%2==0:\n",
    "        print(i)\n",
    "    else:\n",
    "        print(\"odd\")"
   ]
  },
  {
   "cell_type": "code",
   "execution_count": 84,
   "id": "beb9c09b",
   "metadata": {},
   "outputs": [
    {
     "data": {
      "text/plain": [
       "[0, 'ODD', 2, 'ODD', 4, 'ODD', 6, 'ODD', 8, 'ODD']"
      ]
     },
     "execution_count": 84,
     "metadata": {},
     "output_type": "execute_result"
    }
   ],
   "source": [
    "[x if x%2==0 else 'ODD' for x in range(10)]"
   ]
  },
  {
   "cell_type": "markdown",
   "id": "d5a67f2b",
   "metadata": {},
   "source": [
    "## Example 6\n",
    "We can also perform nested list comprehensions, for example:"
   ]
  },
  {
   "cell_type": "code",
   "execution_count": 102,
   "id": "07f51b43",
   "metadata": {},
   "outputs": [
    {
     "name": "stdout",
     "output_type": "stream",
     "text": [
      "[2, 20, 200, 4, 40, 400, 6, 60, 600]\n"
     ]
    }
   ],
   "source": [
    "mylist = []\n",
    "\n",
    "for x in [2,4,6]:\n",
    "    for y in [1,10,100]:\n",
    "        mylist.append(x*y)\n",
    "print(mylist)"
   ]
  },
  {
   "cell_type": "code",
   "execution_count": 103,
   "id": "84b4425a",
   "metadata": {},
   "outputs": [
    {
     "data": {
      "text/plain": [
       "[2, 20, 200, 3, 30, 300, 6, 60, 600]"
      ]
     },
     "execution_count": 103,
     "metadata": {},
     "output_type": "execute_result"
    }
   ],
   "source": [
    "[ x*y for x in [2,3,6] for y in [1,10,100] ]"
   ]
  },
  {
   "cell_type": "markdown",
   "id": "7d4780ea",
   "metadata": {},
   "source": [
    "Later on in the course we will learn about generator comprehensions. After this lecture you should feel comfortable reading and writing basic list comprehensions."
   ]
  }
 ],
 "metadata": {
  "kernelspec": {
   "display_name": "Python 3 (ipykernel)",
   "language": "python",
   "name": "python3"
  },
  "language_info": {
   "codemirror_mode": {
    "name": "ipython",
    "version": 3
   },
   "file_extension": ".py",
   "mimetype": "text/x-python",
   "name": "python",
   "nbconvert_exporter": "python",
   "pygments_lexer": "ipython3",
   "version": "3.9.13"
  }
 },
 "nbformat": 4,
 "nbformat_minor": 5
}
