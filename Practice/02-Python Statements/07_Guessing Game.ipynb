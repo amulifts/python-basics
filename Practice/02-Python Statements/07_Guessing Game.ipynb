{
 "cells": [
  {
   "cell_type": "markdown",
   "id": "d444413e",
   "metadata": {},
   "source": [
    "# Guessing Game Challege"
   ]
  },
  {
   "cell_type": "markdown",
   "id": "50a0c3dd",
   "metadata": {},
   "source": [
    "Let's use <code>while</code> loops to create a guessing game.\n",
    "\n",
    "The Challenge:\n",
    "\n",
    "Write a program that picks a random integer from 1 to 100, and has players guess the number.\n",
    "\n",
    "1. If a player's guess is less than 1 or greater than 100, say \"OUT OF BOUNDS\"\n",
    "2. On a player's first turn, if their guess is\n",
    " * within 10 of the number, return \"WARM!\"\n",
    " * further than 10 away from the number, return \"COLD!\"\n",
    "3. On all subsequent turns, if a guess is \n",
    " * closer to the number than the previous guess return \"WARMER!\"\n",
    " * farther from the number than the previous guess, return \"COLDER!\"\n",
    "4. When the player's guess equals the number, tell them they've guessed correctly *and* how many guesses it took!"
   ]
  },
  {
   "cell_type": "markdown",
   "id": "a5243e15",
   "metadata": {},
   "source": [
    "#### First, pick a random integer from 1 to 100 using the random module and assign it to a variable"
   ]
  },
  {
   "cell_type": "code",
   "execution_count": 113,
   "id": "e4bf21d9",
   "metadata": {},
   "outputs": [
    {
     "name": "stdout",
     "output_type": "stream",
     "text": [
      "6\n"
     ]
    }
   ],
   "source": [
    "import random\n",
    "\n",
    "num = random.randint(1,100)\n",
    "print(num)"
   ]
  },
  {
   "cell_type": "markdown",
   "id": "de2e56ae",
   "metadata": {},
   "source": [
    "#### Next, print an introduction to the game and explain the rules"
   ]
  },
  {
   "cell_type": "code",
   "execution_count": 101,
   "id": "842b1cdc",
   "metadata": {},
   "outputs": [
    {
     "name": "stdout",
     "output_type": "stream",
     "text": [
      "WELCOME TO GUESS ME GAME!\n",
      "I'm thinking of a number beetween 1 and 100\n",
      "If your guess is more than 10 away from my number, I'll tell you you're COLD\n",
      "If your guess is within 10 of my number, I'll tell you you're WARM\n",
      "If your guess is farther than your most recent guess, I'll say you're getting COLDER\n",
      "If your guess is closer than your most recent guess, I'll say you're getting WARMER\n"
     ]
    }
   ],
   "source": [
    "print(\"WELCOME TO GUESS ME GAME!\")\n",
    "print(\"I'm thinking of a number beetween 1 and 100\")\n",
    "print(\"If your guess is more than 10 away from my number, I'll tell you you're COLD\")\n",
    "print(\"If your guess is within 10 of my number, I'll tell you you're WARM\")\n",
    "print(\"If your guess is farther than your most recent guess, I'll say you're getting COLDER\")\n",
    "print(\"If your guess is closer than your most recent guess, I'll say you're getting WARMER\")"
   ]
  },
  {
   "cell_type": "markdown",
   "id": "4e3cf77f",
   "metadata": {},
   "source": [
    "#### Write a `while` loop that compares the player's guess to our number. If the player guesses correctly, break from the loop. Otherwise, tell the player if they're warmer or colder, and continue asking for guesses."
   ]
  },
  {
   "cell_type": "markdown",
   "id": "aaf71b6e",
   "metadata": {},
   "source": [
    "##### Method 1"
   ]
  },
  {
   "cell_type": "code",
   "execution_count": 115,
   "id": "72526cd6",
   "metadata": {},
   "outputs": [
    {
     "name": "stdout",
     "output_type": "stream",
     "text": [
      "I'm thinking of a number between 1 and 100.\n",
      "What is your guess? 10\n",
      "WARM!\n",
      "I'm thinking of a number between 1 and 100.\n",
      "What is your guess? 6\n",
      "CONGRATULATIONS, YOU GUESSED IT IN ONLY 2 GUESSES!!\n"
     ]
    }
   ],
   "source": [
    "guesses = [0]\n",
    "while True:\n",
    "    \n",
    "    # take an input\n",
    "    guess = int(input(\"I'm thinking of a number between 1 and 100.\\nWhat is your guess? \"))\n",
    "    \n",
    "    if guess < 1 or guess > 100:\n",
    "        print(\"OUT OF BOUND! Please try again: \")\n",
    "        continue\n",
    "    \n",
    "    # here we compare the player's guess to our number\n",
    "    if guess == num:\n",
    "        print(\"CONGRATULATIONS, YOU GUESSED IT IN ONLY {} GUESSES!!\".format(len(guesses)))\n",
    "        break\n",
    "    \n",
    "    # if guess is incorrect, add guess to the list\n",
    "    guesses.append(guess)\n",
    "    \n",
    "    if guesses[-2]:\n",
    "        if abs(num-guess) < abs(num-guesses[-2]):\n",
    "            print(\"WARMER!\")\n",
    "        elif abs(num-guess) > abs(num-guesses[-2]):\n",
    "            print(\"COLDER!\")\n",
    "        else:\n",
    "            pass\n",
    "    \n",
    "    else:\n",
    "        if abs(num-guess) <= 10:\n",
    "            print(\"WARM!\")\n",
    "        elif abs(num-guess) >= 10:\n",
    "            print(\"COLD!\")\n",
    "        else:\n",
    "            pass"
   ]
  },
  {
   "cell_type": "markdown",
   "id": "45e3540f",
   "metadata": {},
   "source": [
    "##### Method 2"
   ]
  },
  {
   "cell_type": "code",
   "execution_count": 117,
   "id": "5e9cac51",
   "metadata": {},
   "outputs": [
    {
     "name": "stdout",
     "output_type": "stream",
     "text": [
      "I'm thinking of a number between 1 and 100.\n",
      "What is your guess? 50\n",
      "[0, 50]\n",
      "COLD!\n",
      "I'm thinking of a number between 1 and 100.\n",
      "What is your guess? 40\n",
      "[0, 50, 40]\n",
      "WARMER!\n",
      "I'm thinking of a number between 1 and 100.\n",
      "What is your guess? 60\n",
      "[0, 50, 40, 60]\n",
      "COLDER!\n",
      "I'm thinking of a number between 1 and 100.\n",
      "What is your guess? 5\n",
      "[0, 50, 40, 60, 5]\n",
      "WARMER!\n",
      "I'm thinking of a number between 1 and 100.\n",
      "What is your guess? 6\n",
      "CONGRATULATIONS, YOU GUESSED IT IN ONLY 5 GUESSES!!\n"
     ]
    }
   ],
   "source": [
    "guesses = [0]\n",
    "while True:\n",
    "    # take an input\n",
    "    guess = int(input(\"I'm thinking of a number between 1 and 100.\\nWhat is your guess? \"))\n",
    "    \n",
    "    if guess < 1 or guess > 100:\n",
    "        print(\"OUT OF BOUND! Please try again: \")\n",
    "        continue\n",
    "    \n",
    "    # here we compare the player's guess to our number\n",
    "    if guess == num:\n",
    "        print(\"CONGRATULATIONS, YOU GUESSED IT IN ONLY {} GUESSES!!\".format(len(guesses)))\n",
    "        break\n",
    "    \n",
    "    # if guess is incorrect, add guess to the list\n",
    "    guesses.append(guess)\n",
    "    print(guesses)\n",
    "    \n",
    "    if guesses[-2]:\n",
    "        if abs(num-guess) < abs(num-guesses[-2]):\n",
    "            print(\"WARMER!\")\n",
    "        else:\n",
    "            print(\"COLDER!\")\n",
    "    else:\n",
    "        if abs(num-guess) <= 10:\n",
    "            print(\"WARM!\")\n",
    "        else:\n",
    "            print(\"COLD!\")"
   ]
  },
  {
   "cell_type": "markdown",
   "id": "a707a943",
   "metadata": {},
   "source": [
    "### Good Job!"
   ]
  }
 ],
 "metadata": {
  "kernelspec": {
   "display_name": "Python 3 (ipykernel)",
   "language": "python",
   "name": "python3"
  },
  "language_info": {
   "codemirror_mode": {
    "name": "ipython",
    "version": 3
   },
   "file_extension": ".py",
   "mimetype": "text/x-python",
   "name": "python",
   "nbconvert_exporter": "python",
   "pygments_lexer": "ipython3",
   "version": "3.9.13"
  }
 },
 "nbformat": 4,
 "nbformat_minor": 5
}
