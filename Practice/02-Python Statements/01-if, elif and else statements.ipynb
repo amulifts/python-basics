{
 "cells": [
  {
   "cell_type": "markdown",
   "id": "ce84bb87",
   "metadata": {},
   "source": [
    "# if, elif, else statements"
   ]
  },
  {
   "cell_type": "markdown",
   "id": "77a9c0cb",
   "metadata": {},
   "source": [
    "### Syntax"
   ]
  },
  {
   "cell_type": "raw",
   "id": "2550f8cd",
   "metadata": {},
   "source": [
    "if some_condition\n",
    "    # execute some code"
   ]
  },
  {
   "cell_type": "raw",
   "id": "00c07582",
   "metadata": {},
   "source": [
    "if some_condition\n",
    "    # execute some code\n",
    "else:\n",
    "    # do something else"
   ]
  },
  {
   "cell_type": "raw",
   "id": "b4f05fe2",
   "metadata": {},
   "source": [
    "if some_condition\n",
    "    # execute some code\n",
    "elif some_other_condition:\n",
    "    # do something different\n",
    "else:\n",
    "    # do something else"
   ]
  },
  {
   "cell_type": "markdown",
   "id": "85311919",
   "metadata": {},
   "source": [
    "### First Example"
   ]
  },
  {
   "cell_type": "code",
   "execution_count": 1,
   "id": "e7e219ae",
   "metadata": {},
   "outputs": [
    {
     "name": "stdout",
     "output_type": "stream",
     "text": [
      "It was true!\n"
     ]
    }
   ],
   "source": [
    "if True:\n",
    "    print(\"It was true!\")"
   ]
  },
  {
   "cell_type": "code",
   "execution_count": 2,
   "id": "86409842",
   "metadata": {},
   "outputs": [],
   "source": [
    "if False:\n",
    "    print(\"It was False!\")"
   ]
  },
  {
   "cell_type": "code",
   "execution_count": 5,
   "id": "27f4fca2",
   "metadata": {},
   "outputs": [
    {
     "name": "stdout",
     "output_type": "stream",
     "text": [
      "It is True\n"
     ]
    }
   ],
   "source": [
    "if 3>2:\n",
    "    print(\"It is True\")"
   ]
  },
  {
   "cell_type": "code",
   "execution_count": 8,
   "id": "050035c9",
   "metadata": {},
   "outputs": [
    {
     "name": "stdout",
     "output_type": "stream",
     "text": [
      "Grusha is hungry\n"
     ]
    }
   ],
   "source": [
    "hungry = True\n",
    "\n",
    "if hungry:\n",
    "    print(\"Grusha is hungry\")"
   ]
  },
  {
   "cell_type": "code",
   "execution_count": 9,
   "id": "3481b02d",
   "metadata": {},
   "outputs": [],
   "source": [
    "hungry = False\n",
    "\n",
    "if hungry:\n",
    "    print(\"Aman is hungry\")"
   ]
  },
  {
   "cell_type": "markdown",
   "id": "cb02b024",
   "metadata": {},
   "source": [
    "### Multiple Branches"
   ]
  },
  {
   "cell_type": "code",
   "execution_count": 10,
   "id": "bdbd7f97",
   "metadata": {},
   "outputs": [
    {
     "name": "stdout",
     "output_type": "stream",
     "text": [
      "Aman is not hungry\n"
     ]
    }
   ],
   "source": [
    "hungry = False\n",
    "\n",
    "if hungry:\n",
    "    print(\"Aman is hungry\")\n",
    "else:\n",
    "    print(\"Aman is not hungry\")"
   ]
  },
  {
   "cell_type": "code",
   "execution_count": 20,
   "id": "6e49bcdb",
   "metadata": {},
   "outputs": [
    {
     "name": "stdout",
     "output_type": "stream",
     "text": [
      "Welcome to The British College.\n"
     ]
    }
   ],
   "source": [
    "loc = 'TBC'\n",
    "\n",
    "if loc == 'KNCM':\n",
    "    print(\"Welcome to Kamal Netra Chhuna Muna\")\n",
    "elif loc == 'TBC':\n",
    "    print(\"Welcome to The British College.\")\n",
    "else:\n",
    "    print(\"Where do you study ?\")"
   ]
  },
  {
   "cell_type": "code",
   "execution_count": 24,
   "id": "5a331889",
   "metadata": {},
   "outputs": [
    {
     "name": "stdout",
     "output_type": "stream",
     "text": [
      "Welcome to The British College.\n"
     ]
    }
   ],
   "source": [
    "loc = 'TBC'\n",
    "\n",
    "if loc == 'KNCM':\n",
    "    print(\"Welcome to Kamal Netra Chhuna Muna\")\n",
    "elif loc == 'TBC':\n",
    "    print(\"Welcome to The British College.\")\n",
    "elif loc == 'islington':\n",
    "    print(\"Welcome to Islington\")\n",
    "else:\n",
    "    print(\"Where do you study ?\")"
   ]
  },
  {
   "cell_type": "code",
   "execution_count": 29,
   "id": "70c204d9",
   "metadata": {},
   "outputs": [
    {
     "name": "stdout",
     "output_type": "stream",
     "text": [
      "Welcome Grusha!\n"
     ]
    }
   ],
   "source": [
    "person = \"Grusha\"\n",
    "\n",
    "if person == \"Grusha\":\n",
    "    print(\"Welcome Grusha!\")\n",
    "else:\n",
    "    print(\"Welcome, what's your name?\")"
   ]
  },
  {
   "cell_type": "markdown",
   "id": "7d234b54",
   "metadata": {},
   "source": [
    "## Indentation"
   ]
  },
  {
   "cell_type": "markdown",
   "id": "9b9ed85e",
   "metadata": {},
   "source": [
    "It is most important to keep a good understanding of how indentation works in Python to maintain the structure and order of your code."
   ]
  }
 ],
 "metadata": {
  "kernelspec": {
   "display_name": "Python 3 (ipykernel)",
   "language": "python",
   "name": "python3"
  },
  "language_info": {
   "codemirror_mode": {
    "name": "ipython",
    "version": 3
   },
   "file_extension": ".py",
   "mimetype": "text/x-python",
   "name": "python",
   "nbconvert_exporter": "python",
   "pygments_lexer": "ipython3",
   "version": "3.9.13"
  }
 },
 "nbformat": 4,
 "nbformat_minor": 5
}
