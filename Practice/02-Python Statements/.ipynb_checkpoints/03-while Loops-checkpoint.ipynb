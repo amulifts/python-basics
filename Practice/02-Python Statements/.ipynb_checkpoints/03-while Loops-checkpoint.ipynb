{
 "cells": [
  {
   "cell_type": "markdown",
   "id": "9ebefbe6",
   "metadata": {},
   "source": [
    "# while Loops\n",
    "\n",
    "A <code>while</code> statement will repeatedly execute a single statement or group of statements as long as the condition is true.\n",
    "\n",
    "The general format of a while loop is:\n",
    "\n",
    "    while test:\n",
    "        code statements\n",
    "    else:\n",
    "        final code statements"
   ]
  },
  {
   "cell_type": "code",
   "execution_count": 9,
   "id": "2d91796f",
   "metadata": {},
   "outputs": [],
   "source": [
    "# x = 0\n",
    "# while x < 10:\n",
    "#     print(f\"x is currently: {x}\")"
   ]
  },
  {
   "cell_type": "code",
   "execution_count": 20,
   "id": "7b74e990",
   "metadata": {},
   "outputs": [
    {
     "name": "stdout",
     "output_type": "stream",
     "text": [
      "x is currently: 0\n",
      "x is currently: 1\n",
      "x is currently: 2\n",
      "x is currently: 3\n",
      "x is currently: 4\n",
      "x is currently: 5\n"
     ]
    }
   ],
   "source": [
    "x = 0\n",
    "while x < 6:\n",
    "    print(f\"x is currently: {x}\")\n",
    "    x = x + 1"
   ]
  },
  {
   "cell_type": "code",
   "execution_count": 19,
   "id": "3e6d19fe",
   "metadata": {},
   "outputs": [
    {
     "name": "stdout",
     "output_type": "stream",
     "text": [
      "The current value of x is 0\n",
      "The current value of x is 1\n",
      "The current value of x is 2\n",
      "The current value of x is 3\n",
      "The current value of x is 4\n"
     ]
    }
   ],
   "source": [
    "x = 0\n",
    "\n",
    "while x < 5:\n",
    "    print(f\"The current value of x is {x}\")\n",
    "    x += 1"
   ]
  },
  {
   "cell_type": "markdown",
   "id": "5686e2a2",
   "metadata": {},
   "source": [
    "Notice how many times the print statements occurred and how the <code>while</code> loop kept going until the True condition was met, which occurred once x==5. It's important to note that once this occurred the code stopped. Let's see how we could add an <code>else</code> statement:"
   ]
  },
  {
   "cell_type": "code",
   "execution_count": 18,
   "id": "f35d57e4",
   "metadata": {},
   "outputs": [
    {
     "name": "stdout",
     "output_type": "stream",
     "text": [
      "The current value of x is 0\n",
      "The current value of x is 1\n",
      "The current value of x is 2\n",
      "The current value of x is 3\n",
      "The current value of x is 4\n",
      "X is not less than 5\n"
     ]
    }
   ],
   "source": [
    "x = 0\n",
    "\n",
    "while x < 5:\n",
    "    print(f\"The current value of x is {x}\")\n",
    "    x += 1\n",
    "else:\n",
    "    print(\"X is not less than 5\")"
   ]
  },
  {
   "cell_type": "markdown",
   "id": "ba957d44",
   "metadata": {},
   "source": [
    "# break, continue, pass"
   ]
  },
  {
   "cell_type": "markdown",
   "id": "8b8c890e",
   "metadata": {},
   "source": [
    "pass: Does nothing at all <br>\n",
    "continue: Goes to the top of the closest enclosing loop <br>\n",
    "break: Breaks out of the current closest enclosing loop"
   ]
  },
  {
   "cell_type": "code",
   "execution_count": 27,
   "id": "f7d7a1ba",
   "metadata": {},
   "outputs": [],
   "source": [
    "# x = [1,2,3,4,5]\n",
    "\n",
    "# for i in x:"
   ]
  },
  {
   "cell_type": "code",
   "execution_count": 25,
   "id": "c862f907",
   "metadata": {},
   "outputs": [],
   "source": [
    "x = [1,2,3,4,5]\n",
    "\n",
    "for i in x:\n",
    "    pass"
   ]
  },
  {
   "cell_type": "code",
   "execution_count": 29,
   "id": "10258226",
   "metadata": {},
   "outputs": [],
   "source": [
    "mystring = \"Amankhadka\""
   ]
  },
  {
   "cell_type": "code",
   "execution_count": 33,
   "id": "6895f8a7",
   "metadata": {},
   "outputs": [
    {
     "name": "stdout",
     "output_type": "stream",
     "text": [
      "A\n",
      "m\n",
      "n\n",
      "k\n",
      "h\n",
      "d\n",
      "k\n"
     ]
    }
   ],
   "source": [
    "for letter in mystring:\n",
    "    if letter == 'a':\n",
    "        continue\n",
    "    print(letter)"
   ]
  },
  {
   "cell_type": "code",
   "execution_count": 37,
   "id": "64ff5e5a",
   "metadata": {},
   "outputs": [
    {
     "name": "stdout",
     "output_type": "stream",
     "text": [
      "A\n",
      "m\n"
     ]
    }
   ],
   "source": [
    "for letter in mystring:\n",
    "    if letter == 'a':\n",
    "        break\n",
    "    print(letter)"
   ]
  },
  {
   "cell_type": "code",
   "execution_count": 39,
   "id": "7bb59f06",
   "metadata": {},
   "outputs": [
    {
     "name": "stdout",
     "output_type": "stream",
     "text": [
      "0\n",
      "1\n",
      "2\n"
     ]
    }
   ],
   "source": [
    "x = 0\n",
    "\n",
    "while x < 5:\n",
    "    if x == 3:\n",
    "        break\n",
    "    print(x)\n",
    "    x = x + 1"
   ]
  },
  {
   "cell_type": "markdown",
   "id": "f5e845cb",
   "metadata": {},
   "source": [
    "## Final Example\n",
    "\n",
    "Thinking about <code>break</code> and <code>continue</code> statements, the general format of the <code>while</code> loop looks like this:\n",
    "\n",
    "    while test: \n",
    "        code statement\n",
    "        if test: \n",
    "            break\n",
    "        if test: \n",
    "            continue \n",
    "    else:\n",
    "\n",
    "<code>break</code> and <code>continue</code> statements can appear anywhere inside the loop’s body, but we will usually put them further nested in conjunction with an <code>if</code> statement to perform an action based on some condition.\n",
    "\n",
    "Let's go ahead and look at some examples!"
   ]
  },
  {
   "cell_type": "code",
   "execution_count": 47,
   "id": "b3cbac37",
   "metadata": {},
   "outputs": [
    {
     "name": "stdout",
     "output_type": "stream",
     "text": [
      "x is currently:  0\n",
      "continuing...\n",
      "x is currently:  1\n",
      "continuing...\n",
      "x is currently:  2\n",
      "x==3\n",
      "x is currently:  3\n",
      "continuing...\n",
      "x is currently:  4\n",
      "continuing...\n",
      "x is currently:  5\n",
      "continuing...\n",
      "x is currently:  6\n",
      "continuing...\n"
     ]
    }
   ],
   "source": [
    "x = 0\n",
    "\n",
    "while x < 7:\n",
    "    print(\"x is currently: \",x)\n",
    "#     print(\"x is still less than 10, adding 1 to x\")\n",
    "    x += 1\n",
    "    \n",
    "    if x==3:\n",
    "        print(\"x==3\")\n",
    "    else:\n",
    "        print('continuing...')\n",
    "        continue"
   ]
  },
  {
   "cell_type": "markdown",
   "id": "d85379ba",
   "metadata": {},
   "source": [
    "Note how we have a printed statement when x==3, and a continue being printed out as we continue through the outer while loop. Let's put in a break once x==3 and see if the result makes sense:"
   ]
  },
  {
   "cell_type": "code",
   "execution_count": 52,
   "id": "fdab73a8",
   "metadata": {},
   "outputs": [
    {
     "name": "stdout",
     "output_type": "stream",
     "text": [
      "x is currently:  0\n",
      "continuing...\n",
      "x is currently:  1\n",
      "continuing...\n",
      "x is currently:  2\n",
      "Breaking because x==3\n"
     ]
    }
   ],
   "source": [
    "x = 0\n",
    "\n",
    "while x < 7:\n",
    "    print(\"x is currently: \",x)\n",
    "    x += 1\n",
    "    \n",
    "    if x==3:\n",
    "        print(\"Breaking because x==3\")\n",
    "        break\n",
    "    else:\n",
    "        print(\"continuing...\")\n",
    "        continue"
   ]
  },
  {
   "cell_type": "markdown",
   "id": "88a63981",
   "metadata": {},
   "source": [
    "**It is possible to create an infinitely running loop with <code>while</code> statements.**"
   ]
  },
  {
   "cell_type": "code",
   "execution_count": null,
   "id": "1e7bf304",
   "metadata": {},
   "outputs": [],
   "source": [
    "# DO NOT RUN THIS CODE !!!!\n",
    "\n",
    "while True:\n",
    "    print(\"I'm stuck in this infinite loop!\")"
   ]
  },
  {
   "cell_type": "markdown",
   "id": "08ab6894",
   "metadata": {},
   "source": [
    "A quick note: If you *did* run the above cell, click on the Kernel menu above to restart the kernel!"
   ]
  }
 ],
 "metadata": {
  "kernelspec": {
   "display_name": "Python 3 (ipykernel)",
   "language": "python",
   "name": "python3"
  },
  "language_info": {
   "codemirror_mode": {
    "name": "ipython",
    "version": 3
   },
   "file_extension": ".py",
   "mimetype": "text/x-python",
   "name": "python",
   "nbconvert_exporter": "python",
   "pygments_lexer": "ipython3",
   "version": "3.9.13"
  }
 },
 "nbformat": 4,
 "nbformat_minor": 5
}
