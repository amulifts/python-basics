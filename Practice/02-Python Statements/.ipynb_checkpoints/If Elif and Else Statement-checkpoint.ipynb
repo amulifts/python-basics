{
 "cells": [
  {
   "cell_type": "markdown",
   "id": "1f7a6e77",
   "metadata": {},
   "source": [
    "# if, elif, else statements"
   ]
  },
  {
   "cell_type": "raw",
   "id": "8fa6c544",
   "metadata": {},
   "source": [
    "if some_condition:\n",
    "    # execute some code"
   ]
  },
  {
   "cell_type": "raw",
   "id": "1bfedfad",
   "metadata": {},
   "source": [
    "if some_condition:\n",
    "    # execute some code\n",
    "else:\n",
    "    # do something else"
   ]
  },
  {
   "cell_type": "raw",
   "id": "861395d4",
   "metadata": {},
   "source": [
    "if some_condition:\n",
    "    # execute some code\n",
    "elif some_other_condition:\n",
    "    # do something different\n",
    "else:\n",
    "    # do something else"
   ]
  },
  {
   "cell_type": "code",
   "execution_count": 1,
   "id": "09b418ba",
   "metadata": {},
   "outputs": [
    {
     "name": "stdout",
     "output_type": "stream",
     "text": [
      "It's True\n"
     ]
    }
   ],
   "source": [
    "if True:\n",
    "    print(\"It's True\")"
   ]
  },
  {
   "cell_type": "code",
   "execution_count": 2,
   "id": "a21e50ca",
   "metadata": {},
   "outputs": [
    {
     "name": "stdout",
     "output_type": "stream",
     "text": [
      "It's True\n"
     ]
    }
   ],
   "source": [
    "if 3>2:\n",
    "    print(\"It's True\")"
   ]
  },
  {
   "cell_type": "code",
   "execution_count": 3,
   "id": "63edeb0c",
   "metadata": {},
   "outputs": [
    {
     "name": "stdout",
     "output_type": "stream",
     "text": [
      "Aman is Hungry\n"
     ]
    }
   ],
   "source": [
    "hungry = True\n",
    "\n",
    "if hungry:\n",
    "    print(\"Aman is Hungry\")"
   ]
  },
  {
   "cell_type": "code",
   "execution_count": 6,
   "id": "c7838f9c",
   "metadata": {},
   "outputs": [
    {
     "name": "stdout",
     "output_type": "stream",
     "text": [
      "Aman is not Hungry\n"
     ]
    }
   ],
   "source": [
    "hungry = False\n",
    "\n",
    "if hungry:\n",
    "    print(\"Aman is Hungry\")\n",
    "else:\n",
    "    print(\"Aman is not Hungry\")"
   ]
  },
  {
   "cell_type": "code",
   "execution_count": 7,
   "id": "d5944de4",
   "metadata": {},
   "outputs": [
    {
     "name": "stdout",
     "output_type": "stream",
     "text": [
      "Aman is Hungry\n"
     ]
    }
   ],
   "source": [
    "hungry = True\n",
    "\n",
    "if hungry:\n",
    "    print(\"Aman is Hungry\")\n",
    "else:\n",
    "    print(\"Aman is not Hungry\")"
   ]
  },
  {
   "cell_type": "code",
   "execution_count": 11,
   "id": "2ab7e950",
   "metadata": {},
   "outputs": [
    {
     "name": "stdout",
     "output_type": "stream",
     "text": [
      "Money is cool!\n"
     ]
    }
   ],
   "source": [
    "loc = 'Bank'\n",
    "\n",
    "if loc==\"Auto Shop\":\n",
    "    print(\"Cars are cool!\")\n",
    "elif loc ==\"Bank\":\n",
    "    print(\"Money is cool!\")\n",
    "elif loc==\"Store\":\n",
    "    print(\"Welcome to the store!\")\n",
    "else:\n",
    "    print(\"I don't know much.\")"
   ]
  },
  {
   "cell_type": "code",
   "execution_count": 13,
   "id": "c9083316",
   "metadata": {},
   "outputs": [
    {
     "name": "stdout",
     "output_type": "stream",
     "text": [
      "Cars are cool!\n"
     ]
    }
   ],
   "source": [
    "loc = 'Auto Shop'\n",
    "\n",
    "if loc==\"Auto Shop\":\n",
    "    print(\"Cars are cool!\")\n",
    "elif loc ==\"Bank\":\n",
    "    print(\"Money is cool!\")\n",
    "elif loc==\"Store\":\n",
    "    print(\"Welcome to the store!\")\n",
    "else:\n",
    "    print(\"I don't know much.\")"
   ]
  },
  {
   "cell_type": "code",
   "execution_count": 14,
   "id": "6c577c5e",
   "metadata": {},
   "outputs": [
    {
     "name": "stdout",
     "output_type": "stream",
     "text": [
      "I don't know much.\n"
     ]
    }
   ],
   "source": [
    "loc = 'Game'\n",
    "\n",
    "if loc==\"Auto Shop\":\n",
    "    print(\"Cars are cool!\")\n",
    "elif loc ==\"Bank\":\n",
    "    print(\"Money is cool!\")\n",
    "elif loc==\"Store\":\n",
    "    print(\"Welcome to the store!\")\n",
    "else:\n",
    "    print(\"I don't know much.\")"
   ]
  },
  {
   "cell_type": "code",
   "execution_count": 16,
   "id": "ccd1a107",
   "metadata": {},
   "outputs": [
    {
     "name": "stdout",
     "output_type": "stream",
     "text": [
      "Hello Aman Khadka!\n"
     ]
    }
   ],
   "source": [
    "name = \"Aman\"\n",
    "\n",
    "if name == \"Aman\":\n",
    "    print(\"Hello Aman Khadka!\")\n",
    "elif name == \"Grusha\":\n",
    "    print(\"Hello Grusha Bhattarai!\")\n",
    "else:\n",
    "    print(\"What is you name ?\")"
   ]
  }
 ],
 "metadata": {
  "kernelspec": {
   "display_name": "Python 3 (ipykernel)",
   "language": "python",
   "name": "python3"
  },
  "language_info": {
   "codemirror_mode": {
    "name": "ipython",
    "version": 3
   },
   "file_extension": ".py",
   "mimetype": "text/x-python",
   "name": "python",
   "nbconvert_exporter": "python",
   "pygments_lexer": "ipython3",
   "version": "3.10.6"
  }
 },
 "nbformat": 4,
 "nbformat_minor": 5
}
