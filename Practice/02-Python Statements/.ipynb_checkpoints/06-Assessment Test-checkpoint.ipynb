{
 "cells": [
  {
   "cell_type": "markdown",
   "id": "a5c57f72",
   "metadata": {},
   "source": [
    "## Test your knowledge. \n",
    "\n",
    "** Answer the following questions **"
   ]
  },
  {
   "cell_type": "markdown",
   "id": "d4c65de1",
   "metadata": {},
   "source": [
    "_____\n",
    "**Use <code>for</code>, .split(), and <code>if</code> to create a Statement that will print out words that start with 's':**"
   ]
  },
  {
   "cell_type": "code",
   "execution_count": 2,
   "id": "aea311d6",
   "metadata": {},
   "outputs": [],
   "source": [
    "st = 'Print only the words that start with s in this sentence'"
   ]
  },
  {
   "cell_type": "code",
   "execution_count": null,
   "id": "08f74c54",
   "metadata": {},
   "outputs": [],
   "source": []
  },
  {
   "cell_type": "markdown",
   "id": "bbfdc4f3",
   "metadata": {},
   "source": [
    "______\n",
    "**Use range() to print all the even numbers from 0 to 10.**"
   ]
  },
  {
   "cell_type": "code",
   "execution_count": null,
   "id": "3dc47d30",
   "metadata": {},
   "outputs": [],
   "source": []
  },
  {
   "cell_type": "markdown",
   "id": "11fa5ae4",
   "metadata": {},
   "source": [
    "___\n",
    "**Use a List Comprehension to create a list of all numbers between 1 and 50 that are divisible by 3.**"
   ]
  },
  {
   "cell_type": "code",
   "execution_count": null,
   "id": "40c48147",
   "metadata": {},
   "outputs": [],
   "source": []
  },
  {
   "cell_type": "markdown",
   "id": "17b1e3e3",
   "metadata": {},
   "source": [
    "_____\n",
    "**Go through the string below and if the length of a word is even print \"even!\"**"
   ]
  },
  {
   "cell_type": "code",
   "execution_count": 2,
   "id": "9a2438f5",
   "metadata": {},
   "outputs": [],
   "source": [
    "st = 'Print every word in this sentence that has an even number of letters'"
   ]
  },
  {
   "cell_type": "code",
   "execution_count": null,
   "id": "c805bc90",
   "metadata": {},
   "outputs": [],
   "source": []
  },
  {
   "cell_type": "markdown",
   "id": "bd8effb7",
   "metadata": {},
   "source": [
    "____\n",
    "**Write a program that prints the integers from 1 to 100. But for multiples of three print \"Fizz\" instead of the number, and for the multiples of five print \"Buzz\". For numbers which are multiples of both three and five print \"FizzBuzz\".**"
   ]
  },
  {
   "cell_type": "code",
   "execution_count": null,
   "id": "f9cd5f11",
   "metadata": {},
   "outputs": [],
   "source": []
  },
  {
   "cell_type": "markdown",
   "id": "7b2a1ac1",
   "metadata": {},
   "source": [
    "____\n",
    "**Use List Comprehension to create a list of the first letters of every word in the string below:**"
   ]
  },
  {
   "cell_type": "code",
   "execution_count": 46,
   "id": "4d8879e3",
   "metadata": {},
   "outputs": [],
   "source": [
    "st = \"Create a list of the first letters of every word in this string\""
   ]
  },
  {
   "cell_type": "code",
   "execution_count": null,
   "id": "326b67f5",
   "metadata": {},
   "outputs": [],
   "source": []
  },
  {
   "cell_type": "markdown",
   "id": "7b58fc2a",
   "metadata": {},
   "source": [
    "____\n",
    "**Write a program which will find all such numbers that are divisible by 7 but are not a multiple of 5,\n",
    "between 2000 and 3200 (both included). The numbers should be printed on the output screen.**\n",
    "<br><i>(Bonus point if you can print all the numbers on a single line)"
   ]
  },
  {
   "cell_type": "code",
   "execution_count": null,
   "id": "ad609801",
   "metadata": {},
   "outputs": [],
   "source": []
  },
  {
   "cell_type": "markdown",
   "id": "9594a361",
   "metadata": {},
   "source": [
    "____\n",
    "**Write a program that can compute the factorial of a given number. The number whose factorial is to be\n",
    "computed is input from the keyboard.**<br>\n",
    "<i>(Hint: Factorial of 3, also written as 3! = 3 X 2 X 1. Similarly, 5! = 5 X 4 X 3 X 2 X 1 )"
   ]
  },
  {
   "cell_type": "code",
   "execution_count": null,
   "id": "e482635a",
   "metadata": {},
   "outputs": [],
   "source": []
  },
  {
   "cell_type": "markdown",
   "id": "c4460c4c",
   "metadata": {},
   "source": [
    "____\n",
    "**With a program to take as an input an integer number n, and generate a dictionary that contains (i, i*i)\n",
    "where “i” lies between 1 and n (both included). The program should then print the dictionary.**<br>\n",
    "Suppose the following input is supplied to the program:\n",
    "<br>8\n",
    "Then, <br>the output should be:\n",
    "{1: 1, 2: 4, 3: 9, 4: 16, 5: 25, 6: 36, 7: 49, 8: 64}"
   ]
  },
  {
   "cell_type": "code",
   "execution_count": null,
   "id": "d5eff3e0",
   "metadata": {},
   "outputs": [],
   "source": []
  },
  {
   "cell_type": "markdown",
   "id": "08e4e6b5",
   "metadata": {},
   "source": [
    "____\n",
    "**Write a program that can accept two strings as input and print the string with maximum length as an\n",
    "output. If two strings have the same length, then the program should print both the strings.**"
   ]
  },
  {
   "cell_type": "code",
   "execution_count": null,
   "id": "f77fa3b7",
   "metadata": {},
   "outputs": [],
   "source": []
  },
  {
   "cell_type": "markdown",
   "id": "58f79e4f",
   "metadata": {},
   "source": [
    "____\n",
    "**Write a program which can produce a dictionary where the keys are numbers between 1 and 20 (both\n",
    "included) and the values are the square of keys. The program should print the values only.**"
   ]
  },
  {
   "cell_type": "code",
   "execution_count": null,
   "id": "e63064a5",
   "metadata": {},
   "outputs": [],
   "source": []
  },
  {
   "cell_type": "markdown",
   "id": "7cb6a4b2",
   "metadata": {},
   "source": [
    "____\n",
    "**Write a program which can generate and print a list where the values are square of numbers between 1 and\n",
    "20 (both included).**"
   ]
  },
  {
   "cell_type": "code",
   "execution_count": null,
   "id": "605e9aaf",
   "metadata": {},
   "outputs": [],
   "source": []
  },
  {
   "cell_type": "markdown",
   "id": "edbb1628",
   "metadata": {},
   "source": [
    "____\n",
    "**Write a program which can generate a list where the values are square of numbers between 1 and 20\n",
    "(inclusive). The program should only print the last 5 elements of the list.**"
   ]
  },
  {
   "cell_type": "code",
   "execution_count": null,
   "id": "585a8b6c",
   "metadata": {},
   "outputs": [],
   "source": []
  },
  {
   "cell_type": "markdown",
   "id": "572a0981",
   "metadata": {},
   "source": [
    "____\n",
    "**Write a program to convert Celsius (C) values into Fahrenheit (F). The program should ask for Celsius\n",
    "value from the user and print the Fahrenheit value as an output.**<br>\n",
    "<center><i>Formula to Convert Celsius o Fahrenheit: [ F = C * ( 9 / 5 ) + 32 ]"
   ]
  },
  {
   "cell_type": "code",
   "execution_count": null,
   "id": "cc0a7a02",
   "metadata": {},
   "outputs": [],
   "source": []
  },
  {
   "cell_type": "markdown",
   "id": "ce3bc40b",
   "metadata": {},
   "source": [
    "____\n",
    "**Write a program which accepts a string as input from the keyboard. If the input string is \"even\" or\n",
    "\"EVEN\" or \"Even\", print the even numbers from the list (my_numbers) given below. If the string is \"odd\" or\n",
    "\"ODD\" or \"Odd\", print the odd numbers from the list. Otherwise simply print “Unknown Input!”**\n",
    "<center><i>my_numbers = [7, 2, 4, 11, 19, 24, 66, 1, 42, 22, 37, 5, 3, 92, 73]"
   ]
  },
  {
   "cell_type": "code",
   "execution_count": null,
   "id": "ea7bef10",
   "metadata": {},
   "outputs": [],
   "source": []
  },
  {
   "cell_type": "markdown",
   "id": "af995045",
   "metadata": {},
   "source": [
    "### Great Job!"
   ]
  }
 ],
 "metadata": {
  "kernelspec": {
   "display_name": "Python 3 (ipykernel)",
   "language": "python",
   "name": "python3"
  },
  "language_info": {
   "codemirror_mode": {
    "name": "ipython",
    "version": 3
   },
   "file_extension": ".py",
   "mimetype": "text/x-python",
   "name": "python",
   "nbconvert_exporter": "python",
   "pygments_lexer": "ipython3",
   "version": "3.9.13"
  }
 },
 "nbformat": 4,
 "nbformat_minor": 5
}
