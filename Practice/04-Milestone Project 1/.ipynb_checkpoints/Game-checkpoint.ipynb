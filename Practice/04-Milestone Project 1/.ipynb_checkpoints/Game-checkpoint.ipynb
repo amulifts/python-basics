{
 "cells": [
  {
   "cell_type": "code",
   "execution_count": 15,
   "id": "8be0685a",
   "metadata": {},
   "outputs": [],
   "source": [
    "from IPython.display import clear_output\n",
    "def display_board(board):\n",
    "    clear_output()\n",
    "    print(board[7] + \" | \" + board[8] + \" | \" + board[9])\n",
    "    print(board[4] + \" | \" + board[5] + \" | \" + board[6])\n",
    "    print(board[1] + \" | \" + board[2] + \" | \" + board[3])"
   ]
  },
  {
   "cell_type": "code",
   "execution_count": 17,
   "id": "900f8d99",
   "metadata": {},
   "outputs": [
    {
     "name": "stdout",
     "output_type": "stream",
     "text": [
      "  |   |  \n",
      "  |   |  \n",
      "  |   |  \n"
     ]
    }
   ],
   "source": [
    "display_board([\" \"]*10)"
   ]
  },
  {
   "cell_type": "code",
   "execution_count": 24,
   "id": "97d4ecf8",
   "metadata": {},
   "outputs": [],
   "source": [
    "def player_choice():\n",
    "    \n",
    "    choice = \" \"\n",
    "    while choice not in ['X','O']:\n",
    "        choice = input(\"Choose X or O: \").upper()\n",
    "    \n",
    "    player1 = choice\n",
    "    \n",
    "    if player1 == 'X':\n",
    "        player2 = 'O'\n",
    "    else:\n",
    "        player2 = 'X'\n",
    "    \n",
    "    return (player1,player2)"
   ]
  },
  {
   "cell_type": "code",
   "execution_count": 25,
   "id": "a9a3ffcd",
   "metadata": {},
   "outputs": [
    {
     "name": "stdout",
     "output_type": "stream",
     "text": [
      "Choose X or O: a\n",
      "Choose X or O: a\n",
      "Choose X or O: s\n",
      "Choose X or O: x\n"
     ]
    },
    {
     "data": {
      "text/plain": [
       "('X', 'O')"
      ]
     },
     "execution_count": 25,
     "metadata": {},
     "output_type": "execute_result"
    }
   ],
   "source": [
    "player_choice()"
   ]
  },
  {
   "cell_type": "code",
   "execution_count": 26,
   "id": "67a7a3ed",
   "metadata": {},
   "outputs": [
    {
     "name": "stdout",
     "output_type": "stream",
     "text": [
      "Choose X or O: x\n"
     ]
    }
   ],
   "source": [
    "player1_choice, player2_choice = player_choice()"
   ]
  },
  {
   "cell_type": "code",
   "execution_count": 27,
   "id": "ee3f6a0f",
   "metadata": {},
   "outputs": [
    {
     "data": {
      "text/plain": [
       "'X'"
      ]
     },
     "execution_count": 27,
     "metadata": {},
     "output_type": "execute_result"
    }
   ],
   "source": [
    "player1_choice"
   ]
  },
  {
   "cell_type": "code",
   "execution_count": 28,
   "id": "618c1cae",
   "metadata": {},
   "outputs": [
    {
     "data": {
      "text/plain": [
       "'O'"
      ]
     },
     "execution_count": 28,
     "metadata": {},
     "output_type": "execute_result"
    }
   ],
   "source": [
    "player2_choice"
   ]
  },
  {
   "cell_type": "code",
   "execution_count": 31,
   "id": "1ec1e73c",
   "metadata": {},
   "outputs": [],
   "source": [
    "def player_marker():\n",
    "    \n",
    "    marker = \" \"\n",
    "    \n",
    "    while marker not in ['X','O']:\n",
    "        marker = input(\"Enter X or O: \").upper()\n",
    "    \n",
    "    if marker == \"X\":\n",
    "        return (\"X\",\"O\")\n",
    "    else:\n",
    "        return (\"O\",\"X\")"
   ]
  },
  {
   "cell_type": "code",
   "execution_count": 33,
   "id": "8e1b691e",
   "metadata": {},
   "outputs": [
    {
     "name": "stdout",
     "output_type": "stream",
     "text": [
      "Enter X or O: o\n"
     ]
    }
   ],
   "source": [
    "player1_marker,player2_marker = player_marker()"
   ]
  },
  {
   "cell_type": "code",
   "execution_count": 34,
   "id": "01eb003b",
   "metadata": {},
   "outputs": [
    {
     "data": {
      "text/plain": [
       "'O'"
      ]
     },
     "execution_count": 34,
     "metadata": {},
     "output_type": "execute_result"
    }
   ],
   "source": [
    "player1_marker"
   ]
  },
  {
   "cell_type": "code",
   "execution_count": 35,
   "id": "134bfa72",
   "metadata": {},
   "outputs": [
    {
     "data": {
      "text/plain": [
       "'X'"
      ]
     },
     "execution_count": 35,
     "metadata": {},
     "output_type": "execute_result"
    }
   ],
   "source": [
    "player2_marker"
   ]
  },
  {
   "cell_type": "code",
   "execution_count": null,
   "id": "e6de2fac",
   "metadata": {},
   "outputs": [],
   "source": []
  }
 ],
 "metadata": {
  "kernelspec": {
   "display_name": "Python 3 (ipykernel)",
   "language": "python",
   "name": "python3"
  },
  "language_info": {
   "codemirror_mode": {
    "name": "ipython",
    "version": 3
   },
   "file_extension": ".py",
   "mimetype": "text/x-python",
   "name": "python",
   "nbconvert_exporter": "python",
   "pygments_lexer": "ipython3",
   "version": "3.9.13"
  }
 },
 "nbformat": 4,
 "nbformat_minor": 5
}
