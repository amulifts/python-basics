{
 "cells": [
  {
   "cell_type": "markdown",
   "id": "9137e6ce",
   "metadata": {},
   "source": [
    "# Actual Game"
   ]
  },
  {
   "cell_type": "markdown",
   "id": "8f9690ef",
   "metadata": {},
   "source": [
    "- two player should be able to play the game (sitting at the same computer)\n",
    "- the board should be printed out everytime a player makes a move\n",
    "- you should be able to accept input of the player position and then place a symbol on the board"
   ]
  },
  {
   "cell_type": "markdown",
   "id": "3a19442e",
   "metadata": {},
   "source": [
    "## Help"
   ]
  },
  {
   "cell_type": "raw",
   "id": "75d99acd",
   "metadata": {},
   "source": [
    "- take reference of numpad \n",
    "    [7,8,9\n",
    "     4,5,6\n",
    "     1,2,3]"
   ]
  },
  {
   "cell_type": "code",
   "execution_count": 2,
   "id": "e0689cc5",
   "metadata": {},
   "outputs": [],
   "source": [
    "def display_board(board):\n",
    "    print(board[7]+'|'+board[8]+'|'+board[9])\n",
    "    print(board[4]+'|'+board[5]+'|'+board[6])\n",
    "    print(board[1]+'|'+board[2]+'|'+board[3])"
   ]
  },
  {
   "cell_type": "code",
   "execution_count": 3,
   "id": "32200d31",
   "metadata": {},
   "outputs": [
    {
     "name": "stdout",
     "output_type": "stream",
     "text": [
      "X|O|X\n",
      "O|X|O\n",
      "X|O|X\n"
     ]
    }
   ],
   "source": [
    "test_board = ['#','X','O','X','O','X','O','X','O','X']\n",
    "display_board(test_board)"
   ]
  }
 ],
 "metadata": {
  "kernelspec": {
   "display_name": "Python 3 (ipykernel)",
   "language": "python",
   "name": "python3"
  },
  "language_info": {
   "codemirror_mode": {
    "name": "ipython",
    "version": 3
   },
   "file_extension": ".py",
   "mimetype": "text/x-python",
   "name": "python",
   "nbconvert_exporter": "python",
   "pygments_lexer": "ipython3",
   "version": "3.10.6"
  }
 },
 "nbformat": 4,
 "nbformat_minor": 5
}
