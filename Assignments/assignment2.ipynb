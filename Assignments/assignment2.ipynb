{
 "cells": [
  {
   "cell_type": "markdown",
   "id": "eed10620",
   "metadata": {},
   "source": [
    "## Assignment"
   ]
  },
  {
   "cell_type": "markdown",
   "id": "9bb480ea",
   "metadata": {},
   "source": [
    "1. Write a python function that computes the square of a number. The function should return the output as a tuple in the following form: (a, a^2) where a is the input value to the function."
   ]
  },
  {
   "cell_type": "code",
   "execution_count": 5,
   "id": "bed01c97",
   "metadata": {},
   "outputs": [],
   "source": [
    "def sqr_num(num):\n",
    "    return num, num**2"
   ]
  },
  {
   "cell_type": "code",
   "execution_count": 6,
   "id": "a48735ca",
   "metadata": {},
   "outputs": [
    {
     "data": {
      "text/plain": [
       "(2, 4)"
      ]
     },
     "execution_count": 6,
     "metadata": {},
     "output_type": "execute_result"
    }
   ],
   "source": [
    "sqr_num(2)"
   ]
  },
  {
   "cell_type": "markdown",
   "id": "8afa0cec",
   "metadata": {},
   "source": [
    "2. Write a function that can accept two strings as input and concatenate them and then print it as an output."
   ]
  },
  {
   "cell_type": "code",
   "execution_count": 10,
   "id": "7b835bf8",
   "metadata": {},
   "outputs": [],
   "source": [
    "def myfunc():\n",
    "    str1 = input(\"First Name: \")\n",
    "    str2 = input(\"Last Name: \")\n",
    "    return str1 + \" \" + str2"
   ]
  },
  {
   "cell_type": "code",
   "execution_count": 11,
   "id": "f16dff06",
   "metadata": {},
   "outputs": [
    {
     "name": "stdout",
     "output_type": "stream",
     "text": [
      "First Name: Aman\n",
      "Last Name: Khadka\n"
     ]
    },
    {
     "data": {
      "text/plain": [
       "'Aman Khadka'"
      ]
     },
     "execution_count": 11,
     "metadata": {},
     "output_type": "execute_result"
    }
   ],
   "source": [
    "myfunc()"
   ]
  },
  {
   "cell_type": "markdown",
   "id": "b8d53fe7",
   "metadata": {},
   "source": [
    "3. Write a function that can accept an integer number as an input and print \"Even number\" if the number is even, otherwise print \"Odd number\"."
   ]
  },
  {
   "cell_type": "code",
   "execution_count": 12,
   "id": "9f39bcb1",
   "metadata": {},
   "outputs": [],
   "source": [
    "def myfunc():\n",
    "    num = int(input(\"Enter any number: \"))\n",
    "    if num%2==0:\n",
    "        print(\"Even Number\")\n",
    "    else:\n",
    "        print(\"Odd Number\")"
   ]
  },
  {
   "cell_type": "code",
   "execution_count": 15,
   "id": "f33331f8",
   "metadata": {},
   "outputs": [
    {
     "name": "stdout",
     "output_type": "stream",
     "text": [
      "Enter any number: 9\n",
      "Odd Number\n"
     ]
    }
   ],
   "source": [
    "myfunc()"
   ]
  },
  {
   "cell_type": "markdown",
   "id": "1b900510",
   "metadata": {},
   "source": [
    "4. Write a function that can print a dictionary where the keys are numbers between 1 and 20 (both included) and the values are square of keys."
   ]
  },
  {
   "cell_type": "code",
   "execution_count": 24,
   "id": "5b65ba93",
   "metadata": {},
   "outputs": [],
   "source": [
    "def myfunc():\n",
    "    mydict = { }\n",
    "    for i in range(1,21):\n",
    "        mydict[i]=i**2\n",
    "    print(mydict)"
   ]
  },
  {
   "cell_type": "code",
   "execution_count": 25,
   "id": "d0defaba",
   "metadata": {},
   "outputs": [
    {
     "name": "stdout",
     "output_type": "stream",
     "text": [
      "{1: 1, 2: 4, 3: 9, 4: 16, 5: 25, 6: 36, 7: 49, 8: 64, 9: 81, 10: 100, 11: 121, 12: 144, 13: 169, 14: 196, 15: 225, 16: 256, 17: 289, 18: 324, 19: 361, 20: 400}\n"
     ]
    }
   ],
   "source": [
    "myfunc()"
   ]
  },
  {
   "cell_type": "markdown",
   "id": "eccd4c33",
   "metadata": {},
   "source": [
    "5. Write a function to compute the square-root of a given number. If the given number is negative, your function should give an error message."
   ]
  },
  {
   "cell_type": "code",
   "execution_count": 32,
   "id": "4bc004c3",
   "metadata": {},
   "outputs": [],
   "source": [
    "import math\n",
    "def myfunc(num):\n",
    "    if num >= 0:\n",
    "        return math.sqrt(num)\n",
    "    else:\n",
    "        pass\n",
    "    return \"Can't be negative\""
   ]
  },
  {
   "cell_type": "code",
   "execution_count": 33,
   "id": "21e9bc17",
   "metadata": {},
   "outputs": [
    {
     "data": {
      "text/plain": [
       "1.7320508075688772"
      ]
     },
     "execution_count": 33,
     "metadata": {},
     "output_type": "execute_result"
    }
   ],
   "source": [
    "myfunc(3)"
   ]
  },
  {
   "cell_type": "markdown",
   "id": "de4e6fcc",
   "metadata": {},
   "source": [
    "6. Write a function to input two separate lists, one with names (name_list) and another with numbers (number_list). Your function should then output another list (output_list) which contains tuples of names and number."
   ]
  },
  {
   "cell_type": "code",
   "execution_count": 38,
   "id": "b172a130",
   "metadata": {},
   "outputs": [],
   "source": [
    "def myfunc():\n",
    "    name_list = [\"Dan Mace\", \"Connor Meyer\", \"Adam Smith\", \"John Watson\"]\n",
    "    number_list = [98980000, 777890879, 123087699, 960008779]\n",
    "    return list(zip(name_list, number_list))"
   ]
  },
  {
   "cell_type": "code",
   "execution_count": 39,
   "id": "9bff75ad",
   "metadata": {},
   "outputs": [
    {
     "data": {
      "text/plain": [
       "[('Dan Mace', 98980000),\n",
       " ('Connor Meyer', 777890879),\n",
       " ('Adam Smith', 123087699),\n",
       " ('John Watson', 960008779)]"
      ]
     },
     "execution_count": 39,
     "metadata": {},
     "output_type": "execute_result"
    }
   ],
   "source": [
    "myfunc()"
   ]
  },
  {
   "cell_type": "markdown",
   "id": "a6c4415b",
   "metadata": {},
   "source": [
    "7. With a given tuple (1,2,3,4,5,6,7,8,9,10), write a program to print the first half values in one line and the last half values in another line."
   ]
  },
  {
   "cell_type": "code",
   "execution_count": 40,
   "id": "06e60893",
   "metadata": {},
   "outputs": [
    {
     "name": "stdout",
     "output_type": "stream",
     "text": [
      "(1, 2, 3, 4, 5)\n",
      "(6, 7, 8, 9, 10)\n"
     ]
    }
   ],
   "source": [
    "mytuple = (1,2,3,4,5,6,7,8,9,10)\n",
    "midpoint = int(len(mytuple)/2)\n",
    "print(\"{}\\n{}\".format(mytuple[:midpoint],mytuple[midpoint:]))"
   ]
  },
  {
   "cell_type": "markdown",
   "id": "f866ef45",
   "metadata": {},
   "source": [
    "8. Write a function that takes in a list of usernames of students. The function should then output another list which returns the email addresses by adding @thebritishcollege.edu.np” to the usernames in the list. The output of your function should be a list.\n"
   ]
  },
  {
   "cell_type": "code",
   "execution_count": 42,
   "id": "dba45c2e",
   "metadata": {},
   "outputs": [],
   "source": [
    "def out_email(usernames):\n",
    "    out_list = []\n",
    "    for n in usernames:\n",
    "        out_list.append(str(n)+\"@thebritishcollege.edu.np\")\n",
    "    return out_list"
   ]
  },
  {
   "cell_type": "code",
   "execution_count": 43,
   "id": "3f8a88da",
   "metadata": {},
   "outputs": [
    {
     "data": {
      "text/plain": [
       "['ksmith@thebritishcollege.edu.np',\n",
       " 'rsouza@thebritishcollege.edu.np',\n",
       " 'lgarber@thebritishcollege.edu.np',\n",
       " 'aghods@thebritishcollege.edu.np',\n",
       " 'shassan@thebritishcollege.edu.np',\n",
       " 'proy@thebritishcollege.edu.np']"
      ]
     },
     "execution_count": 43,
     "metadata": {},
     "output_type": "execute_result"
    }
   ],
   "source": [
    "student_username = [\"ksmith\", \"rsouza\", \"lgarber\", \"aghods\", \"shassan\", \"proy\"]\n",
    "out_email(student_username)"
   ]
  },
  {
   "cell_type": "markdown",
   "id": "6378c4d6",
   "metadata": {},
   "source": [
    "9. In the list given below, use a while loop to print the output. Your loop should run until all the items in the list have been printed."
   ]
  },
  {
   "cell_type": "code",
   "execution_count": 45,
   "id": "cd32e22a",
   "metadata": {},
   "outputs": [],
   "source": [
    "name_list = [('Dan Mace', 98980000), ('Connor Meyer', 777890879), ('Adam Smith', 123087699), ('John Watson', 960008779)]"
   ]
  },
  {
   "cell_type": "code",
   "execution_count": 46,
   "id": "e18aa42b",
   "metadata": {},
   "outputs": [
    {
     "name": "stdout",
     "output_type": "stream",
     "text": [
      "Name:  Dan Mace\n",
      "Contact no:  98980000\n",
      "Name:  Connor Meyer\n",
      "Contact no:  777890879\n",
      "Name:  Adam Smith\n",
      "Contact no:  123087699\n",
      "Name:  John Watson\n",
      "Contact no:  960008779\n"
     ]
    }
   ],
   "source": [
    "i = 0\n",
    "while i < len(name_list):\n",
    "    print(\"Name: \", name_list[i][0])\n",
    "    print(\"Contact no: \", name_list[i][1])\n",
    "    i = i + 1"
   ]
  },
  {
   "cell_type": "markdown",
   "id": "14daef3e",
   "metadata": {},
   "source": [
    "10. Write a function that accepts a list of tuples as an input, and outputs the values as a dictionary shown below:"
   ]
  },
  {
   "cell_type": "code",
   "execution_count": 50,
   "id": "2cf35837",
   "metadata": {},
   "outputs": [],
   "source": [
    "def tuple_to_dict(inList):\n",
    "    out_d = {}\n",
    "    for i,j in inList:\n",
    "        out_d[i] = j\n",
    "    return out_d"
   ]
  },
  {
   "cell_type": "code",
   "execution_count": 51,
   "id": "35b26a56",
   "metadata": {},
   "outputs": [
    {
     "data": {
      "text/plain": [
       "{'Dan Mace': 98980000,\n",
       " 'Connor Meyer': 777890879,\n",
       " 'Adam Smith': 123087699,\n",
       " 'John Watson': 960008779}"
      ]
     },
     "execution_count": 51,
     "metadata": {},
     "output_type": "execute_result"
    }
   ],
   "source": [
    "input_list = [ (\"Dan Mace\", 98980000), (\"Connor Meyer\", 777890879), (\"Adam Smith\", 123087699), (\"John Watson\", 960008779)]\n",
    "tuple_to_dict(input_list)"
   ]
  },
  {
   "cell_type": "markdown",
   "id": "69637f4e",
   "metadata": {},
   "source": [
    "11. Write a function to go through a string and count the number of words in the given string."
   ]
  },
  {
   "cell_type": "code",
   "execution_count": 52,
   "id": "5348985a",
   "metadata": {},
   "outputs": [],
   "source": [
    "def count_words(s):\n",
    "    word_list = s.split(\" \")\n",
    "    return(\"number of words: {}\".format(len(word_list)))"
   ]
  },
  {
   "cell_type": "code",
   "execution_count": 53,
   "id": "bd758e77",
   "metadata": {},
   "outputs": [
    {
     "data": {
      "text/plain": [
       "'number of words: 12'"
      ]
     },
     "execution_count": 53,
     "metadata": {},
     "output_type": "execute_result"
    }
   ],
   "source": [
    "input_str = \"If you count the words in this sentence you will get twelve\"\n",
    "count_words(input_str)"
   ]
  },
  {
   "cell_type": "markdown",
   "id": "64f88784",
   "metadata": {},
   "source": [
    "12. Write a function to print Fibonacci sequence up-to the given term."
   ]
  },
  {
   "cell_type": "code",
   "execution_count": 55,
   "id": "c19d87ad",
   "metadata": {},
   "outputs": [
    {
     "name": "stdout",
     "output_type": "stream",
     "text": [
      "1\n",
      "1\n",
      "2\n",
      "3\n",
      "5\n",
      "8\n",
      "13\n"
     ]
    }
   ],
   "source": [
    "def fibonacci(N):\n",
    "    x = 1\n",
    "    y = 1\n",
    "    print (1)\n",
    "    for i in range(N-1):\n",
    "        x,y = y,x+y\n",
    "        print (x)\n",
    "# test\n",
    "fibonacci(7)"
   ]
  },
  {
   "cell_type": "markdown",
   "id": "bfb5b2c3",
   "metadata": {},
   "source": [
    "13. Write a program to play a game of rock, paper and scissor between two players. Take two user inputs from the keyboard and according to user's choice decide who wins.\n"
   ]
  },
  {
   "cell_type": "code",
   "execution_count": 56,
   "id": "84180de5",
   "metadata": {},
   "outputs": [
    {
     "name": "stdout",
     "output_type": "stream",
     "text": [
      "User 1, please choose between 'ROCK', 'PAPER', and 'SCISSOR': rock\n",
      "User 2, please choose between 'ROCK', 'PAPER', and 'SCISSOR': paper\n",
      "User 2 wins!\n"
     ]
    }
   ],
   "source": [
    "userA_choice = input(\"User 1, please choose between 'ROCK', 'PAPER', and 'SCISSOR': \")\n",
    "userB_choice = input(\"User 2, please choose between 'ROCK', 'PAPER', and 'SCISSOR': \")\n",
    "choices = [\"rock\", \"paper\", \"scissor\"]\n",
    "if userA_choice.lower() in choices and userB_choice.lower() in choices:\n",
    "    if userA_choice.lower() == userB_choice.lower():\n",
    "        print(\"It is a tie! Please play again!\")\n",
    "    elif userA_choice.lower() == \"rock\":\n",
    "        if userB_choice.lower() == \"scissor\":\n",
    "            print(\"User 1 wins!\")\n",
    "        else:\n",
    "            print(\"User 2 wins!\")\n",
    "    elif userA_choice.lower() == \"paper\":\n",
    "        if userB_choice.lower() == \"scissor\":\n",
    "            print(\"User 2 wins!\")\n",
    "        else:\n",
    "            print(\"User 1 wins!\")\n",
    "    elif userA_choice.lower() == \"scissor\":\n",
    "        if userB_choice.lower() == \"rock\":\n",
    "            print(\"User 2 wins!\")\n",
    "        else:\n",
    "            print(\"User 1 wins!\")\n",
    "    else:\n",
    "        print(\"Unrecognized Input!\")"
   ]
  },
  {
   "cell_type": "markdown",
   "id": "166c72a5",
   "metadata": {},
   "source": [
    "14. Write a Python program to construct the following pattern."
   ]
  },
  {
   "cell_type": "code",
   "execution_count": 57,
   "id": "0627ffb9",
   "metadata": {},
   "outputs": [
    {
     "name": "stdout",
     "output_type": "stream",
     "text": [
      "1 \n",
      "\n",
      "2 2 \n",
      "\n",
      "3 3 3 \n",
      "\n",
      "4 4 4 4 \n",
      "\n",
      "5 5 5 5 5 \n",
      "\n",
      "6 6 6 6 6 6 \n",
      "\n",
      "7 7 7 7 7 7 7 \n",
      "\n",
      "8 8 8 8 8 8 8 8 \n",
      "\n",
      "9 9 9 9 9 9 9 9 9 \n",
      "\n"
     ]
    }
   ],
   "source": [
    "num = 1\n",
    "for i in range(1,10):\n",
    "    for j in range(1,i+1):\n",
    "        print(num, end = \" \")\n",
    "    print(\"\\n\")\n",
    "    num = num + 1"
   ]
  },
  {
   "cell_type": "markdown",
   "id": "0eca5458",
   "metadata": {},
   "source": [
    "15. Write a Python function that accepts a hyphen-separated sequence of words as input and prints the words in a hyphen-separated sequence after sorting them alphabetically."
   ]
  },
  {
   "cell_type": "code",
   "execution_count": 60,
   "id": "acd283da",
   "metadata": {},
   "outputs": [],
   "source": [
    "def sort_words(word):\n",
    "    wordlist = word.split(\"-\")\n",
    "    return \"-\".join(sorted(wordlist))"
   ]
  },
  {
   "cell_type": "code",
   "execution_count": 61,
   "id": "e06345f5",
   "metadata": {},
   "outputs": [
    {
     "data": {
      "text/plain": [
       "'c-i-m-o-s-t'"
      ]
     },
     "execution_count": 61,
     "metadata": {},
     "output_type": "execute_result"
    }
   ],
   "source": [
    "sort_words(\"s-i-t-c-o-m\")"
   ]
  }
 ],
 "metadata": {
  "kernelspec": {
   "display_name": "Python 3 (ipykernel)",
   "language": "python",
   "name": "python3"
  },
  "language_info": {
   "codemirror_mode": {
    "name": "ipython",
    "version": 3
   },
   "file_extension": ".py",
   "mimetype": "text/x-python",
   "name": "python",
   "nbconvert_exporter": "python",
   "pygments_lexer": "ipython3",
   "version": "3.9.13"
  }
 },
 "nbformat": 4,
 "nbformat_minor": 5
}
