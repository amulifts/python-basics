{
 "cells": [
  {
   "cell_type": "markdown",
   "id": "8bcf3444",
   "metadata": {},
   "source": [
    "## Assignment"
   ]
  },
  {
   "cell_type": "markdown",
   "id": "ecb91cdc",
   "metadata": {},
   "source": [
    "1. Write a Python program that asks the user for an integer number and then prints\n",
    "EVEN if the entered number is even or ODD if it is odd."
   ]
  },
  {
   "cell_type": "code",
   "execution_count": 4,
   "id": "955fdb3a",
   "metadata": {},
   "outputs": [
    {
     "name": "stdout",
     "output_type": "stream",
     "text": [
      "Enter any number: 2\n",
      "EVEN\n"
     ]
    }
   ],
   "source": [
    "num = int(input(\"Enter any number: \"))\n",
    "if num%2==0:\n",
    "    print(\"EVEN\")\n",
    "else:\n",
    "    print(\"ODD\")"
   ]
  },
  {
   "cell_type": "markdown",
   "id": "442e05c0",
   "metadata": {},
   "source": [
    "2. Using a loop, write a Python program that asks the user for 5 numbers and then\n",
    "prints the smallest number among those 5 numbers."
   ]
  },
  {
   "cell_type": "code",
   "execution_count": 13,
   "id": "f2e3dfc8",
   "metadata": {},
   "outputs": [
    {
     "name": "stdout",
     "output_type": "stream",
     "text": [
      "Enter a number: 1\n",
      "Enter a number: 5\n",
      "Enter a number: 8\n",
      "Enter a number: 33\n",
      "Enter a number: 2\n",
      "The smallest number is 1\n"
     ]
    }
   ],
   "source": [
    "smallest = int(input(\"Enter a number: \"))\n",
    "for i in range(4):\n",
    "    num = int(input(\"Enter a number: \"))\n",
    "    if num < smallest:\n",
    "        smallest = num\n",
    "print(f\"The smallest number is {smallest}\")"
   ]
  },
  {
   "cell_type": "markdown",
   "id": "1b591e16",
   "metadata": {},
   "source": [
    "3. Write a Python function that receives a string as an argument and then returns\n",
    "True if the string (regardless of the case) is contained in a locally defined list (fill\n",
    "the list with whatever you like), or False otherwise. Then a write a main function\n",
    "that prompts the user to enter a string and then by calling the function, it either\n",
    "prints YES or NO depending on whether the function returned True or False,\n",
    "respectively."
   ]
  },
  {
   "cell_type": "code",
   "execution_count": 11,
   "id": "5b2a5187",
   "metadata": {},
   "outputs": [
    {
     "name": "stdout",
     "output_type": "stream",
     "text": [
      "Enter a string: e\n",
      "YES\n"
     ]
    }
   ],
   "source": [
    "def inside_list ( my_str ) : \n",
    "    my_list = ['a' ,  'b' ,  'c' ,  'd' ,  'e'] \n",
    "    for i in my_list : \n",
    "        if my_str.lower() == i : \n",
    "            return True \n",
    "    return False\n",
    "\n",
    "def main():\n",
    "    my_str = input('Enter a string: ')\n",
    "    if inside_list(my_str):\n",
    "        print('YES')\n",
    "    else:\n",
    "        print('NO')\n",
    "\n",
    "main()"
   ]
  },
  {
   "cell_type": "markdown",
   "id": "0c3f154a",
   "metadata": {},
   "source": [
    "4. Write a Python program that continuously asks the user to enter a string, and each\n",
    "time it prints the number of characters in the string, i.e. the length of the string.\n",
    "Your program must halt when the entered string is STOP (in any case).$"
   ]
  },
  {
   "cell_type": "code",
   "execution_count": 17,
   "id": "81d90979",
   "metadata": {},
   "outputs": [
    {
     "name": "stdout",
     "output_type": "stream",
     "text": [
      "Enter any string: aman\n",
      "The length of the string is 4\n",
      "Enter any string: khadka\n",
      "The length of the string is 6\n",
      "Enter any string: is \n",
      "The length of the string is 3\n",
      "Enter any string: stop\n",
      "The length of the string is 4\n",
      "Enter any string: STOP\n"
     ]
    }
   ],
   "source": [
    "def my_func():\n",
    "    while True:\n",
    "        my_str = input(\"Enter any string: \")\n",
    "        if my_str == \"STOP\":\n",
    "            break\n",
    "        print(f\"The length of the string is {len(my_str)}\")\n",
    "\n",
    "my_func()"
   ]
  },
  {
   "cell_type": "markdown",
   "id": "388bbf49",
   "metadata": {},
   "source": [
    "5. Write a Python program that ask the user for a natural number (positive integer)\n",
    "and then returns the sum of its individual digits. e.g. if input is 123, the result\n",
    "should be 6."
   ]
  },
  {
   "cell_type": "code",
   "execution_count": 25,
   "id": "2141260b",
   "metadata": {},
   "outputs": [
    {
     "name": "stdout",
     "output_type": "stream",
     "text": [
      "Enter a natural number: 34\n",
      "7\n"
     ]
    }
   ],
   "source": [
    "def sum_of_digits(n):\n",
    "    sum = 0\n",
    "    while n > 0:\n",
    "        sum =sum + n % 10\n",
    "        n = n // 10\n",
    "    return sum\n",
    "    \n",
    "n = int(input(\"Enter a natural number: \"))\n",
    "print(sum_digits(n))"
   ]
  },
  {
   "cell_type": "code",
   "execution_count": 24,
   "id": "24d84e67",
   "metadata": {},
   "outputs": [
    {
     "name": "stdout",
     "output_type": "stream",
     "text": [
      "Enter a natural number: 1234\n",
      "10\n"
     ]
    }
   ],
   "source": [
    "def sum_of_digits(n):\n",
    "    return sum(map(int, str(n)))\n",
    "\n",
    "n = int(input(\"Enter a natural number: \"))\n",
    "print(sum_digits(n))"
   ]
  },
  {
   "cell_type": "markdown",
   "id": "a4e75b8e",
   "metadata": {},
   "source": [
    "6. Write a Python program that asks the user for a natural number n and then asks\n",
    "the user again for n more natural numbers, and prints the sum of the rightmost\n",
    "digits in those n numbers. e.g. if the user enters 2 (i.e. n=2) and then enters 15\n",
    "and 321, your program should output 6 since 5 + 1 = 6."
   ]
  },
  {
   "cell_type": "code",
   "execution_count": 35,
   "id": "0c635c6a",
   "metadata": {},
   "outputs": [
    {
     "name": "stdout",
     "output_type": "stream",
     "text": [
      "Enter a natural number: 3\n",
      "Enter a natural number: 12\n",
      "Enter a natural number: 143\n",
      "Enter a natural number: 1466\n",
      "The sum of the rightmost digits is 11\n"
     ]
    }
   ],
   "source": [
    "n = int(input(\"Enter a natural number: \"))\n",
    "sum = 0\n",
    "for i in range(n):\n",
    "    n = int(input(\"Enter a natural number: \"))\n",
    "    sum = sum + n % 10\n",
    "print(\"The sum of the rightmost digits is\", sum)"
   ]
  }
 ],
 "metadata": {
  "kernelspec": {
   "display_name": "Python 3 (ipykernel)",
   "language": "python",
   "name": "python3"
  },
  "language_info": {
   "codemirror_mode": {
    "name": "ipython",
    "version": 3
   },
   "file_extension": ".py",
   "mimetype": "text/x-python",
   "name": "python",
   "nbconvert_exporter": "python",
   "pygments_lexer": "ipython3",
   "version": "3.9.13"
  }
 },
 "nbformat": 4,
 "nbformat_minor": 5
}
