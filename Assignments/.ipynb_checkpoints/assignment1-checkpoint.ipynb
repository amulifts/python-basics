{
 "cells": [
  {
   "cell_type": "markdown",
   "id": "4938d303",
   "metadata": {},
   "source": [
    "## Assignment"
   ]
  },
  {
   "cell_type": "markdown",
   "id": "e657c8f8",
   "metadata": {},
   "source": [
    "1. Write a program which will find all such numbers that are divisible by 7 but are not a multiple of 5,\n",
    "between 2000 and 3200 (both included). The numbers should be printed on the output screen.\n",
    "(Bonus point if you can print all the numbers on a single line)"
   ]
  },
  {
   "cell_type": "code",
   "execution_count": 1,
   "id": "815af503",
   "metadata": {},
   "outputs": [
    {
     "name": "stdout",
     "output_type": "stream",
     "text": [
      "2002 2009 2016 2023 2037 2044 2051 2058 2072 2079 2086 2093 2107 2114 2121 2128 2142 2149 2156 2163 2177 2184 2191 2198 2212 2219 2226 2233 2247 2254 2261 2268 2282 2289 2296 2303 2317 2324 2331 2338 2352 2359 2366 2373 2387 2394 2401 2408 2422 2429 2436 2443 2457 2464 2471 2478 2492 2499 2506 2513 2527 2534 2541 2548 2562 2569 2576 2583 2597 2604 2611 2618 2632 2639 2646 2653 2667 2674 2681 2688 2702 2709 2716 2723 2737 2744 2751 2758 2772 2779 2786 2793 2807 2814 2821 2828 2842 2849 2856 2863 2877 2884 2891 2898 2912 2919 2926 2933 2947 2954 2961 2968 2982 2989 2996 3003 3017 3024 3031 3038 3052 3059 3066 3073 3087 3094 3101 3108 3122 3129 3136 3143 3157 3164 3171 3178 3192 3199 "
     ]
    }
   ],
   "source": [
    "for i in range(2000,3200+1):\n",
    "    if(i%7==0 and i%5!=0):\n",
    "        print(i, end=\" \")"
   ]
  },
  {
   "cell_type": "markdown",
   "id": "05525aec",
   "metadata": {},
   "source": [
    "2. Write a program that can compute the factorial of a given number. The number whose factorial is to be\n",
    "computed is input from the keyboard."
   ]
  },
  {
   "cell_type": "code",
   "execution_count": 62,
   "id": "d6a50cc9",
   "metadata": {},
   "outputs": [
    {
     "name": "stdout",
     "output_type": "stream",
     "text": [
      "Enter any number: 3\n",
      "6\n"
     ]
    }
   ],
   "source": [
    "import math\n",
    "\n",
    "num = int(input(\"Enter any number: \"))\n",
    "res = math.factorial(num)\n",
    "print(res)"
   ]
  },
  {
   "cell_type": "code",
   "execution_count": 63,
   "id": "088d812d",
   "metadata": {},
   "outputs": [
    {
     "name": "stdout",
     "output_type": "stream",
     "text": [
      "Enter any number: 3\n",
      "6\n"
     ]
    }
   ],
   "source": [
    "num = int(input(\"Enter any number: \"))\n",
    "fact = 1\n",
    "\n",
    "for i in range(1,num+1):\n",
    "    fact = fact * i\n",
    "print(fact)"
   ]
  },
  {
   "cell_type": "markdown",
   "id": "c68499e3",
   "metadata": {},
   "source": [
    "3. With a program to take as an input an integer number n, and generate a dictionary that contains (i, i*i)\n",
    "where “i” lies between 1 and n (both included). The program should then print the dictionary."
   ]
  },
  {
   "cell_type": "code",
   "execution_count": 78,
   "id": "cba7d78b",
   "metadata": {},
   "outputs": [
    {
     "name": "stdout",
     "output_type": "stream",
     "text": [
      "Enter any number: 8\n",
      "{1: 1, 2: 4, 3: 9, 4: 16, 5: 25, 6: 36, 7: 49, 8: 64}\n"
     ]
    }
   ],
   "source": [
    "num = int(input(\"Enter any number: \"))\n",
    "numDict = { }\n",
    "for i in range(1,num+1):\n",
    "    numDict[i] = i**2\n",
    "print(numDict)"
   ]
  },
  {
   "cell_type": "markdown",
   "id": "fc765386",
   "metadata": {},
   "source": [
    "4. Write a program that can accept two strings as input and print the string with maximum length as an\n",
    "output. If two strings have the same length, then the program should print both the strings."
   ]
  },
  {
   "cell_type": "code",
   "execution_count": 29,
   "id": "5abfd47c",
   "metadata": {},
   "outputs": [
    {
     "name": "stdout",
     "output_type": "stream",
     "text": [
      "Enter first value: aman\n",
      "Enter second vlaue: khadka\n",
      "khadka\n"
     ]
    }
   ],
   "source": [
    "a = input(\"Enter first value: \")\n",
    "b = input(\"Enter second vlaue: \")\n",
    "lena = len(a)\n",
    "lenb = len(b)\n",
    "if (lena > lenb):\n",
    "    print(a)\n",
    "elif (lenb > lena):\n",
    "    print(b)\n",
    "elif (lena == lenb):\n",
    "    print(a)\n",
    "    print(b)"
   ]
  },
  {
   "cell_type": "markdown",
   "id": "52f7d264",
   "metadata": {},
   "source": [
    "5. Write a program which can produce a dictionary where the keys are numbers between 1 and 20 (both\n",
    "included) and the values are the square of keys. The program should print the values only."
   ]
  },
  {
   "cell_type": "code",
   "execution_count": 80,
   "id": "b26ca1c8",
   "metadata": {},
   "outputs": [
    {
     "name": "stdout",
     "output_type": "stream",
     "text": [
      "1 4 9 16 25 36 49 64 81 100 121 144 169 196 225 256 289 324 361 400 "
     ]
    }
   ],
   "source": [
    "myDict = { }\n",
    "for i in range(1,20+1):\n",
    "    myDict[i] = i**2\n",
    "for val in myDict.values():\n",
    "    print(val, end=\" \")"
   ]
  },
  {
   "cell_type": "code",
   "execution_count": 82,
   "id": "3a1dbef2",
   "metadata": {},
   "outputs": [
    {
     "name": "stdout",
     "output_type": "stream",
     "text": [
      "dict_values([1, 4, 9, 16, 25, 36, 49, 64, 81, 100, 121, 144, 169, 196, 225, 256, 289, 324, 361, 400])\n"
     ]
    }
   ],
   "source": [
    "myDict = { }\n",
    "for i in range(1,20+1):\n",
    "    myDict[i] = i*i\n",
    "print(myDict.values())"
   ]
  },
  {
   "cell_type": "markdown",
   "id": "7b7298ba",
   "metadata": {},
   "source": [
    "6. Write a program which can generate and print a list where the values are square of numbers between 1 and\n",
    "20 (both included)."
   ]
  },
  {
   "cell_type": "code",
   "execution_count": 83,
   "id": "51e5d9e5",
   "metadata": {},
   "outputs": [
    {
     "name": "stdout",
     "output_type": "stream",
     "text": [
      "1 4 9 16 25 36 49 64 81 100 121 144 169 196 225 256 289 324 361 400 "
     ]
    }
   ],
   "source": [
    "myList = []\n",
    "for i in range(1,20+1):\n",
    "    myList = i * i\n",
    "    print(myList, end=\" \")"
   ]
  },
  {
   "cell_type": "code",
   "execution_count": 92,
   "id": "7bd2459d",
   "metadata": {},
   "outputs": [
    {
     "name": "stdout",
     "output_type": "stream",
     "text": [
      "[1, 4, 9, 16, 25, 36, 49, 64, 81, 100, 121, 144, 169, 196, 225, 256, 289, 324, 361, 400] "
     ]
    }
   ],
   "source": [
    "myList = []\n",
    "for i in range(1,20+1):\n",
    "    myList.append(i*i)\n",
    "print(myList, end=\" \")"
   ]
  },
  {
   "cell_type": "markdown",
   "id": "ca8842b8",
   "metadata": {},
   "source": [
    "7. Write a program which can generate a list where the values are square of numbers between 1 and 20\n",
    "(inclusive). The program should only print the last 5 elements of the list."
   ]
  },
  {
   "cell_type": "code",
   "execution_count": 105,
   "id": "484206f4",
   "metadata": {},
   "outputs": [
    {
     "name": "stdout",
     "output_type": "stream",
     "text": [
      "[256, 289, 324, 361, 400]\n"
     ]
    }
   ],
   "source": [
    "myList = [ ]\n",
    "for i in range(1,20+1):\n",
    "    myList.append(i*i)\n",
    "print(myList[-5:])"
   ]
  },
  {
   "cell_type": "markdown",
   "id": "a425568e",
   "metadata": {},
   "source": [
    "8. Write a program to convert Celsius (C) values into Fahrenheit (F). The program should ask for Celsius\n",
    "value from the user and print the Fahrenheit value as an output."
   ]
  },
  {
   "cell_type": "code",
   "execution_count": 111,
   "id": "40b51815",
   "metadata": {},
   "outputs": [
    {
     "name": "stdout",
     "output_type": "stream",
     "text": [
      "Enter temperature in celsius: 10\n",
      "50.0\n"
     ]
    }
   ],
   "source": [
    "cel = float(input(\"Enter temperature in celsius: \"))\n",
    "\n",
    "fah = cel * (9/5) + 32\n",
    "\n",
    "print(fah)"
   ]
  },
  {
   "cell_type": "code",
   "execution_count": 132,
   "id": "ecbe2522",
   "metadata": {},
   "outputs": [
    {
     "name": "stdout",
     "output_type": "stream",
     "text": [
      "Enter the temperature in Celsius: 10\n",
      "Temperature in Frenheight is:  50.0\n"
     ]
    }
   ],
   "source": [
    "def fah_to_celsius():     \n",
    "    temp = float(input(\"Enter the temperature in Celsius: \")) \n",
    "    fah = (temp * (9/5)) + 32     \n",
    " \n",
    "    print (\"Temperature in Frenheight is: \", fah) \n",
    "\n",
    "if __name__ == \"__main__\":\n",
    "        fah_to_celsius()"
   ]
  },
  {
   "cell_type": "markdown",
   "id": "662b86c3",
   "metadata": {},
   "source": [
    "9. Write a program which accepts a string as input from the keyboard. If the input string is \"even\" or\n",
    "\"EVEN\" or \"Even\", print the even numbers from the list (my_numbers) given below. If the string is \"odd\" or\n",
    "\"ODD\" or \"Odd\", print the odd numbers from the list. Otherwise simply print “Unknown Input!”"
   ]
  },
  {
   "cell_type": "code",
   "execution_count": 167,
   "id": "3a861adc",
   "metadata": {},
   "outputs": [
    {
     "name": "stdout",
     "output_type": "stream",
     "text": [
      "Enter even or odd: even\n",
      "[2, 4, 24, 66, 42, 22, 92]\n"
     ]
    }
   ],
   "source": [
    "my_numbers = [7, 2, 4, 11, 19, 24, 66, 1, 42, 22, 37, 5, 3, 92, 73]\n",
    "oddNum = []\n",
    "evenNum = []\n",
    "\n",
    "for i in my_numbers:\n",
    "    if i%2==0:\n",
    "        evenNum.append(i)\n",
    "    elif i%2==1:\n",
    "        oddNum.append(i)        \n",
    "        \n",
    "takeInp = input(\"Enter even or odd: \")\n",
    "if takeInp == \"even\" or takeInp == \"Even\" or takeInp == \"EVEN\":\n",
    "    print(evenNum)\n",
    "elif takeInp == \"odd\" or takeInp == \"Odd\" or takeInp == \"ODD\":\n",
    "    print(oddNum)\n",
    "else:\n",
    "    print(\"Unknown Input!\")"
   ]
  },
  {
   "cell_type": "code",
   "execution_count": 168,
   "id": "b7e9015e",
   "metadata": {},
   "outputs": [
    {
     "name": "stdout",
     "output_type": "stream",
     "text": [
      "Enter even or odd: odd\n",
      "[7, 11, 19, 1, 37, 5, 3, 73]\n"
     ]
    }
   ],
   "source": [
    "my_numbers = [7, 2, 4, 11, 19, 24, 66, 1, 42, 22, 37, 5, 3, 92, 73]\n",
    "oddNum = []\n",
    "evenNum = []\n",
    "\n",
    "for i in my_numbers:\n",
    "    if i%2==0:\n",
    "        evenNum.append(i)\n",
    "    elif i%2==1:\n",
    "        oddNum.append(i)        \n",
    "        \n",
    "takeInp = input(\"Enter even or odd: \")\n",
    "if takeInp in [\"even\" , \"EVEN\" , \"Even\"]:\n",
    "    print(evenNum)\n",
    "elif takeInp in [\"odd\" , \"ODD\" , \"Odd\"]:\n",
    "    print(oddNum)\n",
    "else:\n",
    "    print(\"Unknown Input!\")"
   ]
  },
  {
   "cell_type": "markdown",
   "id": "a17918d1",
   "metadata": {},
   "source": [
    "10. Write a program that prints the numbers from 1 to 20. But for multiples of three print “Fizz” instead of\n",
    "the number and for the multiples of five print “Buzz”. For numbers which are multiples of both three and\n",
    "five print “Fizz Buzz”."
   ]
  },
  {
   "cell_type": "code",
   "execution_count": 186,
   "id": "e70e0860",
   "metadata": {},
   "outputs": [
    {
     "name": "stdout",
     "output_type": "stream",
     "text": [
      "1\n",
      "2\n",
      "Fizz\n",
      "4\n",
      "Buzz\n",
      "Fizz\n",
      "7\n",
      "8\n",
      "Fizz\n",
      "Buzz\n",
      "11\n",
      "Fizz\n",
      "13\n",
      "14\n",
      "Fizz Buzz\n",
      "16\n",
      "17\n",
      "Fizz\n",
      "19\n",
      "Buzz\n"
     ]
    }
   ],
   "source": [
    "for i in range(1,20+1):\n",
    "    if i%3==0 and i%5==0:\n",
    "        print(\"Fizz Buzz\")\n",
    "    elif i%3==0:\n",
    "        print(\"Fizz\")\n",
    "    elif i%5==0:\n",
    "        print(\"Buzz\")\n",
    "    else:\n",
    "        print(i)"
   ]
  },
  {
   "cell_type": "code",
   "execution_count": null,
   "id": "3027601b",
   "metadata": {},
   "outputs": [],
   "source": []
  }
 ],
 "metadata": {
  "kernelspec": {
   "display_name": "Python 3 (ipykernel)",
   "language": "python",
   "name": "python3"
  },
  "language_info": {
   "codemirror_mode": {
    "name": "ipython",
    "version": 3
   },
   "file_extension": ".py",
   "mimetype": "text/x-python",
   "name": "python",
   "nbconvert_exporter": "python",
   "pygments_lexer": "ipython3",
   "version": "3.10.6"
  }
 },
 "nbformat": 4,
 "nbformat_minor": 5
}
